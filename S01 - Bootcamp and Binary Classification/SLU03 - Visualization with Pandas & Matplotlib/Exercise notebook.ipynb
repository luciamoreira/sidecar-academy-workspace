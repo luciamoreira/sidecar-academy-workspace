{
 "cells": [
  {
   "cell_type": "markdown",
   "metadata": {
    "deletable": false,
    "editable": false,
    "nbgrader": {
     "grade": false,
     "grade_id": "cell-ad5dcde8964ee4c6",
     "locked": true,
     "schema_version": 3,
     "solution": false,
     "task": false
    }
   },
   "source": [
    "# SLU03 | Visualization with Pandas & Matplotlib: Exercise notebook\n",
    "***"
   ]
  },
  {
   "cell_type": "markdown",
   "metadata": {
    "deletable": false,
    "editable": false,
    "nbgrader": {
     "grade": false,
     "grade_id": "cell-d1ca59000f4cbcb3",
     "locked": true,
     "schema_version": 3,
     "solution": false,
     "task": false
    }
   },
   "source": [
    "## Start by importing these packages"
   ]
  },
  {
   "cell_type": "code",
   "execution_count": 1,
   "metadata": {
    "deletable": false,
    "editable": false,
    "nbgrader": {
     "grade": false,
     "grade_id": "cell-4769dd0e7f4b6504",
     "locked": true,
     "schema_version": 3,
     "solution": false,
     "task": false
    }
   },
   "outputs": [],
   "source": [
    "import pandas as pd\n",
    "import numpy as np\n",
    "\n",
    "# for evaluation purposes\n",
    "import hashlib\n",
    "from plotchecker import PlotChecker\n",
    "\n",
    "def _hash(s):\n",
    "    return hashlib.blake2b(\n",
    "        bytes(str(s), encoding='utf8'),\n",
    "        digest_size=5\n",
    "    ).hexdigest()\n",
    "\n",
    "def get_data(p, ax=0):\n",
    "    all_x_data = []\n",
    "    lines = p.axis.get_lines()\n",
    "    collections = axis.collections\n",
    "    if len(lines) > 0:\n",
    "        all_x_data.append(np.concatenate([x.get_xydata()[:, ax] for x in lines]))\n",
    "    if len(collections) > 0:\n",
    "        all_x_data.append(np.concatenate([x.get_offsets()[:, ax] for x in collections]))\n",
    "    return np.concatenate(all_x_data, axis=0)"
   ]
  },
  {
   "cell_type": "markdown",
   "metadata": {
    "deletable": false,
    "editable": false,
    "hide_input": false,
    "nbgrader": {
     "grade": false,
     "grade_id": "cell-7497cc5f918e3a1a",
     "locked": true,
     "schema_version": 3,
     "solution": false,
     "task": false
    }
   },
   "source": [
    "In this notebook you will practice the following:\n",
    "\n",
    "- Basics of Matplotlib\n",
    "- Scatter plots\n",
    "- Line charts\n",
    "- Bar/column charts\n",
    "- Histograms\n",
    "- Box plots\n",
    "\n",
    "To learn about data visualization, we are going to use a **modified version** of [Zomato Bangalore Restaurants](https://www.kaggle.com/himanshupoddar/zomato-bangalore-restaurants) which has information about restaurants\n",
    "\n",
    "The dataset is located at `data/zomato.csv`, and has the following fields:\n",
    "\n",
    "\n",
    ">**`name`**: Restaurant name.  \n",
    ">**`vote_rate`**: Average rating in zomato.  \n",
    ">**`vote_count`**: Number of votes in zomato.  \n",
    ">**`location`**: Location where the restaurant is based.  \n",
    ">**`type`**: Restaurant type.  \n",
    ">**`cuisine`**: Restaurant main dish cuisine type.  \n",
    ">**`cost_2pax`**: Approximate meal-cost for 2 people (in $).  \n"
   ]
  },
  {
   "cell_type": "code",
   "execution_count": 2,
   "metadata": {
    "deletable": false,
    "editable": false,
    "nbgrader": {
     "grade": false,
     "grade_id": "cell-d4363b1aa2ece92c",
     "locked": true,
     "schema_version": 3,
     "solution": false,
     "task": false
    }
   },
   "outputs": [],
   "source": [
    "restaurants = pd.read_csv(\"data/zomato.csv\")"
   ]
  },
  {
   "cell_type": "code",
   "execution_count": 3,
   "metadata": {
    "deletable": false,
    "editable": false,
    "nbgrader": {
     "grade": false,
     "grade_id": "cell-bc52c45084266a04",
     "locked": true,
     "schema_version": 3,
     "solution": false,
     "task": false
    }
   },
   "outputs": [
    {
     "data": {
      "text/plain": [
       "(41244, 7)"
      ]
     },
     "execution_count": 3,
     "metadata": {},
     "output_type": "execute_result"
    }
   ],
   "source": [
    "restaurants.shape"
   ]
  },
  {
   "cell_type": "code",
   "execution_count": 4,
   "metadata": {
    "deletable": false,
    "editable": false,
    "nbgrader": {
     "grade": false,
     "grade_id": "cell-ece66b043fcb94b4",
     "locked": true,
     "schema_version": 3,
     "solution": false,
     "task": false
    }
   },
   "outputs": [
    {
     "data": {
      "text/html": [
       "<div>\n",
       "<style scoped>\n",
       "    .dataframe tbody tr th:only-of-type {\n",
       "        vertical-align: middle;\n",
       "    }\n",
       "\n",
       "    .dataframe tbody tr th {\n",
       "        vertical-align: top;\n",
       "    }\n",
       "\n",
       "    .dataframe thead th {\n",
       "        text-align: right;\n",
       "    }\n",
       "</style>\n",
       "<table border=\"1\" class=\"dataframe\">\n",
       "  <thead>\n",
       "    <tr style=\"text-align: right;\">\n",
       "      <th></th>\n",
       "      <th>name</th>\n",
       "      <th>vote_rate</th>\n",
       "      <th>vote_count</th>\n",
       "      <th>location</th>\n",
       "      <th>type</th>\n",
       "      <th>cuisine</th>\n",
       "      <th>cost_2pax</th>\n",
       "    </tr>\n",
       "  </thead>\n",
       "  <tbody>\n",
       "    <tr>\n",
       "      <th>0</th>\n",
       "      <td>jalsa</td>\n",
       "      <td>4.1</td>\n",
       "      <td>775</td>\n",
       "      <td>banashankari</td>\n",
       "      <td>casual dining</td>\n",
       "      <td>north indian</td>\n",
       "      <td>800.0</td>\n",
       "    </tr>\n",
       "    <tr>\n",
       "      <th>1</th>\n",
       "      <td>spice elephant</td>\n",
       "      <td>4.1</td>\n",
       "      <td>787</td>\n",
       "      <td>banashankari</td>\n",
       "      <td>casual dining</td>\n",
       "      <td>chinese</td>\n",
       "      <td>800.0</td>\n",
       "    </tr>\n",
       "    <tr>\n",
       "      <th>2</th>\n",
       "      <td>san churro cafe</td>\n",
       "      <td>3.8</td>\n",
       "      <td>918</td>\n",
       "      <td>banashankari</td>\n",
       "      <td>cafe</td>\n",
       "      <td>cafe</td>\n",
       "      <td>800.0</td>\n",
       "    </tr>\n",
       "    <tr>\n",
       "      <th>3</th>\n",
       "      <td>addhuri udupi bhojana</td>\n",
       "      <td>3.7</td>\n",
       "      <td>88</td>\n",
       "      <td>banashankari</td>\n",
       "      <td>quick bites</td>\n",
       "      <td>south indian</td>\n",
       "      <td>300.0</td>\n",
       "    </tr>\n",
       "    <tr>\n",
       "      <th>4</th>\n",
       "      <td>grand village</td>\n",
       "      <td>3.8</td>\n",
       "      <td>166</td>\n",
       "      <td>basavanagudi</td>\n",
       "      <td>casual dining</td>\n",
       "      <td>north indian</td>\n",
       "      <td>600.0</td>\n",
       "    </tr>\n",
       "  </tbody>\n",
       "</table>\n",
       "</div>"
      ],
      "text/plain": [
       "                    name  vote_rate  vote_count      location           type  \\\n",
       "0                  jalsa        4.1         775  banashankari  casual dining   \n",
       "1         spice elephant        4.1         787  banashankari  casual dining   \n",
       "2        san churro cafe        3.8         918  banashankari           cafe   \n",
       "3  addhuri udupi bhojana        3.7          88  banashankari    quick bites   \n",
       "4          grand village        3.8         166  basavanagudi  casual dining   \n",
       "\n",
       "        cuisine  cost_2pax  \n",
       "0  north indian      800.0  \n",
       "1       chinese      800.0  \n",
       "2          cafe      800.0  \n",
       "3  south indian      300.0  \n",
       "4  north indian      600.0  "
      ]
     },
     "execution_count": 4,
     "metadata": {},
     "output_type": "execute_result"
    }
   ],
   "source": [
    "restaurants.head()"
   ]
  },
  {
   "cell_type": "markdown",
   "metadata": {
    "deletable": false,
    "editable": false,
    "nbgrader": {
     "grade": false,
     "grade_id": "cell-e42ab047082ead25",
     "locked": true,
     "schema_version": 3,
     "solution": false,
     "task": false
    }
   },
   "source": [
    "***\n",
    "## Exercise 1\n",
    "\n",
    "First, import matplotlib, pyplot and the matplotlib inline ✨magic✨. "
   ]
  },
  {
   "cell_type": "code",
   "execution_count": 5,
   "metadata": {
    "deletable": false,
    "nbgrader": {
     "grade": false,
     "grade_id": "cell-96c602a1da8f81e5",
     "locked": false,
     "schema_version": 1,
     "solution": true
    }
   },
   "outputs": [],
   "source": [
    "# YOUR CODE HERE\n",
    "\n",
    "import matplotlib.pyplot as plt\n",
    "%matplotlib inline\n",
    "#raise NotImplementedError()"
   ]
  },
  {
   "cell_type": "code",
   "execution_count": 6,
   "metadata": {
    "deletable": false,
    "editable": false,
    "nbgrader": {
     "grade": true,
     "grade_id": "cell-f150c73eacb8515f",
     "locked": true,
     "points": 1,
     "schema_version": 1,
     "solution": false
    }
   },
   "outputs": [
    {
     "name": "stdout",
     "output_type": "stream",
     "text": [
      "--- Success ---\n"
     ]
    }
   ],
   "source": [
    "assert plt, \"Did you import module pyplot from matplotlib and called it plt?\"\n",
    "\n",
    "print('--- Success ---')"
   ]
  },
  {
   "cell_type": "markdown",
   "metadata": {},
   "source": [
    "And, change the default chart size to 12 inches width and 12 inches height"
   ]
  },
  {
   "cell_type": "code",
   "execution_count": 7,
   "metadata": {
    "deletable": false,
    "nbgrader": {
     "grade": false,
     "grade_id": "rcParams_answer",
     "locked": false,
     "schema_version": 1,
     "solution": true
    }
   },
   "outputs": [],
   "source": [
    "# YOUR CODE HERE\n",
    "plt.rcParams[\"figure.figsize\"] = [12, 12]\n",
    "#raise NotImplementedError()"
   ]
  },
  {
   "cell_type": "code",
   "execution_count": 8,
   "metadata": {
    "deletable": false,
    "editable": false,
    "nbgrader": {
     "grade": true,
     "grade_id": "rcParams_test",
     "locked": true,
     "points": 1,
     "schema_version": 1,
     "solution": false
    }
   },
   "outputs": [
    {
     "name": "stdout",
     "output_type": "stream",
     "text": [
      "--- Success ---\n"
     ]
    }
   ],
   "source": [
    "s = [plt.rcParams[\"figure.figsize\"][0], plt.rcParams[\"figure.figsize\"][1]]\n",
    "s.sort()\n",
    "\n",
    "assert _hash(s) in ['9b75178bbe', 'e139d197c5'], \"Did you change the default figure sizes?\"\n",
    "\n",
    "print('--- Success ---')"
   ]
  },
  {
   "cell_type": "markdown",
   "metadata": {
    "deletable": false,
    "editable": false,
    "nbgrader": {
     "grade": false,
     "grade_id": "cell-6a50635e03da913d",
     "locked": true,
     "schema_version": 3,
     "solution": false,
     "task": false
    }
   },
   "source": [
    "<hr>"
   ]
  },
  {
   "cell_type": "markdown",
   "metadata": {
    "deletable": false,
    "editable": false,
    "nbgrader": {
     "grade": false,
     "grade_id": "cell-9ef48236b36aaabe",
     "locked": true,
     "schema_version": 3,
     "solution": false,
     "task": false
    }
   },
   "source": [
    "## 🛑 Important note about the grading\n",
    "\n",
    "**Grading plots is difficult**, we are using `plotchecker` to grade the plots with `nbgrader`. \n",
    "For `plotchecker` to work with `nbgrader`, **we need to add on each cell**, the line\n",
    "\n",
    "> **`axis = plt.gca();`**\n",
    "\n",
    "**After the code required** to do the plot.\n",
    "\n",
    "<div class=\"alert alert-danger\">\n",
    "    ⚠️ <b>NOTE: </b>If you get the <b>ImportError</b>, <i>plotchecker not defined</i>, make sure you activate the right environment for this unit!\n",
    "</div>\n",
    "\n",
    "> **For example**, *if we want to plot a `scatter plot` showing the relationship between **`cost for 2 people`** and **`vote rating`** among the restaurants we would do as follows:*"
   ]
  },
  {
   "cell_type": "code",
   "execution_count": null,
   "metadata": {
    "deletable": false,
    "editable": false,
    "nbgrader": {
     "grade": false,
     "grade_id": "cell-d4b62a2b6d02eed2",
     "locked": true,
     "schema_version": 3,
     "solution": false,
     "task": false
    }
   },
   "outputs": [],
   "source": [
    "# code required to plot\n",
    "restaurants.plot.scatter(x=\"cost_2pax\", y=\"vote_rate\")\n",
    "\n",
    "# last line in the cell required to \"capture\" the cell and being able to grade it with nbgrader\n",
    "axis = plt.gca();"
   ]
  },
  {
   "cell_type": "markdown",
   "metadata": {
    "deletable": false,
    "editable": false,
    "nbgrader": {
     "grade": false,
     "grade_id": "cell-f1c7374dc63a5224",
     "locked": true,
     "schema_version": 3,
     "solution": false,
     "task": false
    }
   },
   "source": [
    "***\n",
    "\n",
    "## Exercise 2\n",
    "\n",
    "Let's see how does the **`cost for 2 people`** correlate with the **`number of votes`**?"
   ]
  },
  {
   "cell_type": "code",
   "execution_count": 9,
   "metadata": {
    "deletable": false,
    "nbgrader": {
     "grade": false,
     "grade_id": "cell-d1abe51868ed32d0",
     "locked": false,
     "schema_version": 1,
     "solution": true
    }
   },
   "outputs": [
    {
     "data": {
      "image/png": "[encoded data removed]",
      "text/plain": [
       "<Figure size 864x864 with 1 Axes>"
      ]
     },
     "metadata": {
      "needs_background": "light"
     },
     "output_type": "display_data"
    }
   ],
   "source": [
    "# YOUR CODE HERE\n",
    "restaurants.plot.scatter(x=\"cost_2pax\", y=\"vote_count\")\n",
    "#raise NotImplementedError()\n",
    "axis = plt.gca();"
   ]
  },
  {
   "cell_type": "code",
   "execution_count": 10,
   "metadata": {
    "deletable": false,
    "editable": false,
    "nbgrader": {
     "grade": true,
     "grade_id": "cell-dd0d5562ad8f2d75",
     "locked": true,
     "points": 3,
     "schema_version": 1,
     "solution": false
    }
   },
   "outputs": [
    {
     "name": "stdout",
     "output_type": "stream",
     "text": [
      "--- Success ---\n"
     ]
    }
   ],
   "source": [
    "pc = PlotChecker(axis)\n",
    "data = get_data(pc)\n",
    "l = [pc.xlabel] + [pc.ylabel]\n",
    "l.sort()\n",
    "\n",
    "assert _hash(len(data)) == '4b7eb88930', \"Did you set the right variables for the plot axes?\"\n",
    "assert _hash(l) in ['d1ed203167'], \"Did you set the right variables for the plot axes?\"\n",
    "assert _hash(get_data(pc,1)) in ['676a41f8f7', '68f9b6d00d'], \"Did you set the right variables for the plot axes?\"\n",
    "\n",
    "print('--- Success ---')"
   ]
  },
  {
   "cell_type": "markdown",
   "metadata": {
    "deletable": false,
    "editable": false,
    "nbgrader": {
     "grade": false,
     "grade_id": "cell-95e2d8cad97fe27c",
     "locked": true,
     "schema_version": 3,
     "solution": false,
     "task": false
    }
   },
   "source": [
    "## Exercise 3\n",
    "\n",
    "How the average **`cost for 2 people`** are trending through the **`rating votes`**?\n",
    "\n",
    "- set the plot **title** to **`Average Restaurant cost by Rating`**.\n",
    "- label the **x-axis** as **`Zomato Ratings`**.\n",
    "- label the **y-axis** as **`Restaurant Cost (2pax)`**."
   ]
  },
  {
   "cell_type": "markdown",
   "metadata": {
    "deletable": false,
    "editable": false,
    "nbgrader": {
     "grade": false,
     "grade_id": "cell-4fb4f5a86190b1cd",
     "locked": true,
     "schema_version": 3,
     "solution": false,
     "task": false
    }
   },
   "source": [
    "<div class=\"alert alert-info\">\n",
    "    To calculate the average cost by restaurant rating we need to perform an <b><a href='https://jakevdp.github.io/PythonDataScienceHandbook/03.08-aggregation-and-grouping.html'>aggregation</a></b>, pandas support this by doing a technique called <b><a href='(https://pandas.pydata.org/pandas-docs/stable/user_guide/groupby.html'>Split-Apply-Combine</a></b>. <b>This will be explained in the Data Wrangling Specialization.</b> For now we will do the grouping for you:\n",
    "</div>"
   ]
  },
  {
   "cell_type": "code",
   "execution_count": 11,
   "metadata": {
    "deletable": false,
    "editable": false,
    "nbgrader": {
     "grade": false,
     "grade_id": "cell-d6c8bcab1bb853ff",
     "locked": true,
     "schema_version": 3,
     "solution": false,
     "task": false
    }
   },
   "outputs": [
    {
     "data": {
      "text/html": [
       "<div>\n",
       "<style scoped>\n",
       "    .dataframe tbody tr th:only-of-type {\n",
       "        vertical-align: middle;\n",
       "    }\n",
       "\n",
       "    .dataframe tbody tr th {\n",
       "        vertical-align: top;\n",
       "    }\n",
       "\n",
       "    .dataframe thead th {\n",
       "        text-align: right;\n",
       "    }\n",
       "</style>\n",
       "<table border=\"1\" class=\"dataframe\">\n",
       "  <thead>\n",
       "    <tr style=\"text-align: right;\">\n",
       "      <th></th>\n",
       "      <th>rating</th>\n",
       "      <th>avg_cost_2pax</th>\n",
       "    </tr>\n",
       "  </thead>\n",
       "  <tbody>\n",
       "    <tr>\n",
       "      <th>0</th>\n",
       "      <td>1.8</td>\n",
       "      <td>1200.000000</td>\n",
       "    </tr>\n",
       "    <tr>\n",
       "      <th>1</th>\n",
       "      <td>2.0</td>\n",
       "      <td>1372.727273</td>\n",
       "    </tr>\n",
       "    <tr>\n",
       "      <th>2</th>\n",
       "      <td>2.1</td>\n",
       "      <td>475.000000</td>\n",
       "    </tr>\n",
       "    <tr>\n",
       "      <th>3</th>\n",
       "      <td>2.2</td>\n",
       "      <td>828.846154</td>\n",
       "    </tr>\n",
       "    <tr>\n",
       "      <th>4</th>\n",
       "      <td>2.3</td>\n",
       "      <td>578.431373</td>\n",
       "    </tr>\n",
       "  </tbody>\n",
       "</table>\n",
       "</div>"
      ],
      "text/plain": [
       "   rating  avg_cost_2pax\n",
       "0     1.8    1200.000000\n",
       "1     2.0    1372.727273\n",
       "2     2.1     475.000000\n",
       "3     2.2     828.846154\n",
       "4     2.3     578.431373"
      ]
     },
     "execution_count": 11,
     "metadata": {},
     "output_type": "execute_result"
    }
   ],
   "source": [
    "avg_cost_2pax_by_rating = restaurants.groupby(\"vote_rate\")[\"cost_2pax\"].mean().reset_index()\n",
    "avg_cost_2pax_by_rating.columns = [\"rating\", \"avg_cost_2pax\"]\n",
    "avg_cost_2pax_by_rating.head()"
   ]
  },
  {
   "cell_type": "markdown",
   "metadata": {
    "deletable": false,
    "editable": false,
    "nbgrader": {
     "grade": false,
     "grade_id": "cell-a2e8dd78af31a22b",
     "locked": true,
     "schema_version": 3,
     "solution": false,
     "task": false
    }
   },
   "source": [
    "<div class=\"alert alert-warning\">\n",
    "⚠️ <b>NOTE: </b>Make sure you use the dataframe named <b>avg_cost_2pax_by_rating</b> for the exercise\n",
    "</div>"
   ]
  },
  {
   "cell_type": "code",
   "execution_count": 12,
   "metadata": {
    "deletable": false,
    "nbgrader": {
     "grade": false,
     "grade_id": "cell-73b4bfa635b491d8",
     "locked": false,
     "schema_version": 1,
     "solution": true
    }
   },
   "outputs": [
    {
     "data": {
      "image/png": "[encoded data removed]",
      "text/plain": [
       "<Figure size 864x864 with 1 Axes>"
      ]
     },
     "metadata": {
      "needs_background": "light"
     },
     "output_type": "display_data"
    }
   ],
   "source": [
    "# YOUR CODE HERE\n",
    "avg_cost_2pax_by_rating.plot.scatter(x='rating', y='avg_cost_2pax')\n",
    "plt.title('Average Restaurant cost by Rating')\n",
    "plt.xlabel('Zomato Ratings')\n",
    "plt.ylabel('Restaurant Cost (2pax)')\n",
    "#raise NotImplementedError()\n",
    "axis = plt.gca();"
   ]
  },
  {
   "cell_type": "code",
   "execution_count": 13,
   "metadata": {
    "deletable": false,
    "editable": false,
    "nbgrader": {
     "grade": true,
     "grade_id": "cell-e810ccdca9b86e40",
     "locked": true,
     "points": 3,
     "schema_version": 1,
     "solution": false
    }
   },
   "outputs": [
    {
     "name": "stdout",
     "output_type": "stream",
     "text": [
      "--- Success ---\n"
     ]
    }
   ],
   "source": [
    "pc = PlotChecker(axis)\n",
    "l = [pc.xlabel] + [pc.ylabel]\n",
    "l.sort()\n",
    "\n",
    "assert _hash(sorted(get_data(pc))) in ['bc499f7725'], \"Did you set the right variables for the plot axes?\"\n",
    "assert _hash(sorted(get_data(pc,1))) in ['1062114291'], \"Did you set the right variables for the plot axes?\"\n",
    "assert _hash(pc.title) in ['b9c481c4ef'], \"Did you set the right plot title?\"\n",
    "assert _hash(l) in ['640d7ee8aa'], \"Did you set the right plot axes?\"\n",
    "\n",
    "print('--- Success ---')"
   ]
  },
  {
   "cell_type": "markdown",
   "metadata": {
    "deletable": false,
    "editable": false,
    "nbgrader": {
     "grade": false,
     "grade_id": "cell-cbb8f1c68f7d09bc",
     "locked": true,
     "schema_version": 3,
     "solution": false,
     "task": false
    }
   },
   "source": [
    "## Exercise 4\n",
    "\n",
    "How does the median **`number of votes`** vary by restaurant **`type`**? \n",
    "\n",
    "- label the **x-axis** as **`Number of Votes`**.\n",
    "- label the **y-axis** as **`Restaurant Type`**.\n",
    "- change the **plot color** to **`chocolate`**.\n",
    "\n",
    "Again, we will do the **grouping** for you:"
   ]
  },
  {
   "cell_type": "code",
   "execution_count": 14,
   "metadata": {
    "deletable": false,
    "editable": false,
    "nbgrader": {
     "grade": false,
     "grade_id": "cell-3976a0ec556dfb09",
     "locked": true,
     "schema_version": 3,
     "solution": false,
     "task": false
    }
   },
   "outputs": [
    {
     "data": {
      "text/html": [
       "<div>\n",
       "<style scoped>\n",
       "    .dataframe tbody tr th:only-of-type {\n",
       "        vertical-align: middle;\n",
       "    }\n",
       "\n",
       "    .dataframe tbody tr th {\n",
       "        vertical-align: top;\n",
       "    }\n",
       "\n",
       "    .dataframe thead th {\n",
       "        text-align: right;\n",
       "    }\n",
       "</style>\n",
       "<table border=\"1\" class=\"dataframe\">\n",
       "  <thead>\n",
       "    <tr style=\"text-align: right;\">\n",
       "      <th></th>\n",
       "      <th>type</th>\n",
       "      <th>median_votes</th>\n",
       "    </tr>\n",
       "  </thead>\n",
       "  <tbody>\n",
       "    <tr>\n",
       "      <th>0</th>\n",
       "      <td>bakery</td>\n",
       "      <td>29</td>\n",
       "    </tr>\n",
       "    <tr>\n",
       "      <th>1</th>\n",
       "      <td>bar</td>\n",
       "      <td>190</td>\n",
       "    </tr>\n",
       "    <tr>\n",
       "      <th>2</th>\n",
       "      <td>beverage shop</td>\n",
       "      <td>31</td>\n",
       "    </tr>\n",
       "    <tr>\n",
       "      <th>3</th>\n",
       "      <td>bhojanalya</td>\n",
       "      <td>7</td>\n",
       "    </tr>\n",
       "    <tr>\n",
       "      <th>4</th>\n",
       "      <td>cafe</td>\n",
       "      <td>124</td>\n",
       "    </tr>\n",
       "    <tr>\n",
       "      <th>5</th>\n",
       "      <td>casual dining</td>\n",
       "      <td>215</td>\n",
       "    </tr>\n",
       "    <tr>\n",
       "      <th>6</th>\n",
       "      <td>club</td>\n",
       "      <td>707</td>\n",
       "    </tr>\n",
       "    <tr>\n",
       "      <th>7</th>\n",
       "      <td>confectionery</td>\n",
       "      <td>6</td>\n",
       "    </tr>\n",
       "    <tr>\n",
       "      <th>8</th>\n",
       "      <td>delivery</td>\n",
       "      <td>41</td>\n",
       "    </tr>\n",
       "    <tr>\n",
       "      <th>9</th>\n",
       "      <td>dessert parlor</td>\n",
       "      <td>69</td>\n",
       "    </tr>\n",
       "    <tr>\n",
       "      <th>10</th>\n",
       "      <td>dhaba</td>\n",
       "      <td>49</td>\n",
       "    </tr>\n",
       "    <tr>\n",
       "      <th>11</th>\n",
       "      <td>fine dining</td>\n",
       "      <td>342</td>\n",
       "    </tr>\n",
       "    <tr>\n",
       "      <th>12</th>\n",
       "      <td>food court</td>\n",
       "      <td>29</td>\n",
       "    </tr>\n",
       "    <tr>\n",
       "      <th>13</th>\n",
       "      <td>food truck</td>\n",
       "      <td>13</td>\n",
       "    </tr>\n",
       "    <tr>\n",
       "      <th>14</th>\n",
       "      <td>kiosk</td>\n",
       "      <td>30</td>\n",
       "    </tr>\n",
       "    <tr>\n",
       "      <th>15</th>\n",
       "      <td>lounge</td>\n",
       "      <td>385</td>\n",
       "    </tr>\n",
       "    <tr>\n",
       "      <th>16</th>\n",
       "      <td>mess</td>\n",
       "      <td>28</td>\n",
       "    </tr>\n",
       "    <tr>\n",
       "      <th>17</th>\n",
       "      <td>microbrewery</td>\n",
       "      <td>1592</td>\n",
       "    </tr>\n",
       "    <tr>\n",
       "      <th>18</th>\n",
       "      <td>pub</td>\n",
       "      <td>1016</td>\n",
       "    </tr>\n",
       "    <tr>\n",
       "      <th>19</th>\n",
       "      <td>quick bites</td>\n",
       "      <td>37</td>\n",
       "    </tr>\n",
       "    <tr>\n",
       "      <th>20</th>\n",
       "      <td>sweet shop</td>\n",
       "      <td>34</td>\n",
       "    </tr>\n",
       "    <tr>\n",
       "      <th>21</th>\n",
       "      <td>takeaway</td>\n",
       "      <td>23</td>\n",
       "    </tr>\n",
       "  </tbody>\n",
       "</table>\n",
       "</div>"
      ],
      "text/plain": [
       "              type  median_votes\n",
       "0           bakery            29\n",
       "1              bar           190\n",
       "2    beverage shop            31\n",
       "3       bhojanalya             7\n",
       "4             cafe           124\n",
       "5    casual dining           215\n",
       "6             club           707\n",
       "7    confectionery             6\n",
       "8         delivery            41\n",
       "9   dessert parlor            69\n",
       "10           dhaba            49\n",
       "11     fine dining           342\n",
       "12      food court            29\n",
       "13      food truck            13\n",
       "14           kiosk            30\n",
       "15          lounge           385\n",
       "16            mess            28\n",
       "17    microbrewery          1592\n",
       "18             pub          1016\n",
       "19     quick bites            37\n",
       "20      sweet shop            34\n",
       "21        takeaway            23"
      ]
     },
     "execution_count": 14,
     "metadata": {},
     "output_type": "execute_result"
    }
   ],
   "source": [
    "median_votes_by_type = restaurants.groupby(\"type\")[\"vote_count\"].median().reset_index()\n",
    "median_votes_by_type.columns = [\"type\", \"median_votes\"]\n",
    "median_votes_by_type"
   ]
  },
  {
   "cell_type": "markdown",
   "metadata": {
    "deletable": false,
    "editable": false,
    "nbgrader": {
     "grade": false,
     "grade_id": "cell-5dfa4112df228a55",
     "locked": true,
     "schema_version": 3,
     "solution": false,
     "task": false
    }
   },
   "source": [
    "<div class=\"alert alert-warning\">\n",
    "⚠️ <b>NOTE: </b>Make sure you use the dataframe named <b>median_votes_by_type</b> for the exercise\n",
    "</div>"
   ]
  },
  {
   "cell_type": "code",
   "execution_count": 19,
   "metadata": {
    "deletable": false,
    "nbgrader": {
     "grade": false,
     "grade_id": "cell-f7836531abe09da4",
     "locked": false,
     "schema_version": 3,
     "solution": true,
     "task": false
    }
   },
   "outputs": [
    {
     "data": {
      "image/png": "[encoded data removed]",
      "text/plain": [
       "<Figure size 864x864 with 1 Axes>"
      ]
     },
     "metadata": {
      "needs_background": "light"
     },
     "output_type": "display_data"
    }
   ],
   "source": [
    "# YOUR CODE HERE\n",
    "median_votes_by_type.plot.barh(x='type', y='median_votes', color='chocolate')\n",
    "\n",
    "plt.xlabel('Number of Votes')\n",
    "plt.ylabel('Restaurant Type')\n",
    "#raise NotImplementedError()\n",
    "axis = plt.gca();"
   ]
  },
  {
   "cell_type": "code",
   "execution_count": 20,
   "metadata": {
    "deletable": false,
    "editable": false,
    "nbgrader": {
     "grade": true,
     "grade_id": "cell-fcd988c35854556f",
     "locked": true,
     "points": 3,
     "schema_version": 3,
     "solution": false,
     "task": false
    }
   },
   "outputs": [
    {
     "name": "stdout",
     "output_type": "stream",
     "text": [
      "--- Success ---\n"
     ]
    }
   ],
   "source": [
    "pc = PlotChecker(axis)\n",
    "pc._patches = np.array(pc.axis.patches)\n",
    "pc._patches = pc._patches[np.argsort([p.get_x() for p in pc._patches])]\n",
    "\n",
    "pc.widths = np.array([p.get_width() for p in pc._patches])\n",
    "pc.heights = np.array([p.get_height() for p in pc._patches])\n",
    "\n",
    "l = [pc.xlabel] + [pc.ylabel]\n",
    "l.sort()\n",
    "\n",
    "assert _hash(len(pc._patches)) in ['1cb85c3d73'], \"Did you set the right categorical variable and the right plot type?\"\n",
    "assert _hash(np.sort(pc.widths)) in ['8f9f8c51a9'], \"Did you set the right categorical variable and the right plot type?\"\n",
    "assert _hash(l) in ['bcd1693b58'], \"Did you set the right plot axes?\"\n",
    "assert _hash([pc._patches[i].get_facecolor() for i,n in enumerate(pc._patches)]) == '1fe2bb456d', \"Did you change the plot color?\"\n",
    "\n",
    "print('--- Success ---')"
   ]
  },
  {
   "cell_type": "markdown",
   "metadata": {
    "deletable": false,
    "editable": false,
    "nbgrader": {
     "grade": false,
     "grade_id": "cell-e54f99bca7a069c3",
     "locked": true,
     "schema_version": 3,
     "solution": false,
     "task": false
    }
   },
   "source": [
    "## Exercise 5\n",
    "\n",
    "How does the average **`number of votes`** compares by the **`rating`**? \n",
    "\n",
    "- label the **x-axis** as **`Zomato rating`** and **size** **`20`**.\n",
    "- label the **y-axis** as **`Number of Votes`** and **size** **`20`**.\n",
    "- set the plot **title** to **`Average number of votes comparison by Rating`** and **size** **`25`**.\n",
    "\n",
    "Doing the **grouping** for you:"
   ]
  },
  {
   "cell_type": "code",
   "execution_count": 21,
   "metadata": {
    "deletable": false,
    "editable": false,
    "nbgrader": {
     "grade": false,
     "grade_id": "cell-5ac11c18801c15f8",
     "locked": true,
     "schema_version": 3,
     "solution": false,
     "task": false
    }
   },
   "outputs": [
    {
     "data": {
      "text/html": [
       "<div>\n",
       "<style scoped>\n",
       "    .dataframe tbody tr th:only-of-type {\n",
       "        vertical-align: middle;\n",
       "    }\n",
       "\n",
       "    .dataframe tbody tr th {\n",
       "        vertical-align: top;\n",
       "    }\n",
       "\n",
       "    .dataframe thead th {\n",
       "        text-align: right;\n",
       "    }\n",
       "</style>\n",
       "<table border=\"1\" class=\"dataframe\">\n",
       "  <thead>\n",
       "    <tr style=\"text-align: right;\">\n",
       "      <th></th>\n",
       "      <th>rating</th>\n",
       "      <th>avg_votes</th>\n",
       "    </tr>\n",
       "  </thead>\n",
       "  <tbody>\n",
       "    <tr>\n",
       "      <th>0</th>\n",
       "      <td>1.8</td>\n",
       "      <td>224.600000</td>\n",
       "    </tr>\n",
       "    <tr>\n",
       "      <th>1</th>\n",
       "      <td>2.0</td>\n",
       "      <td>371.909091</td>\n",
       "    </tr>\n",
       "    <tr>\n",
       "      <th>2</th>\n",
       "      <td>2.1</td>\n",
       "      <td>296.500000</td>\n",
       "    </tr>\n",
       "    <tr>\n",
       "      <th>3</th>\n",
       "      <td>2.2</td>\n",
       "      <td>285.961538</td>\n",
       "    </tr>\n",
       "    <tr>\n",
       "      <th>4</th>\n",
       "      <td>2.3</td>\n",
       "      <td>184.215686</td>\n",
       "    </tr>\n",
       "    <tr>\n",
       "      <th>5</th>\n",
       "      <td>2.4</td>\n",
       "      <td>147.181818</td>\n",
       "    </tr>\n",
       "    <tr>\n",
       "      <th>6</th>\n",
       "      <td>2.5</td>\n",
       "      <td>157.640000</td>\n",
       "    </tr>\n",
       "    <tr>\n",
       "      <th>7</th>\n",
       "      <td>2.6</td>\n",
       "      <td>112.819277</td>\n",
       "    </tr>\n",
       "    <tr>\n",
       "      <th>8</th>\n",
       "      <td>2.7</td>\n",
       "      <td>114.138614</td>\n",
       "    </tr>\n",
       "    <tr>\n",
       "      <th>9</th>\n",
       "      <td>2.8</td>\n",
       "      <td>120.222414</td>\n",
       "    </tr>\n",
       "    <tr>\n",
       "      <th>10</th>\n",
       "      <td>2.9</td>\n",
       "      <td>86.337079</td>\n",
       "    </tr>\n",
       "    <tr>\n",
       "      <th>11</th>\n",
       "      <td>3.0</td>\n",
       "      <td>61.057518</td>\n",
       "    </tr>\n",
       "    <tr>\n",
       "      <th>12</th>\n",
       "      <td>3.1</td>\n",
       "      <td>51.414839</td>\n",
       "    </tr>\n",
       "    <tr>\n",
       "      <th>13</th>\n",
       "      <td>3.2</td>\n",
       "      <td>38.989160</td>\n",
       "    </tr>\n",
       "    <tr>\n",
       "      <th>14</th>\n",
       "      <td>3.3</td>\n",
       "      <td>34.749890</td>\n",
       "    </tr>\n",
       "    <tr>\n",
       "      <th>15</th>\n",
       "      <td>3.4</td>\n",
       "      <td>35.045399</td>\n",
       "    </tr>\n",
       "    <tr>\n",
       "      <th>16</th>\n",
       "      <td>3.5</td>\n",
       "      <td>49.791245</td>\n",
       "    </tr>\n",
       "    <tr>\n",
       "      <th>17</th>\n",
       "      <td>3.6</td>\n",
       "      <td>61.185749</td>\n",
       "    </tr>\n",
       "    <tr>\n",
       "      <th>18</th>\n",
       "      <td>3.7</td>\n",
       "      <td>102.836182</td>\n",
       "    </tr>\n",
       "    <tr>\n",
       "      <th>19</th>\n",
       "      <td>3.8</td>\n",
       "      <td>155.600734</td>\n",
       "    </tr>\n",
       "    <tr>\n",
       "      <th>20</th>\n",
       "      <td>3.9</td>\n",
       "      <td>253.099848</td>\n",
       "    </tr>\n",
       "    <tr>\n",
       "      <th>21</th>\n",
       "      <td>4.0</td>\n",
       "      <td>412.900763</td>\n",
       "    </tr>\n",
       "    <tr>\n",
       "      <th>22</th>\n",
       "      <td>4.1</td>\n",
       "      <td>610.350871</td>\n",
       "    </tr>\n",
       "    <tr>\n",
       "      <th>23</th>\n",
       "      <td>4.2</td>\n",
       "      <td>854.753596</td>\n",
       "    </tr>\n",
       "    <tr>\n",
       "      <th>24</th>\n",
       "      <td>4.3</td>\n",
       "      <td>1022.861474</td>\n",
       "    </tr>\n",
       "    <tr>\n",
       "      <th>25</th>\n",
       "      <td>4.4</td>\n",
       "      <td>1468.267016</td>\n",
       "    </tr>\n",
       "    <tr>\n",
       "      <th>26</th>\n",
       "      <td>4.5</td>\n",
       "      <td>1888.527439</td>\n",
       "    </tr>\n",
       "    <tr>\n",
       "      <th>27</th>\n",
       "      <td>4.6</td>\n",
       "      <td>2307.126667</td>\n",
       "    </tr>\n",
       "    <tr>\n",
       "      <th>28</th>\n",
       "      <td>4.7</td>\n",
       "      <td>5514.359281</td>\n",
       "    </tr>\n",
       "    <tr>\n",
       "      <th>29</th>\n",
       "      <td>4.8</td>\n",
       "      <td>2820.575758</td>\n",
       "    </tr>\n",
       "    <tr>\n",
       "      <th>30</th>\n",
       "      <td>4.9</td>\n",
       "      <td>4128.163636</td>\n",
       "    </tr>\n",
       "  </tbody>\n",
       "</table>\n",
       "</div>"
      ],
      "text/plain": [
       "    rating    avg_votes\n",
       "0      1.8   224.600000\n",
       "1      2.0   371.909091\n",
       "2      2.1   296.500000\n",
       "3      2.2   285.961538\n",
       "4      2.3   184.215686\n",
       "5      2.4   147.181818\n",
       "6      2.5   157.640000\n",
       "7      2.6   112.819277\n",
       "8      2.7   114.138614\n",
       "9      2.8   120.222414\n",
       "10     2.9    86.337079\n",
       "11     3.0    61.057518\n",
       "12     3.1    51.414839\n",
       "13     3.2    38.989160\n",
       "14     3.3    34.749890\n",
       "15     3.4    35.045399\n",
       "16     3.5    49.791245\n",
       "17     3.6    61.185749\n",
       "18     3.7   102.836182\n",
       "19     3.8   155.600734\n",
       "20     3.9   253.099848\n",
       "21     4.0   412.900763\n",
       "22     4.1   610.350871\n",
       "23     4.2   854.753596\n",
       "24     4.3  1022.861474\n",
       "25     4.4  1468.267016\n",
       "26     4.5  1888.527439\n",
       "27     4.6  2307.126667\n",
       "28     4.7  5514.359281\n",
       "29     4.8  2820.575758\n",
       "30     4.9  4128.163636"
      ]
     },
     "execution_count": 21,
     "metadata": {},
     "output_type": "execute_result"
    }
   ],
   "source": [
    "avg_vote_by_rating = restaurants.groupby(\"vote_rate\")[\"vote_count\"].mean().reset_index()\n",
    "avg_vote_by_rating.columns = [\"rating\", \"avg_votes\"]\n",
    "avg_vote_by_rating"
   ]
  },
  {
   "cell_type": "markdown",
   "metadata": {
    "deletable": false,
    "editable": false,
    "nbgrader": {
     "grade": false,
     "grade_id": "cell-4625c6161df0c3bc",
     "locked": true,
     "schema_version": 3,
     "solution": false,
     "task": false
    }
   },
   "source": [
    "<div class=\"alert alert-warning\">\n",
    "⚠️ <b>NOTE: </b>Make sure you use the dataframe named <b>avg_vote_by_rating</b> for the exercise\n",
    "</div>"
   ]
  },
  {
   "cell_type": "code",
   "execution_count": 26,
   "metadata": {
    "deletable": false,
    "nbgrader": {
     "grade": false,
     "grade_id": "cell-372fe0ddfdb5ca15",
     "locked": false,
     "schema_version": 3,
     "solution": true,
     "task": false
    }
   },
   "outputs": [
    {
     "data": {
      "image/png": "[encoded data removed]",
      "text/plain": [
       "<Figure size 864x864 with 1 Axes>"
      ]
     },
     "metadata": {
      "needs_background": "light"
     },
     "output_type": "display_data"
    }
   ],
   "source": [
    "# YOUR CODE HERE\n",
    "avg_vote_by_rating.plot.barh(x='rating', y='avg_votes')\n",
    "plt.title('Average number of votes comparison by Rating', size=25)\n",
    "plt.xlabel('Zomato rating', size=20)\n",
    "plt.ylabel('Number of Votes', size=20)\n",
    "#raise NotImplementedError()\n",
    "axis = plt.gca();"
   ]
  },
  {
   "cell_type": "code",
   "execution_count": 27,
   "metadata": {
    "deletable": false,
    "editable": false,
    "nbgrader": {
     "grade": true,
     "grade_id": "cell-aaf06b8c5ace2004",
     "locked": true,
     "points": 3,
     "schema_version": 3,
     "solution": false,
     "task": false
    }
   },
   "outputs": [
    {
     "ename": "AssertionError",
     "evalue": "Did you set the right variable and the right plot type?",
     "output_type": "error",
     "traceback": [
      "\u001b[0;31m---------------------------------------------------------------------------\u001b[0m",
      "\u001b[0;31mAssertionError\u001b[0m                            Traceback (most recent call last)",
      "\u001b[0;32m<ipython-input-27-c72c2fca240b>\u001b[0m in \u001b[0;36m<module>\u001b[0;34m\u001b[0m\n\u001b[1;32m     10\u001b[0m \u001b[0;34m\u001b[0m\u001b[0m\n\u001b[1;32m     11\u001b[0m \u001b[0;32massert\u001b[0m \u001b[0m_hash\u001b[0m\u001b[0;34m(\u001b[0m\u001b[0mlen\u001b[0m\u001b[0;34m(\u001b[0m\u001b[0mpc\u001b[0m\u001b[0;34m.\u001b[0m\u001b[0m_patches\u001b[0m\u001b[0;34m)\u001b[0m\u001b[0;34m)\u001b[0m \u001b[0;32min\u001b[0m \u001b[0;34m[\u001b[0m\u001b[0;34m'd15bce6d7d'\u001b[0m\u001b[0;34m]\u001b[0m\u001b[0;34m,\u001b[0m \u001b[0;34m\"Did you set the right variable and the right plot type?\"\u001b[0m\u001b[0;34m\u001b[0m\u001b[0;34m\u001b[0m\u001b[0m\n\u001b[0;32m---> 12\u001b[0;31m \u001b[0;32massert\u001b[0m \u001b[0m_hash\u001b[0m\u001b[0;34m(\u001b[0m\u001b[0mnp\u001b[0m\u001b[0;34m.\u001b[0m\u001b[0msort\u001b[0m\u001b[0;34m(\u001b[0m\u001b[0mpc\u001b[0m\u001b[0;34m.\u001b[0m\u001b[0mwidths\u001b[0m\u001b[0;34m)\u001b[0m\u001b[0;34m)\u001b[0m \u001b[0;32min\u001b[0m \u001b[0;34m[\u001b[0m\u001b[0;34m'1050369a36'\u001b[0m\u001b[0;34m]\u001b[0m\u001b[0;34m,\u001b[0m \u001b[0;34m\"Did you set the right variable and the right plot type?\"\u001b[0m\u001b[0;34m\u001b[0m\u001b[0;34m\u001b[0m\u001b[0m\n\u001b[0m\u001b[1;32m     13\u001b[0m \u001b[0;32massert\u001b[0m \u001b[0m_hash\u001b[0m\u001b[0;34m(\u001b[0m\u001b[0mnp\u001b[0m\u001b[0;34m.\u001b[0m\u001b[0msort\u001b[0m\u001b[0;34m(\u001b[0m\u001b[0mpc\u001b[0m\u001b[0;34m.\u001b[0m\u001b[0mheights\u001b[0m\u001b[0;34m)\u001b[0m\u001b[0;34m)\u001b[0m \u001b[0;32min\u001b[0m \u001b[0;34m[\u001b[0m\u001b[0;34m'51713c2dfb'\u001b[0m\u001b[0;34m]\u001b[0m\u001b[0;34m,\u001b[0m \u001b[0;34m\"Did you set the right variable and the right plot type?\"\u001b[0m\u001b[0;34m\u001b[0m\u001b[0;34m\u001b[0m\u001b[0m\n\u001b[1;32m     14\u001b[0m \u001b[0;32massert\u001b[0m \u001b[0m_hash\u001b[0m\u001b[0;34m(\u001b[0m\u001b[0mpc\u001b[0m\u001b[0;34m.\u001b[0m\u001b[0mtitle\u001b[0m\u001b[0;34m)\u001b[0m \u001b[0;32min\u001b[0m \u001b[0;34m[\u001b[0m\u001b[0;34m'3db42086ff'\u001b[0m\u001b[0;34m]\u001b[0m\u001b[0;34m,\u001b[0m \u001b[0;34m\"Did you set the right plot title?\"\u001b[0m\u001b[0;34m\u001b[0m\u001b[0;34m\u001b[0m\u001b[0m\n",
      "\u001b[0;31mAssertionError\u001b[0m: Did you set the right variable and the right plot type?"
     ]
    }
   ],
   "source": [
    "pc = PlotChecker(axis)\n",
    "pc._patches = np.array(pc.axis.patches)\n",
    "pc._patches = pc._patches[np.argsort([p.get_x() for p in pc._patches])]\n",
    "\n",
    "pc.widths = np.array([p.get_width() for p in pc._patches])\n",
    "pc.heights = np.array([p.get_height() for p in pc._patches])\n",
    "\n",
    "l = [pc.xlabel] + [pc.ylabel]\n",
    "l.sort()\n",
    "\n",
    "assert _hash(len(pc._patches)) in ['d15bce6d7d'], \"Did you set the right variable and the right plot type?\"\n",
    "assert _hash(np.sort(pc.widths)) in ['1050369a36'], \"Did you set the right variable and the right plot type?\"\n",
    "assert _hash(np.sort(pc.heights)) in ['51713c2dfb'], \"Did you set the right variable and the right plot type?\"\n",
    "assert _hash(pc.title) in ['3db42086ff'], \"Did you set the right plot title?\"\n",
    "assert _hash(l) in ['ce43ba93aa'], \"Did you set the right plot axes?\"\n",
    "\n",
    "print('--- Success ---')"
   ]
  },
  {
   "cell_type": "markdown",
   "metadata": {
    "deletable": false,
    "editable": false,
    "nbgrader": {
     "grade": false,
     "grade_id": "cell-7bab7edd2825a4da",
     "locked": true,
     "schema_version": 3,
     "solution": false,
     "task": false
    }
   },
   "source": [
    "## Exercise 6\n",
    "\n",
    "How is the variable **`vote_rate`** distributed through the better ratings? \n",
    "- show only restaurants with a minimum rating of **4 points** (up to 5 points). \n",
    "> 💡 **hint:** _set a limit_ \n",
    "- change the number of **bins to 30**.\n",
    "- change the **plot color** to **`yellowgreen`**."
   ]
  },
  {
   "cell_type": "code",
   "execution_count": 30,
   "metadata": {
    "deletable": false,
    "nbgrader": {
     "grade": false,
     "grade_id": "cell-1988d757a6ed50ea",
     "locked": false,
     "schema_version": 3,
     "solution": true,
     "task": false
    }
   },
   "outputs": [
    {
     "data": {
      "image/png": "[encoded data removed]",
      "text/plain": [
       "<Figure size 864x864 with 1 Axes>"
      ]
     },
     "metadata": {
      "needs_background": "light"
     },
     "output_type": "display_data"
    }
   ],
   "source": [
    "# YOUR CODE HERE\n",
    "\n",
    "restaurants.vote_rate.plot.hist(xlim=(4,5),bins=30, color='yellowgreen');\n",
    "\n",
    "#raise NotImplementedError()\n",
    "axis = plt.gca();"
   ]
  },
  {
   "cell_type": "code",
   "execution_count": 31,
   "metadata": {
    "deletable": false,
    "editable": false,
    "nbgrader": {
     "grade": true,
     "grade_id": "cell-da6b717de847354d",
     "locked": true,
     "points": 3,
     "schema_version": 3,
     "solution": false,
     "task": false
    }
   },
   "outputs": [
    {
     "name": "stdout",
     "output_type": "stream",
     "text": [
      "--- Success ---\n"
     ]
    }
   ],
   "source": [
    "pc = PlotChecker(axis)\n",
    "pc._patches = np.array(pc.axis.patches)\n",
    "pc._patches = pc._patches[np.argsort([p.get_x() for p in pc._patches])]\n",
    "pc.widths = np.array([p.get_width() for p in pc._patches])\n",
    "pc.heights = np.array([p.get_height() for p in pc._patches])\n",
    "\n",
    "assert _hash(np.sort(pc.widths)) in ['1717c26bdc'], \"Did you set the right plot type? You should not change the dataset.\"\n",
    "assert _hash(np.sort(pc.heights)) in ['93b03e2bf6'], \"Did you set the right plot type? You should not change the dataset.\"\n",
    "assert _hash(pc.xlim[0]) == '8599ebffc2', \"Did you set the right limit?\"\n",
    "assert _hash(pc.xlim[1]) == 'f24d02e0e6', \"Did you set the right limit?\"\n",
    "assert _hash([pc._patches[i].get_facecolor() for i,n in enumerate(pc._patches)]) == '697422ff42', \"Did you change the plot color?\"\n",
    "\n",
    "print('--- Success ---')"
   ]
  },
  {
   "cell_type": "markdown",
   "metadata": {
    "deletable": false,
    "editable": false,
    "nbgrader": {
     "grade": false,
     "grade_id": "cell-0338f2a089ee56aa",
     "locked": true,
     "schema_version": 3,
     "solution": false,
     "task": false
    }
   },
   "source": [
    "## Exercise  7\n",
    "\n",
    "Now, we will analyze the restaurants of Chinese food and compare them between the rating and the cuisine type of those restaurants. Following the steps below:\n",
    "\n",
    "- filter the **`restaurants`** dataset by **chinese** **`cuisine`**.\n",
    "- save them in a new **dataframe** called **`chinese_restaurants`**.\n",
    "- make a plot that displays the **rating** by chinese restaurant **type** and that allows us to check if there are outliers.\n",
    "- change the default **plot style** to **`seaborn`**.\n",
    "- set the plot argument **vert** to **`False`**.\n",
    "- set the plot argument **figsize** to **`10`** inches width and **`10`** inches height.\n",
    "- set the plot argument **grid** to **`False`**\n",
    "- set the plot argument **fontsize** to **`14`**"
   ]
  },
  {
   "cell_type": "code",
   "execution_count": 32,
   "metadata": {},
   "outputs": [
    {
     "data": {
      "text/html": [
       "<div>\n",
       "<style scoped>\n",
       "    .dataframe tbody tr th:only-of-type {\n",
       "        vertical-align: middle;\n",
       "    }\n",
       "\n",
       "    .dataframe tbody tr th {\n",
       "        vertical-align: top;\n",
       "    }\n",
       "\n",
       "    .dataframe thead th {\n",
       "        text-align: right;\n",
       "    }\n",
       "</style>\n",
       "<table border=\"1\" class=\"dataframe\">\n",
       "  <thead>\n",
       "    <tr style=\"text-align: right;\">\n",
       "      <th></th>\n",
       "      <th>name</th>\n",
       "      <th>vote_rate</th>\n",
       "      <th>vote_count</th>\n",
       "      <th>location</th>\n",
       "      <th>type</th>\n",
       "      <th>cuisine</th>\n",
       "      <th>cost_2pax</th>\n",
       "    </tr>\n",
       "  </thead>\n",
       "  <tbody>\n",
       "    <tr>\n",
       "      <th>0</th>\n",
       "      <td>jalsa</td>\n",
       "      <td>4.1</td>\n",
       "      <td>775</td>\n",
       "      <td>banashankari</td>\n",
       "      <td>casual dining</td>\n",
       "      <td>north indian</td>\n",
       "      <td>800.0</td>\n",
       "    </tr>\n",
       "    <tr>\n",
       "      <th>1</th>\n",
       "      <td>spice elephant</td>\n",
       "      <td>4.1</td>\n",
       "      <td>787</td>\n",
       "      <td>banashankari</td>\n",
       "      <td>casual dining</td>\n",
       "      <td>chinese</td>\n",
       "      <td>800.0</td>\n",
       "    </tr>\n",
       "    <tr>\n",
       "      <th>2</th>\n",
       "      <td>san churro cafe</td>\n",
       "      <td>3.8</td>\n",
       "      <td>918</td>\n",
       "      <td>banashankari</td>\n",
       "      <td>cafe</td>\n",
       "      <td>cafe</td>\n",
       "      <td>800.0</td>\n",
       "    </tr>\n",
       "    <tr>\n",
       "      <th>3</th>\n",
       "      <td>addhuri udupi bhojana</td>\n",
       "      <td>3.7</td>\n",
       "      <td>88</td>\n",
       "      <td>banashankari</td>\n",
       "      <td>quick bites</td>\n",
       "      <td>south indian</td>\n",
       "      <td>300.0</td>\n",
       "    </tr>\n",
       "    <tr>\n",
       "      <th>4</th>\n",
       "      <td>grand village</td>\n",
       "      <td>3.8</td>\n",
       "      <td>166</td>\n",
       "      <td>basavanagudi</td>\n",
       "      <td>casual dining</td>\n",
       "      <td>north indian</td>\n",
       "      <td>600.0</td>\n",
       "    </tr>\n",
       "  </tbody>\n",
       "</table>\n",
       "</div>"
      ],
      "text/plain": [
       "                    name  vote_rate  vote_count      location           type  \\\n",
       "0                  jalsa        4.1         775  banashankari  casual dining   \n",
       "1         spice elephant        4.1         787  banashankari  casual dining   \n",
       "2        san churro cafe        3.8         918  banashankari           cafe   \n",
       "3  addhuri udupi bhojana        3.7          88  banashankari    quick bites   \n",
       "4          grand village        3.8         166  basavanagudi  casual dining   \n",
       "\n",
       "        cuisine  cost_2pax  \n",
       "0  north indian      800.0  \n",
       "1       chinese      800.0  \n",
       "2          cafe      800.0  \n",
       "3  south indian      300.0  \n",
       "4  north indian      600.0  "
      ]
     },
     "execution_count": 32,
     "metadata": {},
     "output_type": "execute_result"
    }
   ],
   "source": [
    "restaurants.head()"
   ]
  },
  {
   "cell_type": "code",
   "execution_count": 33,
   "metadata": {
    "deletable": false,
    "nbgrader": {
     "grade": false,
     "grade_id": "cell-da1cf313df52ced6",
     "locked": false,
     "schema_version": 3,
     "solution": true,
     "task": false
    }
   },
   "outputs": [
    {
     "data": {
      "image/png": "[encoded data removed]",
      "text/plain": [
       "<Figure size 720x720 with 1 Axes>"
      ]
     },
     "metadata": {},
     "output_type": "display_data"
    }
   ],
   "source": [
    "# YOUR CODE HERE\n",
    "chinese_restaurants=restaurants[restaurants.cuisine == 'chinese']\n",
    "plt.style.use('seaborn')\n",
    "#plt.rcParams[\"figure.figsize\"] = [10, 10]\n",
    "chinese_restaurants.boxplot(column=\"vote_rate\", by=\"type\", vert=False, figsize=[10,10], grid=False, fontsize=14);\n",
    "\n",
    "\n",
    "#raise NotImplementedError()\n",
    "axis = plt.gca();"
   ]
  },
  {
   "cell_type": "code",
   "execution_count": 34,
   "metadata": {
    "deletable": false,
    "editable": false,
    "nbgrader": {
     "grade": true,
     "grade_id": "cell-d67c3ae944e4adb7",
     "locked": true,
     "points": 3,
     "schema_version": 3,
     "solution": false,
     "task": false
    }
   },
   "outputs": [
    {
     "name": "stdout",
     "output_type": "stream",
     "text": [
      "--- Success ---\n"
     ]
    }
   ],
   "source": [
    "pc = PlotChecker(axis)\n",
    "pc._lines = pc.axis.get_lines()\n",
    "pc.colors = np.array([pc._color2rgb(x.get_color()) for x in pc._lines])\n",
    "\n",
    "assert _hash(chinese_restaurants['cuisine'].unique()) in ['3c110a6b03'], \"Did you filter the chinese restaurtants?\"\n",
    "assert _hash(pc.colors[0]) in ['e68950262e'], \"Did you set the right plot style?\"\n",
    "assert _hash(pc.yticklabels) in ['474e6af7df'], \"Did you select the right categorical variable for the plot?\"\n",
    "assert _hash(pc.xticklabels) in ['f50b6dfe86'], \"Did you select the right categorical variable for the plot?\"\n",
    "\n",
    "print('--- Success ---')"
   ]
  },
  {
   "cell_type": "markdown",
   "metadata": {
    "deletable": false,
    "editable": false,
    "nbgrader": {
     "grade": false,
     "grade_id": "cell-7d6e8146156789d8",
     "locked": true,
     "schema_version": 3,
     "solution": false,
     "task": false
    }
   },
   "source": [
    "\n",
    "# 🏁 Ungraded Exercise 🏁\n",
    "Load the file misterious_data.csv and use data visualization to answer the following questions:\n",
    "\n",
    "* How is the distribution of **x** in general?\n",
    "* Are there any **outlier** in any of the fields?\n",
    "* Which **2 charts** better represent the underlying data?\n",
    "* Change their **style** to **`bmh`**.\n",
    "* Add **titles** to each chart explaining them.\n"
   ]
  }
 ],
 "metadata": {
  "kernelspec": {
   "display_name": "Python 3",
   "language": "python",
   "name": "python3"
  },
  "language_info": {
   "codemirror_mode": {
    "name": "ipython",
    "version": 3
   },
   "file_extension": ".py",
   "mimetype": "text/x-python",
   "name": "python",
   "nbconvert_exporter": "python",
   "pygments_lexer": "ipython3",
   "version": "3.6.9"
  },
  "toc": {
   "base_numbering": 1,
   "nav_menu": {},
   "number_sections": false,
   "sideBar": false,
   "skip_h1_title": false,
   "title_cell": "Table of Contents",
   "title_sidebar": "Contents",
   "toc_cell": false,
   "toc_position": {},
   "toc_section_display": false,
   "toc_window_display": false
  }
 },
 "nbformat": 4,
 "nbformat_minor": 2
}
