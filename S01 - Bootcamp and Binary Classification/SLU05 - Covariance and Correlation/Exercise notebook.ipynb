{
 "cells": [
  {
   "cell_type": "markdown",
   "metadata": {
    "deletable": false,
    "editable": false,
    "nbgrader": {
     "grade": false,
     "grade_id": "cell-ffd19da8ad9eb287",
     "locked": true,
     "schema_version": 3,
     "solution": false
    }
   },
   "source": [
    "# SLU 05 - Covariance and Correlation: Exercise notebook"
   ]
  },
  {
   "cell_type": "code",
   "execution_count": 1,
   "metadata": {
    "deletable": false,
    "editable": false,
    "nbgrader": {
     "grade": false,
     "grade_id": "cell-5db9010e5f96be4c",
     "locked": true,
     "schema_version": 3,
     "solution": false
    }
   },
   "outputs": [],
   "source": [
    "import pandas as pd \n",
    "import numpy as np \n",
    "import math \n",
    "import utils \n",
    "\n",
    "from IPython.display import Image\n",
    "from matplotlib import pyplot as plt\n",
    "from utils import get_house_prices_and_rooms, plot_house_prices_and_rooms\n",
    "from utils import get_car_prices_year, get_car_prices_mileage, plot_car_prices_and_mileage,\\\n",
    "                check_currency_change, plot_some_correlations, plot_correlation_bargraph\n",
    "\n",
    "# this is for grading without showing the answers \n",
    "import hashlib\n",
    "def hash_answer(answer): \n",
    "    answer=str(answer)\n",
    "    return hashlib.sha256((answer).encode()).hexdigest()"
   ]
  },
  {
   "cell_type": "markdown",
   "metadata": {
    "deletable": false,
    "editable": false,
    "nbgrader": {
     "grade": false,
     "grade_id": "cell-4e02c47394f90045",
     "locked": true,
     "schema_version": 3,
     "solution": false
    }
   },
   "source": [
    "In this notebook, you will practice the following: \n",
    "\n",
    "    - Covariance \n",
    "    - Pearson correlation\n",
    "    - Spearman correlation\n",
    "    - Correlation matrix\n",
    "    - Spurious correlations"
   ]
  },
  {
   "cell_type": "markdown",
   "metadata": {
    "deletable": false,
    "editable": false,
    "nbgrader": {
     "grade": false,
     "grade_id": "cell-eb64fecb75377742",
     "locked": true,
     "schema_version": 3,
     "solution": false
    }
   },
   "source": [
    "----"
   ]
  },
  {
   "cell_type": "markdown",
   "metadata": {
    "deletable": false,
    "editable": false,
    "nbgrader": {
     "grade": false,
     "grade_id": "cell-8add5274c101d6dc",
     "locked": true,
     "schema_version": 3,
     "solution": false,
     "task": false
    }
   },
   "source": [
    "# Exercise 1:  covariance and correlation with Pandas\n",
    "Here you will apply what you learned in the Learning Notebook, calculating covariance and correlation on a sample dataset.\n",
    "\n",
    "We're going to use a dataset of used car values in the USA for this exercise. Let's begin by taking a quick look at the dataset:"
   ]
  },
  {
   "cell_type": "code",
   "execution_count": 2,
   "metadata": {
    "deletable": false,
    "editable": false,
    "nbgrader": {
     "grade": false,
     "grade_id": "cell-e3435901efe328f9",
     "locked": true,
     "schema_version": 3,
     "solution": false,
     "task": false
    }
   },
   "outputs": [
    {
     "data": {
      "text/html": [
       "<div>\n",
       "<style scoped>\n",
       "    .dataframe tbody tr th:only-of-type {\n",
       "        vertical-align: middle;\n",
       "    }\n",
       "\n",
       "    .dataframe tbody tr th {\n",
       "        vertical-align: top;\n",
       "    }\n",
       "\n",
       "    .dataframe thead th {\n",
       "        text-align: right;\n",
       "    }\n",
       "</style>\n",
       "<table border=\"1\" class=\"dataframe\">\n",
       "  <thead>\n",
       "    <tr style=\"text-align: right;\">\n",
       "      <th></th>\n",
       "      <th>price</th>\n",
       "      <th>brand</th>\n",
       "      <th>model</th>\n",
       "      <th>year</th>\n",
       "      <th>title_status</th>\n",
       "      <th>mileage</th>\n",
       "      <th>color</th>\n",
       "      <th>vin</th>\n",
       "      <th>lot</th>\n",
       "      <th>state</th>\n",
       "      <th>country</th>\n",
       "      <th>condition</th>\n",
       "    </tr>\n",
       "    <tr>\n",
       "      <th>index</th>\n",
       "      <th></th>\n",
       "      <th></th>\n",
       "      <th></th>\n",
       "      <th></th>\n",
       "      <th></th>\n",
       "      <th></th>\n",
       "      <th></th>\n",
       "      <th></th>\n",
       "      <th></th>\n",
       "      <th></th>\n",
       "      <th></th>\n",
       "      <th></th>\n",
       "    </tr>\n",
       "  </thead>\n",
       "  <tbody>\n",
       "    <tr>\n",
       "      <th>0</th>\n",
       "      <td>6300</td>\n",
       "      <td>toyota</td>\n",
       "      <td>cruiser</td>\n",
       "      <td>2008</td>\n",
       "      <td>clean vehicle</td>\n",
       "      <td>274117.0</td>\n",
       "      <td>black</td>\n",
       "      <td>jtezu11f88k007763</td>\n",
       "      <td>159348797</td>\n",
       "      <td>new jersey</td>\n",
       "      <td>usa</td>\n",
       "      <td>10 days left</td>\n",
       "    </tr>\n",
       "    <tr>\n",
       "      <th>1</th>\n",
       "      <td>2899</td>\n",
       "      <td>ford</td>\n",
       "      <td>se</td>\n",
       "      <td>2011</td>\n",
       "      <td>clean vehicle</td>\n",
       "      <td>190552.0</td>\n",
       "      <td>silver</td>\n",
       "      <td>2fmdk3gc4bbb02217</td>\n",
       "      <td>166951262</td>\n",
       "      <td>tennessee</td>\n",
       "      <td>usa</td>\n",
       "      <td>6 days left</td>\n",
       "    </tr>\n",
       "    <tr>\n",
       "      <th>2</th>\n",
       "      <td>5350</td>\n",
       "      <td>dodge</td>\n",
       "      <td>mpv</td>\n",
       "      <td>2018</td>\n",
       "      <td>clean vehicle</td>\n",
       "      <td>39590.0</td>\n",
       "      <td>silver</td>\n",
       "      <td>3c4pdcgg5jt346413</td>\n",
       "      <td>167655728</td>\n",
       "      <td>georgia</td>\n",
       "      <td>usa</td>\n",
       "      <td>2 days left</td>\n",
       "    </tr>\n",
       "    <tr>\n",
       "      <th>3</th>\n",
       "      <td>25000</td>\n",
       "      <td>ford</td>\n",
       "      <td>door</td>\n",
       "      <td>2014</td>\n",
       "      <td>clean vehicle</td>\n",
       "      <td>64146.0</td>\n",
       "      <td>blue</td>\n",
       "      <td>1ftfw1et4efc23745</td>\n",
       "      <td>167753855</td>\n",
       "      <td>virginia</td>\n",
       "      <td>usa</td>\n",
       "      <td>22 hours left</td>\n",
       "    </tr>\n",
       "    <tr>\n",
       "      <th>4</th>\n",
       "      <td>27700</td>\n",
       "      <td>chevrolet</td>\n",
       "      <td>1500</td>\n",
       "      <td>2018</td>\n",
       "      <td>clean vehicle</td>\n",
       "      <td>6654.0</td>\n",
       "      <td>red</td>\n",
       "      <td>3gcpcrec2jg473991</td>\n",
       "      <td>167763266</td>\n",
       "      <td>florida</td>\n",
       "      <td>usa</td>\n",
       "      <td>22 hours left</td>\n",
       "    </tr>\n",
       "  </tbody>\n",
       "</table>\n",
       "</div>"
      ],
      "text/plain": [
       "       price      brand    model  year   title_status   mileage   color  \\\n",
       "index                                                                     \n",
       "0       6300     toyota  cruiser  2008  clean vehicle  274117.0   black   \n",
       "1       2899       ford       se  2011  clean vehicle  190552.0  silver   \n",
       "2       5350      dodge      mpv  2018  clean vehicle   39590.0  silver   \n",
       "3      25000       ford     door  2014  clean vehicle   64146.0    blue   \n",
       "4      27700  chevrolet     1500  2018  clean vehicle    6654.0     red   \n",
       "\n",
       "                       vin        lot       state country      condition  \n",
       "index                                                                     \n",
       "0        jtezu11f88k007763  159348797  new jersey     usa   10 days left  \n",
       "1        2fmdk3gc4bbb02217  166951262   tennessee     usa    6 days left  \n",
       "2        3c4pdcgg5jt346413  167655728     georgia     usa    2 days left  \n",
       "3        1ftfw1et4efc23745  167753855    virginia     usa  22 hours left  \n",
       "4        3gcpcrec2jg473991  167763266     florida     usa  22 hours left  "
      ]
     },
     "execution_count": 2,
     "metadata": {},
     "output_type": "execute_result"
    }
   ],
   "source": [
    "data = pd.read_csv('data/USA_cars_datasets.csv', index_col=\"index\")\n",
    "data.head()"
   ]
  },
  {
   "cell_type": "markdown",
   "metadata": {
    "deletable": false,
    "editable": false,
    "nbgrader": {
     "grade": false,
     "grade_id": "cell-8a099efc9a69fa87",
     "locked": true,
     "schema_version": 3,
     "solution": false,
     "task": false
    }
   },
   "source": [
    "We'll begin by checking if the car's year of make is related to its price listing.\n",
    "\n",
    "Edit the function below so that when given the two features, it returns their ***covariance***, ***Pearson correlation*** and ***Spearman correlation*** (in this order)."
   ]
  },
  {
   "cell_type": "code",
   "execution_count": 3,
   "metadata": {
    "deletable": false,
    "nbgrader": {
     "grade": false,
     "grade_id": "cell-31802707a6bea6cf",
     "locked": false,
     "schema_version": 3,
     "solution": true,
     "task": false
    }
   },
   "outputs": [],
   "source": [
    "def check_if_related(prices, year):\n",
    "    covariance = prices.cov(year)\n",
    "    pearson_corr = prices.corr(year)\n",
    "    spearman_corr = prices.corr(year, method='spearman')\n",
    "    \n",
    "    # YOUR CODE HERE\n",
    "    #raise NotImplementedError()\n",
    "    \n",
    "    return covariance, pearson_corr, spearman_corr"
   ]
  },
  {
   "cell_type": "code",
   "execution_count": 4,
   "metadata": {
    "deletable": false,
    "editable": false,
    "nbgrader": {
     "grade": true,
     "grade_id": "cell-110d6cc4cdab8695",
     "locked": true,
     "points": 3,
     "schema_version": 3,
     "solution": false
    }
   },
   "outputs": [
    {
     "name": "stdout",
     "output_type": "stream",
     "text": [
      "Well done! Everything seems in order! The correlation between price and year does not seem very significant.\n"
     ]
    }
   ],
   "source": [
    "prices, year = get_car_prices_year()\n",
    "assert math.isclose(check_if_related(prices, year)[0], 17446.83, abs_tol=0.01), \"The covariance seems to be wrong.\"\n",
    "assert math.isclose(check_if_related(prices, year)[1], 0.4182, abs_tol=0.0001), \"The Pearson correlation seems to be wrong.\"\n",
    "assert math.isclose(check_if_related(prices, year)[2], 0.4768, abs_tol=0.0001), \"The Spearman correlation seems to be wrong.\"\n",
    "print(\"Well done! Everything seems in order! The correlation between price and year does not seem very significant.\")"
   ]
  },
  {
   "cell_type": "markdown",
   "metadata": {
    "deletable": false,
    "editable": false,
    "nbgrader": {
     "grade": false,
     "grade_id": "cell-34d6949936535344",
     "locked": true,
     "schema_version": 3,
     "solution": false
    }
   },
   "source": [
    "# Exercise 2: Using other units of measurement\n",
    "Now for a thought exercise. These car prices are in USD. Let's assume we want to know the prices in EUR.\n",
    "\n",
    "The exchange rate at the time of writing is 1.00 USD = 0.85 EUR, meaning that the EUR is a **larger** unit than the one in this dataset.\n",
    "\n",
    "If we extract the covariance and Pearson/Spearman correlations again, but this time in EUR, which of these statements is true?\n",
    ">**A.** The covariance, Pearson correlation and Spearman correlation will decrease.\n",
    ">\n",
    ">**B.** The covariance will decrease, but the Pearson correlation and Spearman correlation will increase.\n",
    ">\n",
    ">**C.** The covariance will remain the same, but Pearson correlation and Spearman correlation all decrease.\n",
    ">\n",
    ">**D.** The covariance will decrease, but Pearson correlation and Spearman correlation will remain the same.\n",
    "\n",
    "Write the letter corresponding to your chosen answer as a text string into the variable ***ex2_answer*** below."
   ]
  },
  {
   "cell_type": "code",
   "execution_count": 5,
   "metadata": {
    "deletable": false,
    "nbgrader": {
     "grade": false,
     "grade_id": "cell-7e2c47095ccc50ef",
     "locked": false,
     "schema_version": 3,
     "solution": true
    }
   },
   "outputs": [],
   "source": [
    "ex2_answer = \"D\"\n",
    "# YOUR CODE HERE\n",
    "#raise NotImplementedError()"
   ]
  },
  {
   "cell_type": "code",
   "execution_count": 6,
   "metadata": {
    "deletable": false,
    "editable": false,
    "nbgrader": {
     "grade": true,
     "grade_id": "cell-b7ab9bd4e5aa2dfa",
     "locked": true,
     "points": 3,
     "schema_version": 3,
     "solution": false,
     "task": false
    }
   },
   "outputs": [
    {
     "name": "stdout",
     "output_type": "stream",
     "text": [
      "Good job!\n",
      "The correlation is the same regardless of the units used, as it is normalized with variance.         \n",
      "The covariance, however, is affected by units used. In USD the covariance was:\n",
      "17446.838442182325\n",
      "But in EUR the covariance is:\n",
      "14829.81267585497\n"
     ]
    }
   ],
   "source": [
    "assert hash_answer(ex2_answer.lower()) == \"18ac3e7343f016890c510e93f935261169d9e3f565436429830faf0934f4f8e4\", \"Wrong choice. Remember that correlation does not depend on units.\"\n",
    "print(\"Good job!\")\n",
    "check_currency_change(prices, year)"
   ]
  },
  {
   "cell_type": "markdown",
   "metadata": {
    "deletable": false,
    "editable": false,
    "nbgrader": {
     "grade": false,
     "grade_id": "cell-a77a4a95e67dcd84",
     "locked": true,
     "schema_version": 3,
     "solution": false
    }
   },
   "source": [
    "# Exercise 3: Predict correlation \"by eye\"\n",
    "\n",
    "Let's take a look at a plot representing a correlation between three pairs of features. Assume we don't know anything else about the dataset besides this correlation graph."
   ]
  },
  {
   "cell_type": "code",
   "execution_count": 7,
   "metadata": {
    "deletable": false,
    "editable": false,
    "nbgrader": {
     "grade": false,
     "grade_id": "cell-f01596a390764937",
     "locked": true,
     "schema_version": 3,
     "solution": false,
     "task": false
    }
   },
   "outputs": [
    {
     "data": {
      "image/png": "[encoded data removed]",
      "text/plain": [
       "<Figure size 576x576 with 1 Axes>"
      ]
     },
     "metadata": {
      "needs_background": "light"
     },
     "output_type": "display_data"
    }
   ],
   "source": [
    "plot_some_correlations()"
   ]
  },
  {
   "cell_type": "markdown",
   "metadata": {
    "deletable": false,
    "editable": false,
    "nbgrader": {
     "grade": false,
     "grade_id": "cell-66d781dee0613930",
     "locked": true,
     "schema_version": 3,
     "solution": false,
     "task": false
    }
   },
   "source": [
    "What can we infer from this graph?\n",
    "\n",
    ">**A.** The orange series has the highest correlation.\n",
    ">\n",
    ">**B.** The blue series has the lowest correlation.\n",
    ">\n",
    ">**C.** All three series' correlations are positive.\n",
    ">\n",
    ">**D.** Nothing can be inferred from just the graph.\n",
    "\n",
    "Write the letter corresponding to your chosen answer as a text string into the variable ***ex3_answer*** below."
   ]
  },
  {
   "cell_type": "code",
   "execution_count": 8,
   "metadata": {
    "deletable": false,
    "nbgrader": {
     "grade": false,
     "grade_id": "cell-c0748eb68560b07e",
     "locked": false,
     "schema_version": 3,
     "solution": true
    }
   },
   "outputs": [],
   "source": [
    "ex3_answer = \"C\"\n",
    "# YOUR CODE HERE\n",
    "#raise NotImplementedError()"
   ]
  },
  {
   "cell_type": "code",
   "execution_count": 9,
   "metadata": {
    "deletable": false,
    "editable": false,
    "nbgrader": {
     "grade": true,
     "grade_id": "cell-9c8a1bb04133d3d5",
     "locked": true,
     "points": 3,
     "schema_version": 3,
     "solution": false
    }
   },
   "outputs": [
    {
     "name": "stdout",
     "output_type": "stream",
     "text": [
      "Nice!\n",
      "The plot alone does not allow us to determine the correlation values themselves.             \n",
      "However, from the positive slopes, we know that all correlations are positive.\n"
     ]
    },
    {
     "data": {
      "image/png": "[encoded data removed]",
      "text/plain": [
       "<Figure size 576x576 with 1 Axes>"
      ]
     },
     "metadata": {
      "needs_background": "light"
     },
     "output_type": "display_data"
    }
   ],
   "source": [
    "assert hash_answer(ex3_answer.lower()) == \"2e7d2c03a9507ae265ecf5b5356885a53393a2029d241394997265a1a25aefc6\", \"Wrong choice. Remember that you can't infer the amount of correlation from the degree of the slope, it can only help with estimating possitive and negative correlations.\"\n",
    "print(\"Nice!\")\n",
    "plot_some_correlations(legend=True)"
   ]
  },
  {
   "cell_type": "markdown",
   "metadata": {
    "deletable": false,
    "editable": false,
    "nbgrader": {
     "grade": false,
     "grade_id": "cell-f6d048d12dae577d",
     "locked": true,
     "schema_version": 3,
     "solution": false
    }
   },
   "source": [
    "----"
   ]
  },
  {
   "cell_type": "markdown",
   "metadata": {
    "deletable": false,
    "editable": false,
    "nbgrader": {
     "grade": false,
     "grade_id": "cell-14dafd575c8757dd",
     "locked": true,
     "schema_version": 3,
     "solution": false
    }
   },
   "source": [
    "# Exercise 4: Back to the cars - enter an outlier \n",
    "We are going back to analyze some car prices. \n",
    "\n",
    "In one case, there will be no outliers. In the other, there will be a single outlier (maybe someone famous drove one of them). "
   ]
  },
  {
   "cell_type": "code",
   "execution_count": 10,
   "metadata": {
    "deletable": false,
    "editable": false,
    "nbgrader": {
     "grade": false,
     "grade_id": "cell-7c1d07c904f2181a",
     "locked": true,
     "schema_version": 3,
     "solution": false
    }
   },
   "outputs": [
    {
     "data": {
      "image/png": "[encoded data removed]",
      "text/plain": [
       "<Figure size 1152x288 with 2 Axes>"
      ]
     },
     "metadata": {
      "needs_background": "light"
     },
     "output_type": "display_data"
    }
   ],
   "source": [
    "plot_car_prices_and_mileage()"
   ]
  },
  {
   "cell_type": "markdown",
   "metadata": {
    "deletable": false,
    "editable": false,
    "nbgrader": {
     "grade": false,
     "grade_id": "cell-15d51fa7933bd08c",
     "locked": true,
     "schema_version": 3,
     "solution": false,
     "task": false
    }
   },
   "source": [
    "# 4.1: Compare methods\n",
    "Adjust the function below to calculate the correlations between the **mileage** of the car and the listed **price**. Have it return the Pearson correlation and the Spearman correlation, in that order."
   ]
  },
  {
   "cell_type": "code",
   "execution_count": 13,
   "metadata": {
    "deletable": false,
    "nbgrader": {
     "grade": false,
     "grade_id": "cell-602c35acee50ad38",
     "locked": false,
     "schema_version": 3,
     "solution": true,
     "task": false
    }
   },
   "outputs": [],
   "source": [
    "def calculate_correlations_with_pandas(price, mileage):\n",
    "    \n",
    "    pearson_corr = price.corr(mileage)\n",
    "    spearman_corr = price.corr(mileage, method='spearman')\n",
    "    # YOUR CODE HERE\n",
    "    #raise NotImplementedError()\n",
    "    \n",
    "    return pearson_corr, spearman_corr"
   ]
  },
  {
   "cell_type": "code",
   "execution_count": 14,
   "metadata": {
    "deletable": false,
    "editable": false,
    "nbgrader": {
     "grade": false,
     "grade_id": "cell-f821aaf35b827cf9",
     "locked": true,
     "schema_version": 3,
     "solution": false,
     "task": false
    }
   },
   "outputs": [
    {
     "name": "stdout",
     "output_type": "stream",
     "text": [
      "Pearson without outlier : -0.40083818632936713\n",
      "Pearson with outlier    : -0.28226340388400717\n",
      "Spearman without outlier: -0.5273854709036083\n",
      "Spearman with outlier   : -0.5250135912464327\n"
     ]
    },
    {
     "data": {
      "image/png": "[encoded data removed]",
      "text/plain": [
       "<Figure size 432x288 with 1 Axes>"
      ]
     },
     "metadata": {
      "needs_background": "light"
     },
     "output_type": "display_data"
    }
   ],
   "source": [
    "mileage, car_prices_normal, car_prices_with_outliers = get_car_prices_mileage()\n",
    "\n",
    "pearson_corr_normal, spearman_corr_normal = calculate_correlations_with_pandas(car_prices_normal, \n",
    "                                                                               mileage)\n",
    "pearson_corr_outlier, spearman_corr_outlier = calculate_correlations_with_pandas(car_prices_with_outliers, \n",
    "                                                                                 mileage)\n",
    "\n",
    "# quick plot to see what happens\n",
    "plot_correlation_bargraph(pearson_corr_normal, pearson_corr_outlier, \n",
    "                          spearman_corr_normal, spearman_corr_outlier )"
   ]
  },
  {
   "cell_type": "code",
   "execution_count": 15,
   "metadata": {
    "deletable": false,
    "editable": false,
    "nbgrader": {
     "grade": true,
     "grade_id": "cell-1a7175bdcc21451a",
     "locked": true,
     "points": 1,
     "schema_version": 3,
     "solution": false
    }
   },
   "outputs": [
    {
     "name": "stdout",
     "output_type": "stream",
     "text": [
      "So far, so good!\n"
     ]
    }
   ],
   "source": [
    "assert math.isclose(abs(pearson_corr_normal - pearson_corr_outlier), 0.118, abs_tol=.01), \"The Pearson correlation seems to be off. You should see some change between the two datasets.\"\n",
    "assert math.isclose(abs(spearman_corr_normal - spearman_corr_outlier), 0, abs_tol=.01), \"The Spearman correlation seems to be off. You should see almost no change between the two datasets.\"\n",
    "print(\"So far, so good!\")"
   ]
  },
  {
   "cell_type": "markdown",
   "metadata": {},
   "source": [
    "# 4.2: Choose best method\n",
    "\n",
    "So, unsurprisingly, the more miles a car has, the lower the cost: a negative correlation. But, as you can see, having outliers may hugely affect your analysis. Then, when dealing with a dataset **with outliers**, which correlation methodology should you use?\n",
    "\n",
    ">**A.** Pearson.\n",
    ">\n",
    ">**B.** Spearman.\n",
    "\n",
    "Write the letter corresponding to your chosen answer as a text string into the variable ***ex4_answer*** below."
   ]
  },
  {
   "cell_type": "code",
   "execution_count": 16,
   "metadata": {
    "deletable": false,
    "nbgrader": {
     "grade": false,
     "grade_id": "cell-feba7fd2406a682d",
     "locked": false,
     "schema_version": 3,
     "solution": true,
     "task": false
    }
   },
   "outputs": [],
   "source": [
    "ex4_answer = \"B\"\n",
    "# YOUR CODE HERE\n",
    "#raise NotImplementedError()"
   ]
  },
  {
   "cell_type": "code",
   "execution_count": 17,
   "metadata": {
    "deletable": false,
    "editable": false,
    "nbgrader": {
     "grade": true,
     "grade_id": "cell-db9c7d41bb3f58d6",
     "locked": true,
     "points": 3,
     "schema_version": 3,
     "solution": false,
     "task": false
    }
   },
   "outputs": [
    {
     "name": "stdout",
     "output_type": "stream",
     "text": [
      "Nice! Now you can avoid the data disruption caused by famous people's cars!\n"
     ]
    }
   ],
   "source": [
    "assert hash_answer(ex4_answer.lower()) == \"3e23e8160039594a33894f6564e1b1348bbd7a0088d42c4acb73eeaed59c009d\", \"Wrong choice. Look at the changes in the correlations in the bar graphs.\"\n",
    "print(\"Nice! Now you can avoid the data disruption caused by famous people's cars!\")"
   ]
  },
  {
   "cell_type": "markdown",
   "metadata": {
    "deletable": false,
    "editable": false,
    "nbgrader": {
     "grade": false,
     "grade_id": "cell-e629fac83d7eaae3",
     "locked": true,
     "schema_version": 3,
     "solution": false
    }
   },
   "source": [
    "# Exercise 5: Stocks! \n",
    "\n",
    "Time to predict the stockmarket and get rich.\n",
    "\n",
    "Explore the dataset provided below:\n",
    "\n",
    "- Hint 1: you can use display (<name of df>) to force it to pretty print.\n",
    "- Hint 2: use the heatmap of the correlation matrix that we used in the learning notebooks.\n",
    "- Hint 3: you may want to import something to help with the visualization.\n",
    "- Hint 4: you can either paste the answers or use a purely programmatic solution.\n",
    "- Hint 5: when we say lowest and highest we mean the sign, not the \"magnitude\"."
   ]
  },
  {
   "cell_type": "code",
   "execution_count": 27,
   "metadata": {
    "deletable": false,
    "nbgrader": {
     "grade": false,
     "grade_id": "cell-de272afdcb6695e5",
     "locked": false,
     "schema_version": 3,
     "solution": true
    }
   },
   "outputs": [
    {
     "data": {
      "text/html": [
       "<div>\n",
       "<style scoped>\n",
       "    .dataframe tbody tr th:only-of-type {\n",
       "        vertical-align: middle;\n",
       "    }\n",
       "\n",
       "    .dataframe tbody tr th {\n",
       "        vertical-align: top;\n",
       "    }\n",
       "\n",
       "    .dataframe thead th {\n",
       "        text-align: right;\n",
       "    }\n",
       "</style>\n",
       "<table border=\"1\" class=\"dataframe\">\n",
       "  <thead>\n",
       "    <tr style=\"text-align: right;\">\n",
       "      <th></th>\n",
       "      <th>date</th>\n",
       "      <th>Microchip Technology</th>\n",
       "      <th>Lennar Corp.</th>\n",
       "      <th>Ulta Beauty</th>\n",
       "      <th>Occidental Petroleum</th>\n",
       "      <th>Exxon Mobil Corp.</th>\n",
       "      <th>Apache Corporation</th>\n",
       "      <th>General Motors</th>\n",
       "      <th>People's United Financial</th>\n",
       "      <th>ConocoPhillips</th>\n",
       "      <th>Cboe Global Markets</th>\n",
       "      <th>Skyworks Solutions</th>\n",
       "      <th>QUALCOMM Inc.</th>\n",
       "      <th>Northern Trust Corp.</th>\n",
       "      <th>Ross Stores</th>\n",
       "      <th>Halliburton Co.</th>\n",
       "      <th>Marathon Oil Corp.</th>\n",
       "      <th>Oil Price</th>\n",
       "    </tr>\n",
       "  </thead>\n",
       "  <tbody>\n",
       "    <tr>\n",
       "      <th>0</th>\n",
       "      <td>2014-01-02</td>\n",
       "      <td>44.17</td>\n",
       "      <td>38.6471</td>\n",
       "      <td>95.91</td>\n",
       "      <td>93.85</td>\n",
       "      <td>99.75</td>\n",
       "      <td>85.48</td>\n",
       "      <td>40.95</td>\n",
       "      <td>15.01</td>\n",
       "      <td>69.78</td>\n",
       "      <td>50.98</td>\n",
       "      <td>27.40</td>\n",
       "      <td>73.32</td>\n",
       "      <td>60.89</td>\n",
       "      <td>37.135</td>\n",
       "      <td>50.01</td>\n",
       "      <td>34.91</td>\n",
       "      <td>107.94</td>\n",
       "    </tr>\n",
       "    <tr>\n",
       "      <th>1</th>\n",
       "      <td>2014-01-03</td>\n",
       "      <td>44.54</td>\n",
       "      <td>38.0882</td>\n",
       "      <td>94.92</td>\n",
       "      <td>93.52</td>\n",
       "      <td>99.51</td>\n",
       "      <td>85.54</td>\n",
       "      <td>39.57</td>\n",
       "      <td>15.06</td>\n",
       "      <td>69.96</td>\n",
       "      <td>51.66</td>\n",
       "      <td>27.72</td>\n",
       "      <td>72.89</td>\n",
       "      <td>61.30</td>\n",
       "      <td>37.165</td>\n",
       "      <td>50.13</td>\n",
       "      <td>34.52</td>\n",
       "      <td>106.57</td>\n",
       "    </tr>\n",
       "    <tr>\n",
       "      <th>2</th>\n",
       "      <td>2014-01-06</td>\n",
       "      <td>44.45</td>\n",
       "      <td>37.4412</td>\n",
       "      <td>92.91</td>\n",
       "      <td>93.80</td>\n",
       "      <td>99.66</td>\n",
       "      <td>86.31</td>\n",
       "      <td>40.40</td>\n",
       "      <td>15.10</td>\n",
       "      <td>70.26</td>\n",
       "      <td>50.93</td>\n",
       "      <td>27.63</td>\n",
       "      <td>72.70</td>\n",
       "      <td>60.92</td>\n",
       "      <td>37.090</td>\n",
       "      <td>50.32</td>\n",
       "      <td>34.43</td>\n",
       "      <td>106.71</td>\n",
       "    </tr>\n",
       "    <tr>\n",
       "      <th>3</th>\n",
       "      <td>2014-01-07</td>\n",
       "      <td>44.70</td>\n",
       "      <td>37.6078</td>\n",
       "      <td>94.46</td>\n",
       "      <td>95.55</td>\n",
       "      <td>101.07</td>\n",
       "      <td>87.90</td>\n",
       "      <td>40.20</td>\n",
       "      <td>15.15</td>\n",
       "      <td>70.37</td>\n",
       "      <td>50.69</td>\n",
       "      <td>27.79</td>\n",
       "      <td>73.24</td>\n",
       "      <td>61.70</td>\n",
       "      <td>36.885</td>\n",
       "      <td>50.20</td>\n",
       "      <td>34.88</td>\n",
       "      <td>107.01</td>\n",
       "    </tr>\n",
       "    <tr>\n",
       "      <th>4</th>\n",
       "      <td>2014-01-08</td>\n",
       "      <td>45.29</td>\n",
       "      <td>37.8529</td>\n",
       "      <td>94.17</td>\n",
       "      <td>94.79</td>\n",
       "      <td>100.74</td>\n",
       "      <td>86.65</td>\n",
       "      <td>40.42</td>\n",
       "      <td>15.42</td>\n",
       "      <td>69.69</td>\n",
       "      <td>50.02</td>\n",
       "      <td>27.92</td>\n",
       "      <td>73.68</td>\n",
       "      <td>62.02</td>\n",
       "      <td>36.850</td>\n",
       "      <td>49.50</td>\n",
       "      <td>34.40</td>\n",
       "      <td>107.42</td>\n",
       "    </tr>\n",
       "  </tbody>\n",
       "</table>\n",
       "</div>"
      ],
      "text/plain": [
       "         date  Microchip Technology  Lennar Corp.  Ulta Beauty  \\\n",
       "0  2014-01-02                 44.17       38.6471        95.91   \n",
       "1  2014-01-03                 44.54       38.0882        94.92   \n",
       "2  2014-01-06                 44.45       37.4412        92.91   \n",
       "3  2014-01-07                 44.70       37.6078        94.46   \n",
       "4  2014-01-08                 45.29       37.8529        94.17   \n",
       "\n",
       "   Occidental Petroleum  Exxon Mobil Corp.  Apache Corporation  \\\n",
       "0                 93.85              99.75               85.48   \n",
       "1                 93.52              99.51               85.54   \n",
       "2                 93.80              99.66               86.31   \n",
       "3                 95.55             101.07               87.90   \n",
       "4                 94.79             100.74               86.65   \n",
       "\n",
       "   General Motors  People's United Financial  ConocoPhillips  \\\n",
       "0           40.95                      15.01           69.78   \n",
       "1           39.57                      15.06           69.96   \n",
       "2           40.40                      15.10           70.26   \n",
       "3           40.20                      15.15           70.37   \n",
       "4           40.42                      15.42           69.69   \n",
       "\n",
       "   Cboe Global Markets  Skyworks Solutions  QUALCOMM Inc.  \\\n",
       "0                50.98               27.40          73.32   \n",
       "1                51.66               27.72          72.89   \n",
       "2                50.93               27.63          72.70   \n",
       "3                50.69               27.79          73.24   \n",
       "4                50.02               27.92          73.68   \n",
       "\n",
       "   Northern Trust Corp.  Ross Stores  Halliburton Co.  Marathon Oil Corp.  \\\n",
       "0                 60.89       37.135            50.01               34.91   \n",
       "1                 61.30       37.165            50.13               34.52   \n",
       "2                 60.92       37.090            50.32               34.43   \n",
       "3                 61.70       36.885            50.20               34.88   \n",
       "4                 62.02       36.850            49.50               34.40   \n",
       "\n",
       "   Oil Price  \n",
       "0     107.94  \n",
       "1     106.57  \n",
       "2     106.71  \n",
       "3     107.01  \n",
       "4     107.42  "
      ]
     },
     "execution_count": 27,
     "metadata": {},
     "output_type": "execute_result"
    }
   ],
   "source": [
    "stocks = pd.read_csv('data/Stock_prices.csv')\n",
    "stocks.head()\n",
    "# YOUR CODE HERE\n",
    "#raise NotImplementedError()"
   ]
  },
  {
   "cell_type": "code",
   "execution_count": 29,
   "metadata": {},
   "outputs": [
    {
     "data": {
      "image/png": "[encoded data removed]",
      "text/plain": [
       "<Figure size 1080x576 with 2 Axes>"
      ]
     },
     "metadata": {
      "needs_background": "light"
     },
     "output_type": "display_data"
    }
   ],
   "source": [
    "fig = plt.figure(figsize=(15,8))\n",
    "ax1 = fig.add_subplot(111)\n",
    "plt.imshow(stocks.corr(), cmap='hot')\n",
    "plt.colorbar()\n",
    "labels = stocks.columns.tolist()\n",
    "ax1.set_xticks(np.arange(len(labels)))\n",
    "ax1.set_yticks(np.arange(len(labels)))\n",
    "ax1.set_xticklabels(labels,rotation=90, fontsize=10)\n",
    "ax1.set_yticklabels(labels,fontsize=10)\n",
    "plt.show()"
   ]
  },
  {
   "cell_type": "code",
   "execution_count": 36,
   "metadata": {},
   "outputs": [
    {
     "data": {
      "text/plain": [
       "ConocoPhillips        Marathon Oil Corp.    0.973070\n",
       "Occidental Petroleum  Apache Corporation    0.922937\n",
       "                      Marathon Oil Corp.    0.913058\n",
       "Apache Corporation    Marathon Oil Corp.    0.911171\n",
       "dtype: float64"
      ]
     },
     "execution_count": 36,
     "metadata": {},
     "output_type": "execute_result"
    }
   ],
   "source": [
    "\n",
    "cor_mat=stocks.corr()\n",
    "lower_triangle_mask = np.triu(np.ones(cor_mat.shape)).astype(np.bool)\n",
    "\n",
    "# Now mask the correlation matrix, keeping only the lower triangle \n",
    "cor_mat.mask(lower_triangle_mask).unstack().dropna().nlargest(4)\n",
    "\n",
    "#stocks.corr().mask(lower_triangle_mask).unstack().dropna().nlargest(4)"
   ]
  },
  {
   "cell_type": "markdown",
   "metadata": {},
   "source": [
    "Now answer the following questions:\n",
    "> __Q1__: What is the pair of stocks with the most negative Pearson correlation?  \n",
    ">\n",
    "> __Q2__: What is the stock with the most negative Spearman correlation with Ulta Beauty? \n",
    ">\n",
    "> __Q3__: What is the Pearson correlation between QUALCOMM Inc. and Marathon Oil Corp.? \n",
    ">\n",
    "> __Q4__: Observe the top 4 Pearson correlation pairs, and then look at the general correlation matrix. Is there a confounding variable that may explain why these companies are so correlated?"
   ]
  },
  {
   "cell_type": "code",
   "execution_count": 37,
   "metadata": {
    "deletable": false,
    "nbgrader": {
     "grade": false,
     "grade_id": "cell-397d0b0c3105ffb6",
     "locked": false,
     "schema_version": 3,
     "solution": true,
     "task": false
    }
   },
   "outputs": [],
   "source": [
    "# Complete the following questions \n",
    "\n",
    "# Q1: What is the pair of stocks with the most negative Pearson correlation? \n",
    "# (pass the answer as a list, and remember, you can just type it in, no fancy Pandas needed) \n",
    "stock_pair_with_lowest_pearson_corr = [\"Occidental Petroleum\", \"Ross Stores\"]\n",
    "# YOUR CODE HERE\n",
    "#raise NotImplementedError()\n",
    "\n",
    "# # Q2: What is the stock with the most negative Spearman correlation with Ulta Beauty? \n",
    "# (the answer is a string)\n",
    "lowest_rank_spearman_corr_with_ulta_beauty = [\"Occidental Petroleum\"] \n",
    "# YOUR CODE HERE\n",
    "#raise NotImplementedError()\n",
    "\n",
    "# Q3: What is the Pearson correlation between QUALCOMM Inc. and Marathon Oil Corp.? \n",
    "# (answer is a float, use two decimal spaces)\n",
    "pearson_corr_between_qualcomm_and_marathon_oil = stocks[\"QUALCOMM Inc.\"].corr(stocks[\"Marathon Oil Corp.\"])\n",
    "# YOUR CODE HERE\n",
    "#raise NotImplementedError()\n",
    "\n",
    "# Q4: Observe the top 4 Pearson correlation pairs, and then look at the general correlation matrix. \n",
    "# Is there a confounding variable that may explain why these companies are so correlated? \n",
    "possible_confounding_variable = [\"Marathon Oil Corp.\"]\n",
    "# YOUR CODE HERE\n",
    "#raise NotImplementedError()"
   ]
  },
  {
   "cell_type": "code",
   "execution_count": 38,
   "metadata": {
    "deletable": false,
    "editable": false,
    "nbgrader": {
     "grade": true,
     "grade_id": "cell-61ec8bb442300a8e",
     "locked": true,
     "points": 4,
     "schema_version": 3,
     "solution": false
    }
   },
   "outputs": [
    {
     "ename": "AttributeError",
     "evalue": "'list' object has no attribute 'lower'",
     "output_type": "error",
     "traceback": [
      "\u001b[0;31m---------------------------------------------------------------------------\u001b[0m",
      "\u001b[0;31mAttributeError\u001b[0m                            Traceback (most recent call last)",
      "\u001b[0;32m<ipython-input-38-a8b9ef212ba5>\u001b[0m in \u001b[0;36m<module>\u001b[0;34m\u001b[0m\n\u001b[1;32m      2\u001b[0m \u001b[0;32massert\u001b[0m \u001b[0mhash_answer\u001b[0m\u001b[0;34m(\u001b[0m\u001b[0msorted\u001b[0m\u001b[0;34m(\u001b[0m\u001b[0mstock_pair_with_lowest_pearson_corr\u001b[0m\u001b[0;34m)\u001b[0m\u001b[0;34m[\u001b[0m\u001b[0;36m1\u001b[0m\u001b[0;34m]\u001b[0m\u001b[0;34m.\u001b[0m\u001b[0mlower\u001b[0m\u001b[0;34m(\u001b[0m\u001b[0;34m)\u001b[0m\u001b[0;34m)\u001b[0m \u001b[0;34m==\u001b[0m \u001b[0;34m\"252d948a7b16b67a910f2450a81e78760335c0128c05b53af2060de73bb4dc37\"\u001b[0m\u001b[0;34m,\u001b[0m \u001b[0;34m\"That is not the pair with the lowest pearson correlation.\"\u001b[0m\u001b[0;34m\u001b[0m\u001b[0;34m\u001b[0m\u001b[0m\n\u001b[1;32m      3\u001b[0m \u001b[0;34m\u001b[0m\u001b[0m\n\u001b[0;32m----> 4\u001b[0;31m \u001b[0;32massert\u001b[0m \u001b[0mhash_answer\u001b[0m\u001b[0;34m(\u001b[0m\u001b[0mlowest_rank_spearman_corr_with_ulta_beauty\u001b[0m\u001b[0;34m.\u001b[0m\u001b[0mlower\u001b[0m\u001b[0;34m(\u001b[0m\u001b[0;34m)\u001b[0m\u001b[0;34m)\u001b[0m \u001b[0;34m==\u001b[0m \u001b[0;34m\"6b075863de5a5c233441c451b63db6542c55ccabe6aca117f3262effbbbbcb68\"\u001b[0m\u001b[0;34m,\u001b[0m \u001b[0;34m\"Wrong lowest spearman correlation with Ulta Beauty.\"\u001b[0m\u001b[0;34m\u001b[0m\u001b[0;34m\u001b[0m\u001b[0m\n\u001b[0m\u001b[1;32m      5\u001b[0m \u001b[0;32massert\u001b[0m \u001b[0mmath\u001b[0m\u001b[0;34m.\u001b[0m\u001b[0misclose\u001b[0m\u001b[0;34m(\u001b[0m\u001b[0mpearson_corr_between_qualcomm_and_marathon_oil\u001b[0m\u001b[0;34m,\u001b[0m \u001b[0;36m0.8918\u001b[0m\u001b[0;34m,\u001b[0m \u001b[0mabs_tol\u001b[0m\u001b[0;34m=\u001b[0m\u001b[0;36m0.01\u001b[0m\u001b[0;34m)\u001b[0m\u001b[0;34m,\u001b[0m \u001b[0;34m\"Wrong pearson correlation value between QUALCOMM Inc. and Marathon Oil Corp.\"\u001b[0m\u001b[0;34m\u001b[0m\u001b[0;34m\u001b[0m\u001b[0m\n\u001b[1;32m      6\u001b[0m \u001b[0;32massert\u001b[0m \u001b[0mhash_answer\u001b[0m\u001b[0;34m(\u001b[0m\u001b[0mpossible_confounding_variable\u001b[0m\u001b[0;34m.\u001b[0m\u001b[0mlower\u001b[0m\u001b[0;34m(\u001b[0m\u001b[0;34m)\u001b[0m\u001b[0;34m)\u001b[0m \u001b[0;34m==\u001b[0m \u001b[0;34m\"cb9b59e3f375975dd68cad5a89f1c080d42a070fee6f7b1ee191cdc63e54b366\"\u001b[0m\u001b[0;34m,\u001b[0m \u001b[0;34m\"Look at what the product those 4 companies deal in.\"\u001b[0m\u001b[0;34m\u001b[0m\u001b[0;34m\u001b[0m\u001b[0m\n",
      "\u001b[0;31mAttributeError\u001b[0m: 'list' object has no attribute 'lower'"
     ]
    }
   ],
   "source": [
    "assert hash_answer(sorted(stock_pair_with_lowest_pearson_corr)[0].lower()) == \"6b075863de5a5c233441c451b63db6542c55ccabe6aca117f3262effbbbbcb68\", \"That is not the pair with the lowest pearson correlation.\"\n",
    "assert hash_answer(sorted(stock_pair_with_lowest_pearson_corr)[1].lower()) == \"252d948a7b16b67a910f2450a81e78760335c0128c05b53af2060de73bb4dc37\", \"That is not the pair with the lowest pearson correlation.\"\n",
    "\n",
    "assert hash_answer(lowest_rank_spearman_corr_with_ulta_beauty.lower()) == \"6b075863de5a5c233441c451b63db6542c55ccabe6aca117f3262effbbbbcb68\", \"Wrong lowest spearman correlation with Ulta Beauty.\"\n",
    "assert math.isclose(pearson_corr_between_qualcomm_and_marathon_oil, 0.8918, abs_tol=0.01), \"Wrong pearson correlation value between QUALCOMM Inc. and Marathon Oil Corp.\"\n",
    "assert hash_answer(possible_confounding_variable.lower()) == \"cb9b59e3f375975dd68cad5a89f1c080d42a070fee6f7b1ee191cdc63e54b366\", \"Look at what the product those 4 companies deal in.\"\n",
    "print(\"Well done, you may not go bankrupt yet! No promises on getting rich though.\")"
   ]
  },
  {
   "cell_type": "markdown",
   "metadata": {
    "deletable": false,
    "editable": false,
    "nbgrader": {
     "grade": false,
     "grade_id": "cell-dd1efef189ee2604",
     "locked": true,
     "schema_version": 3,
     "solution": false,
     "task": false
    }
   },
   "source": [
    "----"
   ]
  },
  {
   "cell_type": "markdown",
   "metadata": {
    "deletable": false,
    "editable": false,
    "nbgrader": {
     "grade": false,
     "grade_id": "cell-385662c7efb44beb",
     "locked": true,
     "schema_version": 3,
     "solution": false,
     "task": false
    }
   },
   "source": [
    "# Exercise 6: lots of stocks\n",
    "You were hired by a hedge fund, because money. \n",
    "\n",
    "On the first day, your boss, Greedy McRiskyface asked you to select one stock pair. He wants the two stocks to be as uncorrelated as possible (use Pearson), so that he can short one and long the other. \n",
    "\n",
    "The answer should be (1) the two stocks, as a list and (2) their Pearson correlation, as a float. "
   ]
  },
  {
   "cell_type": "code",
   "execution_count": 39,
   "metadata": {
    "deletable": false,
    "editable": false,
    "nbgrader": {
     "grade": false,
     "grade_id": "cell-eb057acba7e44eca",
     "locked": true,
     "schema_version": 3,
     "solution": false,
     "task": false
    }
   },
   "outputs": [],
   "source": [
    "stock_data = utils.get_stocks_data_2()"
   ]
  },
  {
   "cell_type": "code",
   "execution_count": 50,
   "metadata": {},
   "outputs": [
    {
     "data": {
      "text/plain": [
       "ESP  HDY    1.114378e-08\n",
       "WIH  JXD    4.391885e-07\n",
       "dtype: float64"
      ]
     },
     "execution_count": 50,
     "metadata": {},
     "output_type": "execute_result"
    }
   ],
   "source": [
    "cor_mat=stock_data.corr().abs()\n",
    "lower_triangle_mask = np.triu(np.ones(cor_mat.shape)).astype(np.bool)\n",
    "\n",
    "# Now mask the correlation matrix, keeping only the lower triangle \n",
    "cor_mat_lower = cor_mat.mask(lower_triangle_mask)\n",
    "cor_mat_lower.unstack().dropna().nsmallest(2)"
   ]
  },
  {
   "cell_type": "code",
   "execution_count": 49,
   "metadata": {},
   "outputs": [
    {
     "data": {
      "text/html": [
       "<div>\n",
       "<style scoped>\n",
       "    .dataframe tbody tr th:only-of-type {\n",
       "        vertical-align: middle;\n",
       "    }\n",
       "\n",
       "    .dataframe tbody tr th {\n",
       "        vertical-align: top;\n",
       "    }\n",
       "\n",
       "    .dataframe thead th {\n",
       "        text-align: right;\n",
       "    }\n",
       "</style>\n",
       "<table border=\"1\" class=\"dataframe\">\n",
       "  <thead>\n",
       "    <tr style=\"text-align: right;\">\n",
       "      <th></th>\n",
       "      <th>NCZ</th>\n",
       "      <th>RPJ</th>\n",
       "      <th>ZBB</th>\n",
       "      <th>FXU</th>\n",
       "      <th>MLT</th>\n",
       "      <th>DOO</th>\n",
       "      <th>ZMZ</th>\n",
       "      <th>XZU</th>\n",
       "      <th>BDP</th>\n",
       "      <th>KDQ</th>\n",
       "      <th>...</th>\n",
       "      <th>HXW</th>\n",
       "      <th>LZG</th>\n",
       "      <th>YNF</th>\n",
       "      <th>XGQ</th>\n",
       "      <th>YMN</th>\n",
       "      <th>SQO</th>\n",
       "      <th>KKW</th>\n",
       "      <th>MPG</th>\n",
       "      <th>BQE</th>\n",
       "      <th>CLU</th>\n",
       "    </tr>\n",
       "  </thead>\n",
       "  <tbody>\n",
       "    <tr>\n",
       "      <th>NCZ</th>\n",
       "      <td>NaN</td>\n",
       "      <td>0.005401</td>\n",
       "      <td>0.041897</td>\n",
       "      <td>0.131225</td>\n",
       "      <td>0.141887</td>\n",
       "      <td>0.066005</td>\n",
       "      <td>0.100732</td>\n",
       "      <td>0.029508</td>\n",
       "      <td>0.044769</td>\n",
       "      <td>0.046153</td>\n",
       "      <td>...</td>\n",
       "      <td>0.017566</td>\n",
       "      <td>0.113952</td>\n",
       "      <td>0.011246</td>\n",
       "      <td>0.067740</td>\n",
       "      <td>0.040691</td>\n",
       "      <td>0.099421</td>\n",
       "      <td>0.174279</td>\n",
       "      <td>0.144853</td>\n",
       "      <td>0.111719</td>\n",
       "      <td>0.129384</td>\n",
       "    </tr>\n",
       "    <tr>\n",
       "      <th>RPJ</th>\n",
       "      <td>0.005401</td>\n",
       "      <td>NaN</td>\n",
       "      <td>0.008380</td>\n",
       "      <td>0.086609</td>\n",
       "      <td>0.128650</td>\n",
       "      <td>0.039225</td>\n",
       "      <td>0.059457</td>\n",
       "      <td>0.124457</td>\n",
       "      <td>0.022770</td>\n",
       "      <td>0.132848</td>\n",
       "      <td>...</td>\n",
       "      <td>0.007097</td>\n",
       "      <td>0.105894</td>\n",
       "      <td>0.025649</td>\n",
       "      <td>0.097074</td>\n",
       "      <td>0.080836</td>\n",
       "      <td>0.022482</td>\n",
       "      <td>0.038468</td>\n",
       "      <td>0.034805</td>\n",
       "      <td>0.003365</td>\n",
       "      <td>0.079934</td>\n",
       "    </tr>\n",
       "    <tr>\n",
       "      <th>ZBB</th>\n",
       "      <td>0.041897</td>\n",
       "      <td>0.008380</td>\n",
       "      <td>NaN</td>\n",
       "      <td>0.138022</td>\n",
       "      <td>0.156540</td>\n",
       "      <td>0.059279</td>\n",
       "      <td>0.028841</td>\n",
       "      <td>0.034422</td>\n",
       "      <td>0.145685</td>\n",
       "      <td>0.121979</td>\n",
       "      <td>...</td>\n",
       "      <td>0.013312</td>\n",
       "      <td>0.016142</td>\n",
       "      <td>0.004565</td>\n",
       "      <td>0.002340</td>\n",
       "      <td>0.055478</td>\n",
       "      <td>0.076821</td>\n",
       "      <td>0.000336</td>\n",
       "      <td>0.110567</td>\n",
       "      <td>0.165020</td>\n",
       "      <td>0.007125</td>\n",
       "    </tr>\n",
       "    <tr>\n",
       "      <th>FXU</th>\n",
       "      <td>0.131225</td>\n",
       "      <td>0.086609</td>\n",
       "      <td>0.138022</td>\n",
       "      <td>NaN</td>\n",
       "      <td>0.179885</td>\n",
       "      <td>0.062581</td>\n",
       "      <td>0.057042</td>\n",
       "      <td>0.010231</td>\n",
       "      <td>0.135419</td>\n",
       "      <td>0.257325</td>\n",
       "      <td>...</td>\n",
       "      <td>0.087445</td>\n",
       "      <td>0.124818</td>\n",
       "      <td>0.034454</td>\n",
       "      <td>0.166587</td>\n",
       "      <td>0.165954</td>\n",
       "      <td>0.055733</td>\n",
       "      <td>0.092192</td>\n",
       "      <td>0.201598</td>\n",
       "      <td>0.217515</td>\n",
       "      <td>0.058845</td>\n",
       "    </tr>\n",
       "    <tr>\n",
       "      <th>MLT</th>\n",
       "      <td>0.141887</td>\n",
       "      <td>0.128650</td>\n",
       "      <td>0.156540</td>\n",
       "      <td>0.179885</td>\n",
       "      <td>NaN</td>\n",
       "      <td>0.085100</td>\n",
       "      <td>0.077934</td>\n",
       "      <td>0.071554</td>\n",
       "      <td>0.138462</td>\n",
       "      <td>0.088409</td>\n",
       "      <td>...</td>\n",
       "      <td>0.046666</td>\n",
       "      <td>0.001094</td>\n",
       "      <td>0.020618</td>\n",
       "      <td>0.105133</td>\n",
       "      <td>0.073425</td>\n",
       "      <td>0.111863</td>\n",
       "      <td>0.085176</td>\n",
       "      <td>0.060985</td>\n",
       "      <td>0.145010</td>\n",
       "      <td>0.054438</td>\n",
       "    </tr>\n",
       "    <tr>\n",
       "      <th>...</th>\n",
       "      <td>...</td>\n",
       "      <td>...</td>\n",
       "      <td>...</td>\n",
       "      <td>...</td>\n",
       "      <td>...</td>\n",
       "      <td>...</td>\n",
       "      <td>...</td>\n",
       "      <td>...</td>\n",
       "      <td>...</td>\n",
       "      <td>...</td>\n",
       "      <td>...</td>\n",
       "      <td>...</td>\n",
       "      <td>...</td>\n",
       "      <td>...</td>\n",
       "      <td>...</td>\n",
       "      <td>...</td>\n",
       "      <td>...</td>\n",
       "      <td>...</td>\n",
       "      <td>...</td>\n",
       "      <td>...</td>\n",
       "      <td>...</td>\n",
       "    </tr>\n",
       "    <tr>\n",
       "      <th>SQO</th>\n",
       "      <td>0.099421</td>\n",
       "      <td>0.022482</td>\n",
       "      <td>0.076821</td>\n",
       "      <td>0.055733</td>\n",
       "      <td>0.111863</td>\n",
       "      <td>0.056095</td>\n",
       "      <td>0.055347</td>\n",
       "      <td>0.215096</td>\n",
       "      <td>0.061674</td>\n",
       "      <td>0.056202</td>\n",
       "      <td>...</td>\n",
       "      <td>0.061669</td>\n",
       "      <td>0.028749</td>\n",
       "      <td>0.059089</td>\n",
       "      <td>0.042550</td>\n",
       "      <td>0.104066</td>\n",
       "      <td>NaN</td>\n",
       "      <td>0.195195</td>\n",
       "      <td>0.000306</td>\n",
       "      <td>0.131203</td>\n",
       "      <td>0.096943</td>\n",
       "    </tr>\n",
       "    <tr>\n",
       "      <th>KKW</th>\n",
       "      <td>0.174279</td>\n",
       "      <td>0.038468</td>\n",
       "      <td>0.000336</td>\n",
       "      <td>0.092192</td>\n",
       "      <td>0.085176</td>\n",
       "      <td>0.012338</td>\n",
       "      <td>0.097369</td>\n",
       "      <td>0.086432</td>\n",
       "      <td>0.060224</td>\n",
       "      <td>0.000492</td>\n",
       "      <td>...</td>\n",
       "      <td>0.056768</td>\n",
       "      <td>0.035572</td>\n",
       "      <td>0.118864</td>\n",
       "      <td>0.019891</td>\n",
       "      <td>0.010156</td>\n",
       "      <td>0.195195</td>\n",
       "      <td>NaN</td>\n",
       "      <td>0.054708</td>\n",
       "      <td>0.124004</td>\n",
       "      <td>0.103548</td>\n",
       "    </tr>\n",
       "    <tr>\n",
       "      <th>MPG</th>\n",
       "      <td>0.144853</td>\n",
       "      <td>0.034805</td>\n",
       "      <td>0.110567</td>\n",
       "      <td>0.201598</td>\n",
       "      <td>0.060985</td>\n",
       "      <td>0.000313</td>\n",
       "      <td>0.051659</td>\n",
       "      <td>0.140562</td>\n",
       "      <td>0.081128</td>\n",
       "      <td>0.072282</td>\n",
       "      <td>...</td>\n",
       "      <td>0.068441</td>\n",
       "      <td>0.082096</td>\n",
       "      <td>0.053897</td>\n",
       "      <td>0.003434</td>\n",
       "      <td>0.109630</td>\n",
       "      <td>0.000306</td>\n",
       "      <td>0.054708</td>\n",
       "      <td>NaN</td>\n",
       "      <td>0.022958</td>\n",
       "      <td>0.052467</td>\n",
       "    </tr>\n",
       "    <tr>\n",
       "      <th>BQE</th>\n",
       "      <td>0.111719</td>\n",
       "      <td>0.003365</td>\n",
       "      <td>0.165020</td>\n",
       "      <td>0.217515</td>\n",
       "      <td>0.145010</td>\n",
       "      <td>0.034075</td>\n",
       "      <td>0.133371</td>\n",
       "      <td>0.022807</td>\n",
       "      <td>0.057008</td>\n",
       "      <td>0.118656</td>\n",
       "      <td>...</td>\n",
       "      <td>0.019600</td>\n",
       "      <td>0.074038</td>\n",
       "      <td>0.038101</td>\n",
       "      <td>0.090154</td>\n",
       "      <td>0.140641</td>\n",
       "      <td>0.131203</td>\n",
       "      <td>0.124004</td>\n",
       "      <td>0.022958</td>\n",
       "      <td>NaN</td>\n",
       "      <td>0.120358</td>\n",
       "    </tr>\n",
       "    <tr>\n",
       "      <th>CLU</th>\n",
       "      <td>0.129384</td>\n",
       "      <td>0.079934</td>\n",
       "      <td>0.007125</td>\n",
       "      <td>0.058845</td>\n",
       "      <td>0.054438</td>\n",
       "      <td>0.048017</td>\n",
       "      <td>0.040254</td>\n",
       "      <td>0.039150</td>\n",
       "      <td>0.052396</td>\n",
       "      <td>0.128181</td>\n",
       "      <td>...</td>\n",
       "      <td>0.080425</td>\n",
       "      <td>0.092696</td>\n",
       "      <td>0.041710</td>\n",
       "      <td>0.110953</td>\n",
       "      <td>0.026647</td>\n",
       "      <td>0.096943</td>\n",
       "      <td>0.103548</td>\n",
       "      <td>0.052467</td>\n",
       "      <td>0.120358</td>\n",
       "      <td>NaN</td>\n",
       "    </tr>\n",
       "  </tbody>\n",
       "</table>\n",
       "<p>1000 rows × 1000 columns</p>\n",
       "</div>"
      ],
      "text/plain": [
       "          NCZ       RPJ       ZBB       FXU       MLT       DOO       ZMZ  \\\n",
       "NCZ       NaN  0.005401  0.041897  0.131225  0.141887  0.066005  0.100732   \n",
       "RPJ  0.005401       NaN  0.008380  0.086609  0.128650  0.039225  0.059457   \n",
       "ZBB  0.041897  0.008380       NaN  0.138022  0.156540  0.059279  0.028841   \n",
       "FXU  0.131225  0.086609  0.138022       NaN  0.179885  0.062581  0.057042   \n",
       "MLT  0.141887  0.128650  0.156540  0.179885       NaN  0.085100  0.077934   \n",
       "..        ...       ...       ...       ...       ...       ...       ...   \n",
       "SQO  0.099421  0.022482  0.076821  0.055733  0.111863  0.056095  0.055347   \n",
       "KKW  0.174279  0.038468  0.000336  0.092192  0.085176  0.012338  0.097369   \n",
       "MPG  0.144853  0.034805  0.110567  0.201598  0.060985  0.000313  0.051659   \n",
       "BQE  0.111719  0.003365  0.165020  0.217515  0.145010  0.034075  0.133371   \n",
       "CLU  0.129384  0.079934  0.007125  0.058845  0.054438  0.048017  0.040254   \n",
       "\n",
       "          XZU       BDP       KDQ  ...       HXW       LZG       YNF  \\\n",
       "NCZ  0.029508  0.044769  0.046153  ...  0.017566  0.113952  0.011246   \n",
       "RPJ  0.124457  0.022770  0.132848  ...  0.007097  0.105894  0.025649   \n",
       "ZBB  0.034422  0.145685  0.121979  ...  0.013312  0.016142  0.004565   \n",
       "FXU  0.010231  0.135419  0.257325  ...  0.087445  0.124818  0.034454   \n",
       "MLT  0.071554  0.138462  0.088409  ...  0.046666  0.001094  0.020618   \n",
       "..        ...       ...       ...  ...       ...       ...       ...   \n",
       "SQO  0.215096  0.061674  0.056202  ...  0.061669  0.028749  0.059089   \n",
       "KKW  0.086432  0.060224  0.000492  ...  0.056768  0.035572  0.118864   \n",
       "MPG  0.140562  0.081128  0.072282  ...  0.068441  0.082096  0.053897   \n",
       "BQE  0.022807  0.057008  0.118656  ...  0.019600  0.074038  0.038101   \n",
       "CLU  0.039150  0.052396  0.128181  ...  0.080425  0.092696  0.041710   \n",
       "\n",
       "          XGQ       YMN       SQO       KKW       MPG       BQE       CLU  \n",
       "NCZ  0.067740  0.040691  0.099421  0.174279  0.144853  0.111719  0.129384  \n",
       "RPJ  0.097074  0.080836  0.022482  0.038468  0.034805  0.003365  0.079934  \n",
       "ZBB  0.002340  0.055478  0.076821  0.000336  0.110567  0.165020  0.007125  \n",
       "FXU  0.166587  0.165954  0.055733  0.092192  0.201598  0.217515  0.058845  \n",
       "MLT  0.105133  0.073425  0.111863  0.085176  0.060985  0.145010  0.054438  \n",
       "..        ...       ...       ...       ...       ...       ...       ...  \n",
       "SQO  0.042550  0.104066       NaN  0.195195  0.000306  0.131203  0.096943  \n",
       "KKW  0.019891  0.010156  0.195195       NaN  0.054708  0.124004  0.103548  \n",
       "MPG  0.003434  0.109630  0.000306  0.054708       NaN  0.022958  0.052467  \n",
       "BQE  0.090154  0.140641  0.131203  0.124004  0.022958       NaN  0.120358  \n",
       "CLU  0.110953  0.026647  0.096943  0.103548  0.052467  0.120358       NaN  \n",
       "\n",
       "[1000 rows x 1000 columns]"
      ]
     },
     "execution_count": 49,
     "metadata": {},
     "output_type": "execute_result"
    }
   ],
   "source": [
    "corr_mat_without_diagonal"
   ]
  },
  {
   "cell_type": "code",
   "execution_count": 51,
   "metadata": {
    "deletable": false,
    "nbgrader": {
     "grade": false,
     "grade_id": "cell-ee4cfd1ff7abcd0e",
     "locked": false,
     "schema_version": 3,
     "solution": true,
     "task": false
    }
   },
   "outputs": [],
   "source": [
    "most_uncorrelated_pair = ['ESP',  'HDY']\n",
    "most_uncorrelated_pair_value = 1.114378e-08\n",
    "# YOUR CODE HERE\n",
    "#raise NotImplementedError()"
   ]
  },
  {
   "cell_type": "code",
   "execution_count": 52,
   "metadata": {
    "deletable": false,
    "editable": false,
    "nbgrader": {
     "grade": true,
     "grade_id": "cell-6bc7867845b5cdfd",
     "locked": true,
     "points": 3,
     "schema_version": 3,
     "solution": false,
     "task": false
    }
   },
   "outputs": [
    {
     "name": "stdout",
     "output_type": "stream",
     "text": [
      "\n",
      "    Ok, we tricked you, and it was unfair of us.\n",
      "\n",
      "    The reality is that this stock dataset was 100% RANDOM NUMBERS.\n",
      "\n",
      "    The thing to remember is: if you use correlation without knowing the data, you are always going to find \"something\".\n",
      "    A lot of bad data science comes from over trusting the tools without knowing the data.\n",
      "\n",
      "    If you have enough data and dig into it using correlation you will ALWAYS find something\n",
      "    ... even if there is nothing to be found.\n",
      "\n",
      "    Correlation does not equal causality.\n",
      "    And sometimes, it just means you found a signal where there was only noise.\n",
      "\n",
      "    Now go on to the next SLU, and remember the day you modeled random numbers and found good stock picks :)\n",
      "    \n"
     ]
    }
   ],
   "source": [
    "assert isinstance(most_uncorrelated_pair, list)\n",
    "assert len(most_uncorrelated_pair) == 2\n",
    "assert isinstance(most_uncorrelated_pair_value, float)\n",
    "utils.dirty_little_secret()"
   ]
  },
  {
   "cell_type": "code",
   "execution_count": null,
   "metadata": {},
   "outputs": [],
   "source": []
  }
 ],
 "metadata": {
  "kernelspec": {
   "display_name": "Python 3",
   "language": "python",
   "name": "python3"
  },
  "language_info": {
   "codemirror_mode": {
    "name": "ipython",
    "version": 3
   },
   "file_extension": ".py",
   "mimetype": "text/x-python",
   "name": "python",
   "nbconvert_exporter": "python",
   "pygments_lexer": "ipython3",
   "version": "3.6.9"
  }
 },
 "nbformat": 4,
 "nbformat_minor": 2
}
