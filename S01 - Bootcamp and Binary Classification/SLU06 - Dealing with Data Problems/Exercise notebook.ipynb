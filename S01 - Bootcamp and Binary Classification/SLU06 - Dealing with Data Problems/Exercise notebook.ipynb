{
 "cells": [
  {
   "cell_type": "markdown",
   "metadata": {
    "deletable": false,
    "editable": false,
    "nbgrader": {
     "grade": false,
     "grade_id": "cell-1bd4194db78c2f35",
     "locked": true,
     "schema_version": 3,
     "solution": false,
     "task": false
    }
   },
   "source": [
    "# SLU06 - Dealing with Data Problems\n"
   ]
  },
  {
   "cell_type": "code",
   "execution_count": 1,
   "metadata": {
    "deletable": false,
    "editable": false,
    "nbgrader": {
     "grade": false,
     "grade_id": "cell-b15be3cd61e549f0",
     "locked": true,
     "schema_version": 3,
     "solution": false,
     "task": false
    }
   },
   "outputs": [],
   "source": [
    "import os\n",
    "import pandas as pd\n",
    "import numpy as np\n",
    "import copy\n",
    "import hashlib\n",
    "import json\n",
    "import warnings\n",
    "import calendar\n",
    "import datetime\n",
    "import pycountry_convert as cc\n",
    "warnings.filterwarnings('ignore')"
   ]
  },
  {
   "cell_type": "markdown",
   "metadata": {
    "deletable": false,
    "editable": false,
    "nbgrader": {
     "grade": false,
     "grade_id": "cell-fa92b97b0deaae55",
     "locked": true,
     "schema_version": 3,
     "solution": false,
     "task": false
    }
   },
   "source": [
    "In this notebook we will be covering the following:\n",
    "\n",
    "- Data Entry Problems\n",
    " - Data entry problems in categorical variables\n",
    " - Data entry problems in numerical variables\n",
    " - Duplicated entries\n",
    "- Missing Values\n",
    "- Tidy Data"
   ]
  },
  {
   "cell_type": "markdown",
   "metadata": {
    "deletable": false,
    "editable": false,
    "nbgrader": {
     "grade": false,
     "grade_id": "cell-37c8582828957176",
     "locked": true,
     "schema_version": 3,
     "solution": false,
     "task": false
    }
   },
   "source": [
    "Welcome to the wonderful world of Data Cleanup! In the real would, a lot of good people are spending a lot of time  cleaning datasets and getting them down to a form with which they can work. \n",
    "\n",
    "There is one thing that you should always keep in mind when working with data:\n",
    "\n",
    "![garbage](https://memegenerator.net/img/instances/50405824.jpg)\n",
    "\n",
    "Let's get our hands dirty."
   ]
  },
  {
   "cell_type": "markdown",
   "metadata": {
    "deletable": false,
    "editable": false,
    "nbgrader": {
     "grade": false,
     "grade_id": "cell-6c0c96d2c5e113da",
     "locked": true,
     "schema_version": 3,
     "solution": false,
     "task": false
    }
   },
   "source": [
    "## The CRSet() Hotel\n",
    "\n",
    "You're sitting on your desk in your first day of work as a data scientist and your manager has just assigned you your first task:\n",
    "\n",
    "> DataSlave, here's the dataset from *CRSet() Hotels*. Before we can do anything with it we need it nice and *tidy*. Can you take care of this? Thanks.  \n",
    "\n",
    "Attached there was a data dictionary for the dataset:\n",
    "- **hotel:** Resort Hotel or City Hotel\n",
    "- **is_canceled:** Value indicating if the booking was canceled (1) or not (0)\n",
    "- **lead_time:** Number of days that elapsed between the entering date of the booking and the arrival date\n",
    "- **arrival_date**: Arrival date formatted as \"Month Day Year\"\n",
    "- **stays_in_weekend_nights:** Number of weekend nights (Saturday or Sunday) the guest stayed or booked to stay at the hotel\n",
    "- **stays_in_week_nights:** Number of week nights (Monday to Friday) the guest stayed or booked to stay at the hotel\n",
    "- **adults**: Number of adults\n",
    "- **is_repeated_guest:** Value indicating if the booking name was from a repeated guest (1) or not (0)\n",
    "- **previous_cancellations:** Number of previous bookings that were cancelled by the customer prior to the current booking\n",
    "- **agent:** ID of the travel agency that made the booking\n",
    "- **adr:** Average Daily Rate as defined by dividing the sum of all lodging transactions by the total number of staying nights\n",
    "- **total_of_special_requests:** Number of special requests made by the customer (e.g. twin bed or high floor)\n",
    "- **reservation_status:** Reservation last status, assuming one of three categories: Canceled – booking was canceled by the customer; Check-Out – customer has checked in but already departed; No-Show – customer did not check-in and did inform the hotel of the reason why\n",
    "- **reservation_status_date:** Date at which the last status was set. This variable can be used in conjunction with the ReservationStatus to understand when was the booking canceled or when did the customer checked-out of the hotel\n",
    "\n",
    "Let's start by importing the dataset and taking a look at it. "
   ]
  },
  {
   "cell_type": "markdown",
   "metadata": {
    "deletable": false,
    "editable": false,
    "nbgrader": {
     "grade": false,
     "grade_id": "cell-ed9eb16417949aa8",
     "locked": true,
     "schema_version": 3,
     "solution": false,
     "task": false
    }
   },
   "source": [
    "### Exercise 1.1\n",
    "\n",
    "Let's start by importing the dataset and taking a look at it. \n",
    "The dataset is located in the `data` folder, in a file named `crset_hotel_bookins.csv`. This file came straigh out of MS Excel, so the values are separated with semi-colons.\n",
    "save the dataset in the `df_crset` variable\n"
   ]
  },
  {
   "cell_type": "code",
   "execution_count": 3,
   "metadata": {
    "deletable": false,
    "nbgrader": {
     "grade": false,
     "grade_id": "cell-5a996a1055302b2b",
     "locked": false,
     "schema_version": 3,
     "solution": true,
     "task": false
    }
   },
   "outputs": [],
   "source": [
    "# use panda's read_csv to load the data into a dataframe and save it in df_crset \n",
    "df_crset = pd.read_csv('data/crset_hotel_bookins.csv', sep= ';')\n",
    "\n",
    "# YOUR CODE HERE\n",
    "#raise NotImplementedError()"
   ]
  },
  {
   "cell_type": "code",
   "execution_count": 4,
   "metadata": {
    "deletable": false,
    "editable": false,
    "nbgrader": {
     "grade": true,
     "grade_id": "cell-fe56bb53bb1f1d79",
     "locked": true,
     "points": 1,
     "schema_version": 3,
     "solution": false,
     "task": false
    }
   },
   "outputs": [
    {
     "data": {
      "text/html": [
       "<div>\n",
       "<style scoped>\n",
       "    .dataframe tbody tr th:only-of-type {\n",
       "        vertical-align: middle;\n",
       "    }\n",
       "\n",
       "    .dataframe tbody tr th {\n",
       "        vertical-align: top;\n",
       "    }\n",
       "\n",
       "    .dataframe thead th {\n",
       "        text-align: right;\n",
       "    }\n",
       "</style>\n",
       "<table border=\"1\" class=\"dataframe\">\n",
       "  <thead>\n",
       "    <tr style=\"text-align: right;\">\n",
       "      <th></th>\n",
       "      <th>hotel</th>\n",
       "      <th>is_canceled</th>\n",
       "      <th>lead_time</th>\n",
       "      <th>arrival_date</th>\n",
       "      <th>stays_in_weekend_nights</th>\n",
       "      <th>stays_in_week_nights</th>\n",
       "      <th>adults</th>\n",
       "      <th>is_repeated_guest</th>\n",
       "      <th>previous_cancellations</th>\n",
       "      <th>agent</th>\n",
       "      <th>adr</th>\n",
       "      <th>total_of_special_requests</th>\n",
       "      <th>reservation_status</th>\n",
       "      <th>reservation_status_date</th>\n",
       "    </tr>\n",
       "  </thead>\n",
       "  <tbody>\n",
       "    <tr>\n",
       "      <th>0</th>\n",
       "      <td>Resort Hotel</td>\n",
       "      <td>0</td>\n",
       "      <td>342</td>\n",
       "      <td>July 1 2015</td>\n",
       "      <td>0</td>\n",
       "      <td>0</td>\n",
       "      <td>2</td>\n",
       "      <td>0</td>\n",
       "      <td>0</td>\n",
       "      <td>NaN</td>\n",
       "      <td>0.0</td>\n",
       "      <td>0</td>\n",
       "      <td>Check-Out</td>\n",
       "      <td>01/07/2015</td>\n",
       "    </tr>\n",
       "    <tr>\n",
       "      <th>1</th>\n",
       "      <td>Resort Hotel</td>\n",
       "      <td>0</td>\n",
       "      <td>737</td>\n",
       "      <td>July 1 2015</td>\n",
       "      <td>0</td>\n",
       "      <td>0</td>\n",
       "      <td>2</td>\n",
       "      <td>0</td>\n",
       "      <td>0</td>\n",
       "      <td>NaN</td>\n",
       "      <td>0.0</td>\n",
       "      <td>0</td>\n",
       "      <td>Check-Out</td>\n",
       "      <td>01/07/2015</td>\n",
       "    </tr>\n",
       "    <tr>\n",
       "      <th>2</th>\n",
       "      <td>Resort Hotel</td>\n",
       "      <td>0</td>\n",
       "      <td>7</td>\n",
       "      <td>July 1 2015</td>\n",
       "      <td>0</td>\n",
       "      <td>1</td>\n",
       "      <td>1</td>\n",
       "      <td>0</td>\n",
       "      <td>0</td>\n",
       "      <td>NaN</td>\n",
       "      <td>75.0</td>\n",
       "      <td>0</td>\n",
       "      <td>Check-Out</td>\n",
       "      <td>02/07/2015</td>\n",
       "    </tr>\n",
       "    <tr>\n",
       "      <th>3</th>\n",
       "      <td>Resort Hotel</td>\n",
       "      <td>0</td>\n",
       "      <td>13</td>\n",
       "      <td>July 1 2015</td>\n",
       "      <td>0</td>\n",
       "      <td>1</td>\n",
       "      <td>1</td>\n",
       "      <td>0</td>\n",
       "      <td>0</td>\n",
       "      <td>304.0</td>\n",
       "      <td>75.0</td>\n",
       "      <td>0</td>\n",
       "      <td>Check-Out</td>\n",
       "      <td>02/07/2015</td>\n",
       "    </tr>\n",
       "    <tr>\n",
       "      <th>4</th>\n",
       "      <td>Resort Hotel</td>\n",
       "      <td>0</td>\n",
       "      <td>14</td>\n",
       "      <td>July 1 2015</td>\n",
       "      <td>0</td>\n",
       "      <td>2</td>\n",
       "      <td>2</td>\n",
       "      <td>0</td>\n",
       "      <td>0</td>\n",
       "      <td>240.0</td>\n",
       "      <td>98.0</td>\n",
       "      <td>1</td>\n",
       "      <td>Check-Out</td>\n",
       "      <td>03/07/2015</td>\n",
       "    </tr>\n",
       "  </tbody>\n",
       "</table>\n",
       "</div>"
      ],
      "text/plain": [
       "          hotel  is_canceled  lead_time arrival_date  stays_in_weekend_nights  \\\n",
       "0  Resort Hotel            0        342  July 1 2015                        0   \n",
       "1  Resort Hotel            0        737  July 1 2015                        0   \n",
       "2  Resort Hotel            0          7  July 1 2015                        0   \n",
       "3  Resort Hotel            0         13  July 1 2015                        0   \n",
       "4  Resort Hotel            0         14  July 1 2015                        0   \n",
       "\n",
       "   stays_in_week_nights  adults  is_repeated_guest  previous_cancellations  \\\n",
       "0                     0       2                  0                       0   \n",
       "1                     0       2                  0                       0   \n",
       "2                     1       1                  0                       0   \n",
       "3                     1       1                  0                       0   \n",
       "4                     2       2                  0                       0   \n",
       "\n",
       "   agent   adr  total_of_special_requests reservation_status  \\\n",
       "0    NaN   0.0                          0          Check-Out   \n",
       "1    NaN   0.0                          0          Check-Out   \n",
       "2    NaN  75.0                          0          Check-Out   \n",
       "3  304.0  75.0                          0          Check-Out   \n",
       "4  240.0  98.0                          1          Check-Out   \n",
       "\n",
       "  reservation_status_date  \n",
       "0              01/07/2015  \n",
       "1              01/07/2015  \n",
       "2              02/07/2015  \n",
       "3              02/07/2015  \n",
       "4              03/07/2015  "
      ]
     },
     "execution_count": 4,
     "metadata": {},
     "output_type": "execute_result"
    }
   ],
   "source": [
    "assert isinstance(df_crset, pd.DataFrame), \"Should be a dataframe\"\n",
    "assert df_crset.shape == (119390, 14), \"The shape of the dataframe is different then expected. Are you setting the right separator?\"\n",
    "df_crset.head()"
   ]
  },
  {
   "cell_type": "markdown",
   "metadata": {
    "deletable": false,
    "editable": false,
    "nbgrader": {
     "grade": false,
     "grade_id": "cell-146cafc7a2652077",
     "locked": true,
     "schema_version": 3,
     "solution": false,
     "task": false
    }
   },
   "source": [
    "### Exercise 1.2 - Arrival Date \n",
    "\n",
    "Let's start by looking at the date of the arrival. According to the data dictionary, and the first 5 rows of the dataframe, the `arrival_date` stores a string with the month spelled out, the day in numeral and the year in numeral.\n",
    "\n",
    "Create a function, called `format_arrival_date()` that splits the values in this column and returns a dataframe with this information as `arrival_date_month`, `arrival_date_day` and `arrival_date_year`, all in numeral."
   ]
  },
  {
   "cell_type": "code",
   "execution_count": 77,
   "metadata": {
    "deletable": false,
    "nbgrader": {
     "grade": false,
     "grade_id": "cell-1a9e5315472efa42",
     "locked": false,
     "schema_version": 3,
     "solution": true,
     "task": false
    }
   },
   "outputs": [],
   "source": [
    "def format_arrival_date(df: pd.DataFrame)->pd.DataFrame:\n",
    "    \"\"\"\n",
    "    This function cleans \"arrival_date\" column\n",
    "    \"\"\"\n",
    "    \n",
    "    # start by copying the dataframe\n",
    "    _df = df.copy()\n",
    "    \n",
    "    # split the \"arrival_date\" into the \"arrival_date_month\", \"arrival_date_day\" and \"arrival_date_year\" columns\n",
    "    # hint: make sure you set expand to True\n",
    "    _df[['arrival_date_month', 'arrival_date_day', 'arrival_date_year']] = _df.arrival_date.str.split(pat=' ', expand=True)\n",
    "    \n",
    "    # transform \"arrival_date_month\" to numeric value \n",
    "    # hint: use calendar.month_name from the calendar python module and panda's map() method\n",
    "    _df['arrival_date_month'] = pd.DatetimeIndex(_df['arrival_date']).month\n",
    "    \n",
    "    # convert new 'arrival_date_day' and 'arrival_date_year' to numeric\n",
    "    _df['arrival_date_day']=pd.to_numeric(_df['arrival_date_day'])\n",
    "    _df['arrival_date_year']=pd.to_numeric(_df['arrival_date_year'])\n",
    "    \n",
    "    # drop the \"arrival_date\" column\n",
    "    _df=_df.drop('arrival_date', axis=1, inplace=False)\n",
    "    \n",
    "    return _df\n",
    "    \n",
    "    # YOUR CODE HERE\n",
    "    #raise NotImplementedError()\n"
   ]
  },
  {
   "cell_type": "code",
   "execution_count": 107,
   "metadata": {},
   "outputs": [
    {
     "data": {
      "text/plain": [
       "hotel                        Resort Hotel\n",
       "is_canceled                             0\n",
       "lead_time                             113\n",
       "stays_in_weekend_nights                 2\n",
       "stays_in_week_nights                    5\n",
       "adults                                  2\n",
       "is_repeated_guest                       0\n",
       "previous_cancellations                  0\n",
       "agent                                 156\n",
       "adr                                 67.58\n",
       "total_of_special_requests               2\n",
       "reservation_status              Check-Out\n",
       "reservation_status_date        09/07/2015\n",
       "arrival_date_month                      7\n",
       "arrival_date_day                        2\n",
       "arrival_date_year                    2015\n",
       "Name: 50, dtype: object"
      ]
     },
     "execution_count": 107,
     "metadata": {},
     "output_type": "execute_result"
    }
   ],
   "source": [
    "clean_arrival = format_arrival_date(df_crset)\n",
    "clean_arrival.iloc[50]"
   ]
  },
  {
   "cell_type": "code",
   "execution_count": 67,
   "metadata": {},
   "outputs": [],
   "source": [
    "df_crset[['arrival_date_month', 'arrival_date_day', 'arrival_date_year']] = df_crset.arrival_date.str.split(pat=' ', expand=True)\n",
    "\n",
    "df_crset['arrival_date_month'] = pd.DatetimeIndex(df_crset['arrival_date']).month"
   ]
  },
  {
   "cell_type": "code",
   "execution_count": 68,
   "metadata": {},
   "outputs": [
    {
     "data": {
      "text/html": [
       "<div>\n",
       "<style scoped>\n",
       "    .dataframe tbody tr th:only-of-type {\n",
       "        vertical-align: middle;\n",
       "    }\n",
       "\n",
       "    .dataframe tbody tr th {\n",
       "        vertical-align: top;\n",
       "    }\n",
       "\n",
       "    .dataframe thead th {\n",
       "        text-align: right;\n",
       "    }\n",
       "</style>\n",
       "<table border=\"1\" class=\"dataframe\">\n",
       "  <thead>\n",
       "    <tr style=\"text-align: right;\">\n",
       "      <th></th>\n",
       "      <th>hotel</th>\n",
       "      <th>is_canceled</th>\n",
       "      <th>lead_time</th>\n",
       "      <th>arrival_date</th>\n",
       "      <th>stays_in_weekend_nights</th>\n",
       "      <th>stays_in_week_nights</th>\n",
       "      <th>adults</th>\n",
       "      <th>is_repeated_guest</th>\n",
       "      <th>previous_cancellations</th>\n",
       "      <th>agent</th>\n",
       "      <th>adr</th>\n",
       "      <th>total_of_special_requests</th>\n",
       "      <th>reservation_status</th>\n",
       "      <th>reservation_status_date</th>\n",
       "      <th>arrival_date_month</th>\n",
       "      <th>arrival_date_day</th>\n",
       "      <th>arrival_date_year</th>\n",
       "    </tr>\n",
       "  </thead>\n",
       "  <tbody>\n",
       "    <tr>\n",
       "      <th>0</th>\n",
       "      <td>Resort Hotel</td>\n",
       "      <td>0</td>\n",
       "      <td>342</td>\n",
       "      <td>July 1 2015</td>\n",
       "      <td>0</td>\n",
       "      <td>0</td>\n",
       "      <td>2</td>\n",
       "      <td>0</td>\n",
       "      <td>0</td>\n",
       "      <td>NaN</td>\n",
       "      <td>0.0</td>\n",
       "      <td>0</td>\n",
       "      <td>Check-Out</td>\n",
       "      <td>01/07/2015</td>\n",
       "      <td>7</td>\n",
       "      <td>1</td>\n",
       "      <td>2015</td>\n",
       "    </tr>\n",
       "    <tr>\n",
       "      <th>1</th>\n",
       "      <td>Resort Hotel</td>\n",
       "      <td>0</td>\n",
       "      <td>737</td>\n",
       "      <td>July 1 2015</td>\n",
       "      <td>0</td>\n",
       "      <td>0</td>\n",
       "      <td>2</td>\n",
       "      <td>0</td>\n",
       "      <td>0</td>\n",
       "      <td>NaN</td>\n",
       "      <td>0.0</td>\n",
       "      <td>0</td>\n",
       "      <td>Check-Out</td>\n",
       "      <td>01/07/2015</td>\n",
       "      <td>7</td>\n",
       "      <td>1</td>\n",
       "      <td>2015</td>\n",
       "    </tr>\n",
       "    <tr>\n",
       "      <th>2</th>\n",
       "      <td>Resort Hotel</td>\n",
       "      <td>0</td>\n",
       "      <td>7</td>\n",
       "      <td>July 1 2015</td>\n",
       "      <td>0</td>\n",
       "      <td>1</td>\n",
       "      <td>1</td>\n",
       "      <td>0</td>\n",
       "      <td>0</td>\n",
       "      <td>NaN</td>\n",
       "      <td>75.0</td>\n",
       "      <td>0</td>\n",
       "      <td>Check-Out</td>\n",
       "      <td>02/07/2015</td>\n",
       "      <td>7</td>\n",
       "      <td>1</td>\n",
       "      <td>2015</td>\n",
       "    </tr>\n",
       "    <tr>\n",
       "      <th>3</th>\n",
       "      <td>Resort Hotel</td>\n",
       "      <td>0</td>\n",
       "      <td>13</td>\n",
       "      <td>July 1 2015</td>\n",
       "      <td>0</td>\n",
       "      <td>1</td>\n",
       "      <td>1</td>\n",
       "      <td>0</td>\n",
       "      <td>0</td>\n",
       "      <td>304.0</td>\n",
       "      <td>75.0</td>\n",
       "      <td>0</td>\n",
       "      <td>Check-Out</td>\n",
       "      <td>02/07/2015</td>\n",
       "      <td>7</td>\n",
       "      <td>1</td>\n",
       "      <td>2015</td>\n",
       "    </tr>\n",
       "    <tr>\n",
       "      <th>4</th>\n",
       "      <td>Resort Hotel</td>\n",
       "      <td>0</td>\n",
       "      <td>14</td>\n",
       "      <td>July 1 2015</td>\n",
       "      <td>0</td>\n",
       "      <td>2</td>\n",
       "      <td>2</td>\n",
       "      <td>0</td>\n",
       "      <td>0</td>\n",
       "      <td>240.0</td>\n",
       "      <td>98.0</td>\n",
       "      <td>1</td>\n",
       "      <td>Check-Out</td>\n",
       "      <td>03/07/2015</td>\n",
       "      <td>7</td>\n",
       "      <td>1</td>\n",
       "      <td>2015</td>\n",
       "    </tr>\n",
       "  </tbody>\n",
       "</table>\n",
       "</div>"
      ],
      "text/plain": [
       "          hotel  is_canceled  lead_time arrival_date  stays_in_weekend_nights  \\\n",
       "0  Resort Hotel            0        342  July 1 2015                        0   \n",
       "1  Resort Hotel            0        737  July 1 2015                        0   \n",
       "2  Resort Hotel            0          7  July 1 2015                        0   \n",
       "3  Resort Hotel            0         13  July 1 2015                        0   \n",
       "4  Resort Hotel            0         14  July 1 2015                        0   \n",
       "\n",
       "   stays_in_week_nights  adults  is_repeated_guest  previous_cancellations  \\\n",
       "0                     0       2                  0                       0   \n",
       "1                     0       2                  0                       0   \n",
       "2                     1       1                  0                       0   \n",
       "3                     1       1                  0                       0   \n",
       "4                     2       2                  0                       0   \n",
       "\n",
       "   agent   adr  total_of_special_requests reservation_status  \\\n",
       "0    NaN   0.0                          0          Check-Out   \n",
       "1    NaN   0.0                          0          Check-Out   \n",
       "2    NaN  75.0                          0          Check-Out   \n",
       "3  304.0  75.0                          0          Check-Out   \n",
       "4  240.0  98.0                          1          Check-Out   \n",
       "\n",
       "  reservation_status_date  arrival_date_month arrival_date_day  \\\n",
       "0              01/07/2015                   7                1   \n",
       "1              01/07/2015                   7                1   \n",
       "2              02/07/2015                   7                1   \n",
       "3              02/07/2015                   7                1   \n",
       "4              03/07/2015                   7                1   \n",
       "\n",
       "  arrival_date_year  \n",
       "0              2015  \n",
       "1              2015  \n",
       "2              2015  \n",
       "3              2015  \n",
       "4              2015  "
      ]
     },
     "execution_count": 68,
     "metadata": {},
     "output_type": "execute_result"
    }
   ],
   "source": [
    "df_crset.head()"
   ]
  },
  {
   "cell_type": "code",
   "execution_count": 79,
   "metadata": {
    "deletable": false,
    "editable": false,
    "nbgrader": {
     "grade": true,
     "grade_id": "cell-84b728608f1e6121",
     "locked": true,
     "points": 3,
     "schema_version": 3,
     "solution": false,
     "task": false
    }
   },
   "outputs": [
    {
     "ename": "AssertionError",
     "evalue": "Something is wrong with your data conversion",
     "output_type": "error",
     "traceback": [
      "\u001b[0;31m---------------------------------------------------------------------------\u001b[0m",
      "\u001b[0;31mAssertionError\u001b[0m                            Traceback (most recent call last)",
      "\u001b[0;32m<ipython-input-79-9ae62cf34675>\u001b[0m in \u001b[0;36m<module>\u001b[0;34m\u001b[0m\n\u001b[1;32m      9\u001b[0m \u001b[0;32massert\u001b[0m \u001b[0mall\u001b[0m\u001b[0;34m(\u001b[0m\u001b[0misinstance\u001b[0m\u001b[0;34m(\u001b[0m\u001b[0mitem\u001b[0m\u001b[0;34m,\u001b[0m \u001b[0mint\u001b[0m\u001b[0;34m)\u001b[0m \u001b[0;32mfor\u001b[0m \u001b[0mitem\u001b[0m \u001b[0;32min\u001b[0m \u001b[0mclean_arrival\u001b[0m\u001b[0;34m.\u001b[0m\u001b[0marrival_date_day\u001b[0m\u001b[0;34m)\u001b[0m\u001b[0;34m,\u001b[0m \u001b[0;34m\"Days should be saved as intigers\"\u001b[0m\u001b[0;34m\u001b[0m\u001b[0;34m\u001b[0m\u001b[0m\n\u001b[1;32m     10\u001b[0m \u001b[0;32massert\u001b[0m \u001b[0mall\u001b[0m\u001b[0;34m(\u001b[0m\u001b[0misinstance\u001b[0m\u001b[0;34m(\u001b[0m\u001b[0mitem\u001b[0m\u001b[0;34m,\u001b[0m \u001b[0mint\u001b[0m\u001b[0;34m)\u001b[0m \u001b[0;32mfor\u001b[0m \u001b[0mitem\u001b[0m \u001b[0;32min\u001b[0m \u001b[0mclean_arrival\u001b[0m\u001b[0;34m.\u001b[0m\u001b[0marrival_date_year\u001b[0m\u001b[0;34m)\u001b[0m\u001b[0;34m,\u001b[0m \u001b[0;34m\"Years should be saved as intigers\"\u001b[0m\u001b[0;34m\u001b[0m\u001b[0;34m\u001b[0m\u001b[0m\n\u001b[0;32m---> 11\u001b[0;31m \u001b[0;32massert\u001b[0m \u001b[0mhashlib\u001b[0m\u001b[0;34m.\u001b[0m\u001b[0msha256\u001b[0m\u001b[0;34m(\u001b[0m\u001b[0mjson\u001b[0m\u001b[0;34m.\u001b[0m\u001b[0mdumps\u001b[0m\u001b[0;34m(\u001b[0m\u001b[0mstr\u001b[0m\u001b[0;34m(\u001b[0m\u001b[0mclean_arrival\u001b[0m\u001b[0;34m.\u001b[0m\u001b[0miloc\u001b[0m\u001b[0;34m[\u001b[0m\u001b[0;36m50\u001b[0m\u001b[0;34m]\u001b[0m\u001b[0;34m)\u001b[0m\u001b[0;34m)\u001b[0m\u001b[0;34m.\u001b[0m\u001b[0mencode\u001b[0m\u001b[0;34m(\u001b[0m\u001b[0;34m)\u001b[0m\u001b[0;34m)\u001b[0m\u001b[0;34m.\u001b[0m\u001b[0mhexdigest\u001b[0m\u001b[0;34m(\u001b[0m\u001b[0;34m)\u001b[0m \u001b[0;34m==\u001b[0m \u001b[0;34m'676d3dca5425221c77c8400481d442d96b3a5f88185f729d628e3541ea78ae15'\u001b[0m\u001b[0;34m,\u001b[0m \u001b[0;34m\"Something is wrong with your data conversion\"\u001b[0m\u001b[0;34m\u001b[0m\u001b[0;34m\u001b[0m\u001b[0m\n\u001b[0m",
      "\u001b[0;31mAssertionError\u001b[0m: Something is wrong with your data conversion"
     ]
    }
   ],
   "source": [
    "clean_arrival = format_arrival_date(df_crset)\n",
    "assert isinstance(clean_arrival, pd.DataFrame), \"Should be a dataframe\"\n",
    "assert clean_arrival.shape == (119390, 16), \"The shape of the dataframe is different then expected. Have you dropped the old arrival time column?\"\n",
    "assert 'arrival_date' not in clean_arrival.columns, \"You should remove the old arrival_date column\"\n",
    "assert 'arrival_date_month' in clean_arrival.columns, \"You're missing the arrival_date_month column. Have you named the new column correctly?\"\n",
    "assert 'arrival_date_day' in clean_arrival.columns, \"You're missing the arrival_date_day column. Have you named the new column correctly?\"\n",
    "assert 'arrival_date_year'  in clean_arrival.columns, \"You're missing the arrival_date_year column. Have you named the new column correctly?\"\n",
    "assert all(isinstance(item, int) for item in clean_arrival.arrival_date_month), \"Months should be saved as intigers\" \n",
    "assert all(isinstance(item, int) for item in clean_arrival.arrival_date_day), \"Days should be saved as intigers\"\n",
    "assert all(isinstance(item, int) for item in clean_arrival.arrival_date_year), \"Years should be saved as intigers\"\n",
    "assert hashlib.sha256(json.dumps(str(clean_arrival.iloc[50])).encode()).hexdigest() == '676d3dca5425221c77c8400481d442d96b3a5f88185f729d628e3541ea78ae15', \"Something is wrong with your data conversion\""
   ]
  },
  {
   "cell_type": "markdown",
   "metadata": {
    "deletable": false,
    "editable": false,
    "nbgrader": {
     "grade": false,
     "grade_id": "cell-0aae65323a8f3cd7",
     "locked": true,
     "schema_version": 3,
     "solution": false,
     "task": false
    }
   },
   "source": [
    "### Exercise 1.3 - Week of year \n",
    "\n",
    "Create a function, named `get_week_of_year` that takes the newly created `arrival_date_month`, `arrival_date_day` and `arrival_date_year` creates a new variable in the dataframe called `arrival_date_week_number` with the week number of year for arrival date.\n",
    "\n",
    "Hint: *datetime.date() recieves year, month, and day as int. and you can get the week in the year with .isocalendar()[1]*"
   ]
  },
  {
   "cell_type": "code",
   "execution_count": 108,
   "metadata": {
    "deletable": false,
    "nbgrader": {
     "grade": false,
     "grade_id": "cell-17e544d51f94b90d",
     "locked": false,
     "schema_version": 3,
     "solution": true,
     "task": false
    }
   },
   "outputs": [],
   "source": [
    "def get_week_of_year(df: pd.DataFrame)->pd.DataFrame:\n",
    "    \"\"\"\n",
    "    This function gets the arrival week of the year\n",
    "    \"\"\"\n",
    "    \n",
    "    # copy the dataframe\n",
    "    _df = df.copy()\n",
    "    \n",
    "    # get the week of the year number and save it in a new column \n",
    "    # hint:  use pandas' apply() with axis=1\n",
    "    _df['arrival_date_week_number']= _df.apply(lambda row: datetime.date(row['arrival_date_year'], row['arrival_date_month'], row['arrival_date_day']), axis =1)\n",
    "    _df['arrival_date_week_number']= _df['arrival_date_week_number'].apply(lambda row: row.isocalendar()[1])\n",
    "    return _df\n",
    "    \n",
    "    # YOUR CODE HERE\n",
    "    #raise NotImplementedError()\n"
   ]
  },
  {
   "cell_type": "code",
   "execution_count": 100,
   "metadata": {},
   "outputs": [],
   "source": [
    "clean_arrival['ABC0']=clean_arrival.apply(lambda row: datetime.date(row['arrival_date_year'], row['arrival_date_month'], row['arrival_date_day']), axis =1)"
   ]
  },
  {
   "cell_type": "code",
   "execution_count": 103,
   "metadata": {},
   "outputs": [
    {
     "data": {
      "text/plain": [
       "0         27\n",
       "1         27\n",
       "2         27\n",
       "3         27\n",
       "4         27\n",
       "          ..\n",
       "119385    35\n",
       "119386    35\n",
       "119387    35\n",
       "119388    35\n",
       "119389    35\n",
       "Name: ABC0, Length: 119390, dtype: int64"
      ]
     },
     "execution_count": 103,
     "metadata": {},
     "output_type": "execute_result"
    }
   ],
   "source": [
    "clean_arrival['ABC0'].apply(lambda row: row.isocalendar()[1])"
   ]
  },
  {
   "cell_type": "code",
   "execution_count": 106,
   "metadata": {},
   "outputs": [
    {
     "data": {
      "text/html": [
       "<div>\n",
       "<style scoped>\n",
       "    .dataframe tbody tr th:only-of-type {\n",
       "        vertical-align: middle;\n",
       "    }\n",
       "\n",
       "    .dataframe tbody tr th {\n",
       "        vertical-align: top;\n",
       "    }\n",
       "\n",
       "    .dataframe thead th {\n",
       "        text-align: right;\n",
       "    }\n",
       "</style>\n",
       "<table border=\"1\" class=\"dataframe\">\n",
       "  <thead>\n",
       "    <tr style=\"text-align: right;\">\n",
       "      <th></th>\n",
       "      <th>hotel</th>\n",
       "      <th>is_canceled</th>\n",
       "      <th>lead_time</th>\n",
       "      <th>stays_in_weekend_nights</th>\n",
       "      <th>stays_in_week_nights</th>\n",
       "      <th>adults</th>\n",
       "      <th>is_repeated_guest</th>\n",
       "      <th>previous_cancellations</th>\n",
       "      <th>agent</th>\n",
       "      <th>adr</th>\n",
       "      <th>total_of_special_requests</th>\n",
       "      <th>reservation_status</th>\n",
       "      <th>reservation_status_date</th>\n",
       "      <th>arrival_date_month</th>\n",
       "      <th>arrival_date_day</th>\n",
       "      <th>arrival_date_year</th>\n",
       "      <th>ABC0</th>\n",
       "      <th>arrival_date_week_number</th>\n",
       "    </tr>\n",
       "  </thead>\n",
       "  <tbody>\n",
       "    <tr>\n",
       "      <th>0</th>\n",
       "      <td>Resort Hotel</td>\n",
       "      <td>0</td>\n",
       "      <td>342</td>\n",
       "      <td>0</td>\n",
       "      <td>0</td>\n",
       "      <td>2</td>\n",
       "      <td>0</td>\n",
       "      <td>0</td>\n",
       "      <td>NaN</td>\n",
       "      <td>0.0</td>\n",
       "      <td>0</td>\n",
       "      <td>Check-Out</td>\n",
       "      <td>01/07/2015</td>\n",
       "      <td>7</td>\n",
       "      <td>1</td>\n",
       "      <td>2015</td>\n",
       "      <td>2015-07-01</td>\n",
       "      <td>27</td>\n",
       "    </tr>\n",
       "    <tr>\n",
       "      <th>1</th>\n",
       "      <td>Resort Hotel</td>\n",
       "      <td>0</td>\n",
       "      <td>737</td>\n",
       "      <td>0</td>\n",
       "      <td>0</td>\n",
       "      <td>2</td>\n",
       "      <td>0</td>\n",
       "      <td>0</td>\n",
       "      <td>NaN</td>\n",
       "      <td>0.0</td>\n",
       "      <td>0</td>\n",
       "      <td>Check-Out</td>\n",
       "      <td>01/07/2015</td>\n",
       "      <td>7</td>\n",
       "      <td>1</td>\n",
       "      <td>2015</td>\n",
       "      <td>2015-07-01</td>\n",
       "      <td>27</td>\n",
       "    </tr>\n",
       "    <tr>\n",
       "      <th>2</th>\n",
       "      <td>Resort Hotel</td>\n",
       "      <td>0</td>\n",
       "      <td>7</td>\n",
       "      <td>0</td>\n",
       "      <td>1</td>\n",
       "      <td>1</td>\n",
       "      <td>0</td>\n",
       "      <td>0</td>\n",
       "      <td>NaN</td>\n",
       "      <td>75.0</td>\n",
       "      <td>0</td>\n",
       "      <td>Check-Out</td>\n",
       "      <td>02/07/2015</td>\n",
       "      <td>7</td>\n",
       "      <td>1</td>\n",
       "      <td>2015</td>\n",
       "      <td>2015-07-01</td>\n",
       "      <td>27</td>\n",
       "    </tr>\n",
       "    <tr>\n",
       "      <th>3</th>\n",
       "      <td>Resort Hotel</td>\n",
       "      <td>0</td>\n",
       "      <td>13</td>\n",
       "      <td>0</td>\n",
       "      <td>1</td>\n",
       "      <td>1</td>\n",
       "      <td>0</td>\n",
       "      <td>0</td>\n",
       "      <td>304.0</td>\n",
       "      <td>75.0</td>\n",
       "      <td>0</td>\n",
       "      <td>Check-Out</td>\n",
       "      <td>02/07/2015</td>\n",
       "      <td>7</td>\n",
       "      <td>1</td>\n",
       "      <td>2015</td>\n",
       "      <td>2015-07-01</td>\n",
       "      <td>27</td>\n",
       "    </tr>\n",
       "    <tr>\n",
       "      <th>4</th>\n",
       "      <td>Resort Hotel</td>\n",
       "      <td>0</td>\n",
       "      <td>14</td>\n",
       "      <td>0</td>\n",
       "      <td>2</td>\n",
       "      <td>2</td>\n",
       "      <td>0</td>\n",
       "      <td>0</td>\n",
       "      <td>240.0</td>\n",
       "      <td>98.0</td>\n",
       "      <td>1</td>\n",
       "      <td>Check-Out</td>\n",
       "      <td>03/07/2015</td>\n",
       "      <td>7</td>\n",
       "      <td>1</td>\n",
       "      <td>2015</td>\n",
       "      <td>2015-07-01</td>\n",
       "      <td>27</td>\n",
       "    </tr>\n",
       "  </tbody>\n",
       "</table>\n",
       "</div>"
      ],
      "text/plain": [
       "          hotel  is_canceled  lead_time  stays_in_weekend_nights  \\\n",
       "0  Resort Hotel            0        342                        0   \n",
       "1  Resort Hotel            0        737                        0   \n",
       "2  Resort Hotel            0          7                        0   \n",
       "3  Resort Hotel            0         13                        0   \n",
       "4  Resort Hotel            0         14                        0   \n",
       "\n",
       "   stays_in_week_nights  adults  is_repeated_guest  previous_cancellations  \\\n",
       "0                     0       2                  0                       0   \n",
       "1                     0       2                  0                       0   \n",
       "2                     1       1                  0                       0   \n",
       "3                     1       1                  0                       0   \n",
       "4                     2       2                  0                       0   \n",
       "\n",
       "   agent   adr  total_of_special_requests reservation_status  \\\n",
       "0    NaN   0.0                          0          Check-Out   \n",
       "1    NaN   0.0                          0          Check-Out   \n",
       "2    NaN  75.0                          0          Check-Out   \n",
       "3  304.0  75.0                          0          Check-Out   \n",
       "4  240.0  98.0                          1          Check-Out   \n",
       "\n",
       "  reservation_status_date  arrival_date_month  arrival_date_day  \\\n",
       "0              01/07/2015                   7                 1   \n",
       "1              01/07/2015                   7                 1   \n",
       "2              02/07/2015                   7                 1   \n",
       "3              02/07/2015                   7                 1   \n",
       "4              03/07/2015                   7                 1   \n",
       "\n",
       "   arrival_date_year        ABC0  arrival_date_week_number  \n",
       "0               2015  2015-07-01                        27  \n",
       "1               2015  2015-07-01                        27  \n",
       "2               2015  2015-07-01                        27  \n",
       "3               2015  2015-07-01                        27  \n",
       "4               2015  2015-07-01                        27  "
      ]
     },
     "execution_count": 106,
     "metadata": {},
     "output_type": "execute_result"
    }
   ],
   "source": [
    "clean_arrival_week_of_year = get_week_of_year(clean_arrival)\n",
    "clean_arrival_week_of_year.head()"
   ]
  },
  {
   "cell_type": "code",
   "execution_count": 109,
   "metadata": {
    "deletable": false,
    "editable": false,
    "nbgrader": {
     "grade": true,
     "grade_id": "cell-95be98d8d4000854",
     "locked": true,
     "points": 2,
     "schema_version": 3,
     "solution": false,
     "task": false
    }
   },
   "outputs": [],
   "source": [
    "clean_arrival_week_of_year = get_week_of_year(clean_arrival)\n",
    "assert isinstance(clean_arrival_week_of_year, pd.DataFrame), \"Should be a dataframe\"\n",
    "assert clean_arrival_week_of_year.shape == (119390, 17), \"The shape of the dataframe is different then expected. Have you saved the new column?\"\n",
    "assert 'arrival_date_week_number' in clean_arrival_week_of_year.columns, \"You're missing the clean_arrival_week_of_year column. Have you named the new column correctly?\"\n",
    "assert all(isinstance(item, int) for item in clean_arrival_week_of_year.arrival_date_week_number), \"The values in the new column should be saved as intigers\" \n",
    "assert hashlib.sha256(json.dumps(str(clean_arrival_week_of_year.arrival_date_week_number)).encode()).hexdigest() == 'fbd3bdce9f2b3a1aff60369c351a1ceb63a167a80d78b140859af7f687cd76a3', \"Something is wrong with your data conversion\""
   ]
  },
  {
   "cell_type": "markdown",
   "metadata": {
    "deletable": false,
    "editable": false,
    "nbgrader": {
     "grade": false,
     "grade_id": "cell-369a1d17c3e8446e",
     "locked": true,
     "schema_version": 3,
     "solution": false,
     "task": false
    }
   },
   "source": [
    "### Exercise 1.4 - The reservation status date\n",
    "\n",
    "Do the same processing as we've done to `arrival_date` column but this time for the `reservation_status_date`. \n",
    "Ass steps should be done in a single function, named `process_reservation_status_date()`. "
   ]
  },
  {
   "cell_type": "code",
   "execution_count": 110,
   "metadata": {
    "deletable": false,
    "nbgrader": {
     "grade": false,
     "grade_id": "cell-ee2bd2e0dd4325d4",
     "locked": false,
     "schema_version": 3,
     "solution": true,
     "task": false
    }
   },
   "outputs": [],
   "source": [
    "def process_reservation_status_date(df: pd.DataFrame)->pd.DataFrame:\n",
    "    \"\"\"\n",
    "    This function cleans \"reservation_status_date\" column\n",
    "    \"\"\"\n",
    "    # copy the dataframe\n",
    "    _df = df.copy()\n",
    "    \n",
    "    # split the \"arrival_date\" into the \"arrival_date_month\", \"arrival_date_day\" and \"arrival_date_year\" columns\n",
    "    # hint: make sure you set expand to True\n",
    "    _df[[\"reservation_status_date_day\", \"reservation_status_date_month\", \"reservation_status_date_year\"]] = _df.reservation_status_date.str.split(pat='/', expand=True)\n",
    "    \n",
    "  \n",
    "    # \n",
    "    _df['reservation_status_date_day']=pd.to_numeric(_df['reservation_status_date_day'])\n",
    "    _df['reservation_status_date_month']=pd.to_numeric(_df['reservation_status_date_month'])\n",
    "    _df['reservation_status_date_year']=pd.to_numeric(_df['reservation_status_date_year'])\n",
    "    \n",
    "    _df['reservation_status_date_week_number']= _df.apply(lambda row: datetime.date(row['reservation_status_date_year'], row['reservation_status_date_month'], row['reservation_status_date_day']), axis =1)\n",
    "    _df['reservation_status_date_week_number']= _df['reservation_status_date_week_number'].apply(lambda row: row.isocalendar()[1])\n",
    "   \n",
    "\n",
    "    _df=_df.drop('reservation_status_date', axis=1, inplace=False)\n",
    "    \n",
    "    # split the \"reservation_status_date\" into \"reservation_status_date_date_month\", \"reservation_status_date_day\" and \"reservation_status_date_year\"\n",
    "    # _df[[\"reservation_status_date_day\", \"reservation_status_date_month\", \"reservation_status_date_year\"]] = ...\n",
    "    \n",
    "    # convert new columns to numeric\n",
    "    # ...\n",
    "    \n",
    "    # get the week of the year number and save it in a new column \n",
    "    # hint:  use pandas' apply() with axis=1\n",
    "    # _df['reservation_status_date_week_number'] = ...\n",
    "    \n",
    "    # drop the \"reservation_status_date\" column\n",
    "    # _df = ...\n",
    "    \n",
    "    return _df\n",
    "    \n",
    "    # YOUR CODE HERE\n",
    "    #raise NotImplementedError()"
   ]
  },
  {
   "cell_type": "code",
   "execution_count": 111,
   "metadata": {
    "deletable": false,
    "editable": false,
    "nbgrader": {
     "grade": true,
     "grade_id": "cell-193cad2450ea0bf1",
     "locked": true,
     "points": 2,
     "schema_version": 3,
     "solution": false,
     "task": false
    }
   },
   "outputs": [
    {
     "ename": "AssertionError",
     "evalue": "Something is wrong with your data conversion",
     "output_type": "error",
     "traceback": [
      "\u001b[0;31m---------------------------------------------------------------------------\u001b[0m",
      "\u001b[0;31mAssertionError\u001b[0m                            Traceback (most recent call last)",
      "\u001b[0;32m<ipython-input-111-073dd2d8af03>\u001b[0m in \u001b[0;36m<module>\u001b[0;34m\u001b[0m\n\u001b[1;32m     12\u001b[0m \u001b[0;32massert\u001b[0m \u001b[0mall\u001b[0m\u001b[0;34m(\u001b[0m\u001b[0misinstance\u001b[0m\u001b[0;34m(\u001b[0m\u001b[0mitem\u001b[0m\u001b[0;34m,\u001b[0m \u001b[0mint\u001b[0m\u001b[0;34m)\u001b[0m \u001b[0;32mfor\u001b[0m \u001b[0mitem\u001b[0m \u001b[0;32min\u001b[0m \u001b[0mclean_status_date\u001b[0m\u001b[0;34m.\u001b[0m\u001b[0mreservation_status_date_week_number\u001b[0m\u001b[0;34m)\u001b[0m\u001b[0;34m,\u001b[0m \u001b[0;34m\"Week of the year should be saved as intiger\"\u001b[0m\u001b[0;34m\u001b[0m\u001b[0;34m\u001b[0m\u001b[0m\n\u001b[1;32m     13\u001b[0m \u001b[0;32massert\u001b[0m \u001b[0mhashlib\u001b[0m\u001b[0;34m.\u001b[0m\u001b[0msha256\u001b[0m\u001b[0;34m(\u001b[0m\u001b[0mjson\u001b[0m\u001b[0;34m.\u001b[0m\u001b[0mdumps\u001b[0m\u001b[0;34m(\u001b[0m\u001b[0mstr\u001b[0m\u001b[0;34m(\u001b[0m\u001b[0mclean_status_date\u001b[0m\u001b[0;34m.\u001b[0m\u001b[0mreservation_status_date_week_number\u001b[0m\u001b[0;34m)\u001b[0m\u001b[0;34m)\u001b[0m\u001b[0;34m.\u001b[0m\u001b[0mencode\u001b[0m\u001b[0;34m(\u001b[0m\u001b[0;34m)\u001b[0m\u001b[0;34m)\u001b[0m\u001b[0;34m.\u001b[0m\u001b[0mhexdigest\u001b[0m\u001b[0;34m(\u001b[0m\u001b[0;34m)\u001b[0m \u001b[0;34m==\u001b[0m \u001b[0;34m'035d73f3bf98929a3e2d1ea7b1dd02645a86cc8f1d751dd088533b0e11de0352'\u001b[0m\u001b[0;34m,\u001b[0m \u001b[0;34m\"Something is wrong with your data conversion in reservation_status_date_week_number\"\u001b[0m\u001b[0;34m\u001b[0m\u001b[0;34m\u001b[0m\u001b[0m\n\u001b[0;32m---> 14\u001b[0;31m \u001b[0;32massert\u001b[0m \u001b[0mhashlib\u001b[0m\u001b[0;34m.\u001b[0m\u001b[0msha256\u001b[0m\u001b[0;34m(\u001b[0m\u001b[0mjson\u001b[0m\u001b[0;34m.\u001b[0m\u001b[0mdumps\u001b[0m\u001b[0;34m(\u001b[0m\u001b[0mstr\u001b[0m\u001b[0;34m(\u001b[0m\u001b[0mclean_status_date\u001b[0m\u001b[0;34m.\u001b[0m\u001b[0miloc\u001b[0m\u001b[0;34m[\u001b[0m\u001b[0;36m50\u001b[0m\u001b[0;34m]\u001b[0m\u001b[0;34m)\u001b[0m\u001b[0;34m)\u001b[0m\u001b[0;34m.\u001b[0m\u001b[0mencode\u001b[0m\u001b[0;34m(\u001b[0m\u001b[0;34m)\u001b[0m\u001b[0;34m)\u001b[0m\u001b[0;34m.\u001b[0m\u001b[0mhexdigest\u001b[0m\u001b[0;34m(\u001b[0m\u001b[0;34m)\u001b[0m \u001b[0;34m==\u001b[0m \u001b[0;34m'996ff301f605548a5d9f5b698bbf3873ce1fe3bd35fef30b249d4159035216cc'\u001b[0m\u001b[0;34m,\u001b[0m \u001b[0;34m\"Something is wrong with your data conversion\"\u001b[0m\u001b[0;34m\u001b[0m\u001b[0;34m\u001b[0m\u001b[0m\n\u001b[0m",
      "\u001b[0;31mAssertionError\u001b[0m: Something is wrong with your data conversion"
     ]
    }
   ],
   "source": [
    "clean_status_date = process_reservation_status_date(clean_arrival_week_of_year)\n",
    "assert isinstance(clean_status_date, pd.DataFrame), \"Should be a dataframe\"\n",
    "assert clean_status_date.shape == (119390, 20), \"The shape of the dataframe is different then expected. Have you dropped the old reservation_status_date column?\"\n",
    "assert 'reservation_status_date' not in clean_status_date.columns, \"You should remove the old reservation_status_date column\"\n",
    "assert 'reservation_status_date_day' in clean_status_date.columns, \"You're missing the column. Have you named the new column correctly?\"\n",
    "assert 'reservation_status_date_month' in clean_status_date.columns, \"You're missing the column. Have you named the new column correctly?\"\n",
    "assert 'reservation_status_date_year'  in clean_status_date.columns, \"You're missing the column. Have you named the new column correctly?\"\n",
    "assert 'reservation_status_date_week_number'  in clean_status_date.columns, \"You're missing the column. Have you named the new column correctly?\"\n",
    "assert all(isinstance(item, int) for item in clean_status_date.reservation_status_date_day), \"Days should be saved as intigers\" \n",
    "assert all(isinstance(item, int) for item in clean_status_date.reservation_status_date_month), \"Months should be saved as intigers\"\n",
    "assert all(isinstance(item, int) for item in clean_status_date.reservation_status_date_year), \"Years should be saved as intigers\"\n",
    "assert all(isinstance(item, int) for item in clean_status_date.reservation_status_date_week_number), \"Week of the year should be saved as intiger\"\n",
    "assert hashlib.sha256(json.dumps(str(clean_status_date.reservation_status_date_week_number)).encode()).hexdigest() == '035d73f3bf98929a3e2d1ea7b1dd02645a86cc8f1d751dd088533b0e11de0352', \"Something is wrong with your data conversion in reservation_status_date_week_number\"\n",
    "assert hashlib.sha256(json.dumps(str(clean_status_date.iloc[50])).encode()).hexdigest() == '996ff301f605548a5d9f5b698bbf3873ce1fe3bd35fef30b249d4159035216cc', \"Something is wrong with your data conversion\""
   ]
  },
  {
   "cell_type": "markdown",
   "metadata": {
    "deletable": false,
    "editable": false,
    "nbgrader": {
     "grade": false,
     "grade_id": "cell-d69a24deae33480f",
     "locked": true,
     "schema_version": 3,
     "solution": false,
     "task": false
    }
   },
   "source": [
    "### Exercise 2 - Missing data\n",
    "\n",
    "Let's now look at missing data."
   ]
  },
  {
   "cell_type": "code",
   "execution_count": 112,
   "metadata": {
    "deletable": false,
    "editable": false,
    "nbgrader": {
     "grade": false,
     "grade_id": "cell-ce64ab16d825c70a",
     "locked": true,
     "schema_version": 3,
     "solution": false,
     "task": false
    }
   },
   "outputs": [
    {
     "data": {
      "text/plain": [
       "hotel                                      0\n",
       "is_canceled                                0\n",
       "lead_time                                  0\n",
       "stays_in_weekend_nights                    0\n",
       "stays_in_week_nights                       0\n",
       "adults                                     0\n",
       "is_repeated_guest                          0\n",
       "previous_cancellations                     0\n",
       "agent                                  16340\n",
       "adr                                        0\n",
       "total_of_special_requests                  0\n",
       "reservation_status                         0\n",
       "arrival_date_month                         0\n",
       "arrival_date_day                           0\n",
       "arrival_date_year                          0\n",
       "arrival_date_week_number                   0\n",
       "reservation_status_date_day                0\n",
       "reservation_status_date_month              0\n",
       "reservation_status_date_year               0\n",
       "reservation_status_date_week_number        0\n",
       "dtype: int64"
      ]
     },
     "execution_count": 112,
     "metadata": {},
     "output_type": "execute_result"
    }
   ],
   "source": [
    "np.sum(clean_status_date.isnull())"
   ]
  },
  {
   "cell_type": "markdown",
   "metadata": {
    "deletable": false,
    "editable": false,
    "nbgrader": {
     "grade": false,
     "grade_id": "cell-353131a991a26281",
     "locked": true,
     "schema_version": 3,
     "solution": false,
     "task": false
    }
   },
   "source": [
    "There's over 16000 missing values in the `agent` column, representing over 10% of the total observations and we need to do something about it. \n",
    "\n",
    "Usually if more than 70% of values in a column are missing and there is no way to fill in the missing values, then the column can be dropped completely from the dataset. Our `agent` column is a categorical variable that represents the ID of the travel agency that made the booking. We can fill out the missing values with a new category named `unknown`.\n",
    "\n",
    "Create a new function named `impute_agents` that does exactly that."
   ]
  },
  {
   "cell_type": "code",
   "execution_count": 113,
   "metadata": {
    "deletable": false,
    "nbgrader": {
     "grade": false,
     "grade_id": "cell-d68349ea8576483b",
     "locked": false,
     "schema_version": 3,
     "solution": true,
     "task": false
    }
   },
   "outputs": [],
   "source": [
    "def impute_agents(df: pd.DataFrame)->pd.DataFrame:\n",
    "    \"\"\"\n",
    "    This function cleans imputs the missing values in the agents column with a new category\n",
    "    \"\"\"\n",
    "    # copy the dataframe\n",
    "    _df = df.copy()\n",
    "    \n",
    "    # fill the missing values with \"unknown\"\n",
    "    _df['agent'] = _df.agent.fillna('unknown')\n",
    "    \n",
    "    return _df\n",
    "    \n",
    "    # YOUR CODE HERE\n",
    "    #raise NotImplementedError()\n"
   ]
  },
  {
   "cell_type": "code",
   "execution_count": 114,
   "metadata": {
    "deletable": false,
    "editable": false,
    "nbgrader": {
     "grade": true,
     "grade_id": "cell-9f1a5fbc7a6ae9af",
     "locked": true,
     "points": 1,
     "schema_version": 3,
     "solution": false,
     "task": false
    }
   },
   "outputs": [
    {
     "ename": "AssertionError",
     "evalue": "Something is wrong with your data imputation",
     "output_type": "error",
     "traceback": [
      "\u001b[0;31m---------------------------------------------------------------------------\u001b[0m",
      "\u001b[0;31mAssertionError\u001b[0m                            Traceback (most recent call last)",
      "\u001b[0;32m<ipython-input-114-4337d8109efe>\u001b[0m in \u001b[0;36m<module>\u001b[0;34m\u001b[0m\n\u001b[1;32m      1\u001b[0m \u001b[0mimputed_df\u001b[0m \u001b[0;34m=\u001b[0m \u001b[0mimpute_agents\u001b[0m\u001b[0;34m(\u001b[0m\u001b[0mclean_status_date\u001b[0m\u001b[0;34m)\u001b[0m\u001b[0;34m\u001b[0m\u001b[0;34m\u001b[0m\u001b[0m\n\u001b[1;32m      2\u001b[0m \u001b[0;32massert\u001b[0m \u001b[0misinstance\u001b[0m\u001b[0;34m(\u001b[0m\u001b[0mimputed_df\u001b[0m\u001b[0;34m,\u001b[0m \u001b[0mpd\u001b[0m\u001b[0;34m.\u001b[0m\u001b[0mDataFrame\u001b[0m\u001b[0;34m)\u001b[0m\u001b[0;34m,\u001b[0m \u001b[0;34m\"Should be a dataframe\"\u001b[0m\u001b[0;34m\u001b[0m\u001b[0;34m\u001b[0m\u001b[0m\n\u001b[0;32m----> 3\u001b[0;31m \u001b[0;32massert\u001b[0m \u001b[0mhashlib\u001b[0m\u001b[0;34m.\u001b[0m\u001b[0msha256\u001b[0m\u001b[0;34m(\u001b[0m\u001b[0mjson\u001b[0m\u001b[0;34m.\u001b[0m\u001b[0mdumps\u001b[0m\u001b[0;34m(\u001b[0m\u001b[0mstr\u001b[0m\u001b[0;34m(\u001b[0m\u001b[0mimputed_df\u001b[0m\u001b[0;34m.\u001b[0m\u001b[0magent\u001b[0m\u001b[0;34m)\u001b[0m\u001b[0;34m)\u001b[0m\u001b[0;34m.\u001b[0m\u001b[0mencode\u001b[0m\u001b[0;34m(\u001b[0m\u001b[0;34m)\u001b[0m\u001b[0;34m)\u001b[0m\u001b[0;34m.\u001b[0m\u001b[0mhexdigest\u001b[0m\u001b[0;34m(\u001b[0m\u001b[0;34m)\u001b[0m \u001b[0;34m==\u001b[0m \u001b[0;34m'e88eaebe8668246fc74259c12ea8e38311c86ec96a73e2a8de26eb30bb7aefb9'\u001b[0m\u001b[0;34m,\u001b[0m \u001b[0;34m\"Something is wrong with your data imputation\"\u001b[0m\u001b[0;34m\u001b[0m\u001b[0;34m\u001b[0m\u001b[0m\n\u001b[0m\u001b[1;32m      4\u001b[0m \u001b[0;32massert\u001b[0m \u001b[0mhashlib\u001b[0m\u001b[0;34m.\u001b[0m\u001b[0msha256\u001b[0m\u001b[0;34m(\u001b[0m\u001b[0mjson\u001b[0m\u001b[0;34m.\u001b[0m\u001b[0mdumps\u001b[0m\u001b[0;34m(\u001b[0m\u001b[0msorted\u001b[0m\u001b[0;34m(\u001b[0m\u001b[0mimputed_df\u001b[0m\u001b[0;34m.\u001b[0m\u001b[0magent\u001b[0m\u001b[0;34m[\u001b[0m\u001b[0mimputed_df\u001b[0m\u001b[0;34m.\u001b[0m\u001b[0magent\u001b[0m \u001b[0;34m==\u001b[0m \u001b[0;34m'unknown'\u001b[0m\u001b[0;34m]\u001b[0m\u001b[0;34m.\u001b[0m\u001b[0mindex\u001b[0m\u001b[0;34m)\u001b[0m\u001b[0;34m)\u001b[0m\u001b[0;34m.\u001b[0m\u001b[0mencode\u001b[0m\u001b[0;34m(\u001b[0m\u001b[0;34m)\u001b[0m\u001b[0;34m)\u001b[0m\u001b[0;34m.\u001b[0m\u001b[0mhexdigest\u001b[0m\u001b[0;34m(\u001b[0m\u001b[0;34m)\u001b[0m \u001b[0;34m==\u001b[0m \u001b[0;34m'cccf60b5fae5bc38bc21b3f899b7bc47e18053fc5d90a0ac9cb6b8770b3c5921'\u001b[0m\u001b[0;34m\u001b[0m\u001b[0;34m\u001b[0m\u001b[0m\n",
      "\u001b[0;31mAssertionError\u001b[0m: Something is wrong with your data imputation"
     ]
    }
   ],
   "source": [
    "imputed_df = impute_agents(clean_status_date) \n",
    "assert isinstance(imputed_df, pd.DataFrame), \"Should be a dataframe\"\n",
    "assert hashlib.sha256(json.dumps(str(imputed_df.agent)).encode()).hexdigest() == 'e88eaebe8668246fc74259c12ea8e38311c86ec96a73e2a8de26eb30bb7aefb9', \"Something is wrong with your data imputation\" \n",
    "assert hashlib.sha256(json.dumps(sorted(imputed_df.agent[imputed_df.agent == 'unknown'].index)).encode()).hexdigest() == 'cccf60b5fae5bc38bc21b3f899b7bc47e18053fc5d90a0ac9cb6b8770b3c5921'"
   ]
  },
  {
   "cell_type": "code",
   "execution_count": 116,
   "metadata": {},
   "outputs": [
    {
     "data": {
      "text/plain": [
       "hotel                                  0\n",
       "is_canceled                            0\n",
       "lead_time                              0\n",
       "stays_in_weekend_nights                0\n",
       "stays_in_week_nights                   0\n",
       "adults                                 0\n",
       "is_repeated_guest                      0\n",
       "previous_cancellations                 0\n",
       "agent                                  0\n",
       "adr                                    0\n",
       "total_of_special_requests              0\n",
       "reservation_status                     0\n",
       "arrival_date_month                     0\n",
       "arrival_date_day                       0\n",
       "arrival_date_year                      0\n",
       "arrival_date_week_number               0\n",
       "reservation_status_date_day            0\n",
       "reservation_status_date_month          0\n",
       "reservation_status_date_year           0\n",
       "reservation_status_date_week_number    0\n",
       "dtype: int64"
      ]
     },
     "execution_count": 116,
     "metadata": {},
     "output_type": "execute_result"
    }
   ],
   "source": [
    "np.sum(imputed_df.isnull())"
   ]
  },
  {
   "cell_type": "markdown",
   "metadata": {
    "deletable": false,
    "editable": false,
    "nbgrader": {
     "grade": false,
     "grade_id": "cell-1104cbd5e6c54200",
     "locked": true,
     "schema_version": 3,
     "solution": false,
     "task": false
    }
   },
   "source": [
    "## Exercise 3 - Drop duplicates\n",
    "\n",
    "Lastly, the last thing you need to ensure is that you're dataset doesn't have any duplicated data!\n",
    "Create a short function to do just that!"
   ]
  },
  {
   "cell_type": "code",
   "execution_count": 117,
   "metadata": {
    "deletable": false,
    "nbgrader": {
     "grade": false,
     "grade_id": "cell-f5a89d600ba6117e",
     "locked": false,
     "schema_version": 3,
     "solution": true,
     "task": false
    }
   },
   "outputs": [],
   "source": [
    "def drop_duplicated_entries(df: pd.DataFrame)->pd.DataFrame:\n",
    "    \"\"\"\n",
    "    This function drops duplicates\n",
    "    \"\"\"\n",
    "    # copy the dataframe\n",
    "    _df = df.copy()\n",
    "    \n",
    "    # drop duplicates\n",
    "    _df = _df.drop_duplicates()\n",
    "    \n",
    "    return _df\n",
    "    \n",
    "    # YOUR CODE HERE\n",
    "    #raise NotImplementedError()\n",
    "    "
   ]
  },
  {
   "cell_type": "code",
   "execution_count": 118,
   "metadata": {
    "deletable": false,
    "editable": false,
    "nbgrader": {
     "grade": true,
     "grade_id": "cell-922e485e37aa2f9f",
     "locked": true,
     "points": 1,
     "schema_version": 3,
     "solution": false,
     "task": false
    }
   },
   "outputs": [],
   "source": [
    "clean_crset_df = drop_duplicated_entries(imputed_df)\n",
    "assert isinstance(clean_crset_df, pd.DataFrame), \"Should be a dataframe\"\n",
    "assert clean_crset_df.shape == (82870, 20), \"The shape of the dataframe is different then expected. Have you removed the duplicated rows?\" "
   ]
  },
  {
   "cell_type": "markdown",
   "metadata": {
    "deletable": false,
    "editable": false,
    "nbgrader": {
     "grade": false,
     "grade_id": "cell-30d6a0e2608a4104",
     "locked": true,
     "schema_version": 3,
     "solution": false,
     "task": false
    }
   },
   "source": [
    "Congratulations! The *CRSet() Hotel* dataset is looking very clean and tidy!\n",
    "![cr7](https://static.toiimg.com/thumb/msid-78693940,width-1200,height-900,resizemode-4/.jpg)"
   ]
  },
  {
   "cell_type": "markdown",
   "metadata": {
    "deletable": false,
    "editable": false,
    "nbgrader": {
     "grade": false,
     "grade_id": "cell-c6502825d7d92e1b",
     "locked": true,
     "schema_version": 3,
     "solution": false,
     "task": false
    }
   },
   "source": [
    "## A mess to be tidy-up\n",
    "\n",
    "After nailing your first task, your manager things you're ready to face your next challenge! A World Health Organization (WHO) has been recording all the cases of tuberculosis as a way to monitor the incidency of disease in several countries over time. They have good intentions, but not very good methods to store data. Your manager warns you to prepare yourself...\n",
    "\n",
    "Let's look at the data."
   ]
  },
  {
   "cell_type": "code",
   "execution_count": 131,
   "metadata": {
    "deletable": false,
    "editable": false,
    "nbgrader": {
     "grade": false,
     "grade_id": "cell-a9540248bf5e9462",
     "locked": true,
     "schema_version": 3,
     "solution": false,
     "task": false
    }
   },
   "outputs": [
    {
     "data": {
      "text/html": [
       "<div>\n",
       "<style scoped>\n",
       "    .dataframe tbody tr th:only-of-type {\n",
       "        vertical-align: middle;\n",
       "    }\n",
       "\n",
       "    .dataframe tbody tr th {\n",
       "        vertical-align: top;\n",
       "    }\n",
       "\n",
       "    .dataframe thead th {\n",
       "        text-align: right;\n",
       "    }\n",
       "</style>\n",
       "<table border=\"1\" class=\"dataframe\">\n",
       "  <thead>\n",
       "    <tr style=\"text-align: right;\">\n",
       "      <th></th>\n",
       "      <th>iso2</th>\n",
       "      <th>year</th>\n",
       "      <th>new_sp</th>\n",
       "      <th>new_sp_m04</th>\n",
       "      <th>new_sp_m514</th>\n",
       "      <th>new_sp_m014</th>\n",
       "      <th>new_sp_m1524</th>\n",
       "      <th>new_sp_m2534</th>\n",
       "      <th>new_sp_m3544</th>\n",
       "      <th>new_sp_m4554</th>\n",
       "      <th>...</th>\n",
       "      <th>new_sp_f04</th>\n",
       "      <th>new_sp_f514</th>\n",
       "      <th>new_sp_f014</th>\n",
       "      <th>new_sp_f1524</th>\n",
       "      <th>new_sp_f2534</th>\n",
       "      <th>new_sp_f3544</th>\n",
       "      <th>new_sp_f4554</th>\n",
       "      <th>new_sp_f5564</th>\n",
       "      <th>new_sp_f65</th>\n",
       "      <th>new_sp_fu</th>\n",
       "    </tr>\n",
       "  </thead>\n",
       "  <tbody>\n",
       "    <tr>\n",
       "      <th>0</th>\n",
       "      <td>AD</td>\n",
       "      <td>1989</td>\n",
       "      <td>NaN</td>\n",
       "      <td>NaN</td>\n",
       "      <td>NaN</td>\n",
       "      <td>NaN</td>\n",
       "      <td>NaN</td>\n",
       "      <td>NaN</td>\n",
       "      <td>NaN</td>\n",
       "      <td>NaN</td>\n",
       "      <td>...</td>\n",
       "      <td>NaN</td>\n",
       "      <td>NaN</td>\n",
       "      <td>NaN</td>\n",
       "      <td>NaN</td>\n",
       "      <td>NaN</td>\n",
       "      <td>NaN</td>\n",
       "      <td>NaN</td>\n",
       "      <td>NaN</td>\n",
       "      <td>NaN</td>\n",
       "      <td>NaN</td>\n",
       "    </tr>\n",
       "    <tr>\n",
       "      <th>1</th>\n",
       "      <td>AD</td>\n",
       "      <td>1990</td>\n",
       "      <td>NaN</td>\n",
       "      <td>NaN</td>\n",
       "      <td>NaN</td>\n",
       "      <td>NaN</td>\n",
       "      <td>NaN</td>\n",
       "      <td>NaN</td>\n",
       "      <td>NaN</td>\n",
       "      <td>NaN</td>\n",
       "      <td>...</td>\n",
       "      <td>NaN</td>\n",
       "      <td>NaN</td>\n",
       "      <td>NaN</td>\n",
       "      <td>NaN</td>\n",
       "      <td>NaN</td>\n",
       "      <td>NaN</td>\n",
       "      <td>NaN</td>\n",
       "      <td>NaN</td>\n",
       "      <td>NaN</td>\n",
       "      <td>NaN</td>\n",
       "    </tr>\n",
       "    <tr>\n",
       "      <th>2</th>\n",
       "      <td>AD</td>\n",
       "      <td>1991</td>\n",
       "      <td>NaN</td>\n",
       "      <td>NaN</td>\n",
       "      <td>NaN</td>\n",
       "      <td>NaN</td>\n",
       "      <td>NaN</td>\n",
       "      <td>NaN</td>\n",
       "      <td>NaN</td>\n",
       "      <td>NaN</td>\n",
       "      <td>...</td>\n",
       "      <td>NaN</td>\n",
       "      <td>NaN</td>\n",
       "      <td>NaN</td>\n",
       "      <td>NaN</td>\n",
       "      <td>NaN</td>\n",
       "      <td>NaN</td>\n",
       "      <td>NaN</td>\n",
       "      <td>NaN</td>\n",
       "      <td>NaN</td>\n",
       "      <td>NaN</td>\n",
       "    </tr>\n",
       "    <tr>\n",
       "      <th>3</th>\n",
       "      <td>AD</td>\n",
       "      <td>1992</td>\n",
       "      <td>NaN</td>\n",
       "      <td>NaN</td>\n",
       "      <td>NaN</td>\n",
       "      <td>NaN</td>\n",
       "      <td>NaN</td>\n",
       "      <td>NaN</td>\n",
       "      <td>NaN</td>\n",
       "      <td>NaN</td>\n",
       "      <td>...</td>\n",
       "      <td>NaN</td>\n",
       "      <td>NaN</td>\n",
       "      <td>NaN</td>\n",
       "      <td>NaN</td>\n",
       "      <td>NaN</td>\n",
       "      <td>NaN</td>\n",
       "      <td>NaN</td>\n",
       "      <td>NaN</td>\n",
       "      <td>NaN</td>\n",
       "      <td>NaN</td>\n",
       "    </tr>\n",
       "    <tr>\n",
       "      <th>4</th>\n",
       "      <td>AD</td>\n",
       "      <td>1993</td>\n",
       "      <td>15.0</td>\n",
       "      <td>NaN</td>\n",
       "      <td>NaN</td>\n",
       "      <td>NaN</td>\n",
       "      <td>NaN</td>\n",
       "      <td>NaN</td>\n",
       "      <td>NaN</td>\n",
       "      <td>NaN</td>\n",
       "      <td>...</td>\n",
       "      <td>NaN</td>\n",
       "      <td>NaN</td>\n",
       "      <td>NaN</td>\n",
       "      <td>NaN</td>\n",
       "      <td>NaN</td>\n",
       "      <td>NaN</td>\n",
       "      <td>NaN</td>\n",
       "      <td>NaN</td>\n",
       "      <td>NaN</td>\n",
       "      <td>NaN</td>\n",
       "    </tr>\n",
       "  </tbody>\n",
       "</table>\n",
       "<p>5 rows × 23 columns</p>\n",
       "</div>"
      ],
      "text/plain": [
       "  iso2  year  new_sp  new_sp_m04  new_sp_m514  new_sp_m014  new_sp_m1524  \\\n",
       "0   AD  1989     NaN         NaN          NaN          NaN           NaN   \n",
       "1   AD  1990     NaN         NaN          NaN          NaN           NaN   \n",
       "2   AD  1991     NaN         NaN          NaN          NaN           NaN   \n",
       "3   AD  1992     NaN         NaN          NaN          NaN           NaN   \n",
       "4   AD  1993    15.0         NaN          NaN          NaN           NaN   \n",
       "\n",
       "   new_sp_m2534  new_sp_m3544  new_sp_m4554  ...  new_sp_f04  new_sp_f514  \\\n",
       "0           NaN           NaN           NaN  ...         NaN          NaN   \n",
       "1           NaN           NaN           NaN  ...         NaN          NaN   \n",
       "2           NaN           NaN           NaN  ...         NaN          NaN   \n",
       "3           NaN           NaN           NaN  ...         NaN          NaN   \n",
       "4           NaN           NaN           NaN  ...         NaN          NaN   \n",
       "\n",
       "   new_sp_f014  new_sp_f1524  new_sp_f2534  new_sp_f3544  new_sp_f4554  \\\n",
       "0          NaN           NaN           NaN           NaN           NaN   \n",
       "1          NaN           NaN           NaN           NaN           NaN   \n",
       "2          NaN           NaN           NaN           NaN           NaN   \n",
       "3          NaN           NaN           NaN           NaN           NaN   \n",
       "4          NaN           NaN           NaN           NaN           NaN   \n",
       "\n",
       "   new_sp_f5564  new_sp_f65  new_sp_fu  \n",
       "0           NaN         NaN        NaN  \n",
       "1           NaN         NaN        NaN  \n",
       "2           NaN         NaN        NaN  \n",
       "3           NaN         NaN        NaN  \n",
       "4           NaN         NaN        NaN  \n",
       "\n",
       "[5 rows x 23 columns]"
      ]
     },
     "execution_count": 131,
     "metadata": {},
     "output_type": "execute_result"
    }
   ],
   "source": [
    "df_tb_who = pd.read_csv(os.path.join('data', 'tb.csv'), sep=',')\n",
    "df_tb_who.head()"
   ]
  },
  {
   "cell_type": "markdown",
   "metadata": {
    "deletable": false,
    "editable": false,
    "nbgrader": {
     "grade": false,
     "grade_id": "cell-6ca615b5895620ad",
     "locked": true,
     "schema_version": 3,
     "solution": false,
     "task": false
    }
   },
   "source": [
    "According to your data provider (the WHO), the dataset contains counts of confirmed tuberculosis cases by **country**, **year** and **demographic group**. The demographic data contains information on sex (*m* for male and *f* for female)  and age (*0-14, 15-24, 25-34, 35-44, 45-54, 55-64* and *65+*). "
   ]
  },
  {
   "cell_type": "markdown",
   "metadata": {
    "deletable": false,
    "editable": false,
    "nbgrader": {
     "grade": false,
     "grade_id": "cell-a98e3be81938db57",
     "locked": true,
     "schema_version": 3,
     "solution": false,
     "task": false
    }
   },
   "source": [
    "![tb](https://i.pinimg.com/originals/59/b4/35/59b4358ac8b3251a52d76c65cad0ee44.jpg)"
   ]
  },
  {
   "cell_type": "markdown",
   "metadata": {
    "deletable": false,
    "editable": false,
    "nbgrader": {
     "grade": false,
     "grade_id": "cell-6ea5fab94cdecf39",
     "locked": true,
     "schema_version": 3,
     "solution": false,
     "task": false
    }
   },
   "source": [
    "You have the data, in the `df_tb_who` variable, as provided. Except for the column `year`, the rest of the column names are not very intuitive. The column `iso2` contains the country code in *iso2 format*. The remaining columns are actually joint realizations of two variables: `sex` and `age`."
   ]
  },
  {
   "cell_type": "markdown",
   "metadata": {},
   "source": [
    "## Exercise 4 - Country \n",
    "\n",
    "Start by addressing the `iso2` column. Save in a new `country` column the corresponding country name from the iso2 code. *Hint* The pycountry-convert package is your friend! Check the documentation [here](https://pypi.org/project/pycountry-convert/). It's already imported as `cc`. Save the resulting dataframe in `df_tb_who_country`."
   ]
  },
  {
   "cell_type": "code",
   "execution_count": 132,
   "metadata": {
    "deletable": false,
    "nbgrader": {
     "grade": false,
     "grade_id": "cell-c70d7302fbae72b0",
     "locked": false,
     "schema_version": 3,
     "solution": true,
     "task": false
    }
   },
   "outputs": [],
   "source": [
    "#start by creating a function that recieves a iso2 code and returns the country name \n",
    "#hint: when a name can't be retrieved, the original code should be returned, as str\n",
    "#hint2: make sure to return the value as a string! \n",
    "def get_country(x):\n",
    "        try:\n",
    "            return cc.country_alpha2_to_country_name(str(x))\n",
    "        except:\n",
    "            return str(x)\n",
    "\n",
    "    \n",
    "# copy the dataframe\n",
    "_df = df_tb_who.copy()\n",
    "    \n",
    "    \n",
    "    \n",
    "\n",
    "# apply the `get_country()` function and store the results in a new column named \"country\"\n",
    "_df['country'] = _df.iso2.apply(lambda row: get_country(row))\n",
    "\n",
    "# drop the original \"iso2\" column and store the resulting dataframe in df_tb_who_country\n",
    "df_tb_who_country = _df.drop('iso2', axis=1)\n",
    " \n",
    "\n",
    "# YOUR CODE HERE\n",
    "#raise NotImplementedError()"
   ]
  },
  {
   "cell_type": "code",
   "execution_count": 134,
   "metadata": {},
   "outputs": [
    {
     "data": {
      "text/html": [
       "<div>\n",
       "<style scoped>\n",
       "    .dataframe tbody tr th:only-of-type {\n",
       "        vertical-align: middle;\n",
       "    }\n",
       "\n",
       "    .dataframe tbody tr th {\n",
       "        vertical-align: top;\n",
       "    }\n",
       "\n",
       "    .dataframe thead th {\n",
       "        text-align: right;\n",
       "    }\n",
       "</style>\n",
       "<table border=\"1\" class=\"dataframe\">\n",
       "  <thead>\n",
       "    <tr style=\"text-align: right;\">\n",
       "      <th></th>\n",
       "      <th>year</th>\n",
       "      <th>new_sp</th>\n",
       "      <th>new_sp_m04</th>\n",
       "      <th>new_sp_m514</th>\n",
       "      <th>new_sp_m014</th>\n",
       "      <th>new_sp_m1524</th>\n",
       "      <th>new_sp_m2534</th>\n",
       "      <th>new_sp_m3544</th>\n",
       "      <th>new_sp_m4554</th>\n",
       "      <th>new_sp_m5564</th>\n",
       "      <th>...</th>\n",
       "      <th>new_sp_f514</th>\n",
       "      <th>new_sp_f014</th>\n",
       "      <th>new_sp_f1524</th>\n",
       "      <th>new_sp_f2534</th>\n",
       "      <th>new_sp_f3544</th>\n",
       "      <th>new_sp_f4554</th>\n",
       "      <th>new_sp_f5564</th>\n",
       "      <th>new_sp_f65</th>\n",
       "      <th>new_sp_fu</th>\n",
       "      <th>country</th>\n",
       "    </tr>\n",
       "  </thead>\n",
       "  <tbody>\n",
       "    <tr>\n",
       "      <th>0</th>\n",
       "      <td>1989</td>\n",
       "      <td>NaN</td>\n",
       "      <td>NaN</td>\n",
       "      <td>NaN</td>\n",
       "      <td>NaN</td>\n",
       "      <td>NaN</td>\n",
       "      <td>NaN</td>\n",
       "      <td>NaN</td>\n",
       "      <td>NaN</td>\n",
       "      <td>NaN</td>\n",
       "      <td>...</td>\n",
       "      <td>NaN</td>\n",
       "      <td>NaN</td>\n",
       "      <td>NaN</td>\n",
       "      <td>NaN</td>\n",
       "      <td>NaN</td>\n",
       "      <td>NaN</td>\n",
       "      <td>NaN</td>\n",
       "      <td>NaN</td>\n",
       "      <td>NaN</td>\n",
       "      <td>Andorra</td>\n",
       "    </tr>\n",
       "    <tr>\n",
       "      <th>1</th>\n",
       "      <td>1990</td>\n",
       "      <td>NaN</td>\n",
       "      <td>NaN</td>\n",
       "      <td>NaN</td>\n",
       "      <td>NaN</td>\n",
       "      <td>NaN</td>\n",
       "      <td>NaN</td>\n",
       "      <td>NaN</td>\n",
       "      <td>NaN</td>\n",
       "      <td>NaN</td>\n",
       "      <td>...</td>\n",
       "      <td>NaN</td>\n",
       "      <td>NaN</td>\n",
       "      <td>NaN</td>\n",
       "      <td>NaN</td>\n",
       "      <td>NaN</td>\n",
       "      <td>NaN</td>\n",
       "      <td>NaN</td>\n",
       "      <td>NaN</td>\n",
       "      <td>NaN</td>\n",
       "      <td>Andorra</td>\n",
       "    </tr>\n",
       "    <tr>\n",
       "      <th>2</th>\n",
       "      <td>1991</td>\n",
       "      <td>NaN</td>\n",
       "      <td>NaN</td>\n",
       "      <td>NaN</td>\n",
       "      <td>NaN</td>\n",
       "      <td>NaN</td>\n",
       "      <td>NaN</td>\n",
       "      <td>NaN</td>\n",
       "      <td>NaN</td>\n",
       "      <td>NaN</td>\n",
       "      <td>...</td>\n",
       "      <td>NaN</td>\n",
       "      <td>NaN</td>\n",
       "      <td>NaN</td>\n",
       "      <td>NaN</td>\n",
       "      <td>NaN</td>\n",
       "      <td>NaN</td>\n",
       "      <td>NaN</td>\n",
       "      <td>NaN</td>\n",
       "      <td>NaN</td>\n",
       "      <td>Andorra</td>\n",
       "    </tr>\n",
       "    <tr>\n",
       "      <th>3</th>\n",
       "      <td>1992</td>\n",
       "      <td>NaN</td>\n",
       "      <td>NaN</td>\n",
       "      <td>NaN</td>\n",
       "      <td>NaN</td>\n",
       "      <td>NaN</td>\n",
       "      <td>NaN</td>\n",
       "      <td>NaN</td>\n",
       "      <td>NaN</td>\n",
       "      <td>NaN</td>\n",
       "      <td>...</td>\n",
       "      <td>NaN</td>\n",
       "      <td>NaN</td>\n",
       "      <td>NaN</td>\n",
       "      <td>NaN</td>\n",
       "      <td>NaN</td>\n",
       "      <td>NaN</td>\n",
       "      <td>NaN</td>\n",
       "      <td>NaN</td>\n",
       "      <td>NaN</td>\n",
       "      <td>Andorra</td>\n",
       "    </tr>\n",
       "    <tr>\n",
       "      <th>4</th>\n",
       "      <td>1993</td>\n",
       "      <td>15.0</td>\n",
       "      <td>NaN</td>\n",
       "      <td>NaN</td>\n",
       "      <td>NaN</td>\n",
       "      <td>NaN</td>\n",
       "      <td>NaN</td>\n",
       "      <td>NaN</td>\n",
       "      <td>NaN</td>\n",
       "      <td>NaN</td>\n",
       "      <td>...</td>\n",
       "      <td>NaN</td>\n",
       "      <td>NaN</td>\n",
       "      <td>NaN</td>\n",
       "      <td>NaN</td>\n",
       "      <td>NaN</td>\n",
       "      <td>NaN</td>\n",
       "      <td>NaN</td>\n",
       "      <td>NaN</td>\n",
       "      <td>NaN</td>\n",
       "      <td>Andorra</td>\n",
       "    </tr>\n",
       "    <tr>\n",
       "      <th>...</th>\n",
       "      <td>...</td>\n",
       "      <td>...</td>\n",
       "      <td>...</td>\n",
       "      <td>...</td>\n",
       "      <td>...</td>\n",
       "      <td>...</td>\n",
       "      <td>...</td>\n",
       "      <td>...</td>\n",
       "      <td>...</td>\n",
       "      <td>...</td>\n",
       "      <td>...</td>\n",
       "      <td>...</td>\n",
       "      <td>...</td>\n",
       "      <td>...</td>\n",
       "      <td>...</td>\n",
       "      <td>...</td>\n",
       "      <td>...</td>\n",
       "      <td>...</td>\n",
       "      <td>...</td>\n",
       "      <td>...</td>\n",
       "      <td>...</td>\n",
       "    </tr>\n",
       "    <tr>\n",
       "      <th>5764</th>\n",
       "      <td>2004</td>\n",
       "      <td>14581.0</td>\n",
       "      <td>NaN</td>\n",
       "      <td>NaN</td>\n",
       "      <td>187.0</td>\n",
       "      <td>833.0</td>\n",
       "      <td>2908.0</td>\n",
       "      <td>2298.0</td>\n",
       "      <td>1056.0</td>\n",
       "      <td>366.0</td>\n",
       "      <td>...</td>\n",
       "      <td>NaN</td>\n",
       "      <td>225.0</td>\n",
       "      <td>1140.0</td>\n",
       "      <td>2858.0</td>\n",
       "      <td>1565.0</td>\n",
       "      <td>622.0</td>\n",
       "      <td>214.0</td>\n",
       "      <td>111.0</td>\n",
       "      <td>NaN</td>\n",
       "      <td>Zimbabwe</td>\n",
       "    </tr>\n",
       "    <tr>\n",
       "      <th>5765</th>\n",
       "      <td>2005</td>\n",
       "      <td>13155.0</td>\n",
       "      <td>NaN</td>\n",
       "      <td>NaN</td>\n",
       "      <td>210.0</td>\n",
       "      <td>837.0</td>\n",
       "      <td>2264.0</td>\n",
       "      <td>1855.0</td>\n",
       "      <td>762.0</td>\n",
       "      <td>295.0</td>\n",
       "      <td>...</td>\n",
       "      <td>NaN</td>\n",
       "      <td>269.0</td>\n",
       "      <td>1136.0</td>\n",
       "      <td>2242.0</td>\n",
       "      <td>1255.0</td>\n",
       "      <td>578.0</td>\n",
       "      <td>193.0</td>\n",
       "      <td>603.0</td>\n",
       "      <td>NaN</td>\n",
       "      <td>Zimbabwe</td>\n",
       "    </tr>\n",
       "    <tr>\n",
       "      <th>5766</th>\n",
       "      <td>2006</td>\n",
       "      <td>12718.0</td>\n",
       "      <td>NaN</td>\n",
       "      <td>NaN</td>\n",
       "      <td>215.0</td>\n",
       "      <td>736.0</td>\n",
       "      <td>2391.0</td>\n",
       "      <td>1939.0</td>\n",
       "      <td>896.0</td>\n",
       "      <td>348.0</td>\n",
       "      <td>...</td>\n",
       "      <td>NaN</td>\n",
       "      <td>237.0</td>\n",
       "      <td>1020.0</td>\n",
       "      <td>2424.0</td>\n",
       "      <td>1355.0</td>\n",
       "      <td>632.0</td>\n",
       "      <td>230.0</td>\n",
       "      <td>96.0</td>\n",
       "      <td>NaN</td>\n",
       "      <td>Zimbabwe</td>\n",
       "    </tr>\n",
       "    <tr>\n",
       "      <th>5767</th>\n",
       "      <td>2007</td>\n",
       "      <td>10583.0</td>\n",
       "      <td>6.0</td>\n",
       "      <td>132.0</td>\n",
       "      <td>138.0</td>\n",
       "      <td>500.0</td>\n",
       "      <td>3693.0</td>\n",
       "      <td>0.0</td>\n",
       "      <td>716.0</td>\n",
       "      <td>292.0</td>\n",
       "      <td>...</td>\n",
       "      <td>178.0</td>\n",
       "      <td>185.0</td>\n",
       "      <td>739.0</td>\n",
       "      <td>3311.0</td>\n",
       "      <td>0.0</td>\n",
       "      <td>553.0</td>\n",
       "      <td>213.0</td>\n",
       "      <td>90.0</td>\n",
       "      <td>NaN</td>\n",
       "      <td>Zimbabwe</td>\n",
       "    </tr>\n",
       "    <tr>\n",
       "      <th>5768</th>\n",
       "      <td>2008</td>\n",
       "      <td>9830.0</td>\n",
       "      <td>NaN</td>\n",
       "      <td>NaN</td>\n",
       "      <td>127.0</td>\n",
       "      <td>614.0</td>\n",
       "      <td>0.0</td>\n",
       "      <td>3316.0</td>\n",
       "      <td>704.0</td>\n",
       "      <td>263.0</td>\n",
       "      <td>...</td>\n",
       "      <td>NaN</td>\n",
       "      <td>145.0</td>\n",
       "      <td>840.0</td>\n",
       "      <td>0.0</td>\n",
       "      <td>2890.0</td>\n",
       "      <td>467.0</td>\n",
       "      <td>174.0</td>\n",
       "      <td>105.0</td>\n",
       "      <td>0.0</td>\n",
       "      <td>Zimbabwe</td>\n",
       "    </tr>\n",
       "  </tbody>\n",
       "</table>\n",
       "<p>5769 rows × 23 columns</p>\n",
       "</div>"
      ],
      "text/plain": [
       "      year   new_sp  new_sp_m04  new_sp_m514  new_sp_m014  new_sp_m1524  \\\n",
       "0     1989      NaN         NaN          NaN          NaN           NaN   \n",
       "1     1990      NaN         NaN          NaN          NaN           NaN   \n",
       "2     1991      NaN         NaN          NaN          NaN           NaN   \n",
       "3     1992      NaN         NaN          NaN          NaN           NaN   \n",
       "4     1993     15.0         NaN          NaN          NaN           NaN   \n",
       "...    ...      ...         ...          ...          ...           ...   \n",
       "5764  2004  14581.0         NaN          NaN        187.0         833.0   \n",
       "5765  2005  13155.0         NaN          NaN        210.0         837.0   \n",
       "5766  2006  12718.0         NaN          NaN        215.0         736.0   \n",
       "5767  2007  10583.0         6.0        132.0        138.0         500.0   \n",
       "5768  2008   9830.0         NaN          NaN        127.0         614.0   \n",
       "\n",
       "      new_sp_m2534  new_sp_m3544  new_sp_m4554  new_sp_m5564  ...  \\\n",
       "0              NaN           NaN           NaN           NaN  ...   \n",
       "1              NaN           NaN           NaN           NaN  ...   \n",
       "2              NaN           NaN           NaN           NaN  ...   \n",
       "3              NaN           NaN           NaN           NaN  ...   \n",
       "4              NaN           NaN           NaN           NaN  ...   \n",
       "...            ...           ...           ...           ...  ...   \n",
       "5764        2908.0        2298.0        1056.0         366.0  ...   \n",
       "5765        2264.0        1855.0         762.0         295.0  ...   \n",
       "5766        2391.0        1939.0         896.0         348.0  ...   \n",
       "5767        3693.0           0.0         716.0         292.0  ...   \n",
       "5768           0.0        3316.0         704.0         263.0  ...   \n",
       "\n",
       "      new_sp_f514  new_sp_f014  new_sp_f1524  new_sp_f2534  new_sp_f3544  \\\n",
       "0             NaN          NaN           NaN           NaN           NaN   \n",
       "1             NaN          NaN           NaN           NaN           NaN   \n",
       "2             NaN          NaN           NaN           NaN           NaN   \n",
       "3             NaN          NaN           NaN           NaN           NaN   \n",
       "4             NaN          NaN           NaN           NaN           NaN   \n",
       "...           ...          ...           ...           ...           ...   \n",
       "5764          NaN        225.0        1140.0        2858.0        1565.0   \n",
       "5765          NaN        269.0        1136.0        2242.0        1255.0   \n",
       "5766          NaN        237.0        1020.0        2424.0        1355.0   \n",
       "5767        178.0        185.0         739.0        3311.0           0.0   \n",
       "5768          NaN        145.0         840.0           0.0        2890.0   \n",
       "\n",
       "      new_sp_f4554  new_sp_f5564  new_sp_f65  new_sp_fu   country  \n",
       "0              NaN           NaN         NaN        NaN   Andorra  \n",
       "1              NaN           NaN         NaN        NaN   Andorra  \n",
       "2              NaN           NaN         NaN        NaN   Andorra  \n",
       "3              NaN           NaN         NaN        NaN   Andorra  \n",
       "4              NaN           NaN         NaN        NaN   Andorra  \n",
       "...            ...           ...         ...        ...       ...  \n",
       "5764         622.0         214.0       111.0        NaN  Zimbabwe  \n",
       "5765         578.0         193.0       603.0        NaN  Zimbabwe  \n",
       "5766         632.0         230.0        96.0        NaN  Zimbabwe  \n",
       "5767         553.0         213.0        90.0        NaN  Zimbabwe  \n",
       "5768         467.0         174.0       105.0        0.0  Zimbabwe  \n",
       "\n",
       "[5769 rows x 23 columns]"
      ]
     },
     "execution_count": 134,
     "metadata": {},
     "output_type": "execute_result"
    }
   ],
   "source": [
    "df_tb_who_country"
   ]
  },
  {
   "cell_type": "code",
   "execution_count": 133,
   "metadata": {
    "deletable": false,
    "editable": false,
    "nbgrader": {
     "grade": true,
     "grade_id": "cell-78a9eaeaa51da8b0",
     "locked": true,
     "points": 2,
     "schema_version": 3,
     "solution": false,
     "task": false
    }
   },
   "outputs": [],
   "source": [
    "assert isinstance(df_tb_who_country, pd.DataFrame), \"Should be a dataframe\"\n",
    "assert 'iso2' not in df_tb_who_country.columns, \"you should drop the original iso2 column\"\n",
    "assert 'country' in df_tb_who_country.columns, \"Have you stored the results in a new column named 'country'?\"\n",
    "assert hashlib.sha256(json.dumps(sorted(df_tb_who_country['country'].unique())).encode()).hexdigest() == '40515e68a196feaac974999d8d4fa9f3dd814e1bde66243a968fadf41a8e84de', \"Have you converted the iso2 codes to the country NAME?\""
   ]
  },
  {
   "cell_type": "markdown",
   "metadata": {},
   "source": [
    "## Exercise 5 - the melt function\n",
    "\n",
    "Before we can do anything else, we need to \"tidy\" the dataframe. Use the function melt() from pandas to tidy the dataframe and store it in `tidy_tb`. Use as id the new `country` column and the `year` column. As variable name use `column` and as value names `cases`. \n"
   ]
  },
  {
   "cell_type": "code",
   "execution_count": 141,
   "metadata": {
    "deletable": false,
    "nbgrader": {
     "grade": false,
     "grade_id": "cell-6fd55136526d1de2",
     "locked": false,
     "schema_version": 3,
     "solution": true,
     "task": false
    }
   },
   "outputs": [],
   "source": [
    "value_vars = df_tb_who_country.columns[1:len(df_tb_who_country.columns)-1]\n",
    "#value_vars\n",
    "tidy_tb = pd.melt(df_tb_who_country, id_vars=['country', 'year'], value_vars=value_vars, var_name='column', value_name='cases')\n",
    "# YOUR CODE HERE\n",
    "#raise NotImplementedError()"
   ]
  },
  {
   "cell_type": "code",
   "execution_count": 142,
   "metadata": {
    "deletable": false,
    "editable": false,
    "nbgrader": {
     "grade": true,
     "grade_id": "cell-c7b7f19a19d6be01",
     "locked": true,
     "points": 2,
     "schema_version": 3,
     "solution": false,
     "task": false
    }
   },
   "outputs": [],
   "source": [
    "assert isinstance(tidy_tb, pd.DataFrame), \"Should be a dataframe\"\n",
    "assert tidy_tb.shape == (121149, 4), \"Your dataframe doesn't have the expected shape. Have you 'melted' the dataframe correctly?\"\n",
    "assert \"column\" in tidy_tb.columns, \"The variables other than 'country' and 'year' should be stored in a column named 'column'\"\n",
    "assert \"cases\" in tidy_tb.columns, \"Number of cases should be stored in a column named 'cases'\"\n",
    "assert hashlib.sha256(json.dumps(sorted(tidy_tb['column'])).encode()).hexdigest() == '4ba594d958d63b5bab87fe50944b16f30a93824e56fa331d5d9b59dddf285e35'\n",
    "assert hashlib.sha256(json.dumps(sorted(tidy_tb['cases'])).encode()).hexdigest() == '8a294cd49c8fc1b29b60893e45426a80cb9681be4c699ae950c7103552cc7153', \"Your cases column doesn't look as expected\""
   ]
  },
  {
   "cell_type": "markdown",
   "metadata": {
    "deletable": false,
    "editable": false,
    "nbgrader": {
     "grade": false,
     "grade_id": "cell-a3c6930dbf5b9ef6",
     "locked": true,
     "schema_version": 3,
     "solution": false,
     "task": false
    }
   },
   "source": [
    "## Exercise 6 - Data cleanup\n",
    "\n",
    "Our dataframe is tidy, but it's **not** clean. From the `tidy_tb` dataframe, drop all the rows where `cases` **OR** `country` is null, as we just don't have any information and we **cannot** assume that the number of cases is zero or the country of origin. The `cases` column should be set as *int*. Save the final dataframe in `clean_tidy_tb` sorted by `country`, `year` and then `column`. The indexes should be reset (with `drop=True`)."
   ]
  },
  {
   "cell_type": "code",
   "execution_count": 156,
   "metadata": {
    "deletable": false,
    "nbgrader": {
     "grade": false,
     "grade_id": "cell-9577b6eba97000ae",
     "locked": false,
     "schema_version": 3,
     "solution": true,
     "task": false
    }
   },
   "outputs": [
    {
     "data": {
      "text/plain": [
       "(38619, 4)"
      ]
     },
     "execution_count": 156,
     "metadata": {},
     "output_type": "execute_result"
    }
   ],
   "source": [
    "#Drop rows with missing values (hint: notnull() function is your friend)\n",
    "\n",
    "bool_series = pd.notnull(tidy_tb[\"cases\"])\n",
    "clean_tidy_tb = tidy_tb[bool_series]\n",
    "\n",
    "#clean_tidy_tb\n",
    "#tidy_tb\n",
    "# Set country as \"nan\" to missing and drop them\n",
    "clean_tidy_tb=clean_tidy_tb.drop(clean_tidy_tb[clean_tidy_tb.country=='nan'].index)\n",
    "\n",
    "#Sort and reset index\n",
    "clean_tidy_tb = clean_tidy_tb.sort_values(['country', 'year', 'column']).reset_index(drop=True)\n",
    "clean_tidy_tb.shape\n",
    "# YOUR CODE HERE\n",
    "#raise NotImplementedError()"
   ]
  },
  {
   "cell_type": "code",
   "execution_count": 158,
   "metadata": {},
   "outputs": [
    {
     "data": {
      "text/html": [
       "<div>\n",
       "<style scoped>\n",
       "    .dataframe tbody tr th:only-of-type {\n",
       "        vertical-align: middle;\n",
       "    }\n",
       "\n",
       "    .dataframe tbody tr th {\n",
       "        vertical-align: top;\n",
       "    }\n",
       "\n",
       "    .dataframe thead th {\n",
       "        text-align: right;\n",
       "    }\n",
       "</style>\n",
       "<table border=\"1\" class=\"dataframe\">\n",
       "  <thead>\n",
       "    <tr style=\"text-align: right;\">\n",
       "      <th></th>\n",
       "      <th>country</th>\n",
       "      <th>year</th>\n",
       "      <th>column</th>\n",
       "      <th>cases</th>\n",
       "    </tr>\n",
       "  </thead>\n",
       "  <tbody>\n",
       "    <tr>\n",
       "      <th>0</th>\n",
       "      <td>AN</td>\n",
       "      <td>1996</td>\n",
       "      <td>new_sp</td>\n",
       "      <td>3.0</td>\n",
       "    </tr>\n",
       "    <tr>\n",
       "      <th>1</th>\n",
       "      <td>AN</td>\n",
       "      <td>1996</td>\n",
       "      <td>new_sp_f014</td>\n",
       "      <td>0.0</td>\n",
       "    </tr>\n",
       "    <tr>\n",
       "      <th>2</th>\n",
       "      <td>AN</td>\n",
       "      <td>1996</td>\n",
       "      <td>new_sp_f1524</td>\n",
       "      <td>0.0</td>\n",
       "    </tr>\n",
       "    <tr>\n",
       "      <th>3</th>\n",
       "      <td>AN</td>\n",
       "      <td>1996</td>\n",
       "      <td>new_sp_f2534</td>\n",
       "      <td>0.0</td>\n",
       "    </tr>\n",
       "    <tr>\n",
       "      <th>4</th>\n",
       "      <td>AN</td>\n",
       "      <td>1996</td>\n",
       "      <td>new_sp_f3544</td>\n",
       "      <td>1.0</td>\n",
       "    </tr>\n",
       "    <tr>\n",
       "      <th>...</th>\n",
       "      <td>...</td>\n",
       "      <td>...</td>\n",
       "      <td>...</td>\n",
       "      <td>...</td>\n",
       "    </tr>\n",
       "    <tr>\n",
       "      <th>38614</th>\n",
       "      <td>Zimbabwe</td>\n",
       "      <td>2008</td>\n",
       "      <td>new_sp_m3544</td>\n",
       "      <td>3316.0</td>\n",
       "    </tr>\n",
       "    <tr>\n",
       "      <th>38615</th>\n",
       "      <td>Zimbabwe</td>\n",
       "      <td>2008</td>\n",
       "      <td>new_sp_m4554</td>\n",
       "      <td>704.0</td>\n",
       "    </tr>\n",
       "    <tr>\n",
       "      <th>38616</th>\n",
       "      <td>Zimbabwe</td>\n",
       "      <td>2008</td>\n",
       "      <td>new_sp_m5564</td>\n",
       "      <td>263.0</td>\n",
       "    </tr>\n",
       "    <tr>\n",
       "      <th>38617</th>\n",
       "      <td>Zimbabwe</td>\n",
       "      <td>2008</td>\n",
       "      <td>new_sp_m65</td>\n",
       "      <td>185.0</td>\n",
       "    </tr>\n",
       "    <tr>\n",
       "      <th>38618</th>\n",
       "      <td>Zimbabwe</td>\n",
       "      <td>2008</td>\n",
       "      <td>new_sp_mu</td>\n",
       "      <td>0.0</td>\n",
       "    </tr>\n",
       "  </tbody>\n",
       "</table>\n",
       "<p>38619 rows × 4 columns</p>\n",
       "</div>"
      ],
      "text/plain": [
       "        country  year        column   cases\n",
       "0            AN  1996        new_sp     3.0\n",
       "1            AN  1996   new_sp_f014     0.0\n",
       "2            AN  1996  new_sp_f1524     0.0\n",
       "3            AN  1996  new_sp_f2534     0.0\n",
       "4            AN  1996  new_sp_f3544     1.0\n",
       "...         ...   ...           ...     ...\n",
       "38614  Zimbabwe  2008  new_sp_m3544  3316.0\n",
       "38615  Zimbabwe  2008  new_sp_m4554   704.0\n",
       "38616  Zimbabwe  2008  new_sp_m5564   263.0\n",
       "38617  Zimbabwe  2008    new_sp_m65   185.0\n",
       "38618  Zimbabwe  2008     new_sp_mu     0.0\n",
       "\n",
       "[38619 rows x 4 columns]"
      ]
     },
     "execution_count": 158,
     "metadata": {},
     "output_type": "execute_result"
    }
   ],
   "source": [
    "clean_tidy_tb"
   ]
  },
  {
   "cell_type": "code",
   "execution_count": 157,
   "metadata": {
    "deletable": false,
    "editable": false,
    "nbgrader": {
     "grade": true,
     "grade_id": "cell-42fd7bf741b61410",
     "locked": true,
     "points": 2,
     "schema_version": 3,
     "solution": false,
     "task": false
    }
   },
   "outputs": [],
   "source": [
    "assert isinstance(clean_tidy_tb, pd.DataFrame), \"Should be a dataframe\"\n",
    "assert clean_tidy_tb.shape == (38619, 4), \"The shape of your \"\n",
    "assert hashlib.sha256(json.dumps(sorted(tidy_tb['country'])).encode()).hexdigest() == '43543c9e06fe9846897c269db635da02fc76dae4527775062a2f66efc707e87e'\n",
    "assert hashlib.sha256(json.dumps(sorted(tidy_tb['cases'])).encode()).hexdigest() == '8a294cd49c8fc1b29b60893e45426a80cb9681be4c699ae950c7103552cc7153'"
   ]
  },
  {
   "cell_type": "markdown",
   "metadata": {
    "deletable": false,
    "editable": false,
    "nbgrader": {
     "grade": false,
     "grade_id": "cell-efe3c1f80a242099",
     "locked": true,
     "schema_version": 3,
     "solution": false,
     "task": false
    }
   },
   "source": [
    "## Exercise 7 - Multiple Variables stored in one Column\n",
    "\n",
    "Our `clean_tidy_tb` is looking better, but now we need to address the problem of having multiple variables stored in the `column` column. Let's fix that in a few steps.\n",
    "\n"
   ]
  },
  {
   "cell_type": "markdown",
   "metadata": {
    "deletable": false,
    "editable": false,
    "nbgrader": {
     "grade": false,
     "grade_id": "cell-29b2aec2de48149d",
     "locked": true,
     "schema_version": 3,
     "solution": false,
     "task": false
    }
   },
   "source": [
    "### Exercise 7.1 \n",
    "\n",
    "In `clean_tidy_tb`, first extract the information that it's a female or a male and store it in a column named `sex` and the code for the age in the column `age`. Use pandas' `str.extract` to do this. "
   ]
  },
  {
   "cell_type": "code",
   "execution_count": 222,
   "metadata": {
    "deletable": false,
    "nbgrader": {
     "grade": false,
     "grade_id": "cell-010b213892a15dcd",
     "locked": false,
     "schema_version": 3,
     "solution": true,
     "task": false
    }
   },
   "outputs": [
    {
     "data": {
      "text/plain": [
       "(35552, 6)"
      ]
     },
     "execution_count": 222,
     "metadata": {},
     "output_type": "execute_result"
    }
   ],
   "source": [
    "a = clean_tidy_tb[\"column\"].str.extract('p(.*)[0-9]*')[0]\n",
    "clean_tidy_tb[\"sex\"]=a.apply(lambda x: x[1:2])\n",
    "clean_tidy_tb[\"age\"]=a.apply(lambda x: x[2:])\n",
    "#drop all missing values\n",
    "#clean_tidy_tb.isna().sum()\n",
    "\n",
    "#clean_tidy_tb = clean_tidy_tb.dropna()\n",
    "clean_tidy_tb = clean_tidy_tb[(clean_tidy_tb['age'] != '') & (clean_tidy_tb['sex'] != '') ]\n",
    "clean_tidy_tb.shape\n",
    "# YOUR CODE HERE\n",
    "#raise NotImplementedError()"
   ]
  },
  {
   "cell_type": "code",
   "execution_count": 213,
   "metadata": {},
   "outputs": [
    {
     "data": {
      "text/plain": [
       "0         \n",
       "1      014\n",
       "2     1524\n",
       "3     2534\n",
       "4     3544\n",
       "5     4554\n",
       "6     5564\n",
       "7       65\n",
       "8      014\n",
       "9     1524\n",
       "10    2534\n",
       "11    3544\n",
       "12    4554\n",
       "13    5564\n",
       "14      65\n",
       "15        \n",
       "16     014\n",
       "17    1524\n",
       "18    2534\n",
       "19    3544\n",
       "Name: 0, dtype: object"
      ]
     },
     "execution_count": 213,
     "metadata": {},
     "output_type": "execute_result"
    }
   ],
   "source": [
    "a=clean_tidy_tb[\"column\"].str.extract('p(.*)[0-9]*')[0] #  \\?(.*)  #  /s([\\s\\S]*)$/\n",
    "b=a.apply(lambda x: x[1:2])\n",
    "c=a.apply(lambda x: x[2:])\n",
    "c.head(20)"
   ]
  },
  {
   "cell_type": "code",
   "execution_count": 216,
   "metadata": {
    "deletable": false,
    "editable": false,
    "nbgrader": {
     "grade": true,
     "grade_id": "cell-59b3a28814a74234",
     "locked": true,
     "points": 2,
     "schema_version": 3,
     "solution": false,
     "task": false
    }
   },
   "outputs": [],
   "source": [
    "assert isinstance(clean_tidy_tb, pd.DataFrame), \"Should be a dataframe\"\n",
    "assert clean_tidy_tb.shape == (35552, 6), \"The shape of your dataframe is off. Have you dropped the missing values?\"\n",
    "assert hashlib.sha256(json.dumps(sorted(clean_tidy_tb['sex'].unique())).encode()).hexdigest() == '1a336f5ee71cf591bfd047e8facc048011b4b2bb760743e979ebe7c445dacf1b'\n",
    "assert hashlib.sha256(json.dumps(sorted(clean_tidy_tb['age'].unique())).encode()).hexdigest() == '70a6918917681862857b955b14e70f7bc68d0050382ef81945fe963e48135f10'"
   ]
  },
  {
   "cell_type": "markdown",
   "metadata": {
    "deletable": false,
    "editable": false,
    "nbgrader": {
     "grade": false,
     "grade_id": "cell-bda729060158f3aa",
     "locked": true,
     "schema_version": 3,
     "solution": false,
     "task": false
    }
   },
   "source": [
    "### Exercise 7.2\n",
    "\n",
    "The values in your `age` column are not very easy to understand. Use the `decode_age` dictionary to convert them to a more readable format"
   ]
  },
  {
   "cell_type": "code",
   "execution_count": 217,
   "metadata": {
    "deletable": false,
    "editable": false,
    "nbgrader": {
     "grade": false,
     "grade_id": "cell-dc2eced9420c20b8",
     "locked": true,
     "schema_version": 3,
     "solution": false,
     "task": false
    }
   },
   "outputs": [],
   "source": [
    "decode_age =   {\n",
    "        \"014\": \"0-14\",\n",
    "        \"1524\": \"15-24\",\n",
    "        \"2534\": \"25-34\",\n",
    "        \"3544\": \"35-44\",\n",
    "        \"4554\": \"45-54\",\n",
    "        \"5564\": \"55-64\",\n",
    "        \"65\": \"65+\",\n",
    "        \"u\": \"unknown\",\n",
    "    }"
   ]
  },
  {
   "cell_type": "code",
   "execution_count": 235,
   "metadata": {
    "deletable": false,
    "nbgrader": {
     "grade": false,
     "grade_id": "cell-5da3dd934bfb0944",
     "locked": false,
     "schema_version": 3,
     "solution": true,
     "task": false
    }
   },
   "outputs": [],
   "source": [
    "clean_tidy_tb[\"age\"] = list(clean_tidy_tb[\"age\"].map(decode_age))\n",
    "\n",
    "#drop any row where the values could not be converted\n",
    "clean_tidy_tb = clean_tidy_tb.dropna()\n",
    "# YOUR CODE HERE\n",
    "#raise NotImplementedError()"
   ]
  },
  {
   "cell_type": "code",
   "execution_count": 236,
   "metadata": {},
   "outputs": [
    {
     "data": {
      "text/plain": [
       "array(['0-14', '15-24', '25-34', '35-44', '45-54', '55-64', '65+',\n",
       "       'unknown'], dtype=object)"
      ]
     },
     "execution_count": 236,
     "metadata": {},
     "output_type": "execute_result"
    }
   ],
   "source": [
    "clean_tidy_tb['age'].unique()"
   ]
  },
  {
   "cell_type": "code",
   "execution_count": 230,
   "metadata": {},
   "outputs": [
    {
     "data": {
      "text/plain": [
       "{'014': '0-14',\n",
       " '1524': '15-24',\n",
       " '2534': '25-34',\n",
       " '3544': '35-44',\n",
       " '4554': '45-54',\n",
       " '5564': '55-64',\n",
       " '65': '65+',\n",
       " 'u': 'unknown'}"
      ]
     },
     "execution_count": 230,
     "metadata": {},
     "output_type": "execute_result"
    }
   ],
   "source": [
    "decode_age"
   ]
  },
  {
   "cell_type": "code",
   "execution_count": 237,
   "metadata": {
    "deletable": false,
    "editable": false,
    "nbgrader": {
     "grade": true,
     "grade_id": "cell-d6f8a9b49d1bb1f6",
     "locked": true,
     "points": 1,
     "schema_version": 3,
     "solution": false,
     "task": false
    }
   },
   "outputs": [],
   "source": [
    "assert hashlib.sha256(json.dumps(sorted(clean_tidy_tb['age'].unique())).encode()).hexdigest() == '8135dd0c090f9073cbb69a7bbacefd8ad0ecdb6e26415ece93e3fb5f8f5d17e6'"
   ]
  },
  {
   "cell_type": "markdown",
   "metadata": {
    "deletable": false,
    "editable": false,
    "nbgrader": {
     "grade": false,
     "grade_id": "cell-33c22bb906ad7ae8",
     "locked": true,
     "schema_version": 3,
     "solution": false,
     "task": false
    }
   },
   "source": [
    "### Exercise 7.3\n",
    "\n",
    "Finally, save in `final_tb_df` the dataframe with just the columns \"country\", \"year\", \"sex\", \"age\" and \"cases\"."
   ]
  },
  {
   "cell_type": "code",
   "execution_count": 238,
   "metadata": {
    "deletable": false,
    "nbgrader": {
     "grade": false,
     "grade_id": "cell-740d1b402b3e1cdd",
     "locked": false,
     "schema_version": 3,
     "solution": true,
     "task": false
    }
   },
   "outputs": [],
   "source": [
    "final_tb_df = clean_tidy_tb[[\"country\", \"year\", \"sex\", \"age\", \"cases\"]]\n",
    "# YOUR CODE HERE\n",
    "#raise NotImplementedError()"
   ]
  },
  {
   "cell_type": "code",
   "execution_count": 239,
   "metadata": {
    "deletable": false,
    "editable": false,
    "nbgrader": {
     "grade": true,
     "grade_id": "cell-ebe6d59edb53d1bf",
     "locked": true,
     "points": 1,
     "schema_version": 3,
     "solution": false,
     "task": false
    }
   },
   "outputs": [],
   "source": [
    "assert isinstance(final_tb_df, pd.DataFrame), \"Should be a dataframe\"\n",
    "assert final_tb_df.shape == (33962, 5), \"The shape of your dataframe is off\"\n",
    "assert sorted(final_tb_df.columns) == ['age', 'cases', 'country', 'sex', 'year']"
   ]
  },
  {
   "cell_type": "markdown",
   "metadata": {
    "deletable": false,
    "editable": false,
    "nbgrader": {
     "grade": false,
     "grade_id": "cell-e4c77887957ce018",
     "locked": true,
     "schema_version": 3,
     "solution": false,
     "task": false
    }
   },
   "source": [
    "Congratulations!!! You're a data cleaning master!"
   ]
  },
  {
   "cell_type": "markdown",
   "metadata": {},
   "source": [
    "![cleaning](https://mlgq5aailvbd.i.optimole.com/elKhEKc-U13ryZPl/w:1068/h:712/q:auto/https://www.urbancleanpro.com/wp-content/uploads/2019/11/good-job.jpg)"
   ]
  },
  {
   "cell_type": "code",
   "execution_count": null,
   "metadata": {},
   "outputs": [],
   "source": []
  }
 ],
 "metadata": {
  "kernelspec": {
   "display_name": "Python 3",
   "language": "python",
   "name": "python3"
  },
  "language_info": {
   "codemirror_mode": {
    "name": "ipython",
    "version": 3
   },
   "file_extension": ".py",
   "mimetype": "text/x-python",
   "name": "python",
   "nbconvert_exporter": "python",
   "pygments_lexer": "ipython3",
   "version": "3.6.9"
  }
 },
 "nbformat": 4,
 "nbformat_minor": 5
}
