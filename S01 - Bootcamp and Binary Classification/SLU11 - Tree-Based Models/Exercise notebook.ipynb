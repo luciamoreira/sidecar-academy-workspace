{
 "cells": [
  {
   "cell_type": "markdown",
   "metadata": {
    "deletable": false,
    "editable": false,
    "nbgrader": {
     "grade": false,
     "grade_id": "cell-ad1289a5a69aed06",
     "locked": true,
     "schema_version": 3,
     "solution": false
    }
   },
   "source": [
    "# SLU11 - Tree-based models: Exercises"
   ]
  },
  {
   "cell_type": "code",
   "execution_count": 1,
   "metadata": {
    "deletable": false,
    "editable": false,
    "nbgrader": {
     "grade": false,
     "grade_id": "cell-0de77c0206c013f9",
     "locked": true,
     "schema_version": 3,
     "solution": false
    }
   },
   "outputs": [],
   "source": [
    "import inspect\n",
    "import warnings\n",
    "warnings.filterwarnings(\"ignore\")\n",
    "\n",
    "import hashlib\n",
    "\n",
    "import pandas as pd\n",
    "import numpy as np\n",
    "\n",
    "from IPython.display import Image\n",
    "\n",
    "from utils.utils import (\n",
    "    make_data,\n",
    "    make_exercise_data,\n",
    "    separate_target_variable,\n",
    "    process_categorical_features,\n",
    "    visualize_tree\n",
    ")"
   ]
  },
  {
   "cell_type": "markdown",
   "metadata": {
    "deletable": false,
    "editable": false,
    "nbgrader": {
     "grade": false,
     "grade_id": "cell-5bd781fc92eff09b",
     "locked": true,
     "schema_version": 3,
     "solution": false
    }
   },
   "source": [
    "# Exercise 1 - Decision Trees\n",
    "\n",
    "## 1.1 Gini impurity\n",
    "\n",
    "Used by the CART algorithm for classification, Gini impurity is an alternative to entropy.\n",
    "\n",
    "Similarly to entropy, it is a way to measure node homogeneity. As such, it can be used to identify promising splits.\n",
    "\n",
    "Take $p$ as the probability of the positive class, i.e., the proportion of positive cases in the set. The Gini impurity is given by:\n",
    "\n",
    "$$I_G(p)= 1 - p^2 - (1-p)^2$$\n",
    "\n",
    "It measures how often a randomly chosen element from the set would be incorrectly labeled."
   ]
  },
  {
   "cell_type": "code",
   "execution_count": 2,
   "metadata": {
    "deletable": false,
    "nbgrader": {
     "grade": false,
     "grade_id": "cell-096c9f233958084b",
     "locked": false,
     "schema_version": 3,
     "solution": true
    }
   },
   "outputs": [],
   "source": [
    "def gini(p):\n",
    "    # YOUR CODE HERE\n",
    "    gini= 1-p**2-(1-p)**2\n",
    "    #raise NotImplementedError()\n",
    "    return gini\n",
    "    \n",
    "data = make_data()"
   ]
  },
  {
   "cell_type": "code",
   "execution_count": 8,
   "metadata": {},
   "outputs": [
    {
     "data": {
      "text/html": [
       "<div>\n",
       "<style scoped>\n",
       "    .dataframe tbody tr th:only-of-type {\n",
       "        vertical-align: middle;\n",
       "    }\n",
       "\n",
       "    .dataframe tbody tr th {\n",
       "        vertical-align: top;\n",
       "    }\n",
       "\n",
       "    .dataframe thead th {\n",
       "        text-align: right;\n",
       "    }\n",
       "</style>\n",
       "<table border=\"1\" class=\"dataframe\">\n",
       "  <thead>\n",
       "    <tr style=\"text-align: right;\">\n",
       "      <th></th>\n",
       "      <th>Outlook</th>\n",
       "      <th>Temperature</th>\n",
       "      <th>Humidity</th>\n",
       "      <th>Windy</th>\n",
       "      <th>Class</th>\n",
       "    </tr>\n",
       "  </thead>\n",
       "  <tbody>\n",
       "    <tr>\n",
       "      <th>0</th>\n",
       "      <td>sunny</td>\n",
       "      <td>hot</td>\n",
       "      <td>high</td>\n",
       "      <td>false</td>\n",
       "      <td>0</td>\n",
       "    </tr>\n",
       "    <tr>\n",
       "      <th>1</th>\n",
       "      <td>sunny</td>\n",
       "      <td>hot</td>\n",
       "      <td>high</td>\n",
       "      <td>true</td>\n",
       "      <td>0</td>\n",
       "    </tr>\n",
       "    <tr>\n",
       "      <th>2</th>\n",
       "      <td>overcast</td>\n",
       "      <td>hot</td>\n",
       "      <td>high</td>\n",
       "      <td>false</td>\n",
       "      <td>1</td>\n",
       "    </tr>\n",
       "    <tr>\n",
       "      <th>3</th>\n",
       "      <td>rain</td>\n",
       "      <td>mild</td>\n",
       "      <td>high</td>\n",
       "      <td>false</td>\n",
       "      <td>1</td>\n",
       "    </tr>\n",
       "    <tr>\n",
       "      <th>4</th>\n",
       "      <td>rain</td>\n",
       "      <td>cool</td>\n",
       "      <td>normal</td>\n",
       "      <td>false</td>\n",
       "      <td>1</td>\n",
       "    </tr>\n",
       "  </tbody>\n",
       "</table>\n",
       "</div>"
      ],
      "text/plain": [
       "    Outlook Temperature Humidity  Windy  Class\n",
       "0     sunny         hot     high  false      0\n",
       "1     sunny         hot     high   true      0\n",
       "2  overcast         hot     high  false      1\n",
       "3      rain        mild     high  false      1\n",
       "4      rain        cool   normal  false      1"
      ]
     },
     "execution_count": 8,
     "metadata": {},
     "output_type": "execute_result"
    }
   ],
   "source": [
    "data.head()"
   ]
  },
  {
   "cell_type": "code",
   "execution_count": 13,
   "metadata": {},
   "outputs": [
    {
     "data": {
      "text/plain": [
       "14"
      ]
     },
     "execution_count": 13,
     "metadata": {},
     "output_type": "execute_result"
    }
   ],
   "source": [
    "len(data)"
   ]
  },
  {
   "cell_type": "code",
   "execution_count": 12,
   "metadata": {},
   "outputs": [
    {
     "data": {
      "text/plain": [
       "7"
      ]
     },
     "execution_count": 12,
     "metadata": {},
     "output_type": "execute_result"
    }
   ],
   "source": [
    "(data.Humidity == 'normal').sum()"
   ]
  },
  {
   "cell_type": "code",
   "execution_count": 5,
   "metadata": {
    "deletable": false,
    "editable": false,
    "nbgrader": {
     "grade": true,
     "grade_id": "cell-cd65813e62272b59",
     "locked": true,
     "points": 2,
     "schema_version": 3,
     "solution": false
    }
   },
   "outputs": [],
   "source": [
    "expected_hash_1 = '5feceb66ffc86f38d952786c6d696c79c2dbc239dd4e91b46729d73a27fb57e9'\n",
    "assert hashlib.sha256(str(round(gini(p=0), 4)).encode('utf-8')).hexdigest() == expected_hash_1\n",
    "\n",
    "expected_hash_2 = 'fa0caf4143366743bd4e6038047902f64d769e3e3efec2bb32aecf1d0c7c6201'\n",
    "assert hashlib.sha256(str(round(gini(p=1/6), 4)).encode('utf-8')).hexdigest() == expected_hash_2\n",
    "\n",
    "expected_hash_3 = '26135280b4d9cae287edf7dec0cde84815fd61414f9509d6a4376b09eb946862'\n",
    "assert hashlib.sha256(str(round(gini(p=1/3), 4)).encode('utf-8')).hexdigest() == expected_hash_3\n",
    "\n",
    "expected_hash_4 = 'd2cbad71ff333de67d07ec676e352ab7f38248eb69c942950157220607c55e84'\n",
    "assert hashlib.sha256(str(round(gini(p=1/2), 4)).encode('utf-8')).hexdigest() == expected_hash_4"
   ]
  },
  {
   "cell_type": "markdown",
   "metadata": {
    "deletable": false,
    "editable": false,
    "nbgrader": {
     "grade": false,
     "grade_id": "cell-04b84fddb28c08cc",
     "locked": true,
     "schema_version": 3,
     "solution": false
    }
   },
   "source": [
    "## 1.2 Applying the Gini \n",
    "\n",
    "### 1.2.1 Single node\n",
    "\n",
    "Compute the impurity of a node that includes all instances where $x_i^{Humidity}$ is `'normal'`.\n",
    "\n",
    "(Note that `'normal'` is a string, not a boolean.)"
   ]
  },
  {
   "cell_type": "code",
   "execution_count": 21,
   "metadata": {
    "deletable": false,
    "nbgrader": {
     "grade": false,
     "grade_id": "cell-1eb99a6c8f5fd94d",
     "locked": false,
     "schema_version": 3,
     "solution": true
    }
   },
   "outputs": [],
   "source": [
    "def compute_probability(node):\n",
    "    # YOUR CODE HERE\n",
    "    #raise NotImplementedError()\n",
    "    n = len(node)\n",
    "    f = (node.Class == 1).sum()\n",
    "\n",
    "    return f / n\n",
    "p=compute_probability(data[data.Humidity=='normal'])\n",
    "single_node_gini = gini(p)\n",
    "# YOUR CODE HERE\n",
    "#raise NotImplementedError()"
   ]
  },
  {
   "cell_type": "code",
   "execution_count": 22,
   "metadata": {},
   "outputs": [
    {
     "data": {
      "text/plain": [
       "0.24489795918367352"
      ]
     },
     "execution_count": 22,
     "metadata": {},
     "output_type": "execute_result"
    }
   ],
   "source": [
    "single_node_gini"
   ]
  },
  {
   "cell_type": "code",
   "execution_count": 23,
   "metadata": {
    "deletable": false,
    "editable": false,
    "nbgrader": {
     "grade": true,
     "grade_id": "cell-f847f2e82a8bd209",
     "locked": true,
     "points": 3,
     "schema_version": 3,
     "solution": false
    }
   },
   "outputs": [],
   "source": [
    "expected_hash_5 = '6382e07f9de0c85293aee2a45b88c61c28589419682ecc2f8c097f750e861a24'\n",
    "wrong_condition_hash = 'd2cbad71ff333de67d07ec676e352ab7f38248eb69c942950157220607c55e84'\n",
    "\n",
    "assert hashlib.sha256(str(round(single_node_gini, 2)).encode('utf-8')).hexdigest() != wrong_condition_hash, \"Are you checking all instances where Class is TRUE?\"\n",
    "assert hashlib.sha256(str(round(single_node_gini, 2)).encode('utf-8')).hexdigest() == expected_hash_5, \"Are you computing the probability for the right node?\""
   ]
  },
  {
   "cell_type": "markdown",
   "metadata": {
    "deletable": false,
    "editable": false,
    "nbgrader": {
     "grade": false,
     "grade_id": "cell-be5197a0bc4535d5",
     "locked": true,
     "schema_version": 3,
     "solution": false
    }
   },
   "source": [
    "### 1.2.2 Single feature\n",
    "\n",
    "Write a function to compute the mean impurity of branching on a given feature."
   ]
  },
  {
   "cell_type": "code",
   "execution_count": 28,
   "metadata": {
    "deletable": false,
    "nbgrader": {
     "grade": false,
     "grade_id": "cell-ca4c34be595ebcb3",
     "locked": false,
     "schema_version": 3,
     "solution": true
    }
   },
   "outputs": [],
   "source": [
    "from statistics import mean\n",
    "\n",
    "\n",
    "def mean_impurity(data, feature_name):\n",
    "    # YOUR CODE HERE\n",
    "    #raise NotImplementedError()\n",
    "    #def mean_entropy(data, attribute):\n",
    "    #c_norm = data.shape[0]\n",
    "    #information = 0\n",
    "    values = data[feature_name].unique()\n",
    "    gini_=[]\n",
    "    for value in values:\n",
    "        group = data[data[feature_name] == value]\n",
    "        \n",
    "        #c_i_norm = group.shape[0]\n",
    "        \n",
    "        #w = c_i_norm / c_norm\n",
    "        \n",
    "        p = compute_probability(group)\n",
    "        gini_.append(gini(p))\n",
    "    \n",
    "        #information += w * e\n",
    "    \n",
    "    return mean(gini_)\n",
    "\n",
    "\n",
    "#mean_entropy(data, 'Outlook')"
   ]
  },
  {
   "cell_type": "code",
   "execution_count": 29,
   "metadata": {
    "deletable": false,
    "editable": false,
    "nbgrader": {
     "grade": true,
     "grade_id": "cell-92d7465bbb671305",
     "locked": true,
     "points": 2,
     "schema_version": 3,
     "solution": false
    }
   },
   "outputs": [],
   "source": [
    "assert 'mean(' in inspect.getsource(mean_impurity), \"Are you using the mean function that was imported?\"\n",
    "\n",
    "expected_hash_6 = '60bb8f6c52a2aca85b1a3ae08e71f97dd3fa8603b55abefb09ebb0edfe5294d1'\n",
    "assert hashlib.sha256(str(round(mean_impurity(data, 'Outlook'), 4)).encode('utf-8')).hexdigest() == expected_hash_6\n",
    "\n",
    "expected_hash_7 = '944f11aadeebc86111e0d537211a68e2e559f194ca0b99186a345af21afda3bf'\n",
    "assert hashlib.sha256(str(round(mean_impurity(data, 'Humidity'), 4)).encode('utf-8')).hexdigest() == expected_hash_7\n",
    "\n",
    "expected_hash_8 = 'ad9dadb817c4ea957beef59cc28b49ccb843c8c0996b1492547942a1cc6925ba'\n",
    "assert hashlib.sha256(str(round(mean_impurity(data, 'Windy'), 4)).encode('utf-8')).hexdigest() == expected_hash_8\n",
    "\n",
    "expected_hash_9 = 'de6e0e452f9c1acd679e0b2a4b40bc40cad2cdf48541764e622ff50c8b7a3957'\n",
    "assert hashlib.sha256(str(round(mean_impurity(data, 'Temperature'), 4)).encode('utf-8')).hexdigest() == expected_hash_9"
   ]
  },
  {
   "cell_type": "markdown",
   "metadata": {
    "deletable": false,
    "editable": false,
    "nbgrader": {
     "grade": false,
     "grade_id": "cell-64e25603766a0f61",
     "locked": true,
     "schema_version": 3,
     "solution": false
    }
   },
   "source": [
    "## 1.3 Analyzing a decision tree"
   ]
  },
  {
   "cell_type": "markdown",
   "metadata": {
    "deletable": false,
    "editable": false,
    "nbgrader": {
     "grade": false,
     "grade_id": "cell-9d9dffe94d0699b0",
     "locked": true,
     "schema_version": 3,
     "solution": false,
     "task": false
    }
   },
   "source": [
    "### 1.3.1 Import and train a DecisionTreeClassifier using the features in X, and the class in y. \n",
    "\n",
    "Notes:\n",
    "\n",
    "* Set `random_state = 101`\n",
    "* use the `entropy`criterion"
   ]
  },
  {
   "cell_type": "code",
   "execution_count": 3,
   "metadata": {
    "deletable": false,
    "nbgrader": {
     "grade": false,
     "grade_id": "cell-1adca6f8556b71f2",
     "locked": false,
     "schema_version": 3,
     "solution": true
    }
   },
   "outputs": [
    {
     "data": {
      "text/plain": [
       "DecisionTreeClassifier(criterion='entropy', random_state=101)"
      ]
     },
     "execution_count": 3,
     "metadata": {},
     "output_type": "execute_result"
    }
   ],
   "source": [
    "exercise_data = make_exercise_data()\n",
    "X, y = separate_target_variable(exercise_data)\n",
    "X = process_categorical_features(X)\n",
    "\n",
    "# Import the model\n",
    "from sklearn.tree import DecisionTreeClassifier\n",
    "# YOUR CODE HERE\n",
    "#raise NotImplementedError()\n",
    "\n",
    "\n",
    "# Instantiate the model with random_state=101, and assign it to variable \"model\". Then fit it to the data\n",
    "model = DecisionTreeClassifier(criterion='entropy', random_state = 101)\n",
    "model.fit(X,y)\n",
    "# YOUR CODE HERE\n",
    "#raise NotImplementedError()"
   ]
  },
  {
   "cell_type": "code",
   "execution_count": 4,
   "metadata": {
    "deletable": false,
    "editable": false,
    "nbgrader": {
     "grade": true,
     "grade_id": "cell-2b25486151a99ff4",
     "locked": true,
     "points": 3,
     "schema_version": 3,
     "solution": false
    }
   },
   "outputs": [],
   "source": [
    "params_hash = '6f0d2332a9eaad4077dc025b08324fb69cdaebf8c6de6a00b8c6c718e40f97e5'\n",
    "assert hashlib.sha256(str(model.get_params()).encode('utf-8')).hexdigest() == params_hash, \"Did you set all the required parameters?\""
   ]
  },
  {
   "cell_type": "markdown",
   "metadata": {
    "deletable": false,
    "editable": false,
    "nbgrader": {
     "grade": false,
     "grade_id": "cell-2b16bb4342d9273f",
     "locked": true,
     "schema_version": 3,
     "solution": false,
     "task": false
    }
   },
   "source": [
    "### 1.3.2 Analyze the resulting tree, and answer questions."
   ]
  },
  {
   "cell_type": "code",
   "execution_count": 5,
   "metadata": {
    "deletable": false,
    "editable": false,
    "nbgrader": {
     "grade": false,
     "grade_id": "cell-305f6ceccf83d72f",
     "locked": true,
     "schema_version": 3,
     "solution": false,
     "task": false
    }
   },
   "outputs": [
    {
     "ename": "InvocationException",
     "evalue": "GraphViz's executables not found",
     "output_type": "error",
     "traceback": [
      "\u001b[0;31m---------------------------------------------------------------------------\u001b[0m",
      "\u001b[0;31mInvocationException\u001b[0m                       Traceback (most recent call last)",
      "\u001b[0;32m<ipython-input-5-7d238d8e6415>\u001b[0m in \u001b[0;36m<module>\u001b[0;34m\u001b[0m\n\u001b[0;32m----> 1\u001b[0;31m \u001b[0mtree\u001b[0m \u001b[0;34m=\u001b[0m \u001b[0mvisualize_tree\u001b[0m\u001b[0;34m(\u001b[0m\u001b[0mmodel\u001b[0m\u001b[0;34m,\u001b[0m \u001b[0mX\u001b[0m\u001b[0;34m.\u001b[0m\u001b[0mcolumns\u001b[0m\u001b[0;34m,\u001b[0m \u001b[0;34m[\u001b[0m\u001b[0;34m\"negative_class\"\u001b[0m\u001b[0;34m,\u001b[0m \u001b[0;34m\"positive_class\"\u001b[0m\u001b[0;34m]\u001b[0m\u001b[0;34m)\u001b[0m\u001b[0;34m\u001b[0m\u001b[0;34m\u001b[0m\u001b[0m\n\u001b[0m\u001b[1;32m      2\u001b[0m \u001b[0mImage\u001b[0m\u001b[0;34m(\u001b[0m\u001b[0mtree\u001b[0m\u001b[0;34m)\u001b[0m\u001b[0;34m\u001b[0m\u001b[0;34m\u001b[0m\u001b[0m\n",
      "\u001b[0;32m~/sidecar-academy-workspace/S01 - Bootcamp and Binary Classification/SLU11 - Tree-Based Models/utils/utils.py\u001b[0m in \u001b[0;36mvisualize_tree\u001b[0;34m(clf, feature_names, class_names)\u001b[0m\n\u001b[1;32m    172\u001b[0m \u001b[0;34m\u001b[0m\u001b[0m\n\u001b[1;32m    173\u001b[0m     \u001b[0mgraph\u001b[0m \u001b[0;34m=\u001b[0m \u001b[0mpydotplus\u001b[0m\u001b[0;34m.\u001b[0m\u001b[0mgraph_from_dot_data\u001b[0m\u001b[0;34m(\u001b[0m\u001b[0mdot_data\u001b[0m\u001b[0;34m)\u001b[0m\u001b[0;34m\u001b[0m\u001b[0;34m\u001b[0m\u001b[0m\n\u001b[0;32m--> 174\u001b[0;31m     \u001b[0;32mreturn\u001b[0m \u001b[0mgraph\u001b[0m\u001b[0;34m.\u001b[0m\u001b[0mcreate_png\u001b[0m\u001b[0;34m(\u001b[0m\u001b[0;34m)\u001b[0m\u001b[0;34m\u001b[0m\u001b[0;34m\u001b[0m\u001b[0m\n\u001b[0m",
      "\u001b[0;32m~/.virtualenvs/slu00/lib/python3.6/site-packages/pydotplus/graphviz.py\u001b[0m in \u001b[0;36m<lambda>\u001b[0;34m(f, prog)\u001b[0m\n\u001b[1;32m   1795\u001b[0m             self.__setattr__(\n\u001b[1;32m   1796\u001b[0m                 \u001b[0;34m'create_'\u001b[0m \u001b[0;34m+\u001b[0m \u001b[0mfrmt\u001b[0m\u001b[0;34m,\u001b[0m\u001b[0;34m\u001b[0m\u001b[0;34m\u001b[0m\u001b[0m\n\u001b[0;32m-> 1797\u001b[0;31m                 \u001b[0;32mlambda\u001b[0m \u001b[0mf\u001b[0m\u001b[0;34m=\u001b[0m\u001b[0mfrmt\u001b[0m\u001b[0;34m,\u001b[0m \u001b[0mprog\u001b[0m\u001b[0;34m=\u001b[0m\u001b[0mself\u001b[0m\u001b[0;34m.\u001b[0m\u001b[0mprog\u001b[0m\u001b[0;34m:\u001b[0m \u001b[0mself\u001b[0m\u001b[0;34m.\u001b[0m\u001b[0mcreate\u001b[0m\u001b[0;34m(\u001b[0m\u001b[0mformat\u001b[0m\u001b[0;34m=\u001b[0m\u001b[0mf\u001b[0m\u001b[0;34m,\u001b[0m \u001b[0mprog\u001b[0m\u001b[0;34m=\u001b[0m\u001b[0mprog\u001b[0m\u001b[0;34m)\u001b[0m\u001b[0;34m\u001b[0m\u001b[0;34m\u001b[0m\u001b[0m\n\u001b[0m\u001b[1;32m   1798\u001b[0m             )\n\u001b[1;32m   1799\u001b[0m             \u001b[0mf\u001b[0m \u001b[0;34m=\u001b[0m \u001b[0mself\u001b[0m\u001b[0;34m.\u001b[0m\u001b[0m__dict__\u001b[0m\u001b[0;34m[\u001b[0m\u001b[0;34m'create_'\u001b[0m \u001b[0;34m+\u001b[0m \u001b[0mfrmt\u001b[0m\u001b[0;34m]\u001b[0m\u001b[0;34m\u001b[0m\u001b[0;34m\u001b[0m\u001b[0m\n",
      "\u001b[0;32m~/.virtualenvs/slu00/lib/python3.6/site-packages/pydotplus/graphviz.py\u001b[0m in \u001b[0;36mcreate\u001b[0;34m(self, prog, format)\u001b[0m\n\u001b[1;32m   1958\u001b[0m             \u001b[0;32mif\u001b[0m \u001b[0mself\u001b[0m\u001b[0;34m.\u001b[0m\u001b[0mprogs\u001b[0m \u001b[0;32mis\u001b[0m \u001b[0;32mNone\u001b[0m\u001b[0;34m:\u001b[0m\u001b[0;34m\u001b[0m\u001b[0;34m\u001b[0m\u001b[0m\n\u001b[1;32m   1959\u001b[0m                 raise InvocationException(\n\u001b[0;32m-> 1960\u001b[0;31m                     'GraphViz\\'s executables not found')\n\u001b[0m\u001b[1;32m   1961\u001b[0m \u001b[0;34m\u001b[0m\u001b[0m\n\u001b[1;32m   1962\u001b[0m         \u001b[0;32mif\u001b[0m \u001b[0mprog\u001b[0m \u001b[0;32mnot\u001b[0m \u001b[0;32min\u001b[0m \u001b[0mself\u001b[0m\u001b[0;34m.\u001b[0m\u001b[0mprogs\u001b[0m\u001b[0;34m:\u001b[0m\u001b[0;34m\u001b[0m\u001b[0;34m\u001b[0m\u001b[0m\n",
      "\u001b[0;31mInvocationException\u001b[0m: GraphViz's executables not found"
     ]
    }
   ],
   "source": [
    "tree = visualize_tree(model, X.columns, [\"negative_class\", \"positive_class\"])\n",
    "Image(tree)"
   ]
  },
  {
   "cell_type": "code",
   "execution_count": 8,
   "metadata": {},
   "outputs": [
    {
     "data": {
      "text/plain": [
       "[Text(523.125, 475.65000000000003, 'fruit_papaya <= 0.5\\nentropy = 0.881\\nsamples = 20\\nvalue = [6, 14]\\nclass = positive_class'),\n",
       " Text(418.5, 339.75, 'Region_Central America <= 0.5\\nentropy = 0.918\\nsamples = 18\\nvalue = [6, 12]\\nclass = positive_class'),\n",
       " Text(209.25, 203.85000000000002, 'sweet_y <= 0.5\\nentropy = 0.811\\nsamples = 12\\nvalue = [3, 9]\\nclass = positive_class'),\n",
       " Text(104.625, 67.94999999999999, 'entropy = 0.918\\nsamples = 6\\nvalue = [2, 4]\\nclass = positive_class'),\n",
       " Text(313.875, 67.94999999999999, 'entropy = 0.65\\nsamples = 6\\nvalue = [1, 5]\\nclass = positive_class'),\n",
       " Text(627.75, 203.85000000000002, 'sweet_n <= 0.5\\nentropy = 1.0\\nsamples = 6\\nvalue = [3, 3]\\nclass = negative_class'),\n",
       " Text(523.125, 67.94999999999999, 'entropy = 0.971\\nsamples = 5\\nvalue = [2, 3]\\nclass = positive_class'),\n",
       " Text(732.375, 67.94999999999999, 'entropy = 0.0\\nsamples = 1\\nvalue = [1, 0]\\nclass = negative_class'),\n",
       " Text(627.75, 339.75, 'entropy = 0.0\\nsamples = 2\\nvalue = [0, 2]\\nclass = positive_class')]"
      ]
     },
     "execution_count": 8,
     "metadata": {},
     "output_type": "execute_result"
    },
    {
     "data": {
      "image/png": "[encoded data removed]",
      "text/plain": [
       "<Figure size 1080x720 with 1 Axes>"
      ]
     },
     "metadata": {
      "needs_background": "light"
     },
     "output_type": "display_data"
    }
   ],
   "source": [
    "import matplotlib.pyplot as plt\n",
    "from sklearn.tree import plot_tree\n",
    "\n",
    "fig = plt.figure(figsize=(15, 10))\n",
    "plot_tree(model, feature_names=X.columns,\n",
    "          class_names=[\"negative_class\", \"positive_class\"])"
   ]
  },
  {
   "cell_type": "markdown",
   "metadata": {
    "deletable": false,
    "editable": false,
    "nbgrader": {
     "grade": false,
     "grade_id": "cell-6071b6c8ab8707a9",
     "locked": true,
     "schema_version": 3,
     "solution": false,
     "task": false
    }
   },
   "source": [
    "a) A new instance of data has the following features: \n",
    "\n",
    "* `fruit` is not equal to `papaya`;\n",
    "* `Region` is not equal to `Central America`;\n",
    "* `sweet` is not equal to `y`.\n",
    "\n",
    "What class does this new instance belong to? ('positive_class' or 'negative_class'). \n",
    "Assign the answer to variable `a_answer`"
   ]
  },
  {
   "cell_type": "code",
   "execution_count": 9,
   "metadata": {
    "deletable": false,
    "nbgrader": {
     "grade": false,
     "grade_id": "cell-3121ada0143f47eb",
     "locked": false,
     "schema_version": 3,
     "solution": true,
     "task": false
    }
   },
   "outputs": [],
   "source": [
    "a_answer = 'positive_class'\n",
    "# YOUR CODE HERE\n",
    "#raise NotImplementedError()"
   ]
  },
  {
   "cell_type": "markdown",
   "metadata": {
    "deletable": false,
    "editable": false,
    "nbgrader": {
     "grade": false,
     "grade_id": "cell-b5731dacae1388ca",
     "locked": true,
     "schema_version": 3,
     "solution": false,
     "task": false
    }
   },
   "source": [
    "b) Assign the **number** (1, 2, 3 or 4) of the FALSE statement to variable `b_answer`:\n",
    "\n",
    "1. when building a decision tree using the ID3 algorithm,  at each split, we select the attribute test that leads to the highest information gain.\n",
    "2. Decision trees aren't extremely robust to overfitting.\n",
    "3. We can use a decision tree to represent a set of complex rules.\n",
    "4. Entropy can be seen as a measure of homogeneity in a set of values. The more entropy, the more homogeneous it will be."
   ]
  },
  {
   "cell_type": "code",
   "execution_count": 10,
   "metadata": {
    "deletable": false,
    "nbgrader": {
     "grade": false,
     "grade_id": "cell-8dc20adf21b9b42a",
     "locked": false,
     "schema_version": 3,
     "solution": true,
     "task": false
    }
   },
   "outputs": [],
   "source": [
    "b_answer = 4\n",
    "# YOUR CODE HERE\n",
    "#raise NotImplementedError()"
   ]
  },
  {
   "cell_type": "markdown",
   "metadata": {
    "deletable": false,
    "editable": false,
    "nbgrader": {
     "grade": false,
     "grade_id": "cell-62ffd43b55d81c25",
     "locked": true,
     "schema_version": 3,
     "solution": false,
     "task": false
    }
   },
   "source": [
    "c) What is the name of the most important_feature? Assign it to variable `c_answer`. Feel free to use any functions/methods needed to obtain this answer."
   ]
  },
  {
   "cell_type": "code",
   "execution_count": 14,
   "metadata": {},
   "outputs": [
    {
     "data": {
      "text/plain": [
       "sweet_n                   0.340730\n",
       "fruit_papaya              0.326225\n",
       "Region_Central America    0.236225\n",
       "sweet_y                   0.096820\n",
       "Region_Central Asia       0.000000\n",
       "fruit_oranges             0.000000\n",
       "dtype: float64"
      ]
     },
     "execution_count": 14,
     "metadata": {},
     "output_type": "execute_result"
    }
   ],
   "source": [
    "feature_importances = pd.Series(data=model.feature_importances_, index=X.columns)\n",
    "feature_importances.sort_values(ascending=False)"
   ]
  },
  {
   "cell_type": "code",
   "execution_count": 16,
   "metadata": {
    "deletable": false,
    "nbgrader": {
     "grade": false,
     "grade_id": "cell-d69772097f40e125",
     "locked": false,
     "schema_version": 3,
     "solution": true,
     "task": false
    }
   },
   "outputs": [],
   "source": [
    "# feature_importances = ...\n",
    "c_answer = 'sweet_n'\n",
    "\n",
    "# YOUR CODE HERE\n",
    "#raise NotImplementedError()"
   ]
  },
  {
   "cell_type": "code",
   "execution_count": 17,
   "metadata": {
    "deletable": false,
    "editable": false,
    "nbgrader": {
     "grade": true,
     "grade_id": "cell-9f9ede8eb23ecb90",
     "locked": true,
     "points": 5,
     "schema_version": 3,
     "solution": false,
     "task": false
    }
   },
   "outputs": [],
   "source": [
    "all_answers_hash = '1994fd1728d54357ea19c30343ce6f08efe1d793ca0d8f238fb646bb22f3a550'\n",
    "final_answer = str(b_answer) + a_answer + c_answer\n",
    "assert hashlib.sha256(final_answer.encode('utf-8')).hexdigest() == all_answers_hash, \"One or more of the answers are wrong!\""
   ]
  },
  {
   "cell_type": "markdown",
   "metadata": {
    "deletable": false,
    "editable": false,
    "nbgrader": {
     "grade": false,
     "grade_id": "cell-fd2ce5a9573d00ff",
     "locked": true,
     "schema_version": 3,
     "solution": false
    }
   },
   "source": [
    "# Exercise 2 - Random Forests"
   ]
  },
  {
   "cell_type": "markdown",
   "metadata": {
    "deletable": false,
    "editable": false,
    "nbgrader": {
     "grade": false,
     "grade_id": "cell-2367f357f5eb7f4a",
     "locked": true,
     "schema_version": 3,
     "solution": false
    }
   },
   "source": [
    "## 2.1 Bagging\n",
    "\n",
    "Assign the lowercase letter of the **incorrect statement** to variable `bagging_answer`:\n",
    "\n",
    "a) Bagging is an ensemble method in which the predictions of several weak learners are combined to generate a final prediction.\n",
    "\n",
    "b) Bagging involves creating multiple data sets by sampling columns.\n",
    "\n",
    "c) Bootstrapping, often used when bagging, is the creation of several datasets through row sampling of a main dataset.\n",
    "\n",
    "d) Bagging helps to deal with overfitting, which is a big risk when using Decision Trees."
   ]
  },
  {
   "cell_type": "code",
   "execution_count": 18,
   "metadata": {
    "deletable": false,
    "nbgrader": {
     "grade": false,
     "grade_id": "cell-c734638ada0323ab",
     "locked": false,
     "schema_version": 3,
     "solution": true
    }
   },
   "outputs": [],
   "source": [
    "bagging_answer = 'b'\n",
    "# YOUR CODE HERE\n",
    "#raise NotImplementedError()"
   ]
  },
  {
   "cell_type": "code",
   "execution_count": 19,
   "metadata": {
    "deletable": false,
    "editable": false,
    "nbgrader": {
     "grade": true,
     "grade_id": "cell-f0ee1005cf77cd42",
     "locked": true,
     "points": 2,
     "schema_version": 3,
     "solution": false
    }
   },
   "outputs": [],
   "source": [
    "bagging_hash = '3e23e8160039594a33894f6564e1b1348bbd7a0088d42c4acb73eeaed59c009d'\n",
    "assert hashlib.sha256(bagging_answer.encode('utf-8')).hexdigest() == bagging_hash"
   ]
  },
  {
   "cell_type": "markdown",
   "metadata": {
    "deletable": false,
    "editable": false,
    "nbgrader": {
     "grade": false,
     "grade_id": "cell-0eaa70d393975c48",
     "locked": true,
     "schema_version": 3,
     "solution": false
    }
   },
   "source": [
    "## 2.2 Random forests\n",
    "\n",
    "Assign the lowercase letter of the **incorrect statement** to variable `forest_answer`:\n",
    "\n",
    "a) We use random feature selection with random forests to force our models to be \"creative\" and adapt to not having access to the full information, thus increasing diversity inside the ensemble.\n",
    "\n",
    "b) Random forests aggregate the predictions of multiple models running in parallel\n",
    "\n",
    "c) Random forests aggregates the predictions of multiple models running sequentially.\n",
    "\n",
    "d) Random forests rely on random feature selection before each split."
   ]
  },
  {
   "cell_type": "code",
   "execution_count": 20,
   "metadata": {
    "deletable": false,
    "nbgrader": {
     "grade": false,
     "grade_id": "cell-7841ec3e8a3d8ab4",
     "locked": false,
     "schema_version": 3,
     "solution": true
    }
   },
   "outputs": [],
   "source": [
    "forest_answer = 'c'\n",
    "# YOUR CODE HERE\n",
    "#raise NotImplementedError()"
   ]
  },
  {
   "cell_type": "code",
   "execution_count": 21,
   "metadata": {
    "deletable": false,
    "editable": false,
    "nbgrader": {
     "grade": true,
     "grade_id": "cell-d7e4db2d6899e82f",
     "locked": true,
     "points": 1,
     "schema_version": 3,
     "solution": false
    }
   },
   "outputs": [],
   "source": [
    "expected_hash_11 = '2e7d2c03a9507ae265ecf5b5356885a53393a2029d241394997265a1a25aefc6'\n",
    "assert hashlib.sha256(forest_answer.encode('utf-8')).hexdigest() == expected_hash_11"
   ]
  },
  {
   "cell_type": "markdown",
   "metadata": {
    "deletable": false,
    "editable": false,
    "nbgrader": {
     "grade": false,
     "grade_id": "cell-d81f6f19292ecf56",
     "locked": true,
     "schema_version": 3,
     "solution": false,
     "task": false
    }
   },
   "source": [
    "# Exercise 3 - Gradient boosting\n",
    "\n",
    "Assign the lowercase letter of the **incorrect statement** to variable `boosting_answer`:\n",
    "\n",
    "a) Gradient boosting fits individual trees sequentially, to the negative gradients of the previous tree.\n",
    "\n",
    "b) Gradient boosting is fairly robust to over-fitting so a large number of estimators usually results in worst performance.\n",
    "\n",
    "c) Gradient boosting can only be used to optimize the squared error loss function.\n",
    "\n",
    "d) Gradient boosting fits individual trees on the pseudo-residuals of the previous tree."
   ]
  },
  {
   "cell_type": "code",
   "execution_count": 28,
   "metadata": {
    "deletable": false,
    "nbgrader": {
     "grade": false,
     "grade_id": "cell-19d101619190adb0",
     "locked": false,
     "schema_version": 3,
     "solution": true
    }
   },
   "outputs": [],
   "source": [
    "boosting_answer = 'b'\n",
    "# YOUR CODE HERE\n",
    "#raise NotImplementedError()\n"
   ]
  },
  {
   "cell_type": "code",
   "execution_count": 29,
   "metadata": {
    "deletable": false,
    "editable": false,
    "nbgrader": {
     "grade": true,
     "grade_id": "cell-2aa78ad9cfadcba8",
     "locked": true,
     "points": 2,
     "schema_version": 3,
     "solution": false
    }
   },
   "outputs": [],
   "source": [
    "expected_hash_12 = '3e23e8160039594a33894f6564e1b1348bbd7a0088d42c4acb73eeaed59c009d'\n",
    "assert hashlib.sha256(boosting_answer.encode('utf-8')).hexdigest() == expected_hash_12"
   ]
  },
  {
   "cell_type": "markdown",
   "metadata": {
    "deletable": false,
    "editable": false,
    "nbgrader": {
     "grade": false,
     "grade_id": "cell-77e081ecbdb73194",
     "locked": true,
     "schema_version": 3,
     "solution": false,
     "task": false
    }
   },
   "source": [
    "---"
   ]
  }
 ],
 "metadata": {
  "kernelspec": {
   "display_name": "Python 3",
   "language": "python",
   "name": "python3"
  },
  "language_info": {
   "codemirror_mode": {
    "name": "ipython",
    "version": 3
   },
   "file_extension": ".py",
   "mimetype": "text/x-python",
   "name": "python",
   "nbconvert_exporter": "python",
   "pygments_lexer": "ipython3",
   "version": "3.6.9"
  }
 },
 "nbformat": 4,
 "nbformat_minor": 2
}
