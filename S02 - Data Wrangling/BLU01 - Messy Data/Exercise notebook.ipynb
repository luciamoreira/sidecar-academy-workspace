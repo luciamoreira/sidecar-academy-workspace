{
 "cells": [
  {
   "cell_type": "markdown",
   "metadata": {
    "deletable": false,
    "editable": false,
    "nbgrader": {
     "grade": false,
     "grade_id": "cell-1b6b75485105e36c",
     "locked": true,
     "schema_version": 3,
     "solution": false
    }
   },
   "source": [
    "# BLU01 - Exercises Notebook"
   ]
  },
  {
   "cell_type": "markdown",
   "metadata": {},
   "source": [
    "**Important Note**\n",
    "\n",
    "Attention Windows users: The grader will run on Linux, and using power shell statements will not work."
   ]
  },
  {
   "cell_type": "code",
   "execution_count": 1,
   "metadata": {
    "deletable": false,
    "editable": false,
    "nbgrader": {
     "grade": false,
     "grade_id": "cell-0240afddd4fae69d",
     "locked": true,
     "schema_version": 3,
     "solution": false
    }
   },
   "outputs": [],
   "source": [
    "import chardet\n",
    "import hashlib # for grading purposes\n",
    "import math\n",
    "import numpy as np\n",
    "import csv\n",
    "import pandas as pd\n",
    "import random"
   ]
  },
  {
   "cell_type": "markdown",
   "metadata": {
    "deletable": false,
    "editable": false,
    "nbgrader": {
     "grade": false,
     "grade_id": "cell-93e0b4e1a40ebaaa",
     "locked": true,
     "schema_version": 3,
     "solution": false
    }
   },
   "source": [
    "## Q1: Use a shell command to count lines\n",
    "\n",
    "\n",
    "\n"
   ]
  },
  {
   "cell_type": "code",
   "execution_count": 10,
   "metadata": {
    "deletable": false,
    "nbgrader": {
     "grade": false,
     "grade_id": "cell-05a3d2245d57305d",
     "locked": false,
     "schema_version": 3,
     "solution": true
    }
   },
   "outputs": [
    {
     "data": {
      "text/plain": [
       "44"
      ]
     },
     "execution_count": 10,
     "metadata": {},
     "output_type": "execute_result"
    }
   ],
   "source": [
    "# Count the total number of lines of files data/exercises/surfing.txt and data/exercises/body_boarding.txt\n",
    "# and store the result in variable count_total.  \n",
    "# There is more than one way to do this. Hint: concatenate both files.\n",
    "count_total_1 = ! wc -l < data/exercises/surfing.txt\n",
    "count_total_2= ! wc -l < data/exercises/body_boarding.txt\n",
    "count_total= int(count_total_1[0])+int(count_total_2[0])\n",
    "count_total\n",
    "# YOUR CODE HERE\n",
    "#raise NotImplementedError()"
   ]
  },
  {
   "cell_type": "code",
   "execution_count": 11,
   "metadata": {
    "deletable": false,
    "editable": false,
    "nbgrader": {
     "grade": true,
     "grade_id": "cell-2e69c6137e73d90c",
     "locked": true,
     "points": 2,
     "schema_version": 3,
     "solution": false
    }
   },
   "outputs": [],
   "source": [
    "expected_hash = '71ee45a3c0db9a9865f7313dd3372cf60dca6479d46261f3542eb9346e4a04d6'\n",
    "assert hashlib.sha256(str(count_total).encode()).hexdigest() == expected_hash, \"count_total is wrong\""
   ]
  },
  {
   "cell_type": "markdown",
   "metadata": {},
   "source": [
    "Now store in 2 variables the first third and the last third of the lines existent in file data/exercises/surfing.txt."
   ]
  },
  {
   "cell_type": "code",
   "execution_count": 20,
   "metadata": {
    "deletable": false,
    "nbgrader": {
     "grade": false,
     "grade_id": "cell-14cf2619322a8763",
     "locked": false,
     "schema_version": 3,
     "solution": true
    }
   },
   "outputs": [],
   "source": [
    "# NOT GRADED optional exercise!!\n",
    "# Add the first third and the last third of the lines to the variables first_third and last_third. \n",
    "# Make it work to any files using count_total_surfing/3 for instance in the bash commands\n",
    "count_total_surfing = ! wc -l < data/exercises/surfing.txt\n",
    "f_3rd=int(count_total_surfing[0])/3\n",
    "first_third = ! head -4 data/exercises/surfing.txt\n",
    "last_third = ! tail -4 data/exercises/surfing.txt\n",
    "# YOUR CODE HERE\n",
    "#raise NotImplementedError()"
   ]
  },
  {
   "cell_type": "code",
   "execution_count": 21,
   "metadata": {},
   "outputs": [
    {
     "data": {
      "text/plain": [
       "['Surfing is a surface water pastime in which the wave rider, referred to as a surfer, ',\n",
       " 'rides on the forward part, or face, of a moving wave, which usually carries the ',\n",
       " 'surfer towards the shore. Waves suitable for surfing are primarily found in the ',\n",
       " 'ocean, but can also be found in lakes or rivers in the form of a standing wave or ']"
      ]
     },
     "execution_count": 21,
     "metadata": {},
     "output_type": "execute_result"
    }
   ],
   "source": [
    "first_third"
   ]
  },
  {
   "cell_type": "code",
   "execution_count": 22,
   "metadata": {
    "deletable": false,
    "editable": false,
    "nbgrader": {
     "grade": true,
     "grade_id": "cell-20d96111430874d4",
     "locked": true,
     "points": 0,
     "schema_version": 3,
     "solution": false,
     "task": false
    }
   },
   "outputs": [],
   "source": [
    "#Test the first_third and last_third exercise by running the following (ungraded) asserts.\n",
    "assert first_third[-1][0] == 'o'\n",
    "assert last_third[0][0] == 'o'"
   ]
  },
  {
   "cell_type": "markdown",
   "metadata": {
    "deletable": false,
    "editable": false,
    "nbgrader": {
     "grade": false,
     "grade_id": "cell-e27cb8588bb5fd40",
     "locked": true,
     "schema_version": 3,
     "solution": false
    }
   },
   "source": [
    "## Q2: Read a file with specific delimiter\n",
    "\n",
    "Read file **data/exercises/surfing_sessions.csv** into a pandas DataFrame.\n",
    "\n",
    "First, you should preview the file using a shell command in order to find out the used delimiter, and other properties of this file.\n",
    "\n",
    "Then, you should use function read_csv to read the data into a DataFrame. The resulting DataFrame should have the last column as index."
   ]
  },
  {
   "cell_type": "code",
   "execution_count": 27,
   "metadata": {
    "deletable": false,
    "nbgrader": {
     "grade": false,
     "grade_id": "cell-942e0590467e20d9",
     "locked": false,
     "schema_version": 3,
     "solution": true
    },
    "tags": []
   },
   "outputs": [
    {
     "name": "stdout",
     "output_type": "stream",
     "text": [
      "surfer|wave_power|location|visit_id\r\n",
      "3|37,6|Rocky Point|146097\r\n"
     ]
    }
   ],
   "source": [
    "# Use a shell command to preview the data\n",
    "! head -2 data/exercises/surfing_sessions.csv\n",
    "# YOUR CODE HERE\n",
    "#raise NotImplementedError()\n",
    "\n",
    "# Use function read_csv to read the data into a DataFrame\n",
    "df2 = pd.read_csv('data/exercises/surfing_sessions.csv', sep='|', index_col=-1)\n",
    "# YOUR CODE HERE\n",
    "#raise NotImplementedError()"
   ]
  },
  {
   "cell_type": "code",
   "execution_count": 28,
   "metadata": {
    "deletable": false,
    "editable": false,
    "nbgrader": {
     "grade": true,
     "grade_id": "cell-0c275c9acaa9c74d",
     "locked": true,
     "points": 2,
     "schema_version": 3,
     "solution": false
    }
   },
   "outputs": [],
   "source": [
    "assert df2.loc[126903, 'location'] == 'Pupukea', \"df2 data is wrong\"\n",
    "assert set(df2.columns) == {'location', 'surfer', 'wave_power'}, \"df2 data is wrong\"\n",
    "assert len(df2) == 108, \"df2 data is wrong\"\n",
    "assert df2.index[0] == 146097, \"df2 data is wrong\"\n",
    "\n",
    "expected_hash = 'a27dd8b953f484c0d74059da102e4b8e513630292de5d17ff5585fc6743d62f0'\n",
    "assert hashlib.sha256(df2.index.name.encode()).hexdigest() == expected_hash"
   ]
  },
  {
   "cell_type": "markdown",
   "metadata": {
    "deletable": false,
    "editable": false,
    "nbgrader": {
     "grade": false,
     "grade_id": "cell-f6f9efef818e4a83",
     "locked": true,
     "schema_version": 3,
     "solution": false
    }
   },
   "source": [
    "## Q3: Read a csv file with problems\n",
    "\n",
    "Read file **data/exercises/surfing_sessions_w_problems.csv** using function `read_csv`. Pay attention to the following:\n",
    "* remove all lines where the number of columns is different from the majority of lines.\n",
    "* use the first column as index\n",
    "* there are some inputs in the file that should be interpreted as NaN, make sure you select the right one when reading the file!"
   ]
  },
  {
   "cell_type": "code",
   "execution_count": 58,
   "metadata": {
    "deletable": false,
    "nbgrader": {
     "grade": false,
     "grade_id": "cell-2771b707556c08d2",
     "locked": false,
     "schema_version": 3,
     "solution": true
    }
   },
   "outputs": [
    {
     "name": "stdout",
     "output_type": "stream",
     "text": [
      "visit_id;surfer;wave_power;location\r\n",
      "146097;3;37.6;Rocky Point\r\n",
      "146087;3;5.7;Chuns\r\n",
      "130395;3;-1;Noronha(Cacimba)\r\n",
      "130363;3;5;Rocky Point\r\n",
      "130362;3;11.3;Noronha(Conceicao)\r\n",
      "130360;3;8.9;Noronha(Boldo)\r\n",
      "126903;3;32.7;Pupuke\r\n",
      "126902;3;missing-data;Pupukea;;\r\n",
      "126591;3;9.7;Ehukai\r\n",
      "126590;3;10.4;Changes\r\n",
      "126341;3;8.2;Changes\r\n",
      "126340;3;38.6;Laniakea;\r\n",
      "125540;3;34.1;Laniakea\r\n",
      "122199;3;14.4;Glass Doors\r\n",
      "121170;3;34.9;Walter’s West\r\n",
      "120454;3;-1;Gas Chambers\r\n",
      "119736;3;21.7;Rocky Point;\r\n",
      "119735;3;21.2;Rocky Point;;\r\n"
     ]
    }
   ],
   "source": [
    "# Read file data/exercises/surfing_sessions_w_problems.csv with read_csv\n",
    "! tail -30 data/exercises/surfing_sessions_w_problems.csv\n",
    "fields=['visit_id','surfer','wave_power','location']\n",
    "df3 = pd.read_csv('data/exercises/surfing_sessions_w_problems.csv', sep=';', index_col=0, usecols=fields,\n",
    "                 na_values= {'wave_power':['missing-data', '-1']})\n",
    "df3=df3.drop([126902, 119735,126340,119736], axis=0)\n",
    "#! wc -l < data/exercises/surfing_sessions_w_problems.csv\n",
    "# YOUR CODE HERE\n",
    "#raise NotImplementedError()"
   ]
  },
  {
   "cell_type": "code",
   "execution_count": 59,
   "metadata": {},
   "outputs": [
    {
     "data": {
      "text/plain": [
       "17.741666666666667"
      ]
     },
     "execution_count": 59,
     "metadata": {},
     "output_type": "execute_result"
    }
   ],
   "source": [
    "#df3.index\n",
    "df3['wave_power'].mean()"
   ]
  },
  {
   "cell_type": "code",
   "execution_count": 74,
   "metadata": {},
   "outputs": [
    {
     "data": {
      "text/plain": [
       "surfer          int64\n",
       "wave_power    float64\n",
       "location       object\n",
       "dtype: object"
      ]
     },
     "execution_count": 74,
     "metadata": {},
     "output_type": "execute_result"
    }
   ],
   "source": [
    "df3.dtypes"
   ]
  },
  {
   "cell_type": "code",
   "execution_count": 60,
   "metadata": {
    "deletable": false,
    "editable": false,
    "nbgrader": {
     "grade": true,
     "grade_id": "cell-601b354802964776",
     "locked": true,
     "points": 2,
     "schema_version": 3,
     "solution": false
    }
   },
   "outputs": [],
   "source": [
    "assert np.isnan(df3.loc[130395, 'wave_power']), \"df3 data is wrong\"\n",
    "assert df3.loc[126903, 'wave_power'] == 32.7, \"df3  data is wrong\"\n",
    "\n",
    "mean_wave_power = df3['wave_power'].mean()\n",
    "assert math.isclose(17.741, mean_wave_power, rel_tol=1e-3), \"df3 data is wrong\"\n",
    "\n",
    "expected_hash = 'a27dd8b953f484c0d74059da102e4b8e513630292de5d17ff5585fc6743d62f0'\n",
    "assert hashlib.sha256(df3.index.name.encode()).hexdigest() == expected_hash"
   ]
  },
  {
   "cell_type": "markdown",
   "metadata": {
    "deletable": false,
    "editable": false,
    "nbgrader": {
     "grade": false,
     "grade_id": "cell-5cfd5a97b1c49a0e",
     "locked": true,
     "schema_version": 3,
     "solution": false
    }
   },
   "source": [
    "## Q4: Repair a csv file after importing\n",
    "Read the same file **data/exercises/surfing_sessions_w_problems.csv** using function `csv.reader()`. But now, be sure you don't miss any lines with relevant information! \n",
    "\n",
    "* use csv module to import everything to a list of lists\n",
    "* create a df with only 4 meaningful columns and then \n",
    "* replace garbage values with NaN's \n",
    "* format the columns with the right type\n",
    "* set the index of the df to column `visit_id`"
   ]
  },
  {
   "cell_type": "code",
   "execution_count": 78,
   "metadata": {
    "deletable": false,
    "nbgrader": {
     "grade": false,
     "grade_id": "cell-119041388e17fb72",
     "locked": false,
     "schema_version": 3,
     "solution": true
    }
   },
   "outputs": [],
   "source": [
    "# Read file data/exercises/surfing_sessions_w_problems.csv using csv.reader() and add result to\n",
    "f = open('data/exercises/surfing_sessions_w_problems.csv', 'r')\n",
    "\n",
    "# read the csv into a list of lists\n",
    "lines = list(csv.reader(f, delimiter= ';'))\n",
    "lines = [i[:4] for i in lines]\n",
    "f.close() \n",
    "# YOUR CODE HERE\n",
    "#raise NotImplementedError()\n",
    "# create a dataframe using the line list with only 4 columns\n",
    "df4 = pd.DataFrame(lines[1:], columns=lines[0])\n",
    "# YOUR CODE HERE\n",
    "#raise NotImplementedError()\n",
    "# replace invalid values with nan (np.nan)\n",
    "df4['wave_power'] = df4['wave_power'].replace({'missing-data':np.nan, '-1': np.nan})\n",
    "# YOUR CODE HERE\n",
    "#raise NotImplementedError()\n",
    "# set types per dataframe column (always use int64 when int's are needed)\n",
    "df4['visit_id'] = df4['visit_id'].astype('int64')\n",
    "df4['surfer'] = df4['surfer'].astype('int64')\n",
    "df4['wave_power'] = df4['wave_power'].astype('float64')\n",
    "df4['location'] = df4['location'].astype('object')\n",
    "#raise NotImplementedError()\n",
    "# set a new index to the dataframe\n",
    "df4=df4.set_index('visit_id')\n",
    "#raise NotImplementedError()\n",
    "\n"
   ]
  },
  {
   "cell_type": "code",
   "execution_count": 79,
   "metadata": {},
   "outputs": [
    {
     "data": {
      "text/html": [
       "<div>\n",
       "<style scoped>\n",
       "    .dataframe tbody tr th:only-of-type {\n",
       "        vertical-align: middle;\n",
       "    }\n",
       "\n",
       "    .dataframe tbody tr th {\n",
       "        vertical-align: top;\n",
       "    }\n",
       "\n",
       "    .dataframe thead th {\n",
       "        text-align: right;\n",
       "    }\n",
       "</style>\n",
       "<table border=\"1\" class=\"dataframe\">\n",
       "  <thead>\n",
       "    <tr style=\"text-align: right;\">\n",
       "      <th></th>\n",
       "      <th>surfer</th>\n",
       "      <th>wave_power</th>\n",
       "      <th>location</th>\n",
       "    </tr>\n",
       "    <tr>\n",
       "      <th>visit_id</th>\n",
       "      <th></th>\n",
       "      <th></th>\n",
       "      <th></th>\n",
       "    </tr>\n",
       "  </thead>\n",
       "  <tbody>\n",
       "    <tr>\n",
       "      <th>146097</th>\n",
       "      <td>3</td>\n",
       "      <td>37.6</td>\n",
       "      <td>Rocky Point</td>\n",
       "    </tr>\n",
       "    <tr>\n",
       "      <th>146087</th>\n",
       "      <td>3</td>\n",
       "      <td>5.7</td>\n",
       "      <td>Chuns</td>\n",
       "    </tr>\n",
       "    <tr>\n",
       "      <th>130395</th>\n",
       "      <td>3</td>\n",
       "      <td>NaN</td>\n",
       "      <td>Noronha(Cacimba)</td>\n",
       "    </tr>\n",
       "    <tr>\n",
       "      <th>130363</th>\n",
       "      <td>3</td>\n",
       "      <td>5.0</td>\n",
       "      <td>Rocky Point</td>\n",
       "    </tr>\n",
       "    <tr>\n",
       "      <th>130362</th>\n",
       "      <td>3</td>\n",
       "      <td>11.3</td>\n",
       "      <td>Noronha(Conceicao)</td>\n",
       "    </tr>\n",
       "    <tr>\n",
       "      <th>130360</th>\n",
       "      <td>3</td>\n",
       "      <td>8.9</td>\n",
       "      <td>Noronha(Boldo)</td>\n",
       "    </tr>\n",
       "    <tr>\n",
       "      <th>126903</th>\n",
       "      <td>3</td>\n",
       "      <td>32.7</td>\n",
       "      <td>Pupuke</td>\n",
       "    </tr>\n",
       "    <tr>\n",
       "      <th>126902</th>\n",
       "      <td>3</td>\n",
       "      <td>NaN</td>\n",
       "      <td>Pupukea</td>\n",
       "    </tr>\n",
       "    <tr>\n",
       "      <th>126591</th>\n",
       "      <td>3</td>\n",
       "      <td>9.7</td>\n",
       "      <td>Ehukai</td>\n",
       "    </tr>\n",
       "    <tr>\n",
       "      <th>126590</th>\n",
       "      <td>3</td>\n",
       "      <td>10.4</td>\n",
       "      <td>Changes</td>\n",
       "    </tr>\n",
       "    <tr>\n",
       "      <th>126341</th>\n",
       "      <td>3</td>\n",
       "      <td>8.2</td>\n",
       "      <td>Changes</td>\n",
       "    </tr>\n",
       "    <tr>\n",
       "      <th>126340</th>\n",
       "      <td>3</td>\n",
       "      <td>38.6</td>\n",
       "      <td>Laniakea</td>\n",
       "    </tr>\n",
       "    <tr>\n",
       "      <th>125540</th>\n",
       "      <td>3</td>\n",
       "      <td>34.1</td>\n",
       "      <td>Laniakea</td>\n",
       "    </tr>\n",
       "    <tr>\n",
       "      <th>122199</th>\n",
       "      <td>3</td>\n",
       "      <td>14.4</td>\n",
       "      <td>Glass Doors</td>\n",
       "    </tr>\n",
       "    <tr>\n",
       "      <th>121170</th>\n",
       "      <td>3</td>\n",
       "      <td>34.9</td>\n",
       "      <td>Walter’s West</td>\n",
       "    </tr>\n",
       "    <tr>\n",
       "      <th>120454</th>\n",
       "      <td>3</td>\n",
       "      <td>NaN</td>\n",
       "      <td>Gas Chambers</td>\n",
       "    </tr>\n",
       "    <tr>\n",
       "      <th>119736</th>\n",
       "      <td>3</td>\n",
       "      <td>21.7</td>\n",
       "      <td>Rocky Point</td>\n",
       "    </tr>\n",
       "    <tr>\n",
       "      <th>119735</th>\n",
       "      <td>3</td>\n",
       "      <td>21.2</td>\n",
       "      <td>Rocky Point</td>\n",
       "    </tr>\n",
       "  </tbody>\n",
       "</table>\n",
       "</div>"
      ],
      "text/plain": [
       "          surfer  wave_power            location\n",
       "visit_id                                        \n",
       "146097         3        37.6         Rocky Point\n",
       "146087         3         5.7               Chuns\n",
       "130395         3         NaN    Noronha(Cacimba)\n",
       "130363         3         5.0         Rocky Point\n",
       "130362         3        11.3  Noronha(Conceicao)\n",
       "130360         3         8.9      Noronha(Boldo)\n",
       "126903         3        32.7              Pupuke\n",
       "126902         3         NaN             Pupukea\n",
       "126591         3         9.7              Ehukai\n",
       "126590         3        10.4             Changes\n",
       "126341         3         8.2             Changes\n",
       "126340         3        38.6            Laniakea\n",
       "125540         3        34.1            Laniakea\n",
       "122199         3        14.4         Glass Doors\n",
       "121170         3        34.9       Walter’s West\n",
       "120454         3         NaN        Gas Chambers\n",
       "119736         3        21.7         Rocky Point\n",
       "119735         3        21.2         Rocky Point"
      ]
     },
     "execution_count": 79,
     "metadata": {},
     "output_type": "execute_result"
    }
   ],
   "source": [
    "df4.head(20)"
   ]
  },
  {
   "cell_type": "code",
   "execution_count": 80,
   "metadata": {
    "deletable": false,
    "editable": false,
    "nbgrader": {
     "grade": true,
     "grade_id": "cell-a42299f9047590d5",
     "locked": true,
     "points": 2,
     "schema_version": 3,
     "solution": false
    }
   },
   "outputs": [],
   "source": [
    "assert np.isnan(df4.loc[130395, 'wave_power']), \"df4 content is wrong\"\n",
    "assert df4.loc[126340, 'wave_power'] == 38.6, \"df4 content is wrong\"\n",
    "\n",
    "mean_wave_power = df4['wave_power'].mean()\n",
    "assert math.isclose(19.626, mean_wave_power, rel_tol=1e-3), \"df4 content is wrong\"\n",
    "\n",
    "assert df4['surfer'].dtype == np.int64, \"df4 types are wrong\"\n",
    "assert df4['location'].dtype == object, \"df4 types are wrong\"\n",
    "assert df4['wave_power'].dtype == float, \"df4 types are wrong\"\n",
    "assert df4.index.dtype == np.int64, \"df4 types are wrong\"\n",
    "\n",
    "\n",
    "expected_hash = 'a27dd8b953f484c0d74059da102e4b8e513630292de5d17ff5585fc6743d62f0'\n",
    "assert hashlib.sha256(df4.index.name.encode()).hexdigest() == expected_hash"
   ]
  },
  {
   "cell_type": "markdown",
   "metadata": {
    "deletable": false,
    "editable": false,
    "nbgrader": {
     "grade": false,
     "grade_id": "cell-389bc42fe462c70e",
     "locked": true,
     "schema_version": 3,
     "solution": false
    }
   },
   "source": [
    "## Q5: Read a JSON file\n",
    "\n",
    "Read file **data/exercises/portugal_production_of_electricity_gwh.json**."
   ]
  },
  {
   "cell_type": "code",
   "execution_count": 92,
   "metadata": {
    "deletable": false,
    "nbgrader": {
     "grade": false,
     "grade_id": "cell-5c2125479f7e50e5",
     "locked": false,
     "schema_version": 3,
     "solution": true
    }
   },
   "outputs": [],
   "source": [
    "# Read file data/exercises/portugal_production_of_electricity_gwh.json with read_json\n",
    "#! cat data/exercises/portugal_production_of_electricity_gwh.json\n",
    "df5 = pd.read_json('data/exercises/portugal_production_of_electricity_gwh.json', orient='table')\n",
    "#df5.head()\n",
    "# YOUR CODE HERE\n",
    "#raise NotImplementedError()"
   ]
  },
  {
   "cell_type": "code",
   "execution_count": 94,
   "metadata": {},
   "outputs": [
    {
     "data": {
      "text/html": [
       "<div>\n",
       "<style scoped>\n",
       "    .dataframe tbody tr th:only-of-type {\n",
       "        vertical-align: middle;\n",
       "    }\n",
       "\n",
       "    .dataframe tbody tr th {\n",
       "        vertical-align: top;\n",
       "    }\n",
       "\n",
       "    .dataframe thead th {\n",
       "        text-align: right;\n",
       "    }\n",
       "</style>\n",
       "<table border=\"1\" class=\"dataframe\">\n",
       "  <thead>\n",
       "    <tr style=\"text-align: right;\">\n",
       "      <th></th>\n",
       "      <th>Year</th>\n",
       "      <th>Total</th>\n",
       "      <th>Total renewables</th>\n",
       "      <th>Hydropower &gt; 10MW</th>\n",
       "      <th>Hydropower &lt; 10MW</th>\n",
       "      <th>Biomass</th>\n",
       "      <th>Windpower</th>\n",
       "      <th>Geothermal power</th>\n",
       "      <th>Photovoltaic</th>\n",
       "    </tr>\n",
       "  </thead>\n",
       "  <tbody>\n",
       "    <tr>\n",
       "      <th>0</th>\n",
       "      <td>1995</td>\n",
       "      <td>33264</td>\n",
       "      <td>9501</td>\n",
       "      <td>7962</td>\n",
       "      <td>492</td>\n",
       "      <td>988</td>\n",
       "      <td>16</td>\n",
       "      <td>42</td>\n",
       "      <td>1</td>\n",
       "    </tr>\n",
       "    <tr>\n",
       "      <th>1</th>\n",
       "      <td>1996</td>\n",
       "      <td>34520</td>\n",
       "      <td>15895</td>\n",
       "      <td>14007</td>\n",
       "      <td>658</td>\n",
       "      <td>959</td>\n",
       "      <td>21</td>\n",
       "      <td>49</td>\n",
       "      <td>1</td>\n",
       "    </tr>\n",
       "    <tr>\n",
       "      <th>2</th>\n",
       "      <td>1997</td>\n",
       "      <td>34207</td>\n",
       "      <td>14301</td>\n",
       "      <td>12537</td>\n",
       "      <td>638</td>\n",
       "      <td>1036</td>\n",
       "      <td>38</td>\n",
       "      <td>51</td>\n",
       "      <td>1</td>\n",
       "    </tr>\n",
       "    <tr>\n",
       "      <th>3</th>\n",
       "      <td>1998</td>\n",
       "      <td>38984</td>\n",
       "      <td>14224</td>\n",
       "      <td>12488</td>\n",
       "      <td>566</td>\n",
       "      <td>1022</td>\n",
       "      <td>89</td>\n",
       "      <td>58</td>\n",
       "      <td>1</td>\n",
       "    </tr>\n",
       "    <tr>\n",
       "      <th>4</th>\n",
       "      <td>1999</td>\n",
       "      <td>43287</td>\n",
       "      <td>8915</td>\n",
       "      <td>7042</td>\n",
       "      <td>589</td>\n",
       "      <td>1081</td>\n",
       "      <td>122</td>\n",
       "      <td>80</td>\n",
       "      <td>1</td>\n",
       "    </tr>\n",
       "    <tr>\n",
       "      <th>5</th>\n",
       "      <td>2000</td>\n",
       "      <td>43764</td>\n",
       "      <td>13260</td>\n",
       "      <td>11040</td>\n",
       "      <td>675</td>\n",
       "      <td>1296</td>\n",
       "      <td>168</td>\n",
       "      <td>80</td>\n",
       "      <td>1</td>\n",
       "    </tr>\n",
       "    <tr>\n",
       "      <th>6</th>\n",
       "      <td>2001</td>\n",
       "      <td>46509</td>\n",
       "      <td>16083</td>\n",
       "      <td>13605</td>\n",
       "      <td>770</td>\n",
       "      <td>1345</td>\n",
       "      <td>256</td>\n",
       "      <td>105</td>\n",
       "      <td>2</td>\n",
       "    </tr>\n",
       "    <tr>\n",
       "      <th>7</th>\n",
       "      <td>2002</td>\n",
       "      <td>46107</td>\n",
       "      <td>10190</td>\n",
       "      <td>7551</td>\n",
       "      <td>706</td>\n",
       "      <td>1473</td>\n",
       "      <td>362</td>\n",
       "      <td>96</td>\n",
       "      <td>2</td>\n",
       "    </tr>\n",
       "    <tr>\n",
       "      <th>8</th>\n",
       "      <td>2003</td>\n",
       "      <td>46852</td>\n",
       "      <td>18037</td>\n",
       "      <td>15163</td>\n",
       "      <td>891</td>\n",
       "      <td>1394</td>\n",
       "      <td>496</td>\n",
       "      <td>90</td>\n",
       "      <td>3</td>\n",
       "    </tr>\n",
       "    <tr>\n",
       "      <th>9</th>\n",
       "      <td>2004</td>\n",
       "      <td>45105</td>\n",
       "      <td>12597</td>\n",
       "      <td>9570</td>\n",
       "      <td>577</td>\n",
       "      <td>1547</td>\n",
       "      <td>816</td>\n",
       "      <td>84</td>\n",
       "      <td>3</td>\n",
       "    </tr>\n",
       "    <tr>\n",
       "      <th>10</th>\n",
       "      <td>2005</td>\n",
       "      <td>46575</td>\n",
       "      <td>8616</td>\n",
       "      <td>4737</td>\n",
       "      <td>381</td>\n",
       "      <td>1651</td>\n",
       "      <td>1773</td>\n",
       "      <td>71</td>\n",
       "      <td>3</td>\n",
       "    </tr>\n",
       "    <tr>\n",
       "      <th>11</th>\n",
       "      <td>2006</td>\n",
       "      <td>49041</td>\n",
       "      <td>16187</td>\n",
       "      <td>10633</td>\n",
       "      <td>834</td>\n",
       "      <td>1704</td>\n",
       "      <td>2926</td>\n",
       "      <td>85</td>\n",
       "      <td>5</td>\n",
       "    </tr>\n",
       "    <tr>\n",
       "      <th>12</th>\n",
       "      <td>2007</td>\n",
       "      <td>47253</td>\n",
       "      <td>16593</td>\n",
       "      <td>9927</td>\n",
       "      <td>522</td>\n",
       "      <td>1882</td>\n",
       "      <td>4037</td>\n",
       "      <td>201</td>\n",
       "      <td>24</td>\n",
       "    </tr>\n",
       "    <tr>\n",
       "      <th>13</th>\n",
       "      <td>2008</td>\n",
       "      <td>45969</td>\n",
       "      <td>15140</td>\n",
       "      <td>6781</td>\n",
       "      <td>517</td>\n",
       "      <td>1852</td>\n",
       "      <td>5757</td>\n",
       "      <td>192</td>\n",
       "      <td>41</td>\n",
       "    </tr>\n",
       "    <tr>\n",
       "      <th>14</th>\n",
       "      <td>2009</td>\n",
       "      <td>50207</td>\n",
       "      <td>19017</td>\n",
       "      <td>8108</td>\n",
       "      <td>901</td>\n",
       "      <td>2087</td>\n",
       "      <td>7577</td>\n",
       "      <td>184</td>\n",
       "      <td>160</td>\n",
       "    </tr>\n",
       "    <tr>\n",
       "      <th>15</th>\n",
       "      <td>2010</td>\n",
       "      <td>54093</td>\n",
       "      <td>28755</td>\n",
       "      <td>15459</td>\n",
       "      <td>1088</td>\n",
       "      <td>2614</td>\n",
       "      <td>9182</td>\n",
       "      <td>197</td>\n",
       "      <td>215</td>\n",
       "    </tr>\n",
       "    <tr>\n",
       "      <th>16</th>\n",
       "      <td>2011</td>\n",
       "      <td>52465</td>\n",
       "      <td>24691</td>\n",
       "      <td>11294</td>\n",
       "      <td>820</td>\n",
       "      <td>2923</td>\n",
       "      <td>9162</td>\n",
       "      <td>210</td>\n",
       "      <td>282</td>\n",
       "    </tr>\n",
       "    <tr>\n",
       "      <th>17</th>\n",
       "      <td>2012</td>\n",
       "      <td>46614</td>\n",
       "      <td>20410</td>\n",
       "      <td>6093</td>\n",
       "      <td>567</td>\n",
       "      <td>2951</td>\n",
       "      <td>10260</td>\n",
       "      <td>146</td>\n",
       "      <td>393</td>\n",
       "    </tr>\n",
       "    <tr>\n",
       "      <th>18</th>\n",
       "      <td>2013</td>\n",
       "      <td>51673</td>\n",
       "      <td>30610</td>\n",
       "      <td>13701</td>\n",
       "      <td>1167</td>\n",
       "      <td>3051</td>\n",
       "      <td>12015</td>\n",
       "      <td>197</td>\n",
       "      <td>479</td>\n",
       "    </tr>\n",
       "    <tr>\n",
       "      <th>19</th>\n",
       "      <td>2014</td>\n",
       "      <td>52802</td>\n",
       "      <td>32405</td>\n",
       "      <td>15071</td>\n",
       "      <td>1341</td>\n",
       "      <td>3049</td>\n",
       "      <td>12111</td>\n",
       "      <td>205</td>\n",
       "      <td>627</td>\n",
       "    </tr>\n",
       "    <tr>\n",
       "      <th>20</th>\n",
       "      <td>2015</td>\n",
       "      <td>52423</td>\n",
       "      <td>25514</td>\n",
       "      <td>9048</td>\n",
       "      <td>752</td>\n",
       "      <td>3104</td>\n",
       "      <td>11608</td>\n",
       "      <td>204</td>\n",
       "      <td>799</td>\n",
       "    </tr>\n",
       "    <tr>\n",
       "      <th>21</th>\n",
       "      <td>2016</td>\n",
       "      <td>60279</td>\n",
       "      <td>33448</td>\n",
       "      <td>15689</td>\n",
       "      <td>1221</td>\n",
       "      <td>3070</td>\n",
       "      <td>12474</td>\n",
       "      <td>172</td>\n",
       "      <td>822</td>\n",
       "    </tr>\n",
       "    <tr>\n",
       "      <th>22</th>\n",
       "      <td>2017</td>\n",
       "      <td>59432</td>\n",
       "      <td>24309</td>\n",
       "      <td>7009</td>\n",
       "      <td>623</td>\n",
       "      <td>3220</td>\n",
       "      <td>12248</td>\n",
       "      <td>217</td>\n",
       "      <td>992</td>\n",
       "    </tr>\n",
       "  </tbody>\n",
       "</table>\n",
       "</div>"
      ],
      "text/plain": [
       "    Year  Total  Total renewables  Hydropower > 10MW  Hydropower < 10MW  \\\n",
       "0   1995  33264              9501               7962                492   \n",
       "1   1996  34520             15895              14007                658   \n",
       "2   1997  34207             14301              12537                638   \n",
       "3   1998  38984             14224              12488                566   \n",
       "4   1999  43287              8915               7042                589   \n",
       "5   2000  43764             13260              11040                675   \n",
       "6   2001  46509             16083              13605                770   \n",
       "7   2002  46107             10190               7551                706   \n",
       "8   2003  46852             18037              15163                891   \n",
       "9   2004  45105             12597               9570                577   \n",
       "10  2005  46575              8616               4737                381   \n",
       "11  2006  49041             16187              10633                834   \n",
       "12  2007  47253             16593               9927                522   \n",
       "13  2008  45969             15140               6781                517   \n",
       "14  2009  50207             19017               8108                901   \n",
       "15  2010  54093             28755              15459               1088   \n",
       "16  2011  52465             24691              11294                820   \n",
       "17  2012  46614             20410               6093                567   \n",
       "18  2013  51673             30610              13701               1167   \n",
       "19  2014  52802             32405              15071               1341   \n",
       "20  2015  52423             25514               9048                752   \n",
       "21  2016  60279             33448              15689               1221   \n",
       "22  2017  59432             24309               7009                623   \n",
       "\n",
       "    Biomass  Windpower  Geothermal power  Photovoltaic  \n",
       "0       988         16                42             1  \n",
       "1       959         21                49             1  \n",
       "2      1036         38                51             1  \n",
       "3      1022         89                58             1  \n",
       "4      1081        122                80             1  \n",
       "5      1296        168                80             1  \n",
       "6      1345        256               105             2  \n",
       "7      1473        362                96             2  \n",
       "8      1394        496                90             3  \n",
       "9      1547        816                84             3  \n",
       "10     1651       1773                71             3  \n",
       "11     1704       2926                85             5  \n",
       "12     1882       4037               201            24  \n",
       "13     1852       5757               192            41  \n",
       "14     2087       7577               184           160  \n",
       "15     2614       9182               197           215  \n",
       "16     2923       9162               210           282  \n",
       "17     2951      10260               146           393  \n",
       "18     3051      12015               197           479  \n",
       "19     3049      12111               205           627  \n",
       "20     3104      11608               204           799  \n",
       "21     3070      12474               172           822  \n",
       "22     3220      12248               217           992  "
      ]
     },
     "execution_count": 94,
     "metadata": {},
     "output_type": "execute_result"
    }
   ],
   "source": [
    "df5"
   ]
  },
  {
   "cell_type": "code",
   "execution_count": 93,
   "metadata": {
    "deletable": false,
    "editable": false,
    "nbgrader": {
     "grade": true,
     "grade_id": "cell-3f085fa2cdad9319",
     "locked": true,
     "points": 2,
     "schema_version": 3,
     "solution": false
    }
   },
   "outputs": [],
   "source": [
    "assert len(df5) == 23\n",
    "assert set(df5.columns) == {'Biomass', 'Geothermal power', 'Hydropower < 10MW', 'Hydropower > 10MW', \n",
    "                           'Photovoltaic', 'Total','Total renewables','Windpower','Year'}, \"df5 columns are wrong\"\n",
    "\n",
    "expected_hash = '48beaa4bb16f0656bb4e4d3abb5da6ff6a50b52be037354f8c33455a7534102e'\n",
    "assert hashlib.sha256(str(df5.loc[:,'Hydropower > 10MW'].sum()).encode()).hexdigest() == expected_hash, \"df5 content is wrong\""
   ]
  },
  {
   "cell_type": "markdown",
   "metadata": {
    "deletable": false,
    "editable": false,
    "nbgrader": {
     "grade": false,
     "grade_id": "cell-4d4b970f55b3e427",
     "locked": true,
     "schema_version": 3,
     "solution": false
    }
   },
   "source": [
    "## Q6: Read an Excel file\n",
    "\n",
    "Read file **data/exercises/portugal_gas_emissions_per_year.xlsx** using function read_excel. Pay attention to the following:\n",
    "\n",
    "* you should grab the table \"Series\" in sheet \"metadata\"\n",
    "* use column 'Serie' as index\n",
    "* make sure you keep only the rows and columns with data\n",
    "* set the variable distinct_scales with the number of ... distinct scales found in the table"
   ]
  },
  {
   "cell_type": "code",
   "execution_count": 103,
   "metadata": {},
   "outputs": [
    {
     "name": "stdout",
     "output_type": "stream",
     "text": [
      "Collecting xlrd==1.2.0\n",
      "  Downloading xlrd-1.2.0-py2.py3-none-any.whl (103 kB)\n",
      "     |████████████████████████████████| 103 kB 3.1 MB/s            \n",
      "\u001b[?25hInstalling collected packages: xlrd\n",
      "  Attempting uninstall: xlrd\n",
      "    Found existing installation: xlrd 2.0.1\n",
      "    Uninstalling xlrd-2.0.1:\n",
      "      Successfully uninstalled xlrd-2.0.1\n",
      "Successfully installed xlrd-1.2.0\n"
     ]
    }
   ],
   "source": [
    "#! pip install xlrd==1.2.0\n",
    "#! pip install lxml==4.5.2\n",
    "#! pip install openpyxl==3"
   ]
  },
  {
   "cell_type": "code",
   "execution_count": 109,
   "metadata": {
    "deletable": false,
    "nbgrader": {
     "grade": false,
     "grade_id": "cell-017a7c31b0ddc38e",
     "locked": false,
     "schema_version": 3,
     "solution": true
    }
   },
   "outputs": [
    {
     "ename": "XLRDError",
     "evalue": "Excel xlsx file; not supported",
     "output_type": "error",
     "traceback": [
      "\u001b[0;31m---------------------------------------------------------------------------\u001b[0m",
      "\u001b[0;31mXLRDError\u001b[0m                                 Traceback (most recent call last)",
      "\u001b[0;32m<ipython-input-109-51bb698f3e2e>\u001b[0m in \u001b[0;36m<module>\u001b[0;34m\u001b[0m\n\u001b[1;32m      1\u001b[0m \u001b[0;31m# Read file data/exercises/portugal_gas_emissions_per_year.xlsx with read_excel\u001b[0m\u001b[0;34m\u001b[0m\u001b[0;34m\u001b[0m\u001b[0;34m\u001b[0m\u001b[0m\n\u001b[1;32m      2\u001b[0m \u001b[0;32mimport\u001b[0m \u001b[0mos\u001b[0m\u001b[0;34m\u001b[0m\u001b[0;34m\u001b[0m\u001b[0m\n\u001b[0;32m----> 3\u001b[0;31m \u001b[0mdf6\u001b[0m \u001b[0;34m=\u001b[0m \u001b[0mpd\u001b[0m\u001b[0;34m.\u001b[0m\u001b[0mread_excel\u001b[0m\u001b[0;34m(\u001b[0m\u001b[0mos\u001b[0m\u001b[0;34m.\u001b[0m\u001b[0mpath\u001b[0m\u001b[0;34m.\u001b[0m\u001b[0mjoin\u001b[0m\u001b[0;34m(\u001b[0m\u001b[0;34m'data'\u001b[0m\u001b[0;34m,\u001b[0m \u001b[0;34m'exercises'\u001b[0m\u001b[0;34m,\u001b[0m\u001b[0;34m'portugal_gas_emissions_per_year.xlsx'\u001b[0m\u001b[0;34m)\u001b[0m\u001b[0;34m,\u001b[0m \u001b[0msheet_name\u001b[0m\u001b[0;34m=\u001b[0m\u001b[0;34m\"metadata\"\u001b[0m\u001b[0;34m)\u001b[0m\u001b[0;34m\u001b[0m\u001b[0;34m\u001b[0m\u001b[0m\n\u001b[0m\u001b[1;32m      4\u001b[0m \u001b[0mdf6\u001b[0m\u001b[0;34m\u001b[0m\u001b[0;34m\u001b[0m\u001b[0m\n\u001b[1;32m      5\u001b[0m \u001b[0;31m# YOUR CODE HERE\u001b[0m\u001b[0;34m\u001b[0m\u001b[0;34m\u001b[0m\u001b[0;34m\u001b[0m\u001b[0m\n",
      "\u001b[0;32m~/.virtualenvs/slu00/lib/python3.6/site-packages/pandas/io/excel/_base.py\u001b[0m in \u001b[0;36mread_excel\u001b[0;34m(io, sheet_name, header, names, index_col, usecols, squeeze, dtype, engine, converters, true_values, false_values, skiprows, nrows, na_values, keep_default_na, verbose, parse_dates, date_parser, thousands, comment, skipfooter, convert_float, mangle_dupe_cols, **kwds)\u001b[0m\n\u001b[1;32m    302\u001b[0m \u001b[0;34m\u001b[0m\u001b[0m\n\u001b[1;32m    303\u001b[0m     \u001b[0;32mif\u001b[0m \u001b[0;32mnot\u001b[0m \u001b[0misinstance\u001b[0m\u001b[0;34m(\u001b[0m\u001b[0mio\u001b[0m\u001b[0;34m,\u001b[0m \u001b[0mExcelFile\u001b[0m\u001b[0;34m)\u001b[0m\u001b[0;34m:\u001b[0m\u001b[0;34m\u001b[0m\u001b[0;34m\u001b[0m\u001b[0m\n\u001b[0;32m--> 304\u001b[0;31m         \u001b[0mio\u001b[0m \u001b[0;34m=\u001b[0m \u001b[0mExcelFile\u001b[0m\u001b[0;34m(\u001b[0m\u001b[0mio\u001b[0m\u001b[0;34m,\u001b[0m \u001b[0mengine\u001b[0m\u001b[0;34m=\u001b[0m\u001b[0mengine\u001b[0m\u001b[0;34m)\u001b[0m\u001b[0;34m\u001b[0m\u001b[0;34m\u001b[0m\u001b[0m\n\u001b[0m\u001b[1;32m    305\u001b[0m     \u001b[0;32melif\u001b[0m \u001b[0mengine\u001b[0m \u001b[0;32mand\u001b[0m \u001b[0mengine\u001b[0m \u001b[0;34m!=\u001b[0m \u001b[0mio\u001b[0m\u001b[0;34m.\u001b[0m\u001b[0mengine\u001b[0m\u001b[0;34m:\u001b[0m\u001b[0;34m\u001b[0m\u001b[0;34m\u001b[0m\u001b[0m\n\u001b[1;32m    306\u001b[0m         raise ValueError(\n",
      "\u001b[0;32m~/.virtualenvs/slu00/lib/python3.6/site-packages/pandas/io/excel/_base.py\u001b[0m in \u001b[0;36m__init__\u001b[0;34m(self, io, engine)\u001b[0m\n\u001b[1;32m    822\u001b[0m         \u001b[0mself\u001b[0m\u001b[0;34m.\u001b[0m\u001b[0m_io\u001b[0m \u001b[0;34m=\u001b[0m \u001b[0mstringify_path\u001b[0m\u001b[0;34m(\u001b[0m\u001b[0mio\u001b[0m\u001b[0;34m)\u001b[0m\u001b[0;34m\u001b[0m\u001b[0;34m\u001b[0m\u001b[0m\n\u001b[1;32m    823\u001b[0m \u001b[0;34m\u001b[0m\u001b[0m\n\u001b[0;32m--> 824\u001b[0;31m         \u001b[0mself\u001b[0m\u001b[0;34m.\u001b[0m\u001b[0m_reader\u001b[0m \u001b[0;34m=\u001b[0m \u001b[0mself\u001b[0m\u001b[0;34m.\u001b[0m\u001b[0m_engines\u001b[0m\u001b[0;34m[\u001b[0m\u001b[0mengine\u001b[0m\u001b[0;34m]\u001b[0m\u001b[0;34m(\u001b[0m\u001b[0mself\u001b[0m\u001b[0;34m.\u001b[0m\u001b[0m_io\u001b[0m\u001b[0;34m)\u001b[0m\u001b[0;34m\u001b[0m\u001b[0;34m\u001b[0m\u001b[0m\n\u001b[0m\u001b[1;32m    825\u001b[0m \u001b[0;34m\u001b[0m\u001b[0m\n\u001b[1;32m    826\u001b[0m     \u001b[0;32mdef\u001b[0m \u001b[0m__fspath__\u001b[0m\u001b[0;34m(\u001b[0m\u001b[0mself\u001b[0m\u001b[0;34m)\u001b[0m\u001b[0;34m:\u001b[0m\u001b[0;34m\u001b[0m\u001b[0;34m\u001b[0m\u001b[0m\n",
      "\u001b[0;32m~/.virtualenvs/slu00/lib/python3.6/site-packages/pandas/io/excel/_xlrd.py\u001b[0m in \u001b[0;36m__init__\u001b[0;34m(self, filepath_or_buffer)\u001b[0m\n\u001b[1;32m     19\u001b[0m         \u001b[0merr_msg\u001b[0m \u001b[0;34m=\u001b[0m \u001b[0;34m\"Install xlrd >= 1.0.0 for Excel support\"\u001b[0m\u001b[0;34m\u001b[0m\u001b[0;34m\u001b[0m\u001b[0m\n\u001b[1;32m     20\u001b[0m         \u001b[0mimport_optional_dependency\u001b[0m\u001b[0;34m(\u001b[0m\u001b[0;34m\"xlrd\"\u001b[0m\u001b[0;34m,\u001b[0m \u001b[0mextra\u001b[0m\u001b[0;34m=\u001b[0m\u001b[0merr_msg\u001b[0m\u001b[0;34m)\u001b[0m\u001b[0;34m\u001b[0m\u001b[0;34m\u001b[0m\u001b[0m\n\u001b[0;32m---> 21\u001b[0;31m         \u001b[0msuper\u001b[0m\u001b[0;34m(\u001b[0m\u001b[0;34m)\u001b[0m\u001b[0;34m.\u001b[0m\u001b[0m__init__\u001b[0m\u001b[0;34m(\u001b[0m\u001b[0mfilepath_or_buffer\u001b[0m\u001b[0;34m)\u001b[0m\u001b[0;34m\u001b[0m\u001b[0;34m\u001b[0m\u001b[0m\n\u001b[0m\u001b[1;32m     22\u001b[0m \u001b[0;34m\u001b[0m\u001b[0m\n\u001b[1;32m     23\u001b[0m     \u001b[0;34m@\u001b[0m\u001b[0mproperty\u001b[0m\u001b[0;34m\u001b[0m\u001b[0;34m\u001b[0m\u001b[0m\n",
      "\u001b[0;32m~/.virtualenvs/slu00/lib/python3.6/site-packages/pandas/io/excel/_base.py\u001b[0m in \u001b[0;36m__init__\u001b[0;34m(self, filepath_or_buffer)\u001b[0m\n\u001b[1;32m    351\u001b[0m             \u001b[0mself\u001b[0m\u001b[0;34m.\u001b[0m\u001b[0mbook\u001b[0m \u001b[0;34m=\u001b[0m \u001b[0mself\u001b[0m\u001b[0;34m.\u001b[0m\u001b[0mload_workbook\u001b[0m\u001b[0;34m(\u001b[0m\u001b[0mfilepath_or_buffer\u001b[0m\u001b[0;34m)\u001b[0m\u001b[0;34m\u001b[0m\u001b[0;34m\u001b[0m\u001b[0m\n\u001b[1;32m    352\u001b[0m         \u001b[0;32melif\u001b[0m \u001b[0misinstance\u001b[0m\u001b[0;34m(\u001b[0m\u001b[0mfilepath_or_buffer\u001b[0m\u001b[0;34m,\u001b[0m \u001b[0mstr\u001b[0m\u001b[0;34m)\u001b[0m\u001b[0;34m:\u001b[0m\u001b[0;34m\u001b[0m\u001b[0;34m\u001b[0m\u001b[0m\n\u001b[0;32m--> 353\u001b[0;31m             \u001b[0mself\u001b[0m\u001b[0;34m.\u001b[0m\u001b[0mbook\u001b[0m \u001b[0;34m=\u001b[0m \u001b[0mself\u001b[0m\u001b[0;34m.\u001b[0m\u001b[0mload_workbook\u001b[0m\u001b[0;34m(\u001b[0m\u001b[0mfilepath_or_buffer\u001b[0m\u001b[0;34m)\u001b[0m\u001b[0;34m\u001b[0m\u001b[0;34m\u001b[0m\u001b[0m\n\u001b[0m\u001b[1;32m    354\u001b[0m         \u001b[0;32melif\u001b[0m \u001b[0misinstance\u001b[0m\u001b[0;34m(\u001b[0m\u001b[0mfilepath_or_buffer\u001b[0m\u001b[0;34m,\u001b[0m \u001b[0mbytes\u001b[0m\u001b[0;34m)\u001b[0m\u001b[0;34m:\u001b[0m\u001b[0;34m\u001b[0m\u001b[0;34m\u001b[0m\u001b[0m\n\u001b[1;32m    355\u001b[0m             \u001b[0mself\u001b[0m\u001b[0;34m.\u001b[0m\u001b[0mbook\u001b[0m \u001b[0;34m=\u001b[0m \u001b[0mself\u001b[0m\u001b[0;34m.\u001b[0m\u001b[0mload_workbook\u001b[0m\u001b[0;34m(\u001b[0m\u001b[0mBytesIO\u001b[0m\u001b[0;34m(\u001b[0m\u001b[0mfilepath_or_buffer\u001b[0m\u001b[0;34m)\u001b[0m\u001b[0;34m)\u001b[0m\u001b[0;34m\u001b[0m\u001b[0;34m\u001b[0m\u001b[0m\n",
      "\u001b[0;32m~/.virtualenvs/slu00/lib/python3.6/site-packages/pandas/io/excel/_xlrd.py\u001b[0m in \u001b[0;36mload_workbook\u001b[0;34m(self, filepath_or_buffer)\u001b[0m\n\u001b[1;32m     34\u001b[0m             \u001b[0;32mreturn\u001b[0m \u001b[0mopen_workbook\u001b[0m\u001b[0;34m(\u001b[0m\u001b[0mfile_contents\u001b[0m\u001b[0;34m=\u001b[0m\u001b[0mdata\u001b[0m\u001b[0;34m)\u001b[0m\u001b[0;34m\u001b[0m\u001b[0;34m\u001b[0m\u001b[0m\n\u001b[1;32m     35\u001b[0m         \u001b[0;32melse\u001b[0m\u001b[0;34m:\u001b[0m\u001b[0;34m\u001b[0m\u001b[0;34m\u001b[0m\u001b[0m\n\u001b[0;32m---> 36\u001b[0;31m             \u001b[0;32mreturn\u001b[0m \u001b[0mopen_workbook\u001b[0m\u001b[0;34m(\u001b[0m\u001b[0mfilepath_or_buffer\u001b[0m\u001b[0;34m)\u001b[0m\u001b[0;34m\u001b[0m\u001b[0;34m\u001b[0m\u001b[0m\n\u001b[0m\u001b[1;32m     37\u001b[0m \u001b[0;34m\u001b[0m\u001b[0m\n\u001b[1;32m     38\u001b[0m     \u001b[0;34m@\u001b[0m\u001b[0mproperty\u001b[0m\u001b[0;34m\u001b[0m\u001b[0;34m\u001b[0m\u001b[0m\n",
      "\u001b[0;32m~/.virtualenvs/slu00/lib/python3.6/site-packages/xlrd/__init__.py\u001b[0m in \u001b[0;36mopen_workbook\u001b[0;34m(filename, logfile, verbosity, use_mmap, file_contents, encoding_override, formatting_info, on_demand, ragged_rows, ignore_workbook_corruption)\u001b[0m\n\u001b[1;32m    168\u001b[0m     \u001b[0;34m:\u001b[0m\u001b[0mparam\u001b[0m \u001b[0munnumbered\u001b[0m\u001b[0;34m:\u001b[0m \u001b[0mIf\u001b[0m \u001b[0mtrue\u001b[0m\u001b[0;34m,\u001b[0m \u001b[0momit\u001b[0m \u001b[0moffsets\u001b[0m \u001b[0;34m(\u001b[0m\u001b[0;32mfor\u001b[0m \u001b[0mmeaningful\u001b[0m \u001b[0mdiffs\u001b[0m\u001b[0;34m)\u001b[0m\u001b[0;34m.\u001b[0m\u001b[0;34m\u001b[0m\u001b[0;34m\u001b[0m\u001b[0m\n\u001b[1;32m    169\u001b[0m     \"\"\"\n\u001b[0;32m--> 170\u001b[0;31m     \u001b[0;32mfrom\u001b[0m \u001b[0;34m.\u001b[0m\u001b[0mbiffh\u001b[0m \u001b[0;32mimport\u001b[0m \u001b[0mbiff_dump\u001b[0m\u001b[0;34m\u001b[0m\u001b[0;34m\u001b[0m\u001b[0m\n\u001b[0m\u001b[1;32m    171\u001b[0m     \u001b[0mbk\u001b[0m \u001b[0;34m=\u001b[0m \u001b[0mBook\u001b[0m\u001b[0;34m(\u001b[0m\u001b[0;34m)\u001b[0m\u001b[0;34m\u001b[0m\u001b[0;34m\u001b[0m\u001b[0m\n\u001b[1;32m    172\u001b[0m     \u001b[0mbk\u001b[0m\u001b[0;34m.\u001b[0m\u001b[0mbiff2_8_load\u001b[0m\u001b[0;34m(\u001b[0m\u001b[0mfilename\u001b[0m\u001b[0;34m=\u001b[0m\u001b[0mfilename\u001b[0m\u001b[0;34m,\u001b[0m \u001b[0mlogfile\u001b[0m\u001b[0;34m=\u001b[0m\u001b[0moutfile\u001b[0m\u001b[0;34m,\u001b[0m \u001b[0;34m)\u001b[0m\u001b[0;34m\u001b[0m\u001b[0;34m\u001b[0m\u001b[0m\n",
      "\u001b[0;31mXLRDError\u001b[0m: Excel xlsx file; not supported"
     ]
    }
   ],
   "source": [
    "# Read file data/exercises/portugal_gas_emissions_per_year.xlsx with read_excel\n",
    "import os\n",
    "df6 = pd.read_excel(os.path.join('data', 'exercises','portugal_gas_emissions_per_year.xlsx'), sheet_name=\"metadata\")\n",
    "df6\n",
    "# YOUR CODE HERE\n",
    "#raise NotImplementedError()\n",
    "\n",
    "#distinct_scales = ...\n",
    "# YOUR CODE HERE\n",
    "#raise NotImplementedError()"
   ]
  },
  {
   "cell_type": "code",
   "execution_count": null,
   "metadata": {
    "deletable": false,
    "editable": false,
    "nbgrader": {
     "grade": true,
     "grade_id": "cell-91d5f07e40585680",
     "locked": true,
     "points": 2,
     "schema_version": 3,
     "solution": false
    }
   },
   "outputs": [],
   "source": [
    "assert distinct_scales == 2\n",
    "assert isinstance(df6, pd.DataFrame)\n",
    "expected_hash = '60c3ad36f77e7366103fe36a3f551a0cde7d64e26d3102ddb8b953d6208a6006'\n",
    "assert hashlib.sha256(\n",
    "        df6.loc[\n",
    "            df6.index==\"Nitrogen oxides\", \n",
    "            \"Measure Unit\"][0].encode()\n",
    "    ).hexdigest() == expected_hash, \"df6 is wrong\"\n",
    "\n"
   ]
  },
  {
   "cell_type": "markdown",
   "metadata": {
    "deletable": false,
    "editable": false,
    "nbgrader": {
     "grade": false,
     "grade_id": "cell-4a7407517d4d92c3",
     "locked": true,
     "schema_version": 3,
     "solution": false
    }
   },
   "source": [
    "## Q7: Find the encoding of a file\n",
    "\n",
    "Find the encoding used in file **data/exercises/cities.csv**, using the method that was shown in the Learning Units.\n",
    "\n",
    "Then, read the data into a DataFrame, using the read_csv method and find the `City` characters that has distance equal to 2377."
   ]
  },
  {
   "cell_type": "code",
   "execution_count": 126,
   "metadata": {
    "deletable": false,
    "nbgrader": {
     "grade": false,
     "grade_id": "cell-bd6944fd63bb38d8",
     "locked": false,
     "schema_version": 3,
     "solution": true
    }
   },
   "outputs": [
    {
     "data": {
      "text/plain": [
       "6    Агидель\n",
       "Name: City, dtype: object"
      ]
     },
     "execution_count": 126,
     "metadata": {},
     "output_type": "execute_result"
    }
   ],
   "source": [
    "# Find the encoding of file data/exercises/cities.csv\n",
    "#encoding = 'IBM866'\n",
    "#chardet.detect(open(os.path.join('data', 'exercises', 'cities.csv'), 'rb').read())\n",
    "# YOUR CODE HERE\n",
    "#raise NotImplementedError()\n",
    "# Read the file into a DataFrame\n",
    "df7 = pd.read_csv(os.path.join('data', 'exercises', 'cities.csv'), encoding='IBM866')\n",
    "df7\n",
    "# YOUR CODE HERE\n",
    "#raise NotImplementedError()\n",
    "\n",
    "# Find the name of the city with distance = 2377\n",
    "city_found = df7.City[df7.distance==2377] #(assign a string)\n",
    "city_found\n",
    "# YOUR CODE HERE\n",
    "#raise NotImplementedError()"
   ]
  },
  {
   "cell_type": "code",
   "execution_count": 123,
   "metadata": {
    "deletable": false,
    "editable": false,
    "nbgrader": {
     "grade": true,
     "grade_id": "cell-687fb83c97e03355",
     "locked": true,
     "points": 2,
     "schema_version": 3,
     "solution": false
    }
   },
   "outputs": [
    {
     "ename": "AttributeError",
     "evalue": "'Series' object has no attribute 'encode'",
     "output_type": "error",
     "traceback": [
      "\u001b[0;31m---------------------------------------------------------------------------\u001b[0m",
      "\u001b[0;31mAttributeError\u001b[0m                            Traceback (most recent call last)",
      "\u001b[0;32m<ipython-input-123-dc5bac29be7e>\u001b[0m in \u001b[0;36m<module>\u001b[0;34m\u001b[0m\n\u001b[1;32m      5\u001b[0m \u001b[0;34m\u001b[0m\u001b[0m\n\u001b[1;32m      6\u001b[0m \u001b[0mexpected_hash_2\u001b[0m \u001b[0;34m=\u001b[0m \u001b[0;34m'22522b6940ec2bcc42ea98f55878bee105c27254c4340fbce9fbc951b5aed078'\u001b[0m\u001b[0;34m\u001b[0m\u001b[0;34m\u001b[0m\u001b[0m\n\u001b[0;32m----> 7\u001b[0;31m \u001b[0;32massert\u001b[0m \u001b[0mhashlib\u001b[0m\u001b[0;34m.\u001b[0m\u001b[0msha256\u001b[0m\u001b[0;34m(\u001b[0m\u001b[0mcity_found\u001b[0m\u001b[0;34m.\u001b[0m\u001b[0mencode\u001b[0m\u001b[0;34m(\u001b[0m\u001b[0;34m)\u001b[0m\u001b[0;34m)\u001b[0m\u001b[0;34m.\u001b[0m\u001b[0mhexdigest\u001b[0m\u001b[0;34m(\u001b[0m\u001b[0;34m)\u001b[0m \u001b[0;34m==\u001b[0m \u001b[0mexpected_hash_2\u001b[0m\u001b[0;34m,\u001b[0m \u001b[0;34m\"city_found is wrong\"\u001b[0m\u001b[0;34m\u001b[0m\u001b[0;34m\u001b[0m\u001b[0m\n\u001b[0m",
      "\u001b[0;32m~/.virtualenvs/slu00/lib/python3.6/site-packages/pandas/core/generic.py\u001b[0m in \u001b[0;36m__getattr__\u001b[0;34m(self, name)\u001b[0m\n\u001b[1;32m   5272\u001b[0m             \u001b[0;32mif\u001b[0m \u001b[0mself\u001b[0m\u001b[0;34m.\u001b[0m\u001b[0m_info_axis\u001b[0m\u001b[0;34m.\u001b[0m\u001b[0m_can_hold_identifiers_and_holds_name\u001b[0m\u001b[0;34m(\u001b[0m\u001b[0mname\u001b[0m\u001b[0;34m)\u001b[0m\u001b[0;34m:\u001b[0m\u001b[0;34m\u001b[0m\u001b[0;34m\u001b[0m\u001b[0m\n\u001b[1;32m   5273\u001b[0m                 \u001b[0;32mreturn\u001b[0m \u001b[0mself\u001b[0m\u001b[0;34m[\u001b[0m\u001b[0mname\u001b[0m\u001b[0;34m]\u001b[0m\u001b[0;34m\u001b[0m\u001b[0;34m\u001b[0m\u001b[0m\n\u001b[0;32m-> 5274\u001b[0;31m             \u001b[0;32mreturn\u001b[0m \u001b[0mobject\u001b[0m\u001b[0;34m.\u001b[0m\u001b[0m__getattribute__\u001b[0m\u001b[0;34m(\u001b[0m\u001b[0mself\u001b[0m\u001b[0;34m,\u001b[0m \u001b[0mname\u001b[0m\u001b[0;34m)\u001b[0m\u001b[0;34m\u001b[0m\u001b[0;34m\u001b[0m\u001b[0m\n\u001b[0m\u001b[1;32m   5275\u001b[0m \u001b[0;34m\u001b[0m\u001b[0m\n\u001b[1;32m   5276\u001b[0m     \u001b[0;32mdef\u001b[0m \u001b[0m__setattr__\u001b[0m\u001b[0;34m(\u001b[0m\u001b[0mself\u001b[0m\u001b[0;34m,\u001b[0m \u001b[0mname\u001b[0m\u001b[0;34m:\u001b[0m \u001b[0mstr\u001b[0m\u001b[0;34m,\u001b[0m \u001b[0mvalue\u001b[0m\u001b[0;34m)\u001b[0m \u001b[0;34m->\u001b[0m \u001b[0;32mNone\u001b[0m\u001b[0;34m:\u001b[0m\u001b[0;34m\u001b[0m\u001b[0;34m\u001b[0m\u001b[0m\n",
      "\u001b[0;31mAttributeError\u001b[0m: 'Series' object has no attribute 'encode'"
     ]
    }
   ],
   "source": [
    "assert isinstance(df7, pd.DataFrame)\n",
    "\n",
    "expected_hash_1 = '969aef39a1d4cb1c5928c774cd7a4e3ccfc064a18fbd43a70193a2631d8a122d'\n",
    "assert hashlib.sha256(encoding.encode()).hexdigest() == expected_hash_1, \"encoding is wrong\"\n",
    "\n",
    "expected_hash_2 = '22522b6940ec2bcc42ea98f55878bee105c27254c4340fbce9fbc951b5aed078'\n",
    "assert hashlib.sha256(city_found.encode()).hexdigest() == expected_hash_2, \"city_found is wrong\""
   ]
  },
  {
   "cell_type": "markdown",
   "metadata": {
    "deletable": false,
    "editable": false,
    "nbgrader": {
     "grade": false,
     "grade_id": "cell-d103dfae3d5e11fe",
     "locked": true,
     "schema_version": 3,
     "solution": false
    }
   },
   "source": [
    "## Q8: Import a Random Sample of a Big File\n",
    "\n",
    "Consider the file **data/exercises/world_percentage_of_literacy.tsv**. Let's imagine this file is really huge, with a lot of rows!  Read the file using a random sample of 10 rows. Count the actual lines with `wc` "
   ]
  },
  {
   "cell_type": "code",
   "execution_count": 134,
   "metadata": {
    "deletable": false,
    "nbgrader": {
     "grade": false,
     "grade_id": "cell-fb39107093dd73fb",
     "locked": false,
     "schema_version": 3,
     "solution": true
    }
   },
   "outputs": [],
   "source": [
    "# Read file data/exercises/world_percentage_of_literacy.tsv with wc and save the number of lines\n",
    "# in lines_in_file (as an integer), using \n",
    "lines_in_file = ! wc -l < data/exercises/world_percentage_of_literacy.tsv\n",
    "# Notice that the header is not a line..\n",
    "lines_in_file = int(lines_in_file[0])-1\n",
    "lines_in_file\n",
    "# YOUR CODE HERE\n",
    "#raise NotImplementedError()\n",
    "\n",
    "# make parameter rows_to_skip equal to the lines you want to skip loading \n",
    "# don't forget: 10 rows should be fecthed\n",
    "sample_number = 10\n",
    "n_rows_to_skip = lines_in_file - sample_number\n",
    "# rows_to_skip = ...\n",
    "random.seed(42) # this is to get always the same sample. can be removed if we want the sample to change\n",
    "rows_to_skip = random.sample(\n",
    "    range(1, lines_in_file-1), # this is a range from the first row after the header, to the last row on the file\n",
    "    n_rows_to_skip # this is the number of rows we want to random sample here, and that we will be skipped on pd.read_csv with argument skiprows\n",
    ")\n",
    "# YOUR CODE HERE\n",
    "#raise NotImplementedError()\n",
    "# Create a df8 dataframe with the sampled values\n",
    "# don't forget: you want to keep the header plus 10 rows in the new dataframe.\n",
    "# YOUR CODE HERE\n",
    "#raise NotImplementedError()\n",
    "\n",
    "\n",
    "df8= pd.read_csv('data/exercises/world_percentage_of_literacy.tsv',sep='\\t',\n",
    "    skiprows=rows_to_skip\n",
    ")"
   ]
  },
  {
   "cell_type": "code",
   "execution_count": 143,
   "metadata": {},
   "outputs": [
    {
     "data": {
      "text/plain": [
       "7.885714285714286"
      ]
     },
     "execution_count": 143,
     "metadata": {},
     "output_type": "execute_result"
    }
   ],
   "source": [
    "df8['Gender difference'].str.replace('%', '').astype('float64').mean()"
   ]
  },
  {
   "cell_type": "code",
   "execution_count": 142,
   "metadata": {},
   "outputs": [
    {
     "data": {
      "text/html": [
       "<div>\n",
       "<style scoped>\n",
       "    .dataframe tbody tr th:only-of-type {\n",
       "        vertical-align: middle;\n",
       "    }\n",
       "\n",
       "    .dataframe tbody tr th {\n",
       "        vertical-align: top;\n",
       "    }\n",
       "\n",
       "    .dataframe thead th {\n",
       "        text-align: right;\n",
       "    }\n",
       "</style>\n",
       "<table border=\"1\" class=\"dataframe\">\n",
       "  <thead>\n",
       "    <tr style=\"text-align: right;\">\n",
       "      <th></th>\n",
       "      <th>Country</th>\n",
       "      <th>Literacy rate (all)</th>\n",
       "      <th>Male literacy</th>\n",
       "      <th>Female literacy</th>\n",
       "      <th>Gender difference</th>\n",
       "    </tr>\n",
       "  </thead>\n",
       "  <tbody>\n",
       "    <tr>\n",
       "      <th>0</th>\n",
       "      <td>Albania</td>\n",
       "      <td>97.6%</td>\n",
       "      <td>98.4%</td>\n",
       "      <td>96.8%</td>\n",
       "      <td>1.6%</td>\n",
       "    </tr>\n",
       "    <tr>\n",
       "      <th>2</th>\n",
       "      <td>Bahrain</td>\n",
       "      <td>95.7%</td>\n",
       "      <td>96.9%</td>\n",
       "      <td>93.5%</td>\n",
       "      <td>3.5%</td>\n",
       "    </tr>\n",
       "    <tr>\n",
       "      <th>3</th>\n",
       "      <td>Ivory Coast</td>\n",
       "      <td>43.1%</td>\n",
       "      <td>53.1%</td>\n",
       "      <td>32.5%</td>\n",
       "      <td>20.6%</td>\n",
       "    </tr>\n",
       "    <tr>\n",
       "      <th>4</th>\n",
       "      <td>Iran</td>\n",
       "      <td>86.8%</td>\n",
       "      <td>91.2%</td>\n",
       "      <td>82.5%</td>\n",
       "      <td>8.7%</td>\n",
       "    </tr>\n",
       "    <tr>\n",
       "      <th>5</th>\n",
       "      <td>Serbia</td>\n",
       "      <td>98.1%</td>\n",
       "      <td>99.1%</td>\n",
       "      <td>97.2%</td>\n",
       "      <td>1.9%</td>\n",
       "    </tr>\n",
       "    <tr>\n",
       "      <th>8</th>\n",
       "      <td>Zambia</td>\n",
       "      <td>63.4%</td>\n",
       "      <td>70.9%</td>\n",
       "      <td>56.0%</td>\n",
       "      <td>14.9%</td>\n",
       "    </tr>\n",
       "    <tr>\n",
       "      <th>9</th>\n",
       "      <td>Zimbabwe</td>\n",
       "      <td>86.5%</td>\n",
       "      <td>88.5%</td>\n",
       "      <td>84.6%</td>\n",
       "      <td>4.0%</td>\n",
       "    </tr>\n",
       "  </tbody>\n",
       "</table>\n",
       "</div>"
      ],
      "text/plain": [
       "       Country Literacy rate (all) Male literacy Female literacy  \\\n",
       "0      Albania               97.6%         98.4%           96.8%   \n",
       "2      Bahrain               95.7%         96.9%           93.5%   \n",
       "3  Ivory Coast               43.1%         53.1%           32.5%   \n",
       "4         Iran               86.8%         91.2%           82.5%   \n",
       "5       Serbia               98.1%         99.1%           97.2%   \n",
       "8       Zambia               63.4%         70.9%           56.0%   \n",
       "9     Zimbabwe               86.5%         88.5%           84.6%   \n",
       "\n",
       "  Gender difference  \n",
       "0              1.6%  \n",
       "2              3.5%  \n",
       "3             20.6%  \n",
       "4              8.7%  \n",
       "5              1.9%  \n",
       "8             14.9%  \n",
       "9              4.0%  "
      ]
     },
     "execution_count": 142,
     "metadata": {},
     "output_type": "execute_result"
    }
   ],
   "source": [
    "df8.dropna()"
   ]
  },
  {
   "cell_type": "code",
   "execution_count": 148,
   "metadata": {},
   "outputs": [],
   "source": [
    "df8['index']=range(0,len(df8.index))"
   ]
  },
  {
   "cell_type": "code",
   "execution_count": 150,
   "metadata": {},
   "outputs": [
    {
     "data": {
      "text/html": [
       "<div>\n",
       "<style scoped>\n",
       "    .dataframe tbody tr th:only-of-type {\n",
       "        vertical-align: middle;\n",
       "    }\n",
       "\n",
       "    .dataframe tbody tr th {\n",
       "        vertical-align: top;\n",
       "    }\n",
       "\n",
       "    .dataframe thead th {\n",
       "        text-align: right;\n",
       "    }\n",
       "</style>\n",
       "<table border=\"1\" class=\"dataframe\">\n",
       "  <thead>\n",
       "    <tr style=\"text-align: right;\">\n",
       "      <th></th>\n",
       "      <th>Country</th>\n",
       "      <th>Literacy rate (all)</th>\n",
       "      <th>Male literacy</th>\n",
       "      <th>Female literacy</th>\n",
       "      <th>Gender difference</th>\n",
       "    </tr>\n",
       "    <tr>\n",
       "      <th>index</th>\n",
       "      <th></th>\n",
       "      <th></th>\n",
       "      <th></th>\n",
       "      <th></th>\n",
       "      <th></th>\n",
       "    </tr>\n",
       "  </thead>\n",
       "  <tbody>\n",
       "    <tr>\n",
       "      <th>0</th>\n",
       "      <td>Albania</td>\n",
       "      <td>97.6%</td>\n",
       "      <td>98.4%</td>\n",
       "      <td>96.8%</td>\n",
       "      <td>1.6%</td>\n",
       "    </tr>\n",
       "    <tr>\n",
       "      <th>1</th>\n",
       "      <td>Bahamas</td>\n",
       "      <td>not reported by UNESCO 2015</td>\n",
       "      <td>NaN</td>\n",
       "      <td>NaN</td>\n",
       "      <td>NaN</td>\n",
       "    </tr>\n",
       "    <tr>\n",
       "      <th>2</th>\n",
       "      <td>Bahrain</td>\n",
       "      <td>95.7%</td>\n",
       "      <td>96.9%</td>\n",
       "      <td>93.5%</td>\n",
       "      <td>3.5%</td>\n",
       "    </tr>\n",
       "    <tr>\n",
       "      <th>3</th>\n",
       "      <td>Ivory Coast</td>\n",
       "      <td>43.1%</td>\n",
       "      <td>53.1%</td>\n",
       "      <td>32.5%</td>\n",
       "      <td>20.6%</td>\n",
       "    </tr>\n",
       "    <tr>\n",
       "      <th>4</th>\n",
       "      <td>Iran</td>\n",
       "      <td>86.8%</td>\n",
       "      <td>91.2%</td>\n",
       "      <td>82.5%</td>\n",
       "      <td>8.7%</td>\n",
       "    </tr>\n",
       "    <tr>\n",
       "      <th>5</th>\n",
       "      <td>Serbia</td>\n",
       "      <td>98.1%</td>\n",
       "      <td>99.1%</td>\n",
       "      <td>97.2%</td>\n",
       "      <td>1.9%</td>\n",
       "    </tr>\n",
       "    <tr>\n",
       "      <th>6</th>\n",
       "      <td>Sweden</td>\n",
       "      <td>not reported by UNESCO 2015</td>\n",
       "      <td>NaN</td>\n",
       "      <td>NaN</td>\n",
       "      <td>NaN</td>\n",
       "    </tr>\n",
       "    <tr>\n",
       "      <th>7</th>\n",
       "      <td>Switzerland</td>\n",
       "      <td>not reported by UNESCO 2015</td>\n",
       "      <td>NaN</td>\n",
       "      <td>NaN</td>\n",
       "      <td>NaN</td>\n",
       "    </tr>\n",
       "    <tr>\n",
       "      <th>8</th>\n",
       "      <td>Zambia</td>\n",
       "      <td>63.4%</td>\n",
       "      <td>70.9%</td>\n",
       "      <td>56.0%</td>\n",
       "      <td>14.9%</td>\n",
       "    </tr>\n",
       "    <tr>\n",
       "      <th>9</th>\n",
       "      <td>Zimbabwe</td>\n",
       "      <td>86.5%</td>\n",
       "      <td>88.5%</td>\n",
       "      <td>84.6%</td>\n",
       "      <td>4.0%</td>\n",
       "    </tr>\n",
       "  </tbody>\n",
       "</table>\n",
       "</div>"
      ],
      "text/plain": [
       "           Country          Literacy rate (all) Male literacy Female literacy  \\\n",
       "index                                                                           \n",
       "0          Albania                        97.6%         98.4%           96.8%   \n",
       "1          Bahamas  not reported by UNESCO 2015           NaN             NaN   \n",
       "2          Bahrain                        95.7%         96.9%           93.5%   \n",
       "3      Ivory Coast                        43.1%         53.1%           32.5%   \n",
       "4             Iran                        86.8%         91.2%           82.5%   \n",
       "5           Serbia                        98.1%         99.1%           97.2%   \n",
       "6           Sweden  not reported by UNESCO 2015           NaN             NaN   \n",
       "7      Switzerland  not reported by UNESCO 2015           NaN             NaN   \n",
       "8           Zambia                        63.4%         70.9%           56.0%   \n",
       "9         Zimbabwe                        86.5%         88.5%           84.6%   \n",
       "\n",
       "      Gender difference  \n",
       "index                    \n",
       "0                  1.6%  \n",
       "1                   NaN  \n",
       "2                  3.5%  \n",
       "3                 20.6%  \n",
       "4                  8.7%  \n",
       "5                  1.9%  \n",
       "6                   NaN  \n",
       "7                   NaN  \n",
       "8                 14.9%  \n",
       "9                  4.0%  "
      ]
     },
     "execution_count": 150,
     "metadata": {},
     "output_type": "execute_result"
    }
   ],
   "source": [
    "df8.set_index('index')"
   ]
  },
  {
   "cell_type": "code",
   "execution_count": 129,
   "metadata": {},
   "outputs": [
    {
     "name": "stdout",
     "output_type": "stream",
     "text": [
      "Country\tLiteracy rate (all)\tMale literacy\tFemale literacy\tGender difference\r\n",
      "World\t86.3%\t90.0%\t82.7%\t7.3%\r\n",
      "Afghanistan\t38.2%\t52.0%\t24.2%\t27.8%\r\n",
      "Albania\t97.6%\t98.4%\t96.8%\t1.6%\r\n",
      "Algeria\t80.2%\t87.2%\t73.1%\t14.0%\r\n",
      "Andorra\tnot reported by UNESCO 2015\t\t\t\r\n",
      "Angola\t71.1%\t82.0%\t60.7%\t21.3%\r\n",
      "Antigua and Barbuda\tnot reported by UNESCO 2015\t99.0%(2013)[3][note 1]\t\t\r\n",
      "Argentina\t98.1%\t98.0%\t98.1%\t-0.1%\r\n",
      "Armenia\t99.8%\t99.8%\t99.7%\t0.1%\r\n",
      "Australia\tnot reported by UNESCO 2015\t\t\t\r\n"
     ]
    }
   ],
   "source": [
    "! head -11 data/exercises/world_percentage_of_literacy.tsv"
   ]
  },
  {
   "cell_type": "code",
   "execution_count": 136,
   "metadata": {
    "deletable": false,
    "editable": false,
    "nbgrader": {
     "grade": true,
     "grade_id": "cell-ec15a8be42137a01",
     "locked": true,
     "points": 2,
     "schema_version": 3,
     "solution": false
    }
   },
   "outputs": [],
   "source": [
    "# getting remaining list of countries, removing rows_to_skip from the file\n",
    "df_helper = pd.read_csv( \n",
    "    'data/exercises/world_percentage_of_literacy.tsv', \n",
    "    sep='\\t',\n",
    "    header=0 \n",
    ")\n",
    "\n",
    "total_indexes = list(df_helper.index)\n",
    "for s in rows_to_skip:\n",
    "    total_indexes.remove(s-1)\n",
    "\n",
    "expected_hash = '7559ca4a957c8c82ba04781cd66a68d6022229fca0e8e88d8e487c96ee4446d0'\n",
    "assert hashlib.sha256(str(lines_in_file).encode()).hexdigest() == expected_hash, \"lines_in_file are wrong\"\n",
    "assert isinstance(df8, pd.DataFrame)\n",
    "assert list(df8['Country'])==list(df_helper.iloc[total_indexes]['Country'])\n",
    "assert df8.shape[0]==10, \"df8 size is wrong\"\n",
    "\n",
    "expected_hash = '4a44dc15364204a80fe80e9039455cc1608281820fe2b24f1e5233ade6af1dd5'\n",
    "assert  hashlib.sha256(str(df8.shape[0]).encode()).hexdigest() == expected_hash\n"
   ]
  },
  {
   "cell_type": "markdown",
   "metadata": {
    "deletable": false,
    "editable": false,
    "nbgrader": {
     "grade": false,
     "grade_id": "cell-f87e07a7b2cacd9d",
     "locked": true,
     "schema_version": 3,
     "solution": false
    }
   },
   "source": [
    "## Q9: Loading a Big File\n",
    "\n",
    "Read file **data/exercises/world_percentage_of_literacy.tsv** using chunks keep only the columns `Country` and `Gender difference`.\n",
    "Note that:\n",
    "* file should be read by chunks of 20 countries\n",
    "* the missing values should be removed (filtered in each chunk)\n",
    "* the `Gender difference` should be converted to type float (in each chunk)\n",
    "* the index should be incremental starting from 0 (i.e, you don't need to read any column as the index)\n",
    "\n",
    "At the end, calculate the average `Gender difference`\n",
    "\n",
    "Tip: Be sure you investigate the data you are about to load before doing any code."
   ]
  },
  {
   "cell_type": "code",
   "execution_count": 164,
   "metadata": {},
   "outputs": [
    {
     "name": "stdout",
     "output_type": "stream",
     "text": [
      "        Country Literacy rate (all) Male literacy Female literacy  \\\n",
      "0         World               86.3%         90.0%           82.7%   \n",
      "1   Afghanistan               38.2%         52.0%           24.2%   \n",
      "2       Albania               97.6%         98.4%           96.8%   \n",
      "3       Algeria               80.2%         87.2%           73.1%   \n",
      "4        Angola               71.1%         82.0%           60.7%   \n",
      "5     Argentina               98.1%         98.0%           98.1%   \n",
      "6       Armenia               99.8%         99.8%           99.7%   \n",
      "7    Azerbaijan               99.8%         99.9%           99.7%   \n",
      "8       Bahrain               95.7%         96.9%           93.5%   \n",
      "9    Bangladesh       72.8%[note 2]         75.6%           69.9%   \n",
      "10      Belarus               99.7%         99.8%           99.7%   \n",
      "11       Belize               82.7%         82.3%           83.0%   \n",
      "12        Benin               38.4%         49.9%           27.3%   \n",
      "\n",
      "   Gender difference  \n",
      "0               7.3%  \n",
      "1              27.8%  \n",
      "2               1.6%  \n",
      "3              14.0%  \n",
      "4              21.3%  \n",
      "5              -0.1%  \n",
      "6               0.1%  \n",
      "7               0.2%  \n",
      "8               3.5%  \n",
      "9               5.7%  \n",
      "10              0.1%  \n",
      "11             -0.7%  \n",
      "12             22.6%  \n",
      "                     Country Literacy rate (all) Male literacy  \\\n",
      "0                     Bhutan               64.9%         73.1%   \n",
      "1                    Bolivia               95.7%         97.8%   \n",
      "2     Bosnia and Herzegovina               98.5%         99.5%   \n",
      "3                   Botswana               88.5%         88.0%   \n",
      "4                     Brazil               91.7%         91.4%   \n",
      "5                     Brunei               96.4%         97.7%   \n",
      "6                   Bulgaria               98.4%         98.7%   \n",
      "7               Burkina Faso                 36%         43.0%   \n",
      "8                    Burundi               85.6%         88.2%   \n",
      "9                 Cabo Verde               87.6%         92.1%   \n",
      "10                  Cambodia               77.2%         84.5%   \n",
      "11                  Cameroon                 75%         81.2%   \n",
      "12  Central African Republic               36.8%         50.7%   \n",
      "13                      Chad               40.2%         48.5%   \n",
      "14                     Chile               97.3%         97.4%   \n",
      "15                     China               96.4%         98.2%   \n",
      "16                  Colombia               94.7%         94.6%   \n",
      "17                   Comoros               77.8%         81.8%   \n",
      "18                     Congo               79.3%         86.4%   \n",
      "\n",
      "   Female literacy Gender difference  \n",
      "0            55.0%             18.1%  \n",
      "1            93.6%              4.2%  \n",
      "2            97.5%              2.1%  \n",
      "3            88.9%             -0.9%  \n",
      "4            92.1%             -0.7%  \n",
      "5            95.1%              2.6%  \n",
      "6            98.1%              0.7%  \n",
      "7            29.3%             13.7%  \n",
      "8            83.1%              5.1%  \n",
      "9            83.1%              9.0%  \n",
      "10           70.5%             13.9%  \n",
      "11           68.9%             12.3%  \n",
      "12           24.4%             26.4%  \n",
      "13           31.9%             16.6%  \n",
      "14           97.2%              0.2%  \n",
      "15           94.5%              3.7%  \n",
      "16           94.8%             -0.2%  \n",
      "17           73.7%              8.1%  \n",
      "18           72.9%             13.6%  \n",
      "                              Country Literacy rate (all) Male literacy  \\\n",
      "0   Congo, Democratic Republic of the               77.3%         88.9%   \n",
      "1                          Costa Rica               97.8%         97.7%   \n",
      "2                         Ivory Coast               43.1%         53.1%   \n",
      "3                             Croatia               99.3%         99.7%   \n",
      "4                                Cuba               99.7%         99.7%   \n",
      "5                              Cyprus               99.1%         99.5%   \n",
      "6                  Dominican Republic               91.8%         91.2%   \n",
      "7                             Ecuador               94.5%         95.4%   \n",
      "8                               Egypt               75.2%         83.2%   \n",
      "9                         El Salvador               88.4%         90.7%   \n",
      "10                  Equatorial Guinea               95.3%         97.4%   \n",
      "11                            Eritrea               73.8%         82.4%   \n",
      "12                            Estonia               99.8%         99.8%   \n",
      "13                           Ethiopia               49.1%         57.2%   \n",
      "\n",
      "   Female literacy Gender difference  \n",
      "0            66.0%             22.8%  \n",
      "1            97.8%             -0.1%  \n",
      "2            32.5%             20.6%  \n",
      "3            98.9%              0.7%  \n",
      "4            99.8%             -0.1%  \n",
      "5            98.7%              0.8%  \n",
      "6            92.3%             -1.1%  \n",
      "7            93.5%              1.8%  \n",
      "8            67.3%             16.0%  \n",
      "9            86.4%              4.3%  \n",
      "10           93.0%              4.4%  \n",
      "11           65.5%             16.9%  \n",
      "12           99.8%              0.0%  \n",
      "13           41.1%             16.1%  \n",
      "          Country Literacy rate (all) Male literacy Female literacy  \\\n",
      "0           Gabon               83.2%         85.3%           81.0%   \n",
      "1          Gambia               55.5%         63.9%           47.6%   \n",
      "2         Georgia               99.8%         99.8%           99.7%   \n",
      "3           Ghana               76.6%         82.0%           71.4%   \n",
      "4          Greece               97.7%         98.5%           96.9%   \n",
      "5       Guatemala               79.3%         84.7%           74.4%   \n",
      "6          Guinea               30.4%         38.1%           22.8%   \n",
      "7   Guinea-Bissau               59.9%         71.8%           48.3%   \n",
      "8          Guyana               88.5%         87.2%           89.8%   \n",
      "9           Haiti               60.7%         64.3%           57.3%   \n",
      "10       Honduras               88.5%         88.4%           88.6%   \n",
      "11        Hungary               99.1%         99.1%           99.0%   \n",
      "12          India               72.1%         80.9%           62.8%   \n",
      "13      Indonesia               93.9%         96.3%           91.5%   \n",
      "14           Iran               86.8%         91.2%           82.5%   \n",
      "15           Iraq               79.7%         85.7%           73.7%   \n",
      "\n",
      "   Gender difference  \n",
      "0               4.3%  \n",
      "1              16.3%  \n",
      "2               0.1%  \n",
      "3              10.7%  \n",
      "4               1.6%  \n",
      "5              10.4%  \n",
      "6              15.3%  \n",
      "7              23.5%  \n",
      "8              -2.6%  \n",
      "9               7.0%  \n",
      "10             -0.1%  \n",
      "11              0.2%  \n",
      "12             18.1%  \n",
      "13              4.7%  \n",
      "14              8.7%  \n",
      "15             11.9%  \n",
      "                                   Country Literacy rate (all) Male literacy  \\\n",
      "0                                    Italy               99.2%         99.4%   \n",
      "1                                  Jamaica               88.7%         84.0%   \n",
      "2                                   Jordan     97.9% (in 2012)         98.4%   \n",
      "3                               Kazakhstan               99.8%         99.8%   \n",
      "4                                    Kenya                 78%         81.1%   \n",
      "5   Korea, Democratic People's Republic of              100.0%        100.0%   \n",
      "6                                   Kuwait               96.2%         96.9%   \n",
      "7                               Kyrgyzstan               99.5%         99.6%   \n",
      "8                                     Laos               79.9%         87.1%   \n",
      "9                                   Latvia               99.9%         99.9%   \n",
      "10                                 Lebanon               93.9%         96.0%   \n",
      "11                                 Lesotho               79.4%         70.1%   \n",
      "12                                 Liberia               47.6%         62.4%   \n",
      "13                                   Libya                 91%         96.7%   \n",
      "\n",
      "   Female literacy Gender difference  \n",
      "0            99.0%              0.4%  \n",
      "1            93.1%             -9.1%  \n",
      "2            97.4%              1.0%  \n",
      "3            99.8%              0.0%  \n",
      "4            74.9%              6.2%  \n",
      "5           100.0%              0.0%  \n",
      "6            95.0%              1.9%  \n",
      "7            99.4%              0.2%  \n",
      "8            72.8%             14.3%  \n",
      "9            99.9%              0.0%  \n",
      "10           91.8%              4.1%  \n",
      "11           88.3%            -18.2%  \n",
      "12           32.8%             29.6%  \n",
      "13           85.6%             11.1%  \n",
      "       Country Literacy rate (all) Male literacy Female literacy  \\\n",
      "0    Lithuania               99.8%         99.8%           99.8%   \n",
      "1    Macedonia               97.8%         98.8%           96.8%   \n",
      "2   Madagascar               64.7%         66.7%           62.6%   \n",
      "3       Malawi               65.8%         73.0%           58.6%   \n",
      "4     Malaysia               94.6%         96.2%           93.2%   \n",
      "5     Maldives               99.3%         99.8%           98.8%   \n",
      "6         Mali               38.7%         48.2%           29.2%   \n",
      "7        Malta               94.1%         92.5%           95.7%   \n",
      "8   Mauritania               52.1%         62.6%           41.6%   \n",
      "9    Mauritius               90.6%         92.9%           88.5%   \n",
      "10      Mexico               94.4%         95.6%           93.3%   \n",
      "11     Moldova               99.4%         99.7%           99.1%   \n",
      "12    Mongolia               98.4%         98.2%           98.6%   \n",
      "13  Montenegro               98.7%         99.5%           98.0%   \n",
      "14     Morocco               72.4%         82.7%           62.5%   \n",
      "15  Mozambique               58.8%         73.3%           45.4%   \n",
      "\n",
      "   Gender difference  \n",
      "0               0.0%  \n",
      "1               2.0%  \n",
      "2               4.1%  \n",
      "3              14.4%  \n",
      "4               3.0%  \n",
      "5               0.9%  \n",
      "6              19.0%  \n",
      "7              -3.2%  \n",
      "8              21.0%  \n",
      "9               4.4%  \n",
      "10              2.2%  \n",
      "11              0.7%  \n",
      "12             -0.4%  \n",
      "13              1.4%  \n",
      "14             20.2%  \n",
      "15             27.9%  \n",
      "             Country Literacy rate (all) Male literacy Female literacy  \\\n",
      "0            Myanmar       75.6%[note 6]         80.0%           71.9%   \n",
      "1            Namibia               81.9%         79.2%           84.5%   \n",
      "2              Nepal               64.7%         75.6%           55.1%   \n",
      "3          Nicaragua               82.8%         82.4%           83.2%   \n",
      "4              Niger               19.1%         27.3%           11.0%   \n",
      "5            Nigeria               59.6%         69.2%           49.7%   \n",
      "6               Oman               94.8%         96.9%           90.0%   \n",
      "7           Pakistan               56.4%         69.6%           42.7%   \n",
      "8              Palau               99.5%         99.5%           99.6%   \n",
      "9             Panama                 95%         95.7%           94.4%   \n",
      "10  Papua New Guinea               64.2%         65.6%           62.8%   \n",
      "11          Paraguay               95.6%         96.1%           95.0%   \n",
      "12              Peru               94.5%         97.3%           91.7%   \n",
      "13       Philippines               96.3%         95.8%           96.8%   \n",
      "14            Poland               99.8%         99.9%           99.7%   \n",
      "15          Portugal               95.4%         96.9%           94.1%   \n",
      "\n",
      "   Gender difference  \n",
      "0               8.1%  \n",
      "1              -5.3%  \n",
      "2              20.5%  \n",
      "3              -0.9%  \n",
      "4              16.3%  \n",
      "5              19.5%  \n",
      "6               6.9%  \n",
      "7              26.9%  \n",
      "8              -0.1%  \n",
      "9               1.2%  \n",
      "10              2.8%  \n",
      "11              1.1%  \n",
      "12              5.6%  \n",
      "13             -1.0%  \n",
      "14              0.2%  \n",
      "15              2.8%  \n",
      "                  Country Literacy rate (all) Male literacy Female literacy  \\\n",
      "0                   Qatar               97.8%         97.9%           97.3%   \n",
      "1                 Romania               98.8%         99.1%           98.5%   \n",
      "2                  Russia               99.7%         99.7%           99.7%   \n",
      "3                  Rwanda               70.5%         73.2%           68.0%   \n",
      "4                   Samoa                 99%         98.9%           99.1%   \n",
      "5   Sao Tome and Principe               74.9%         81.8%           68.4%   \n",
      "6            Saudi Arabia               94.7%         97.0%           91.1%   \n",
      "7                 Senegal               55.7%         68.5%           43.8%   \n",
      "8                  Serbia               98.1%         99.1%           97.2%   \n",
      "9              Seychelles               95.2%         94.7%           95.7%   \n",
      "10           Sierra Leone               48.1%         58.7%           37.7%   \n",
      "11              Singapore               96.8%         98.7%           95.1%   \n",
      "12               Slovakia               99.6%         99.6%           99.6%   \n",
      "13               Slovenia               99.7%         99.7%           99.7%   \n",
      "\n",
      "   Gender difference  \n",
      "0               0.6%  \n",
      "1               0.6%  \n",
      "2               0.0%  \n",
      "3               5.2%  \n",
      "4              -0.2%  \n",
      "5              13.4%  \n",
      "6               5.9%  \n",
      "7              24.6%  \n",
      "8               1.9%  \n",
      "9              -1.0%  \n",
      "10             21.1%  \n",
      "11              3.6%  \n",
      "12              0.0%  \n",
      "13              0.0%  \n",
      "                         Country Literacy rate (all) Male literacy  \\\n",
      "0                   South Africa               94.3%         95.5%   \n",
      "1                    South Sudan               26.8%         34.8%   \n",
      "2                          Spain               98.1%         98.7%   \n",
      "3                      Sri Lanka               92.6%         93.6%   \n",
      "4                          Sudan               53.5%        59.80%   \n",
      "5                       Suriname               95.6%         96.1%   \n",
      "6                      Swaziland               87.5%         87.4%   \n",
      "7                          Syria               86.4%         91.7%   \n",
      "8                     Tajikistan               99.8%         99.8%   \n",
      "9   Tanzania, United Republic of               80.3%         84.8%   \n",
      "10                      Thailand               96.7%         96.6%   \n",
      "11                   Timor-Leste               67.5%         71.5%   \n",
      "12                          Togo               66.5%         78.3%   \n",
      "13                         Tonga               99.4%         99.3%   \n",
      "14           Trinidad and Tobago                 99%         99.2%   \n",
      "15                       Tunisia               81.8%         89.6%   \n",
      "16                        Turkey                 95%         98.4%   \n",
      "17                  Turkmenistan               99.7%         99.8%   \n",
      "\n",
      "   Female literacy Gender difference  \n",
      "0            93.1%              2.4%  \n",
      "1            19.2%             15.6%  \n",
      "2            97.5%              1.3%  \n",
      "3            91.7%              1.9%  \n",
      "4            46.7%             13.1%  \n",
      "5            95.0%              1.1%  \n",
      "6            87.5%             -0.1%  \n",
      "7            81.0%             10.7%  \n",
      "8            99.7%              0.1%  \n",
      "9            75.9%              9.0%  \n",
      "10           96.7%             -0.1%  \n",
      "11           63.4%              8.1%  \n",
      "12           55.3%             23.0%  \n",
      "13           99.4%             -0.1%  \n",
      "14           98.7%              0.5%  \n",
      "15           74.2%             15.4%  \n",
      "16           91.8%              6.6%  \n",
      "17           99.6%              0.1%  \n",
      "                 Country Literacy rate (all) Male literacy Female literacy  \\\n",
      "0                 Uganda               73.9%         80.8%           66.9%   \n",
      "1                Ukraine               99.8%         99.8%           99.7%   \n",
      "2   United Arab Emirates               93.8%         93.1%           95.8%   \n",
      "3                Uruguay               98.4%         98.1%           98.7%   \n",
      "4             Uzbekistan               99.6%         99.7%           99.5%   \n",
      "5                Vanuatu               85.2%         86.6%           83.8%   \n",
      "6              Venezuela               95.4%         95.0%           95.7%   \n",
      "7                Vietnam               94.5%         96.3%           92.8%   \n",
      "8                  Yemen               70.1%         85.1%           55.0%   \n",
      "9                 Zambia               63.4%         70.9%           56.0%   \n",
      "10              Zimbabwe               86.5%         88.5%           84.6%   \n",
      "\n",
      "   Gender difference  \n",
      "0              14.0%  \n",
      "1               0.1%  \n",
      "2              -2.6%  \n",
      "3              -0.6%  \n",
      "4               0.3%  \n",
      "5               2.8%  \n",
      "6              -0.7%  \n",
      "7               3.4%  \n",
      "8              30.1%  \n",
      "9              14.9%  \n",
      "10              4.0%  \n"
     ]
    }
   ],
   "source": [
    "chunks_iter = pd.read_csv('data/exercises/world_percentage_of_literacy.tsv', sep ='\\t',\n",
    "    chunksize=20\n",
    ")\n",
    "\n",
    "for data_chunk in chunks_iter:\n",
    "    data_chunk2=data_chunk.dropna().reset_index(drop=True)\n",
    "    print(data_chunk2)"
   ]
  },
  {
   "cell_type": "code",
   "execution_count": 192,
   "metadata": {
    "deletable": false,
    "nbgrader": {
     "grade": false,
     "grade_id": "cell-5106c25a705296e8",
     "locked": false,
     "schema_version": 3,
     "solution": true
    }
   },
   "outputs": [],
   "source": [
    "# Read file data/exercises/world_percentage_of_literacy.tsv\n",
    "# the chunks should be appended in a list called chunk_arr\n",
    "# YOUR CODE HERE\n",
    "#raise NotImplementedError()\n",
    "chunksize=20\n",
    "chunks_iter = pd.read_csv('data/exercises/world_percentage_of_literacy.tsv', sep ='\\t', header=0,\n",
    "    chunksize=20\n",
    ")\n",
    "\n",
    "#indice=0\n",
    "chunk_arr = []\n",
    "for data_chunk in chunks_iter:\n",
    "    data_chunk_filtered = data_chunk.dropna()\n",
    "    data_chunk_filtered=data_chunk_filtered.reset_index(drop=True)\n",
    "    data_chunk_filtered['Gender difference']=data_chunk_filtered['Gender difference'].str.replace('%', '').astype('float64')\n",
    "    #data_chunk_filtered=data_chunk_filtered.reindex(index_)\n",
    "    #indice += len(data_chunk_filtered.index) \n",
    "    chunk_arr.append(data_chunk_filtered)\n",
    "    \n",
    "df9 = pd.concat(chunk_arr, axis=0)\n",
    "#index_=list(range(len(df9.index)))\n",
    "df9=df9.reset_index(drop=True)\n",
    "#df9.head()\n",
    "\n",
    "# df9 should be the final dataframe with concatenated chunks\n",
    "# Resulting average should go on lit_avg variable\n",
    "lit_avg=df9['Gender difference'].mean()\n",
    "# YOUR CODE HERE\n",
    "#raise NotImplementedError()"
   ]
  },
  {
   "cell_type": "code",
   "execution_count": 137,
   "metadata": {},
   "outputs": [
    {
     "name": "stdout",
     "output_type": "stream",
     "text": [
      "Country\tLiteracy rate (all)\tMale literacy\tFemale literacy\tGender difference\r\n",
      "World\t86.3%\t90.0%\t82.7%\t7.3%\r\n",
      "Afghanistan\t38.2%\t52.0%\t24.2%\t27.8%\r\n",
      "Albania\t97.6%\t98.4%\t96.8%\t1.6%\r\n",
      "Algeria\t80.2%\t87.2%\t73.1%\t14.0%\r\n",
      "Andorra\tnot reported by UNESCO 2015\t\t\t\r\n",
      "Angola\t71.1%\t82.0%\t60.7%\t21.3%\r\n",
      "Antigua and Barbuda\tnot reported by UNESCO 2015\t99.0%(2013)[3][note 1]\t\t\r\n",
      "Argentina\t98.1%\t98.0%\t98.1%\t-0.1%\r\n",
      "Armenia\t99.8%\t99.8%\t99.7%\t0.1%\r\n"
     ]
    }
   ],
   "source": [
    "! head -10 data/exercises/world_percentage_of_literacy.tsv"
   ]
  },
  {
   "cell_type": "code",
   "execution_count": 209,
   "metadata": {},
   "outputs": [
    {
     "data": {
      "text/plain": [
       "0      86.3\n",
       "1      38.2\n",
       "2      97.6\n",
       "3      80.2\n",
       "4      71.1\n",
       "       ... \n",
       "146    95.4\n",
       "147    94.5\n",
       "148    70.1\n",
       "149    63.4\n",
       "150    86.5\n",
       "Name: Literacy rate (all), Length: 151, dtype: float64"
      ]
     },
     "execution_count": 209,
     "metadata": {},
     "output_type": "execute_result"
    }
   ],
   "source": [
    "df9['Literacy rate (all)'].apply(lambda x: x.split('%')[0]).astype('float64')"
   ]
  },
  {
   "cell_type": "code",
   "execution_count": 194,
   "metadata": {
    "deletable": false,
    "editable": false,
    "nbgrader": {
     "grade": true,
     "grade_id": "cell-f60a22c3465d5b83",
     "locked": true,
     "points": 2,
     "schema_version": 3,
     "solution": false
    }
   },
   "outputs": [],
   "source": [
    "expected_hash = 'cc63c8d6f0f9a8260d40b5c9a62d4fce5b693bab5750c90fd1f038ff64e37d6d'\n",
    "assert hashlib.sha256(str([len(c) for c in chunk_arr]).encode()).hexdigest() == expected_hash, \"error on chunk_arr sizes\"\n",
    "\n",
    "assert df9.loc[df9['Country']=='World', 'Gender difference'].values[0] == 7.3, \"df9 data is wrong\"\n",
    "assert df9.dtypes['Country'] == object, \"df9 structure is wrong\"\n",
    "assert df9.dtypes['Gender difference'] == float, \"df9 structure is wrong\" \n",
    "\n",
    "expected_hash = 'c4d7d45402099baaea8a079580a4ef950016ef7403178f72e64ceb3738e4471d'\n",
    "assert hashlib.sha256(str(lit_avg).encode()).hexdigest() == expected_hash, \"lit_avg is wrong\""
   ]
  },
  {
   "cell_type": "markdown",
   "metadata": {
    "deletable": false,
    "editable": false,
    "nbgrader": {
     "grade": false,
     "grade_id": "cell-e990312f7cddd0b2",
     "locked": true,
     "schema_version": 3,
     "solution": false
    }
   },
   "source": [
    "## Q10: Calculate average values of `Literacy All` using chunks and avoiding a complete data frame in memory.\n",
    "\n",
    "Using chunks, read file **data/exercises/world_percentage_of_literacy.tsv**, avoid incomplete rows and calculate the average of ***Literacy rate (all)*** without loading all data simultaneously. \n",
    "\n",
    "Use a similar approach of the previous question but don't create any dataframe neither any list with chunks; ***Hint: Use the average definition***\n",
    "\n"
   ]
  },
  {
   "cell_type": "code",
   "execution_count": 222,
   "metadata": {
    "deletable": false,
    "nbgrader": {
     "grade": false,
     "grade_id": "cell-57fd7700885246eb",
     "locked": false,
     "schema_version": 3,
     "solution": true
    }
   },
   "outputs": [
    {
     "name": "stdout",
     "output_type": "stream",
     "text": [
      "12569.8\n",
      "151\n",
      "83.24370860927152\n"
     ]
    }
   ],
   "source": [
    "# Read file data/exercises/world_percentage_of_literacy.tsv\n",
    "# the final average should be in the variable final_avg\n",
    "# You should increment 2 variables in each chunk and use them at the end to calculate final_avg. call them lit_a, lit_b\n",
    "# YOUR CODE HERE\n",
    "#raise NotImplementedError()\n",
    "#chunksize=20\n",
    "chunks_iter = pd.read_csv('data/exercises/world_percentage_of_literacy.tsv', sep ='\\t', header=0,\n",
    "    chunksize=2\n",
    ")\n",
    "\n",
    "lit_a=0\n",
    "lit_b=0\n",
    "\n",
    "chunk_arr = []\n",
    "for data_chunk in chunks_iter:\n",
    "    data_chunk_filtered = data_chunk.dropna()\n",
    "    data_chunk_filtered=data_chunk_filtered.reset_index(drop=True)\n",
    "    data_chunk_filtered['Literacy rate (all)']=data_chunk_filtered['Literacy rate (all)'].apply(lambda x: x.split('%')[0]).astype('float64')\n",
    "\n",
    "    lit_a += data_chunk_filtered['Literacy rate (all)'].sum()\n",
    "\n",
    "    lit_b += len(data_chunk_filtered['Literacy rate (all)'])\n",
    "\n",
    "    \n",
    "\n",
    "print(lit_a)\n",
    "print(lit_b)\n",
    "\n",
    "\n",
    "final_avg=(lit_a/lit_b)\n",
    "# YOUR CODE HERE\n",
    "#raise NotImplementedError()\n",
    "print(final_avg)\n"
   ]
  },
  {
   "cell_type": "code",
   "execution_count": 223,
   "metadata": {
    "deletable": false,
    "editable": false,
    "nbgrader": {
     "grade": true,
     "grade_id": "cell-0edcf1260d7886c9",
     "locked": true,
     "points": 2,
     "schema_version": 3,
     "solution": false
    }
   },
   "outputs": [],
   "source": [
    "assert math.isclose(83.24370860927154, final_avg, rel_tol=1e-1), \"final_avg is wrong\"\n",
    "assert lit_b==151 or lit_a==151, \"lit_a or lit_b is wrong\"\n",
    "assert int(lit_b) == 12569 or int(lit_a)==12569, \"lit_a or lit_b is wrong\""
   ]
  },
  {
   "cell_type": "code",
   "execution_count": null,
   "metadata": {},
   "outputs": [],
   "source": []
  }
 ],
 "metadata": {
  "kernelspec": {
   "display_name": "Python 3",
   "language": "python",
   "name": "python3"
  },
  "language_info": {
   "codemirror_mode": {
    "name": "ipython",
    "version": 3
   },
   "file_extension": ".py",
   "mimetype": "text/x-python",
   "name": "python",
   "nbconvert_exporter": "python",
   "pygments_lexer": "ipython3",
   "version": "3.6.9"
  }
 },
 "nbformat": 4,
 "nbformat_minor": 2
}
