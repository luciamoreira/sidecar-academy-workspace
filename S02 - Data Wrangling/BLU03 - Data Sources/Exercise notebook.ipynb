{
 "cells": [
  {
   "cell_type": "markdown",
   "metadata": {
    "deletable": false,
    "editable": false,
    "nbgrader": {
     "grade": false,
     "grade_id": "cell-1b6b75485105e36c",
     "locked": true,
     "schema_version": 3,
     "solution": false
    }
   },
   "source": [
    "# BLU03 - Exercises Notebook"
   ]
  },
  {
   "cell_type": "code",
   "execution_count": 1,
   "metadata": {
    "deletable": false,
    "editable": false,
    "nbgrader": {
     "grade": false,
     "grade_id": "cell-ee9dcdd4eb1308b9",
     "locked": true,
     "schema_version": 3,
     "solution": false
    }
   },
   "outputs": [],
   "source": [
    "import hashlib # for grading purposes\n",
    "import math\n",
    "import numpy as np\n",
    "import pandas as pd\n",
    "import requests\n",
    "import sqlalchemy\n",
    "\n",
    "from bs4 import BeautifulSoup"
   ]
  },
  {
   "cell_type": "markdown",
   "metadata": {
    "deletable": false,
    "editable": false,
    "nbgrader": {
     "grade": false,
     "grade_id": "cell-cc67f3fcb340fbcd",
     "locked": true,
     "schema_version": 3,
     "solution": false
    }
   },
   "source": [
    "## Part A - SQL exercises\n",
    "\n",
    "### Querying the FIFAdb with a SQL client\n",
    "\n",
    "Open your favorite SQL client and connect to the FIFAdb.\n",
    "The connection settings are the following.\n",
    "\n",
    "* host: batch4-s02-db-instance.ctq2kxc7kx1i.eu-west-1.rds.amazonaws.com\n",
    "* port: 5432\n",
    "* user: ldsa_student\n",
    "* database: batch4_s02_db\n",
    "* schema: public\n",
    "* password: XXX (shared through slack)\n",
    "\n",
    "This is a different schema than the one we used in the learning notebooks (don't forget to change to this schema, see the Learning Notebook). This schema contains information about football matches, players, teams, and which league and country these matches took place in. Additionally, it also contains the player's and team's \"attributes\", sourced from the EA Sports' FIFA video game series.\n",
    "\n",
    "The tables in this schema are the following:\n",
    "\n",
    "1. Match: has information about the football matches: who were the 11 home and away players (identified by their player_id), how many goals did each team score, the date of the match, the league id and the home/away team id's.\n",
    "2. Player: contains informations about the players.\n",
    "3. Team: contains information about the teams.\n",
    "4. League: contains information about the football leagues, including the id of the country where they take place.\n",
    "5. Country: names and id's of the countries\n",
    "6. Player_Attributes: contains the attributes for each player.\n",
    "7. Team_Attributes: contains the attributes for each team.\n",
    "\n",
    "You can preview these tables using the SQL client.\n",
    "\n",
    "### Q1. Select the name of the country with id 24558\n",
    "\n",
    "Write a query that selects the name of the country with id 24558, and run it in the SQL client.\n",
    "\n",
    "Then, assign the result to variable q1_answer (just copy and paste the name you obtained)."
   ]
  },
  {
   "cell_type": "code",
   "execution_count": 2,
   "metadata": {
    "deletable": false,
    "nbgrader": {
     "grade": false,
     "grade_id": "cell-03b22b93be7b587e",
     "locked": false,
     "schema_version": 3,
     "solution": true
    }
   },
   "outputs": [],
   "source": [
    "from sqlalchemy import create_engine\n",
    "# YOUR CODE HERE\n",
    "#raise NotImplementedError()"
   ]
  },
  {
   "cell_type": "code",
   "execution_count": 83,
   "metadata": {},
   "outputs": [],
   "source": [
    "# Db settings - PostgreSQL\n",
    "username = 'ldsa_student'\n",
    "password = 'R4Fr4P3aAgMYBqqP'  # the password is not XXX by the way\n",
    "host_name = 'batch4-s02-db-instance.ctq2kxc7kx1i.eu-west-1.rds.amazonaws.com'\n",
    "port = 5432\n",
    "db_name = 'batch4_s02_db'\n",
    "schema = 'public'\n",
    "\n",
    "conn_str = 'postgresql://{}:{}@{}:{}/{}'.format(username, password, host_name, port, db_name)\n",
    "conn_args = {'options': '-csearch_path={}'.format(schema)}"
   ]
  },
  {
   "cell_type": "code",
   "execution_count": 84,
   "metadata": {},
   "outputs": [],
   "source": [
    "engine = create_engine(conn_str, connect_args=conn_args)"
   ]
  },
  {
   "cell_type": "code",
   "execution_count": 5,
   "metadata": {},
   "outputs": [
    {
     "data": {
      "text/html": [
       "<div>\n",
       "<style scoped>\n",
       "    .dataframe tbody tr th:only-of-type {\n",
       "        vertical-align: middle;\n",
       "    }\n",
       "\n",
       "    .dataframe tbody tr th {\n",
       "        vertical-align: top;\n",
       "    }\n",
       "\n",
       "    .dataframe thead th {\n",
       "        text-align: right;\n",
       "    }\n",
       "</style>\n",
       "<table border=\"1\" class=\"dataframe\">\n",
       "  <thead>\n",
       "    <tr style=\"text-align: right;\">\n",
       "      <th></th>\n",
       "      <th>id</th>\n",
       "      <th>name</th>\n",
       "    </tr>\n",
       "  </thead>\n",
       "  <tbody>\n",
       "    <tr>\n",
       "      <th>0</th>\n",
       "      <td>1</td>\n",
       "      <td>Belgium</td>\n",
       "    </tr>\n",
       "    <tr>\n",
       "      <th>1</th>\n",
       "      <td>1729</td>\n",
       "      <td>England</td>\n",
       "    </tr>\n",
       "    <tr>\n",
       "      <th>2</th>\n",
       "      <td>4769</td>\n",
       "      <td>France</td>\n",
       "    </tr>\n",
       "    <tr>\n",
       "      <th>3</th>\n",
       "      <td>7809</td>\n",
       "      <td>Germany</td>\n",
       "    </tr>\n",
       "    <tr>\n",
       "      <th>4</th>\n",
       "      <td>10257</td>\n",
       "      <td>Italy</td>\n",
       "    </tr>\n",
       "  </tbody>\n",
       "</table>\n",
       "</div>"
      ],
      "text/plain": [
       "      id     name\n",
       "0      1  Belgium\n",
       "1   1729  England\n",
       "2   4769   France\n",
       "3   7809  Germany\n",
       "4  10257    Italy"
      ]
     },
     "execution_count": 5,
     "metadata": {},
     "output_type": "execute_result"
    }
   ],
   "source": [
    "query = 'SELECT * FROM Country LIMIT 5;'\n",
    "pd.read_sql_query(query, engine)"
   ]
  },
  {
   "cell_type": "code",
   "execution_count": 6,
   "metadata": {},
   "outputs": [
    {
     "data": {
      "text/html": [
       "<div>\n",
       "<style scoped>\n",
       "    .dataframe tbody tr th:only-of-type {\n",
       "        vertical-align: middle;\n",
       "    }\n",
       "\n",
       "    .dataframe tbody tr th {\n",
       "        vertical-align: top;\n",
       "    }\n",
       "\n",
       "    .dataframe thead th {\n",
       "        text-align: right;\n",
       "    }\n",
       "</style>\n",
       "<table border=\"1\" class=\"dataframe\">\n",
       "  <thead>\n",
       "    <tr style=\"text-align: right;\">\n",
       "      <th></th>\n",
       "      <th>name</th>\n",
       "    </tr>\n",
       "  </thead>\n",
       "  <tbody>\n",
       "    <tr>\n",
       "      <th>0</th>\n",
       "      <td>Switzerland</td>\n",
       "    </tr>\n",
       "  </tbody>\n",
       "</table>\n",
       "</div>"
      ],
      "text/plain": [
       "          name\n",
       "0  Switzerland"
      ]
     },
     "execution_count": 6,
     "metadata": {},
     "output_type": "execute_result"
    }
   ],
   "source": [
    "query = \"SELECT name FROM Country where id = 24558;\"\n",
    "pd.read_sql_query(query, engine)"
   ]
  },
  {
   "cell_type": "code",
   "execution_count": 7,
   "metadata": {},
   "outputs": [],
   "source": [
    "q1_answer= 'Switzerland'"
   ]
  },
  {
   "cell_type": "code",
   "execution_count": 8,
   "metadata": {
    "deletable": false,
    "editable": false,
    "nbgrader": {
     "grade": true,
     "grade_id": "cell-92e8f002ca863db1",
     "locked": true,
     "points": 3,
     "schema_version": 3,
     "solution": false
    }
   },
   "outputs": [],
   "source": [
    "expected_hash = '2275583196d791405892aaca0d87743c872f3fc0cf3308a6c3ef82528918aa8a'\n",
    "assert hashlib.sha256(q1_answer.encode()).hexdigest() == expected_hash"
   ]
  },
  {
   "cell_type": "markdown",
   "metadata": {},
   "source": [
    "### Q2. Count in how many games the home team didn't score any goals\n",
    "\n",
    "Write a query that counts the number of games in which the home team didn't score any goal (`home_team_goal`)\n",
    "\n",
    "Then, assign the result to variable q2_answer (just copy and paste the value)."
   ]
  },
  {
   "cell_type": "code",
   "execution_count": 10,
   "metadata": {
    "deletable": false,
    "nbgrader": {
     "grade": false,
     "grade_id": "cell-be58fad2af1735bd",
     "locked": false,
     "schema_version": 3,
     "solution": true
    }
   },
   "outputs": [
    {
     "data": {
      "text/html": [
       "<div>\n",
       "<style scoped>\n",
       "    .dataframe tbody tr th:only-of-type {\n",
       "        vertical-align: middle;\n",
       "    }\n",
       "\n",
       "    .dataframe tbody tr th {\n",
       "        vertical-align: top;\n",
       "    }\n",
       "\n",
       "    .dataframe thead th {\n",
       "        text-align: right;\n",
       "    }\n",
       "</style>\n",
       "<table border=\"1\" class=\"dataframe\">\n",
       "  <thead>\n",
       "    <tr style=\"text-align: right;\">\n",
       "      <th></th>\n",
       "      <th>count</th>\n",
       "    </tr>\n",
       "  </thead>\n",
       "  <tbody>\n",
       "    <tr>\n",
       "      <th>0</th>\n",
       "      <td>5896</td>\n",
       "    </tr>\n",
       "  </tbody>\n",
       "</table>\n",
       "</div>"
      ],
      "text/plain": [
       "   count\n",
       "0   5896"
      ]
     },
     "execution_count": 10,
     "metadata": {},
     "output_type": "execute_result"
    }
   ],
   "source": [
    "# YOUR CODE HERE\n",
    "#raise NotImplementedError()\n",
    "#query = 'SELECT * FROM Match LIMIT 5;'\n",
    "query = 'SELECT count(*) FROM Match where home_team_goal=0;'\n",
    "pd.read_sql_query(query, engine)"
   ]
  },
  {
   "cell_type": "code",
   "execution_count": 11,
   "metadata": {},
   "outputs": [],
   "source": [
    "q2_answer=5896"
   ]
  },
  {
   "cell_type": "code",
   "execution_count": 12,
   "metadata": {
    "deletable": false,
    "editable": false,
    "nbgrader": {
     "grade": true,
     "grade_id": "cell-1f2f87262d1b5fc4",
     "locked": true,
     "points": 3,
     "schema_version": 3,
     "solution": false
    }
   },
   "outputs": [],
   "source": [
    "expected_hash = '816d797f1f1c71bb6104ad8a44416f92eb1a08fdc4bbfa5f33c20b304b2b47a7'\n",
    "assert hashlib.sha256(str(q2_answer).encode()).hexdigest() == expected_hash"
   ]
  },
  {
   "cell_type": "markdown",
   "metadata": {
    "deletable": false,
    "editable": false,
    "nbgrader": {
     "grade": false,
     "grade_id": "cell-010c418f565b3108",
     "locked": true,
     "schema_version": 3,
     "solution": false
    }
   },
   "source": [
    "### Q3. Find out the name of the shortest player who is really good at jumping and whose first name is John\n",
    "\n",
    "That's quite a lot to ask!\n",
    "\n",
    "Let's break it down. Write a query that:\n",
    "\n",
    "* takes all players whose `jumping` attribute is greater than 75.\n",
    "* filters only those whose name is **LIKE** \"John *something*\".\n",
    "* sorts them by height in ascending order.\n",
    "\n",
    "Then, assign the result to variable q3_answer.\n",
    "\n",
    "**Hints**: check the [LIKE](https://www.postgresql.org/docs/current/static/functions-matching.html#FUNCTIONS-LIKE) keyword for this exercise. Also: the player height is not on the Player_Attributes table - you'll have to get it from somewhere else."
   ]
  },
  {
   "cell_type": "code",
   "execution_count": 40,
   "metadata": {
    "deletable": false,
    "nbgrader": {
     "grade": false,
     "grade_id": "cell-3a7464176782e2cb",
     "locked": false,
     "schema_version": 3,
     "solution": true
    }
   },
   "outputs": [
    {
     "data": {
      "text/html": [
       "<div>\n",
       "<style scoped>\n",
       "    .dataframe tbody tr th:only-of-type {\n",
       "        vertical-align: middle;\n",
       "    }\n",
       "\n",
       "    .dataframe tbody tr th {\n",
       "        vertical-align: top;\n",
       "    }\n",
       "\n",
       "    .dataframe thead th {\n",
       "        text-align: right;\n",
       "    }\n",
       "</style>\n",
       "<table border=\"1\" class=\"dataframe\">\n",
       "  <thead>\n",
       "    <tr style=\"text-align: right;\">\n",
       "      <th></th>\n",
       "      <th>name</th>\n",
       "      <th>height</th>\n",
       "    </tr>\n",
       "  </thead>\n",
       "  <tbody>\n",
       "    <tr>\n",
       "      <th>0</th>\n",
       "      <td>Imoh Ezekiel</td>\n",
       "      <td>170</td>\n",
       "    </tr>\n",
       "    <tr>\n",
       "      <th>1</th>\n",
       "      <td>Radamel Falcao</td>\n",
       "      <td>178</td>\n",
       "    </tr>\n",
       "    <tr>\n",
       "      <th>2</th>\n",
       "      <td>Tim Cahill</td>\n",
       "      <td>178</td>\n",
       "    </tr>\n",
       "    <tr>\n",
       "      <th>3</th>\n",
       "      <td>Kalu Uche</td>\n",
       "      <td>178</td>\n",
       "    </tr>\n",
       "    <tr>\n",
       "      <th>4</th>\n",
       "      <td>Charles Nwaogu Uchenna</td>\n",
       "      <td>178</td>\n",
       "    </tr>\n",
       "    <tr>\n",
       "      <th>5</th>\n",
       "      <td>Mica</td>\n",
       "      <td>180</td>\n",
       "    </tr>\n",
       "    <tr>\n",
       "      <th>6</th>\n",
       "      <td>Micah Richards</td>\n",
       "      <td>180</td>\n",
       "    </tr>\n",
       "    <tr>\n",
       "      <th>7</th>\n",
       "      <td>Giampaolo Pazzini</td>\n",
       "      <td>180</td>\n",
       "    </tr>\n",
       "    <tr>\n",
       "      <th>8</th>\n",
       "      <td>Martin Caceres</td>\n",
       "      <td>180</td>\n",
       "    </tr>\n",
       "    <tr>\n",
       "      <th>9</th>\n",
       "      <td>Aritz Aduriz</td>\n",
       "      <td>183</td>\n",
       "    </tr>\n",
       "    <tr>\n",
       "      <th>10</th>\n",
       "      <td>Thomas Vermaelen</td>\n",
       "      <td>183</td>\n",
       "    </tr>\n",
       "    <tr>\n",
       "      <th>11</th>\n",
       "      <td>Miroslav Klose</td>\n",
       "      <td>183</td>\n",
       "    </tr>\n",
       "    <tr>\n",
       "      <th>12</th>\n",
       "      <td>Sergio Ramos</td>\n",
       "      <td>183</td>\n",
       "    </tr>\n",
       "    <tr>\n",
       "      <th>13</th>\n",
       "      <td>Massimo Ambrosini</td>\n",
       "      <td>183</td>\n",
       "    </tr>\n",
       "    <tr>\n",
       "      <th>14</th>\n",
       "      <td>Martin Hardie</td>\n",
       "      <td>183</td>\n",
       "    </tr>\n",
       "    <tr>\n",
       "      <th>15</th>\n",
       "      <td>Cristiano Ronaldo</td>\n",
       "      <td>185</td>\n",
       "    </tr>\n",
       "  </tbody>\n",
       "</table>\n",
       "</div>"
      ],
      "text/plain": [
       "                      name  height\n",
       "0             Imoh Ezekiel     170\n",
       "1           Radamel Falcao     178\n",
       "2               Tim Cahill     178\n",
       "3                Kalu Uche     178\n",
       "4   Charles Nwaogu Uchenna     178\n",
       "5                     Mica     180\n",
       "6           Micah Richards     180\n",
       "7        Giampaolo Pazzini     180\n",
       "8           Martin Caceres     180\n",
       "9             Aritz Aduriz     183\n",
       "10        Thomas Vermaelen     183\n",
       "11          Miroslav Klose     183\n",
       "12            Sergio Ramos     183\n",
       "13       Massimo Ambrosini     183\n",
       "14           Martin Hardie     183\n",
       "15       Cristiano Ronaldo     185"
      ]
     },
     "execution_count": 40,
     "metadata": {},
     "output_type": "execute_result"
    }
   ],
   "source": [
    "# YOUR CODE HERE\n",
    "#raise NotImplementedError()\n",
    "#query=\"select  * from Player_Attributes limit 5;\"\n",
    "#query=\"select  * from Player limit 5;\"\n",
    "#query=\"select player.name, player.height from Player as player join Player_Attributes as atrib on atrib.player_id=player.id where atrib.jumping > 75 and player.name LIKE 'John' order by player.height ASC;\"\n",
    "query=\"select player.name, player.height from Player as player join Player_Attributes as atrib on atrib.player_id=player.id where atrib.jumping > 90 order by player.height ASC limit 50;\" #and player.name LIKE 'John' order by player.height ASC;\"\n",
    "pd.read_sql_query(query, engine)"
   ]
  },
  {
   "cell_type": "code",
   "execution_count": null,
   "metadata": {
    "deletable": false,
    "editable": false,
    "nbgrader": {
     "grade": true,
     "grade_id": "cell-f1f24a46b0d15dc9",
     "locked": true,
     "points": 2,
     "schema_version": 3,
     "solution": false
    }
   },
   "outputs": [],
   "source": [
    "expected_hash = 'b5e5851f0a161f23043ca27717d62d0f102a8f89906e3e6f5bbc0656a5bb0ef9'\n",
    "assert hashlib.sha256(q3_answer.encode()).hexdigest() == expected_hash"
   ]
  },
  {
   "cell_type": "markdown",
   "metadata": {
    "deletable": false,
    "editable": false,
    "nbgrader": {
     "grade": false,
     "grade_id": "cell-f1ef8aaf001e8015",
     "locked": true,
     "schema_version": 3,
     "solution": false
    }
   },
   "source": [
    "### Q4. Find out which leagues have had at least one game where the visiting team scored over 7 goals\n",
    "\n",
    "Write a query that gets the name of all **DISTINCT** leagues that have had at least one game where the visiting (\"away\") team has scored more than 7 goals.\n",
    "\n",
    "Order the results **by name** in descending order. Create a list with the results, and assign it to variable q4_answer.\n",
    "\n",
    "**Hints**: keep in mind you only want to select DISTINCT league names. Meaning: even if a league has had more than one game with the required goal count, we don't want its name to appear more than once in the result. For this, the [DISTINCT](https://www.postgresql.org/docs/current/static/sql-select.html#SQL-DISTINCT) keyword will be essential. Also, keep in mind that the league names are not available in the match table!"
   ]
  },
  {
   "cell_type": "code",
   "execution_count": 57,
   "metadata": {
    "deletable": false,
    "nbgrader": {
     "grade": false,
     "grade_id": "cell-645c2fbe3b16c880",
     "locked": false,
     "schema_version": 3,
     "solution": true
    }
   },
   "outputs": [
    {
     "data": {
      "text/html": [
       "<div>\n",
       "<style scoped>\n",
       "    .dataframe tbody tr th:only-of-type {\n",
       "        vertical-align: middle;\n",
       "    }\n",
       "\n",
       "    .dataframe tbody tr th {\n",
       "        vertical-align: top;\n",
       "    }\n",
       "\n",
       "    .dataframe thead th {\n",
       "        text-align: right;\n",
       "    }\n",
       "</style>\n",
       "<table border=\"1\" class=\"dataframe\">\n",
       "  <thead>\n",
       "    <tr style=\"text-align: right;\">\n",
       "      <th></th>\n",
       "      <th>name</th>\n",
       "    </tr>\n",
       "  </thead>\n",
       "  <tbody>\n",
       "    <tr>\n",
       "      <th>0</th>\n",
       "      <td>Spain LIGA BBVA</td>\n",
       "    </tr>\n",
       "    <tr>\n",
       "      <th>1</th>\n",
       "      <td>Germany 1. Bundesliga</td>\n",
       "    </tr>\n",
       "    <tr>\n",
       "      <th>2</th>\n",
       "      <td>France Ligue 1</td>\n",
       "    </tr>\n",
       "  </tbody>\n",
       "</table>\n",
       "</div>"
      ],
      "text/plain": [
       "                    name\n",
       "0        Spain LIGA BBVA\n",
       "1  Germany 1. Bundesliga\n",
       "2         France Ligue 1"
      ]
     },
     "execution_count": 57,
     "metadata": {},
     "output_type": "execute_result"
    }
   ],
   "source": [
    "# YOUR CODE HERE\n",
    "#raise NotImplementedError()\n",
    "#query=\"select  * from League limit 5;\"\n",
    "#query=\"select  * from Match limit 5;\"\n",
    "query=\"select  DISTINCT(league.name) from League as league join Match as match on league.id=match.league_id where match.away_team_goal >7 order by 1 DESC;\"\n",
    "pd.read_sql_query(query, engine)"
   ]
  },
  {
   "cell_type": "code",
   "execution_count": 58,
   "metadata": {},
   "outputs": [],
   "source": [
    "q4_answer=['Spain LIGA BBVA', 'Germany 1. Bundesliga', 'France Ligue 1']"
   ]
  },
  {
   "cell_type": "code",
   "execution_count": 59,
   "metadata": {
    "deletable": false,
    "editable": false,
    "nbgrader": {
     "grade": true,
     "grade_id": "cell-41d99aabd53c87e7",
     "locked": true,
     "points": 2,
     "schema_version": 3,
     "solution": false
    }
   },
   "outputs": [],
   "source": [
    "expected_hash = '43f63158b3cf7dc5024c77e3bc669a85fba1d9e26d52996616b5c487ddd494d3'\n",
    "assert hashlib.sha256(str(q4_answer).encode()).hexdigest() == expected_hash"
   ]
  },
  {
   "cell_type": "markdown",
   "metadata": {
    "deletable": false,
    "editable": false,
    "nbgrader": {
     "grade": false,
     "grade_id": "cell-24c0142cc3082a0c",
     "locked": true,
     "schema_version": 3,
     "solution": false
    }
   },
   "source": [
    "### Q5. Find out what country had the least amount of matches\n",
    "\n",
    "Write a query to find out the name of the country that has had the least amount of football matches.\n",
    "\n",
    "Assign this country to variable q5_answer_1.\n",
    "\n",
    "Also find out how many matches where played in that country, and assign that value to q5_answer_2.\n",
    "\n",
    "**Hint**: there isn't a direct connection between the matches and the country, but you can get there using an extra table."
   ]
  },
  {
   "cell_type": "code",
   "execution_count": 65,
   "metadata": {
    "deletable": false,
    "nbgrader": {
     "grade": false,
     "grade_id": "cell-c5ef88aa51ea99f6",
     "locked": false,
     "schema_version": 3,
     "solution": true
    }
   },
   "outputs": [
    {
     "data": {
      "text/html": [
       "<div>\n",
       "<style scoped>\n",
       "    .dataframe tbody tr th:only-of-type {\n",
       "        vertical-align: middle;\n",
       "    }\n",
       "\n",
       "    .dataframe tbody tr th {\n",
       "        vertical-align: top;\n",
       "    }\n",
       "\n",
       "    .dataframe thead th {\n",
       "        text-align: right;\n",
       "    }\n",
       "</style>\n",
       "<table border=\"1\" class=\"dataframe\">\n",
       "  <thead>\n",
       "    <tr style=\"text-align: right;\">\n",
       "      <th></th>\n",
       "      <th>count</th>\n",
       "      <th>country_id</th>\n",
       "    </tr>\n",
       "  </thead>\n",
       "  <tbody>\n",
       "    <tr>\n",
       "      <th>0</th>\n",
       "      <td>1422</td>\n",
       "      <td>24558</td>\n",
       "    </tr>\n",
       "    <tr>\n",
       "      <th>1</th>\n",
       "      <td>1728</td>\n",
       "      <td>1</td>\n",
       "    </tr>\n",
       "    <tr>\n",
       "      <th>2</th>\n",
       "      <td>1824</td>\n",
       "      <td>19694</td>\n",
       "    </tr>\n",
       "    <tr>\n",
       "      <th>3</th>\n",
       "      <td>1920</td>\n",
       "      <td>15722</td>\n",
       "    </tr>\n",
       "    <tr>\n",
       "      <th>4</th>\n",
       "      <td>2052</td>\n",
       "      <td>17642</td>\n",
       "    </tr>\n",
       "    <tr>\n",
       "      <th>5</th>\n",
       "      <td>2448</td>\n",
       "      <td>7809</td>\n",
       "    </tr>\n",
       "    <tr>\n",
       "      <th>6</th>\n",
       "      <td>2448</td>\n",
       "      <td>13274</td>\n",
       "    </tr>\n",
       "    <tr>\n",
       "      <th>7</th>\n",
       "      <td>3017</td>\n",
       "      <td>10257</td>\n",
       "    </tr>\n",
       "    <tr>\n",
       "      <th>8</th>\n",
       "      <td>3040</td>\n",
       "      <td>1729</td>\n",
       "    </tr>\n",
       "    <tr>\n",
       "      <th>9</th>\n",
       "      <td>3040</td>\n",
       "      <td>4769</td>\n",
       "    </tr>\n",
       "    <tr>\n",
       "      <th>10</th>\n",
       "      <td>3040</td>\n",
       "      <td>21518</td>\n",
       "    </tr>\n",
       "  </tbody>\n",
       "</table>\n",
       "</div>"
      ],
      "text/plain": [
       "    count  country_id\n",
       "0    1422       24558\n",
       "1    1728           1\n",
       "2    1824       19694\n",
       "3    1920       15722\n",
       "4    2052       17642\n",
       "5    2448        7809\n",
       "6    2448       13274\n",
       "7    3017       10257\n",
       "8    3040        1729\n",
       "9    3040        4769\n",
       "10   3040       21518"
      ]
     },
     "execution_count": 65,
     "metadata": {},
     "output_type": "execute_result"
    }
   ],
   "source": [
    "# YOUR CODE HERE\n",
    "#raise NotImplementedError()\n",
    "#query=\"select  * from League limit 5;\"\n",
    "#query=\"select  COUNT(m.id), l.country_id from Match as m join League as l on l.id=m.league_id group by l.country_id order by 1 ASC;\"\n",
    "pd.read_sql_query(query, engine)"
   ]
  },
  {
   "cell_type": "code",
   "execution_count": null,
   "metadata": {},
   "outputs": [],
   "source": [
    "query = \"SELECT name FROM Country where id = 24558;\"\n",
    "pd.read_sql_query(query, engine)"
   ]
  },
  {
   "cell_type": "code",
   "execution_count": 66,
   "metadata": {},
   "outputs": [],
   "source": [
    "q5_answer_1='Switzerland'\n",
    "q5_answer_2=1422"
   ]
  },
  {
   "cell_type": "code",
   "execution_count": 67,
   "metadata": {
    "deletable": false,
    "editable": false,
    "nbgrader": {
     "grade": true,
     "grade_id": "cell-f0f9a337b81de14a",
     "locked": true,
     "points": 1,
     "schema_version": 3,
     "solution": false
    }
   },
   "outputs": [],
   "source": [
    "expected_country_hash = '2275583196d791405892aaca0d87743c872f3fc0cf3308a6c3ef82528918aa8a'\n",
    "assert hashlib.sha256(q5_answer_1.encode()).hexdigest() == expected_country_hash, \"Wrong country!\"\n",
    "\n",
    "expected_matches_hash = 'fd53efd8940f305f79e212dc2e0a557d23eab8f2f60fbf219e19e3351b68e732'\n",
    "assert hashlib.sha256(str(q5_answer_2).encode()).hexdigest() == expected_matches_hash, \"Wrong number of matches!\""
   ]
  },
  {
   "cell_type": "markdown",
   "metadata": {
    "deletable": false,
    "editable": false,
    "nbgrader": {
     "grade": false,
     "grade_id": "cell-3a1dca85f9b02ebf",
     "locked": true,
     "schema_version": 3,
     "solution": false
    }
   },
   "source": [
    "### Querying the FIFAdb with pandas\n",
    "\n",
    "In these exercises, the goal is to query the FIFAdb using pandas.\n",
    "\n",
    "### Q6. Find the maximum amount of goals scored away for team with high defence pressure\n",
    "\n",
    "The connection settings to use in this exercise are the same ones as in the previous exercises.\n",
    "\n",
    "Write a query to find the team ID, short name and *max amount of goals scored when playing away* of the teams with a high \"defencepressure\" team attribute (*greater than 60*).\n",
    "\n",
    "Search only for teams with:\n",
    "\n",
    "* an *average amount of goals suffered* (when playing away) greater than 1 (that is: an average amount of goals scored by the home team greater than 1) \n",
    "* more than 25 games played away, to reduce the number of statistically insignificant results.\n",
    "\n",
    "Give the team ID column the `tid` alias. \n",
    "\n",
    "Order the results by the team short names in ascending order.\n",
    "\n",
    "Assign the result to dataframe df6."
   ]
  },
  {
   "cell_type": "markdown",
   "metadata": {},
   "source": [
    "Team: contains information about the teams.\n",
    "League: contains information about the football leagues, including the id of the country where they take place.\n",
    "Country: names and id's of the countries\n",
    "Player_Attributes: contains the attributes for each player.\n",
    "Team_Attributes: contains the attributes for each team."
   ]
  },
  {
   "cell_type": "code",
   "execution_count": 86,
   "metadata": {
    "deletable": false,
    "nbgrader": {
     "grade": false,
     "grade_id": "cell-f2cd873c0ac14ca0",
     "locked": false,
     "schema_version": 3,
     "solution": true
    }
   },
   "outputs": [],
   "source": [
    "# Create an engine that allows to connect to the FIFAdb PostgreSQL database\n",
    "# engine = sqlalchemy.create_engine(...)\n",
    "# YOUR CODE HERE\n",
    "#raise NotImplementedError()\n",
    "\n",
    "\n",
    "# Write the query as specified in the question\n",
    "#query = \"select * from Team_Attributes limit 5;\"\n",
    "query = \"\"\"select s.tid, s.short_name, s.max\n",
    "        from(\n",
    "        select t.id as tid, t.short_name, max(m.away_team_goal) as max, avg(m.home_team_goal) as avg_, count(m.away_team_id) as cnt \n",
    "        from Team as t \n",
    "        join Match as m on t.id=m.away_team_id \n",
    "        join Team_Attributes as a on a.team_id=t.id\n",
    "        where a.defencepressure > 60\n",
    "        -- and avg_ > 1\n",
    "        -- and cnt > 25\n",
    "        group by tid, t.short_name) as s\n",
    "        where avg_>1 and cnt >25 ;\"\"\"\n",
    "# YOUR CODE HERE\n",
    "#raise NotImplementedError()\n",
    "\n",
    "# Use pandas read_sql_query function to read the query result into a DataFrame\n",
    "df6 = pd.read_sql_query(query, engine)\n",
    "# YOUR CODE HERE\n",
    "#raise NotImplementedError()"
   ]
  },
  {
   "cell_type": "code",
   "execution_count": 78,
   "metadata": {},
   "outputs": [
    {
     "data": {
      "text/html": [
       "<div>\n",
       "<style scoped>\n",
       "    .dataframe tbody tr th:only-of-type {\n",
       "        vertical-align: middle;\n",
       "    }\n",
       "\n",
       "    .dataframe tbody tr th {\n",
       "        vertical-align: top;\n",
       "    }\n",
       "\n",
       "    .dataframe thead th {\n",
       "        text-align: right;\n",
       "    }\n",
       "</style>\n",
       "<table border=\"1\" class=\"dataframe\">\n",
       "  <thead>\n",
       "    <tr style=\"text-align: right;\">\n",
       "      <th></th>\n",
       "      <th>id</th>\n",
       "      <th>league_id</th>\n",
       "      <th>date</th>\n",
       "      <th>home_team_goal</th>\n",
       "      <th>away_team_goal</th>\n",
       "      <th>home_team_id</th>\n",
       "      <th>away_team_id</th>\n",
       "      <th>home_player_1_id</th>\n",
       "      <th>home_player_2_id</th>\n",
       "      <th>home_player_3_id</th>\n",
       "      <th>...</th>\n",
       "      <th>away_player_2_id</th>\n",
       "      <th>away_player_3_id</th>\n",
       "      <th>away_player_4_id</th>\n",
       "      <th>away_player_5_id</th>\n",
       "      <th>away_player_6_id</th>\n",
       "      <th>away_player_7_id</th>\n",
       "      <th>away_player_8_id</th>\n",
       "      <th>away_player_9_id</th>\n",
       "      <th>away_player_10_id</th>\n",
       "      <th>away_player_11_id</th>\n",
       "    </tr>\n",
       "  </thead>\n",
       "  <tbody>\n",
       "    <tr>\n",
       "      <th>0</th>\n",
       "      <td>1</td>\n",
       "      <td>1</td>\n",
       "      <td>2008-08-17 00:00:00</td>\n",
       "      <td>1</td>\n",
       "      <td>1</td>\n",
       "      <td>9987</td>\n",
       "      <td>9993</td>\n",
       "      <td>None</td>\n",
       "      <td>None</td>\n",
       "      <td>None</td>\n",
       "      <td>...</td>\n",
       "      <td>None</td>\n",
       "      <td>None</td>\n",
       "      <td>None</td>\n",
       "      <td>None</td>\n",
       "      <td>None</td>\n",
       "      <td>None</td>\n",
       "      <td>None</td>\n",
       "      <td>None</td>\n",
       "      <td>None</td>\n",
       "      <td>None</td>\n",
       "    </tr>\n",
       "    <tr>\n",
       "      <th>1</th>\n",
       "      <td>2</td>\n",
       "      <td>1</td>\n",
       "      <td>2008-08-16 00:00:00</td>\n",
       "      <td>0</td>\n",
       "      <td>0</td>\n",
       "      <td>10000</td>\n",
       "      <td>9994</td>\n",
       "      <td>None</td>\n",
       "      <td>None</td>\n",
       "      <td>None</td>\n",
       "      <td>...</td>\n",
       "      <td>None</td>\n",
       "      <td>None</td>\n",
       "      <td>None</td>\n",
       "      <td>None</td>\n",
       "      <td>None</td>\n",
       "      <td>None</td>\n",
       "      <td>None</td>\n",
       "      <td>None</td>\n",
       "      <td>None</td>\n",
       "      <td>None</td>\n",
       "    </tr>\n",
       "    <tr>\n",
       "      <th>2</th>\n",
       "      <td>3</td>\n",
       "      <td>1</td>\n",
       "      <td>2008-08-16 00:00:00</td>\n",
       "      <td>0</td>\n",
       "      <td>3</td>\n",
       "      <td>9984</td>\n",
       "      <td>8635</td>\n",
       "      <td>None</td>\n",
       "      <td>None</td>\n",
       "      <td>None</td>\n",
       "      <td>...</td>\n",
       "      <td>None</td>\n",
       "      <td>None</td>\n",
       "      <td>None</td>\n",
       "      <td>None</td>\n",
       "      <td>None</td>\n",
       "      <td>None</td>\n",
       "      <td>None</td>\n",
       "      <td>None</td>\n",
       "      <td>None</td>\n",
       "      <td>None</td>\n",
       "    </tr>\n",
       "    <tr>\n",
       "      <th>3</th>\n",
       "      <td>4</td>\n",
       "      <td>1</td>\n",
       "      <td>2008-08-17 00:00:00</td>\n",
       "      <td>5</td>\n",
       "      <td>0</td>\n",
       "      <td>9991</td>\n",
       "      <td>9998</td>\n",
       "      <td>None</td>\n",
       "      <td>None</td>\n",
       "      <td>None</td>\n",
       "      <td>...</td>\n",
       "      <td>None</td>\n",
       "      <td>None</td>\n",
       "      <td>None</td>\n",
       "      <td>None</td>\n",
       "      <td>None</td>\n",
       "      <td>None</td>\n",
       "      <td>None</td>\n",
       "      <td>None</td>\n",
       "      <td>None</td>\n",
       "      <td>None</td>\n",
       "    </tr>\n",
       "    <tr>\n",
       "      <th>4</th>\n",
       "      <td>5</td>\n",
       "      <td>1</td>\n",
       "      <td>2008-08-16 00:00:00</td>\n",
       "      <td>1</td>\n",
       "      <td>3</td>\n",
       "      <td>7947</td>\n",
       "      <td>9985</td>\n",
       "      <td>None</td>\n",
       "      <td>None</td>\n",
       "      <td>None</td>\n",
       "      <td>...</td>\n",
       "      <td>None</td>\n",
       "      <td>None</td>\n",
       "      <td>None</td>\n",
       "      <td>None</td>\n",
       "      <td>None</td>\n",
       "      <td>None</td>\n",
       "      <td>None</td>\n",
       "      <td>None</td>\n",
       "      <td>None</td>\n",
       "      <td>None</td>\n",
       "    </tr>\n",
       "  </tbody>\n",
       "</table>\n",
       "<p>5 rows × 29 columns</p>\n",
       "</div>"
      ],
      "text/plain": [
       "   id  league_id                 date  home_team_goal  away_team_goal  \\\n",
       "0   1          1  2008-08-17 00:00:00               1               1   \n",
       "1   2          1  2008-08-16 00:00:00               0               0   \n",
       "2   3          1  2008-08-16 00:00:00               0               3   \n",
       "3   4          1  2008-08-17 00:00:00               5               0   \n",
       "4   5          1  2008-08-16 00:00:00               1               3   \n",
       "\n",
       "   home_team_id  away_team_id home_player_1_id home_player_2_id  \\\n",
       "0          9987          9993             None             None   \n",
       "1         10000          9994             None             None   \n",
       "2          9984          8635             None             None   \n",
       "3          9991          9998             None             None   \n",
       "4          7947          9985             None             None   \n",
       "\n",
       "  home_player_3_id  ... away_player_2_id away_player_3_id away_player_4_id  \\\n",
       "0             None  ...             None             None             None   \n",
       "1             None  ...             None             None             None   \n",
       "2             None  ...             None             None             None   \n",
       "3             None  ...             None             None             None   \n",
       "4             None  ...             None             None             None   \n",
       "\n",
       "  away_player_5_id away_player_6_id away_player_7_id away_player_8_id  \\\n",
       "0             None             None             None             None   \n",
       "1             None             None             None             None   \n",
       "2             None             None             None             None   \n",
       "3             None             None             None             None   \n",
       "4             None             None             None             None   \n",
       "\n",
       "  away_player_9_id away_player_10_id away_player_11_id  \n",
       "0             None              None              None  \n",
       "1             None              None              None  \n",
       "2             None              None              None  \n",
       "3             None              None              None  \n",
       "4             None              None              None  \n",
       "\n",
       "[5 rows x 29 columns]"
      ]
     },
     "execution_count": 78,
     "metadata": {},
     "output_type": "execute_result"
    }
   ],
   "source": [
    "query = \"select * from Match limit 5;\"\n",
    "pd.read_sql_query(query, engine)"
   ]
  },
  {
   "cell_type": "code",
   "execution_count": 87,
   "metadata": {
    "deletable": false,
    "editable": false,
    "nbgrader": {
     "grade": true,
     "grade_id": "cell-28986c4b783959be",
     "locked": true,
     "points": 1,
     "schema_version": 3,
     "solution": false
    }
   },
   "outputs": [],
   "source": [
    "assert type(engine) == sqlalchemy.engine.base.Engine\n",
    "assert len(df6) == 3\n",
    "assert len(df6.columns) == 3, \"Are you sure you selected the requested columns?\"\n",
    "\n",
    "expected_hash = '72353f3e1b10c9a397090043256be11d2a5922815f8313ef638ffbeea5dcadce'\n",
    "assert hashlib.sha256(df6.iloc[2][\"tid\"].astype(str).encode()).hexdigest() == expected_hash, \"Wrong data\"\n",
    "\n",
    "expected_hash = 'fe34924d143b814542bfb9714341fa68ac9fca7a0b4eeda1b654abacae2d1a50'\n",
    "assert hashlib.sha256(df6.iloc[1].short_name.encode()).hexdigest() == expected_hash, \"Wrong data\""
   ]
  },
  {
   "cell_type": "markdown",
   "metadata": {
    "deletable": false,
    "editable": false,
    "nbgrader": {
     "grade": false,
     "grade_id": "cell-06b122f1f318a355",
     "locked": true,
     "schema_version": 3,
     "solution": false
    }
   },
   "source": [
    "### Q7. Find out some attributes from players with fast reactions and high potential\n",
    "\n",
    "In this exercise, we want to query a local SQLite database.\n",
    "In order to do this, connect to the FIFAdb.sqlite database, as was done in the learning notebooks for the_movies.db. The database file we're using is in the **data** directory, and the table names are the same as in the PostgreSQL database.\n",
    "\n",
    "Write a query that selects the player name, height, weight, sprint_speed, acceleration and shot_power for all players with a value of the `reactions` attribute greater than 85, and a value of the `potential` attribute greater than or equal to 90. Order these results by the `positioning` attribute in descending order.\n",
    "\n",
    "Use pandas to read this query into a DataFrame called df7 with six columns: name, height, weight, sprint_speed, acceleration and shot_power."
   ]
  },
  {
   "cell_type": "code",
   "execution_count": 95,
   "metadata": {
    "deletable": false,
    "nbgrader": {
     "grade": false,
     "grade_id": "cell-8d45d74ae0d84110",
     "locked": false,
     "schema_version": 3,
     "solution": true
    }
   },
   "outputs": [
    {
     "data": {
      "text/html": [
       "<div>\n",
       "<style scoped>\n",
       "    .dataframe tbody tr th:only-of-type {\n",
       "        vertical-align: middle;\n",
       "    }\n",
       "\n",
       "    .dataframe tbody tr th {\n",
       "        vertical-align: top;\n",
       "    }\n",
       "\n",
       "    .dataframe thead th {\n",
       "        text-align: right;\n",
       "    }\n",
       "</style>\n",
       "<table border=\"1\" class=\"dataframe\">\n",
       "  <thead>\n",
       "    <tr style=\"text-align: right;\">\n",
       "      <th></th>\n",
       "      <th>name</th>\n",
       "      <th>height</th>\n",
       "      <th>weight</th>\n",
       "      <th>sprint_speed</th>\n",
       "      <th>acceleration</th>\n",
       "      <th>shot_power</th>\n",
       "    </tr>\n",
       "  </thead>\n",
       "  <tbody>\n",
       "    <tr>\n",
       "      <th>0</th>\n",
       "      <td>Lionel Messi</td>\n",
       "      <td>170</td>\n",
       "      <td>159</td>\n",
       "      <td>91</td>\n",
       "      <td>95</td>\n",
       "      <td>80</td>\n",
       "    </tr>\n",
       "    <tr>\n",
       "      <th>1</th>\n",
       "      <td>Andres Iniesta</td>\n",
       "      <td>170</td>\n",
       "      <td>150</td>\n",
       "      <td>77</td>\n",
       "      <td>80</td>\n",
       "      <td>67</td>\n",
       "    </tr>\n",
       "    <tr>\n",
       "      <th>2</th>\n",
       "      <td>Cristiano Ronaldo</td>\n",
       "      <td>185</td>\n",
       "      <td>176</td>\n",
       "      <td>94</td>\n",
       "      <td>92</td>\n",
       "      <td>93</td>\n",
       "    </tr>\n",
       "    <tr>\n",
       "      <th>3</th>\n",
       "      <td>Franck Ribery</td>\n",
       "      <td>170</td>\n",
       "      <td>159</td>\n",
       "      <td>90</td>\n",
       "      <td>92</td>\n",
       "      <td>75</td>\n",
       "    </tr>\n",
       "  </tbody>\n",
       "</table>\n",
       "</div>"
      ],
      "text/plain": [
       "                name  height  weight  sprint_speed  acceleration  shot_power\n",
       "0       Lionel Messi     170     159            91            95          80\n",
       "1     Andres Iniesta     170     150            77            80          67\n",
       "2  Cristiano Ronaldo     185     176            94            92          93\n",
       "3      Franck Ribery     170     159            90            92          75"
      ]
     },
     "execution_count": 95,
     "metadata": {},
     "output_type": "execute_result"
    }
   ],
   "source": [
    "# Create an engine that allows to to connect to the FIFAdb SQLite database\n",
    "# engine = sqlalchemy.create_engine(...)\n",
    "# YOUR CODE HERE\n",
    "#raise NotImplementedError()\n",
    "\n",
    "\n",
    "# Write the query as specified in the question\n",
    "# query = ...\n",
    "# YOUR CODE HERE\n",
    "#raise NotImplementedError()\n",
    "\n",
    "# Use pandas read_sql_query function to read the query result into a DataFrame\n",
    "# df7 = pd.read_sql_query(...)\n",
    "# YOUR CODE HERE\n",
    "#raise NotImplementedError()\n",
    "query = \"\"\"select s.name, s.height, s.weight, s.sprint_speed, s.acceleration, s.shot_power\n",
    "        from(\n",
    "        select p.name as name, p.height as height, p.weight as weight, a.sprint_speed as sprint_speed, a.acceleration as acceleration, a.shot_power as shot_power, a.positioning as pos \n",
    "        from Player as p \n",
    "        join Player_Attributes as a on a.player_id=p.id\n",
    "        where a.reactions > 85\n",
    "        and a.potential >= 90\n",
    "        --group by name, height, weight, \n",
    "        ) as s\n",
    "        order by s.pos DESC;\"\"\"\n",
    "# YOUR CODE HERE\n",
    "#raise NotImplementedError()\n",
    "\n",
    "# Use pandas read_sql_query function to read the query result into a DataFrame\n",
    "df7 = pd.read_sql_query(query, engine)\n",
    "pd.read_sql_query(query, engine)"
   ]
  },
  {
   "cell_type": "code",
   "execution_count": 90,
   "metadata": {},
   "outputs": [
    {
     "data": {
      "text/html": [
       "<div>\n",
       "<style scoped>\n",
       "    .dataframe tbody tr th:only-of-type {\n",
       "        vertical-align: middle;\n",
       "    }\n",
       "\n",
       "    .dataframe tbody tr th {\n",
       "        vertical-align: top;\n",
       "    }\n",
       "\n",
       "    .dataframe thead th {\n",
       "        text-align: right;\n",
       "    }\n",
       "</style>\n",
       "<table border=\"1\" class=\"dataframe\">\n",
       "  <thead>\n",
       "    <tr style=\"text-align: right;\">\n",
       "      <th></th>\n",
       "      <th>id</th>\n",
       "      <th>name</th>\n",
       "      <th>birthday</th>\n",
       "      <th>height</th>\n",
       "      <th>weight</th>\n",
       "    </tr>\n",
       "  </thead>\n",
       "  <tbody>\n",
       "    <tr>\n",
       "      <th>0</th>\n",
       "      <td>2625</td>\n",
       "      <td>Patryk Rachwal,18</td>\n",
       "      <td>1981-01-27 00:00:00</td>\n",
       "      <td>175</td>\n",
       "      <td>154</td>\n",
       "    </tr>\n",
       "    <tr>\n",
       "      <th>1</th>\n",
       "      <td>2752</td>\n",
       "      <td>Diego Mainz</td>\n",
       "      <td>1982-12-29 00:00:00</td>\n",
       "      <td>188</td>\n",
       "      <td>174</td>\n",
       "    </tr>\n",
       "    <tr>\n",
       "      <th>2</th>\n",
       "      <td>2768</td>\n",
       "      <td>Jose Dorado</td>\n",
       "      <td>1982-07-10 00:00:00</td>\n",
       "      <td>180</td>\n",
       "      <td>154</td>\n",
       "    </tr>\n",
       "    <tr>\n",
       "      <th>3</th>\n",
       "      <td>2770</td>\n",
       "      <td>Ignacio Gonzalez</td>\n",
       "      <td>1982-05-14 00:00:00</td>\n",
       "      <td>180</td>\n",
       "      <td>161</td>\n",
       "    </tr>\n",
       "    <tr>\n",
       "      <th>4</th>\n",
       "      <td>2790</td>\n",
       "      <td>Alberto Rey</td>\n",
       "      <td>1974-02-15 00:00:00</td>\n",
       "      <td>175</td>\n",
       "      <td>163</td>\n",
       "    </tr>\n",
       "  </tbody>\n",
       "</table>\n",
       "</div>"
      ],
      "text/plain": [
       "     id               name             birthday  height  weight\n",
       "0  2625  Patryk Rachwal,18  1981-01-27 00:00:00     175     154\n",
       "1  2752        Diego Mainz  1982-12-29 00:00:00     188     174\n",
       "2  2768        Jose Dorado  1982-07-10 00:00:00     180     154\n",
       "3  2770   Ignacio Gonzalez  1982-05-14 00:00:00     180     161\n",
       "4  2790        Alberto Rey  1974-02-15 00:00:00     175     163"
      ]
     },
     "execution_count": 90,
     "metadata": {},
     "output_type": "execute_result"
    }
   ],
   "source": [
    "query = \"select * from Player limit 5;\"\n",
    "pd.read_sql_query(query, engine)"
   ]
  },
  {
   "cell_type": "code",
   "execution_count": 94,
   "metadata": {
    "deletable": false,
    "editable": false,
    "nbgrader": {
     "grade": true,
     "grade_id": "cell-19abd085a003ab6f",
     "locked": true,
     "points": 1,
     "schema_version": 3,
     "solution": false
    }
   },
   "outputs": [
    {
     "ename": "AssertionError",
     "evalue": "Wrong data",
     "output_type": "error",
     "traceback": [
      "\u001b[0;31m---------------------------------------------------------------------------\u001b[0m",
      "\u001b[0;31mAssertionError\u001b[0m                            Traceback (most recent call last)",
      "\u001b[0;32m<ipython-input-94-010f2b5022c0>\u001b[0m in \u001b[0;36m<module>\u001b[0;34m\u001b[0m\n\u001b[1;32m      8\u001b[0m \u001b[0;34m\u001b[0m\u001b[0m\n\u001b[1;32m      9\u001b[0m \u001b[0mexpected_hash\u001b[0m \u001b[0;34m=\u001b[0m \u001b[0;34m'a9e2cdc1c1dab67f2dbd9694e8504ae974bf9e98cffeff654bf30cc8b9107423'\u001b[0m\u001b[0;34m\u001b[0m\u001b[0;34m\u001b[0m\u001b[0m\n\u001b[0;32m---> 10\u001b[0;31m \u001b[0;32massert\u001b[0m \u001b[0mhashlib\u001b[0m\u001b[0;34m.\u001b[0m\u001b[0msha256\u001b[0m\u001b[0;34m(\u001b[0m\u001b[0mstr\u001b[0m\u001b[0;34m(\u001b[0m\u001b[0mdf7\u001b[0m\u001b[0;34m.\u001b[0m\u001b[0mloc\u001b[0m\u001b[0;34m[\u001b[0m\u001b[0;36m2\u001b[0m\u001b[0;34m,\u001b[0m \u001b[0;34m'height'\u001b[0m\u001b[0;34m]\u001b[0m\u001b[0;34m)\u001b[0m\u001b[0;34m.\u001b[0m\u001b[0mencode\u001b[0m\u001b[0;34m(\u001b[0m\u001b[0;34m)\u001b[0m\u001b[0;34m)\u001b[0m\u001b[0;34m.\u001b[0m\u001b[0mhexdigest\u001b[0m\u001b[0;34m(\u001b[0m\u001b[0;34m)\u001b[0m \u001b[0;34m==\u001b[0m \u001b[0mexpected_hash\u001b[0m\u001b[0;34m,\u001b[0m \u001b[0;34m\"Wrong data\"\u001b[0m\u001b[0;34m\u001b[0m\u001b[0;34m\u001b[0m\u001b[0m\n\u001b[0m\u001b[1;32m     11\u001b[0m \u001b[0;34m\u001b[0m\u001b[0m\n\u001b[1;32m     12\u001b[0m \u001b[0mexpected_hash\u001b[0m \u001b[0;34m=\u001b[0m \u001b[0;34m'91a78f834681a13134c5cea155b51d1c832aec895b74fc42a3ab757aed5df8e2'\u001b[0m\u001b[0;34m\u001b[0m\u001b[0;34m\u001b[0m\u001b[0m\n",
      "\u001b[0;31mAssertionError\u001b[0m: Wrong data"
     ]
    }
   ],
   "source": [
    "assert type(engine) == sqlalchemy.engine.base.Engine\n",
    "assert len(df7) == 4\n",
    "assert len(df7.columns) == 6, \"Are you sure you selected the right number of columns?\"\n",
    "assert df7.columns.tolist() == ['name', 'height', 'weight', 'sprint_speed', 'acceleration', 'shot_power'], \"Are you sure you selected the requested columns?\"\n",
    "\n",
    "expected_hash = 'e3ccd9684de593c7c6b6354cbe413d233959e7677258bfc3727d807e5900dce2'\n",
    "assert hashlib.sha256(df7.loc[0, 'name'].encode()).hexdigest() == expected_hash, \"Wrong data\"\n",
    "\n",
    "expected_hash = 'a9e2cdc1c1dab67f2dbd9694e8504ae974bf9e98cffeff654bf30cc8b9107423'\n",
    "assert hashlib.sha256(str(df7.loc[2, 'height']).encode()).hexdigest() == expected_hash, \"Wrong data\"\n",
    "\n",
    "expected_hash = '91a78f834681a13134c5cea155b51d1c832aec895b74fc42a3ab757aed5df8e2'\n",
    "assert hashlib.sha256(str(df7.loc[3, 'shot_power']).encode()).hexdigest() == expected_hash, \"Wrong data\""
   ]
  },
  {
   "cell_type": "markdown",
   "metadata": {
    "deletable": false,
    "editable": false,
    "nbgrader": {
     "grade": false,
     "grade_id": "cell-a63384ff91b49abf",
     "locked": true,
     "schema_version": 3,
     "solution": false
    }
   },
   "source": [
    "## Part B - Public APIs\n",
    "\n",
    "\n",
    "-----------------------------------\n",
    "\n",
    "In this exercises, the goal is to get data from a public API. We'll go full geek, and use a Pokemon API hosted by the LDSA for this BLU! (credit for the data goes to user `fanzeyi`on Github)\n",
    "\n",
    "The base URL of the API is the following: https://pokemon-api.lisbondatascience.org/\n",
    "\n",
    "In order to complete the exercises, you'll have to navigate to the API's documentation (`ui` endpoint) on your browser. More specifically, you'll have to learn what are the different endpoints from which you can GET information.\n",
    "\n",
    "<br>\n",
    "\n",
    "<img src=\"media/api-image.jpg\" width=600>\n",
    "\n",
    "<br>\n",
    "\n",
    "### Q8. Find all of Charmander's evolutions!\n",
    "\n",
    "As you might know, Pokemon evolve as they grow. Several Pokemon keep a similar name when they evolve. Let's consider my favourite starter Pokemon, Charmander:\n",
    "\n",
    "<br>\n",
    "\n",
    "<img src=\"media/charmander.png\" width=300>\n",
    "\n",
    "<br>\n",
    "\n",
    "Use the API to find all Charmander's evolutions! You will have to get all Pokemon with `Char` in their name, and you'll also have to filter for \"Fire\" type Pokemon, since there are a couple of results unrelated to Charmander.\n",
    "\n",
    "Extract their names from the `[\"name\"][\"english\"]` attribute of each result, in the order they are returned, and assign the resulting list to the `q8_answer_names` variable.\n",
    "\n",
    "Also extract their speeds (`[\"base\"][\"Speed\"]`) and assign them to variable `q8_answer_speeds`"
   ]
  },
  {
   "cell_type": "code",
   "execution_count": 96,
   "metadata": {
    "deletable": false,
    "nbgrader": {
     "grade": false,
     "grade_id": "cell-3e7084c9bf8398d0",
     "locked": false,
     "schema_version": 3,
     "solution": true,
     "task": false
    }
   },
   "outputs": [
    {
     "ename": "JSONDecodeError",
     "evalue": "Expecting value: line 1 column 1 (char 0)",
     "output_type": "error",
     "traceback": [
      "\u001b[0;31m---------------------------------------------------------------------------\u001b[0m",
      "\u001b[0;31mJSONDecodeError\u001b[0m                           Traceback (most recent call last)",
      "\u001b[0;32m<ipython-input-96-e9f3032eb659>\u001b[0m in \u001b[0;36m<module>\u001b[0;34m\u001b[0m\n\u001b[1;32m      5\u001b[0m \u001b[0mresponse\u001b[0m \u001b[0;34m=\u001b[0m \u001b[0mrequests\u001b[0m\u001b[0;34m.\u001b[0m\u001b[0mget\u001b[0m\u001b[0;34m(\u001b[0m\u001b[0;34m'https://pokemon-api.lisbondatascience.org/'\u001b[0m\u001b[0;34m)\u001b[0m\u001b[0;34m\u001b[0m\u001b[0;34m\u001b[0m\u001b[0m\n\u001b[1;32m      6\u001b[0m \u001b[0;34m\u001b[0m\u001b[0m\n\u001b[0;32m----> 7\u001b[0;31m \u001b[0mlen\u001b[0m\u001b[0;34m(\u001b[0m\u001b[0mresponse\u001b[0m\u001b[0;34m.\u001b[0m\u001b[0mjson\u001b[0m\u001b[0;34m(\u001b[0m\u001b[0;34m)\u001b[0m\u001b[0;34m)\u001b[0m\u001b[0;34m\u001b[0m\u001b[0;34m\u001b[0m\u001b[0m\n\u001b[0m\u001b[1;32m      8\u001b[0m \u001b[0;31m# response = ...\u001b[0m\u001b[0;34m\u001b[0m\u001b[0;34m\u001b[0m\u001b[0;34m\u001b[0m\u001b[0m\n\u001b[1;32m      9\u001b[0m \u001b[0;31m# q8_answer_names = ...\u001b[0m\u001b[0;34m\u001b[0m\u001b[0;34m\u001b[0m\u001b[0;34m\u001b[0m\u001b[0m\n",
      "\u001b[0;32m~/.virtualenvs/slu00/lib/python3.6/site-packages/requests/models.py\u001b[0m in \u001b[0;36mjson\u001b[0;34m(self, **kwargs)\u001b[0m\n\u001b[1;32m    896\u001b[0m                     \u001b[0;31m# used.\u001b[0m\u001b[0;34m\u001b[0m\u001b[0;34m\u001b[0m\u001b[0;34m\u001b[0m\u001b[0m\n\u001b[1;32m    897\u001b[0m                     \u001b[0;32mpass\u001b[0m\u001b[0;34m\u001b[0m\u001b[0;34m\u001b[0m\u001b[0m\n\u001b[0;32m--> 898\u001b[0;31m         \u001b[0;32mreturn\u001b[0m \u001b[0mcomplexjson\u001b[0m\u001b[0;34m.\u001b[0m\u001b[0mloads\u001b[0m\u001b[0;34m(\u001b[0m\u001b[0mself\u001b[0m\u001b[0;34m.\u001b[0m\u001b[0mtext\u001b[0m\u001b[0;34m,\u001b[0m \u001b[0;34m**\u001b[0m\u001b[0mkwargs\u001b[0m\u001b[0;34m)\u001b[0m\u001b[0;34m\u001b[0m\u001b[0;34m\u001b[0m\u001b[0m\n\u001b[0m\u001b[1;32m    899\u001b[0m \u001b[0;34m\u001b[0m\u001b[0m\n\u001b[1;32m    900\u001b[0m     \u001b[0;34m@\u001b[0m\u001b[0mproperty\u001b[0m\u001b[0;34m\u001b[0m\u001b[0;34m\u001b[0m\u001b[0m\n",
      "\u001b[0;32m/usr/lib/python3.6/json/__init__.py\u001b[0m in \u001b[0;36mloads\u001b[0;34m(s, encoding, cls, object_hook, parse_float, parse_int, parse_constant, object_pairs_hook, **kw)\u001b[0m\n\u001b[1;32m    352\u001b[0m             \u001b[0mparse_int\u001b[0m \u001b[0;32mis\u001b[0m \u001b[0;32mNone\u001b[0m \u001b[0;32mand\u001b[0m \u001b[0mparse_float\u001b[0m \u001b[0;32mis\u001b[0m \u001b[0;32mNone\u001b[0m \u001b[0;32mand\u001b[0m\u001b[0;34m\u001b[0m\u001b[0;34m\u001b[0m\u001b[0m\n\u001b[1;32m    353\u001b[0m             parse_constant is None and object_pairs_hook is None and not kw):\n\u001b[0;32m--> 354\u001b[0;31m         \u001b[0;32mreturn\u001b[0m \u001b[0m_default_decoder\u001b[0m\u001b[0;34m.\u001b[0m\u001b[0mdecode\u001b[0m\u001b[0;34m(\u001b[0m\u001b[0ms\u001b[0m\u001b[0;34m)\u001b[0m\u001b[0;34m\u001b[0m\u001b[0;34m\u001b[0m\u001b[0m\n\u001b[0m\u001b[1;32m    355\u001b[0m     \u001b[0;32mif\u001b[0m \u001b[0mcls\u001b[0m \u001b[0;32mis\u001b[0m \u001b[0;32mNone\u001b[0m\u001b[0;34m:\u001b[0m\u001b[0;34m\u001b[0m\u001b[0;34m\u001b[0m\u001b[0m\n\u001b[1;32m    356\u001b[0m         \u001b[0mcls\u001b[0m \u001b[0;34m=\u001b[0m \u001b[0mJSONDecoder\u001b[0m\u001b[0;34m\u001b[0m\u001b[0;34m\u001b[0m\u001b[0m\n",
      "\u001b[0;32m/usr/lib/python3.6/json/decoder.py\u001b[0m in \u001b[0;36mdecode\u001b[0;34m(self, s, _w)\u001b[0m\n\u001b[1;32m    337\u001b[0m \u001b[0;34m\u001b[0m\u001b[0m\n\u001b[1;32m    338\u001b[0m         \"\"\"\n\u001b[0;32m--> 339\u001b[0;31m         \u001b[0mobj\u001b[0m\u001b[0;34m,\u001b[0m \u001b[0mend\u001b[0m \u001b[0;34m=\u001b[0m \u001b[0mself\u001b[0m\u001b[0;34m.\u001b[0m\u001b[0mraw_decode\u001b[0m\u001b[0;34m(\u001b[0m\u001b[0ms\u001b[0m\u001b[0;34m,\u001b[0m \u001b[0midx\u001b[0m\u001b[0;34m=\u001b[0m\u001b[0m_w\u001b[0m\u001b[0;34m(\u001b[0m\u001b[0ms\u001b[0m\u001b[0;34m,\u001b[0m \u001b[0;36m0\u001b[0m\u001b[0;34m)\u001b[0m\u001b[0;34m.\u001b[0m\u001b[0mend\u001b[0m\u001b[0;34m(\u001b[0m\u001b[0;34m)\u001b[0m\u001b[0;34m)\u001b[0m\u001b[0;34m\u001b[0m\u001b[0;34m\u001b[0m\u001b[0m\n\u001b[0m\u001b[1;32m    340\u001b[0m         \u001b[0mend\u001b[0m \u001b[0;34m=\u001b[0m \u001b[0m_w\u001b[0m\u001b[0;34m(\u001b[0m\u001b[0ms\u001b[0m\u001b[0;34m,\u001b[0m \u001b[0mend\u001b[0m\u001b[0;34m)\u001b[0m\u001b[0;34m.\u001b[0m\u001b[0mend\u001b[0m\u001b[0;34m(\u001b[0m\u001b[0;34m)\u001b[0m\u001b[0;34m\u001b[0m\u001b[0;34m\u001b[0m\u001b[0m\n\u001b[1;32m    341\u001b[0m         \u001b[0;32mif\u001b[0m \u001b[0mend\u001b[0m \u001b[0;34m!=\u001b[0m \u001b[0mlen\u001b[0m\u001b[0;34m(\u001b[0m\u001b[0ms\u001b[0m\u001b[0;34m)\u001b[0m\u001b[0;34m:\u001b[0m\u001b[0;34m\u001b[0m\u001b[0;34m\u001b[0m\u001b[0m\n",
      "\u001b[0;32m/usr/lib/python3.6/json/decoder.py\u001b[0m in \u001b[0;36mraw_decode\u001b[0;34m(self, s, idx)\u001b[0m\n\u001b[1;32m    355\u001b[0m             \u001b[0mobj\u001b[0m\u001b[0;34m,\u001b[0m \u001b[0mend\u001b[0m \u001b[0;34m=\u001b[0m \u001b[0mself\u001b[0m\u001b[0;34m.\u001b[0m\u001b[0mscan_once\u001b[0m\u001b[0;34m(\u001b[0m\u001b[0ms\u001b[0m\u001b[0;34m,\u001b[0m \u001b[0midx\u001b[0m\u001b[0;34m)\u001b[0m\u001b[0;34m\u001b[0m\u001b[0;34m\u001b[0m\u001b[0m\n\u001b[1;32m    356\u001b[0m         \u001b[0;32mexcept\u001b[0m \u001b[0mStopIteration\u001b[0m \u001b[0;32mas\u001b[0m \u001b[0merr\u001b[0m\u001b[0;34m:\u001b[0m\u001b[0;34m\u001b[0m\u001b[0;34m\u001b[0m\u001b[0m\n\u001b[0;32m--> 357\u001b[0;31m             \u001b[0;32mraise\u001b[0m \u001b[0mJSONDecodeError\u001b[0m\u001b[0;34m(\u001b[0m\u001b[0;34m\"Expecting value\"\u001b[0m\u001b[0;34m,\u001b[0m \u001b[0ms\u001b[0m\u001b[0;34m,\u001b[0m \u001b[0merr\u001b[0m\u001b[0;34m.\u001b[0m\u001b[0mvalue\u001b[0m\u001b[0;34m)\u001b[0m \u001b[0;32mfrom\u001b[0m \u001b[0;32mNone\u001b[0m\u001b[0;34m\u001b[0m\u001b[0;34m\u001b[0m\u001b[0m\n\u001b[0m\u001b[1;32m    358\u001b[0m         \u001b[0;32mreturn\u001b[0m \u001b[0mobj\u001b[0m\u001b[0;34m,\u001b[0m \u001b[0mend\u001b[0m\u001b[0;34m\u001b[0m\u001b[0;34m\u001b[0m\u001b[0m\n",
      "\u001b[0;31mJSONDecodeError\u001b[0m: Expecting value: line 1 column 1 (char 0)"
     ]
    }
   ],
   "source": [
    "# Do an HTTP GET request to the Pokemon API to get information about \n",
    "# all Pokemons with \"Char\" in their name\n",
    "\n",
    "#payload = {'page': 2}\n",
    "response = requests.get('https://pokemon-api.lisbondatascience.org/')\n",
    "\n",
    "len(response.json())\n",
    "# response = ...\n",
    "# q8_answer_names = ...\n",
    "# q8_answer_speeds = ...\n",
    "\n",
    "# YOUR CODE HERE\n",
    "#raise NotImplementedError()\n",
    "\n"
   ]
  },
  {
   "cell_type": "code",
   "execution_count": null,
   "metadata": {
    "deletable": false,
    "editable": false,
    "nbgrader": {
     "grade": true,
     "grade_id": "cell-50d051ce26525944",
     "locked": true,
     "points": 2,
     "schema_version": 3,
     "solution": false,
     "task": false
    }
   },
   "outputs": [],
   "source": [
    "assert type(q8_answer_names) == list, \"Names must be in a list\"\n",
    "assert type(q8_answer_speeds) == list, \"Speeds must be in a list\"\n",
    "\n",
    "names_hash = '4530988a30da58ce7b0045234c8499b1cc5bbf39412591a28bc49b876dba223c'\n",
    "assert hashlib.sha256(str(q8_answer_names).encode()).hexdigest() == names_hash, \"Wrong names!\"\n",
    "\n",
    "speeds_hash = 'e0919cb78353fd21778684cebea362f41ccaa283ce2aa8d86a190ccc9daec2aa'\n",
    "assert hashlib.sha256(str(q8_answer_speeds).encode()).hexdigest() == speeds_hash, \"Wrong speeds!\""
   ]
  },
  {
   "cell_type": "markdown",
   "metadata": {
    "deletable": false,
    "editable": false,
    "nbgrader": {
     "grade": false,
     "grade_id": "cell-90ff2db8962c1d5b",
     "locked": true,
     "schema_version": 3,
     "solution": false
    }
   },
   "source": [
    "### Q9. Find the strongest Pokemon moves!\n",
    "\n",
    "Now, use a different endpoint to find out which Pokemon moves have a `power` stat of 150 or higher.\n",
    "\n",
    "Extract their `enames` (english names) and assign the resulting list to variable `q9_answer`."
   ]
  },
  {
   "cell_type": "code",
   "execution_count": null,
   "metadata": {
    "deletable": false,
    "nbgrader": {
     "grade": false,
     "grade_id": "cell-3c68a66b3b6b56d0",
     "locked": false,
     "schema_version": 3,
     "solution": true,
     "task": false
    }
   },
   "outputs": [],
   "source": [
    "# Do an HTTP GET request to find which Pokemon moves have 150 or more power.\n",
    "\n",
    "# YOUR CODE HERE\n",
    "raise NotImplementedError()"
   ]
  },
  {
   "cell_type": "code",
   "execution_count": null,
   "metadata": {
    "deletable": false,
    "editable": false,
    "nbgrader": {
     "grade": true,
     "grade_id": "cell-15c07449c3238657",
     "locked": true,
     "points": 2,
     "schema_version": 3,
     "solution": false,
     "task": false
    }
   },
   "outputs": [],
   "source": [
    "assert type(q9_answer) == list, \"Moves must be in a list!\"\n",
    "assert len(q9_answer) == 14, \"Wrong number of moves!\"\n",
    "\n",
    "expected_moves_hash = 'a84955c5d99c54a3ed5b21d710bc2ac0c5bb48dfc11a441fdd3fb2943b70017f'\n",
    "assert hashlib.sha256(str(q9_answer).encode()).hexdigest() == expected_moves_hash"
   ]
  },
  {
   "cell_type": "markdown",
   "metadata": {
    "deletable": false,
    "editable": false,
    "nbgrader": {
     "grade": false,
     "grade_id": "cell-91ec6c1c0bc1f4f5",
     "locked": true,
     "schema_version": 3,
     "solution": false
    }
   },
   "source": [
    "## Part C - Web scraping\n",
    "\n",
    "In this exercise, we're going to use web scraping to get data from the page of a former LDSA student, Bork Pawson!\n",
    "Bork has kindly made his very simple and amateurish website available for us to scrape!\n",
    "\n",
    "You can find his website here: https://s02-infrastructure.s3.eu-west-1.amazonaws.com/ldsa-bork/index.html\n",
    "\n",
    "### Q10. Scrape Bork's ABSOLUTE favourite things in the world.\n",
    "\n",
    "Bork has written down his five favourite things in the world. You can find the in a list on the website's sidebar.\n",
    "Scrape the 5 items in order, using the `requests` and `BeautifulSoup` library, store them in a list, and assign it to the `q10_answer` variable. No cheating! \n"
   ]
  },
  {
   "cell_type": "code",
   "execution_count": 97,
   "metadata": {
    "deletable": false,
    "nbgrader": {
     "grade": false,
     "grade_id": "cell-bd8d7b19855c5b9f",
     "locked": false,
     "schema_version": 3,
     "solution": true
    }
   },
   "outputs": [],
   "source": [
    "# Assign the URL of the page to be scraped to variable url\n",
    "url = 'https://s02-infrastructure.s3.eu-west-1.amazonaws.com/ldsa-bork/index.html'\n",
    "# YOUR CODE HERE\n",
    "#raise NotImplementedError()\n",
    "\n",
    "# Do a GET request to get the page content, using the url we've just defined\n",
    "response = requests.get(url)\n",
    "# YOUR CODE HERE\n",
    "#raise NotImplementedError()\n",
    "\n",
    "# Instantiate a soup object using the response of the GET request\n",
    "# YOUR CODE HERE\n",
    "soup = BeautifulSoup(response.content, 'html.parser')\n",
    "#raise NotImplementedError()\n",
    "    \n",
    "# Now it's the tricky part!\n",
    "# Parse the soup in order to retrieve the list of things.\n",
    "# In the end, store the favourite things in a list and assign it to variable q10_answer.\n",
    "# YOUR CODE HERE\n",
    "#raise NotImplementedError()"
   ]
  },
  {
   "cell_type": "code",
   "execution_count": 99,
   "metadata": {},
   "outputs": [
    {
     "name": "stdout",
     "output_type": "stream",
     "text": [
      "<!DOCTYPE html>\n",
      "<!--[if lt IE 7]>      <html class=\"no-js lt-ie9 lt-ie8 lt-ie7\"> <![endif]-->\n",
      "<!--[if IE 7]>         <html class=\"no-js lt-ie9 lt-ie8\"> <![endif]-->\n",
      "<!--[if IE 8]>         <html class=\"no-js lt-ie9\"> <![endif]-->\n",
      "<!--[if gt IE 8]>      <html class=\"no-js\"> <!--<![endif]-->\n",
      "<html>\n",
      " <head>\n",
      "  <meta charset=\"utf-8\"/>\n",
      "  <meta content=\"IE=edge\" http-equiv=\"X-UA-Compatible\"/>\n",
      "  <title>\n",
      "  </title>\n",
      "  <meta content=\"\" name=\"description\"/>\n",
      "  <meta content=\"width=device-width, initial-scale=\n"
     ]
    }
   ],
   "source": [
    "import utils\n",
    "utils.friendly_print_string(soup.prettify())"
   ]
  },
  {
   "cell_type": "code",
   "execution_count": 101,
   "metadata": {},
   "outputs": [
    {
     "name": "stdout",
     "output_type": "stream",
     "text": [
      "Number of elements found:  1\n"
     ]
    }
   ],
   "source": [
    "dog_list = soup.find_all('ul', class_=\"favourite-things\")\n",
    "print(\"Number of elements found: \", len(dog_list))"
   ]
  },
  {
   "cell_type": "code",
   "execution_count": 122,
   "metadata": {},
   "outputs": [
    {
     "data": {
      "text/plain": [
       "['bone', 'leash', 'food', 'ball', 'squeaky toy']"
      ]
     },
     "execution_count": 122,
     "metadata": {},
     "output_type": "execute_result"
    }
   ],
   "source": [
    "list_info = dog_list[0].find_all('li') \n",
    "lista_=[str(item) for item in list_info]\n",
    "q10_answer=[ item[4:(len(item)-5)] for item in lista_]\n",
    "q10_answer       "
   ]
  },
  {
   "cell_type": "code",
   "execution_count": 123,
   "metadata": {
    "deletable": false,
    "editable": false,
    "nbgrader": {
     "grade": true,
     "grade_id": "cell-335a90721257cd1a",
     "locked": true,
     "points": 2,
     "schema_version": 3,
     "solution": false
    }
   },
   "outputs": [],
   "source": [
    "expected_hash = 'b42c63516b06440a9481cbfbc100f23f2b47f68a008f3e073d6e67ce81a6b81e'\n",
    "assert hashlib.sha256(str(sorted(q10_answer)).encode()).hexdigest() == expected_hash"
   ]
  },
  {
   "cell_type": "markdown",
   "metadata": {
    "deletable": false,
    "editable": false,
    "nbgrader": {
     "grade": false,
     "grade_id": "cell-ff83f6395e265feb",
     "locked": true,
     "schema_version": 3,
     "solution": false
    }
   },
   "source": [
    "### Q11. Find the tennis ball tag\n",
    "\n",
    "Scrape the tag containing the tennis ball image that is on the center of the grid with Bork's favourite things.\n",
    "Assign the tag (not the image content) to variable `q11_answer`.\n",
    "\n",
    "Note: You'll have to find a different way to pass the attribute you want to filter, since the attribute name conflicts with an argument of the `find` function. You can figure out how to do this in the [BeautifulSoup documentation](https://beautiful-soup-4.readthedocs.io/en/latest/index.html?highlight=find#the-keyword-arguments)!"
   ]
  },
  {
   "cell_type": "code",
   "execution_count": 124,
   "metadata": {
    "deletable": false,
    "nbgrader": {
     "grade": false,
     "grade_id": "cell-88e2603722dac1e3",
     "locked": false,
     "schema_version": 3,
     "solution": true
    }
   },
   "outputs": [
    {
     "name": "stdout",
     "output_type": "stream",
     "text": [
      "Number of elements found:  9\n"
     ]
    }
   ],
   "source": [
    "# Assign the URL of the page to be scraped to variable url\n",
    "# url = ...\n",
    "# YOUR CODE HERE\n",
    "#raise NotImplementedError()\n",
    "\n",
    "# Do a GET request to get the page content, using the url we've just defined\n",
    "# response = ...\n",
    "# YOUR CODE HERE\n",
    "#raise NotImplementedError()\n",
    "\n",
    "# Instanciate a soup object using the response of the GET request\n",
    "# YOUR CODE HERE\n",
    "#raise NotImplementedError()\n",
    "\n",
    "# Parse the soup in order to retrieve the tag of the tennis ball image.\n",
    "# Assign it to variable q11_answer.\n",
    "ball_image = soup.find_all('div', class_=\"grid-item\")\n",
    "print(\"Number of elements found: \", len(ball_image))\n",
    "# YOUR CODE HERE\n",
    "#raise NotImplementedError()"
   ]
  },
  {
   "cell_type": "code",
   "execution_count": 128,
   "metadata": {},
   "outputs": [
    {
     "name": "stdout",
     "output_type": "stream",
     "text": [
      "<div class=\"grid-item\">\n",
      " <img class=\"fav-thing\" name=\"ball\" src=\"css/images/ball.jpg\"/>\n",
      "</div>\n",
      "\n"
     ]
    }
   ],
   "source": [
    "print(ball_image[4].prettify())"
   ]
  },
  {
   "cell_type": "code",
   "execution_count": 130,
   "metadata": {},
   "outputs": [],
   "source": [
    "#ball= \n",
    "q11_answer=ball_image[4].find('img')"
   ]
  },
  {
   "cell_type": "code",
   "execution_count": 131,
   "metadata": {
    "deletable": false,
    "editable": false,
    "nbgrader": {
     "grade": true,
     "grade_id": "cell-f78d31cd4e4779eb",
     "locked": true,
     "points": 1,
     "schema_version": 3,
     "solution": false
    }
   },
   "outputs": [],
   "source": [
    "expected_hash = '369917cf8ea4d7906841cb6e6c264b124911e6d805bd122a23ffcee8fcb67de7'\n",
    "assert hashlib.sha256(str(q11_answer).encode()).hexdigest() == expected_hash"
   ]
  },
  {
   "cell_type": "code",
   "execution_count": null,
   "metadata": {},
   "outputs": [],
   "source": []
  }
 ],
 "metadata": {
  "kernelspec": {
   "display_name": "Python 3",
   "language": "python",
   "name": "python3"
  },
  "language_info": {
   "codemirror_mode": {
    "name": "ipython",
    "version": 3
   },
   "file_extension": ".py",
   "mimetype": "text/x-python",
   "name": "python",
   "nbconvert_exporter": "python",
   "pygments_lexer": "ipython3",
   "version": "3.6.9"
  }
 },
 "nbformat": 4,
 "nbformat_minor": 2
}
